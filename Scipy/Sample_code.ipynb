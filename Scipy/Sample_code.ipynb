{
 "cells": [
  {
   "cell_type": "code",
   "execution_count": 1,
   "metadata": {},
   "outputs": [],
   "source": [
    "import numpy as np \n",
    "import matplotlib.pyplot as plt "
   ]
  },
  {
   "cell_type": "markdown",
   "metadata": {},
   "source": [
    "# 1--integral 积分"
   ]
  },
  {
   "cell_type": "code",
   "execution_count": 2,
   "metadata": {},
   "outputs": [
    {
     "name": "stdout",
     "output_type": "stream",
     "text": [
      "(1.0000000000000002, 5.842606996763696e-11)\n"
     ]
    }
   ],
   "source": [
    "from scipy.integrate import quad,dblquad,nquad\n",
    "print(quad(lambda x:np.exp(-x),0,np.inf)) \n",
    "#一元积分，显示是结果和误差范围"
   ]
  },
  {
   "cell_type": "code",
   "execution_count": 3,
   "metadata": {},
   "outputs": [
    {
     "name": "stdout",
     "output_type": "stream",
     "text": [
      "(0.3333333333366853, 1.3888461883425516e-08)\n"
     ]
    }
   ],
   "source": [
    "print(dblquad(lambda t,x:np.exp(-x*t)/t**3,0,np.inf,lambda x:1,lambda x:np.inf)) \n",
    "#二元积分"
   ]
  },
  {
   "cell_type": "code",
   "execution_count": 4,
   "metadata": {},
   "outputs": [
    {
     "name": "stdout",
     "output_type": "stream",
     "text": [
      "(0.010416666666666668, 4.101620128472366e-16)\n"
     ]
    }
   ],
   "source": [
    "def f(x,y):\n",
    "    return x*y\n",
    "def bound_y():\n",
    "    return [0,0.5]\n",
    "def bound_x(y):\n",
    "    return [0,1-2*y]\n",
    "print(nquad(f,[bound_x,bound_y]))"
   ]
  },
  {
   "cell_type": "markdown",
   "metadata": {},
   "source": [
    "# 2--optimizer 优化器"
   ]
  },
  {
   "cell_type": "code",
   "execution_count": 5,
   "metadata": {},
   "outputs": [
    {
     "name": "stdout",
     "output_type": "stream",
     "text": [
      "Optimization terminated successfully.\n",
      "         Current function value: 0.000000\n",
      "         Iterations: 339\n",
      "         Function evaluations: 571\n",
      "ROSE MINI: [1. 1. 1. 1. 1.]\n",
      "Optimization terminated successfully.    (Exit mode 0)\n",
      "            Current function value: -0.4643470091836721\n",
      "            Iterations: 19\n",
      "            Function evaluations: 121\n",
      "            Gradient evaluations: 19\n",
      "RESTRICT:      fun: -0.4643470091836721\n",
      "     jac: array([ 2.40789883, -2.9949552 ])\n",
      " message: 'Optimization terminated successfully.'\n",
      "    nfev: 121\n",
      "     nit: 19\n",
      "    njev: 19\n",
      "  status: 0\n",
      " success: True\n",
      "       x: array([1.08957877, 1.29352818])\n",
      "ROOT: [-1.02986653] [0.]\n"
     ]
    }
   ],
   "source": [
    "from scipy.optimize import minimize\n",
    "def rosen(x):\n",
    "    return sum(100.0*(x[1:]-x[:-1]**2.0)**2.0+(1-x[:-1])**2.0)\n",
    "x0=np.array([1.3,0.7,0.8,1.9,1.2])\n",
    "res=minimize(rosen,x0,method=\"nelder-mead\",options={\"xtol\":1e-8,\"disp\":True})\n",
    "print(\"ROSE MINI:\",res.x)\n",
    "\n",
    "def func(x):\n",
    "    return -(2*x[0]*x[1]+2*x[0]-x[0]**2-2*x[1]**2)\n",
    "def func_deriv(x):\n",
    "    dfdx0=(-2*x[0]+2*x[1]+2)\n",
    "    dfdx1=(2*x[0]-4*x[1])\n",
    "    return np.array([dfdx0,dfdx1])\n",
    "cons=({\"type\":\"eq\",\"fun\":lambda x:np.array([x[0]**3-x[1]]),\"jac\":lambda x:np.array([3.0*(x[0]**2.0),-1.0])},\n",
    "      {'type':'ineq','fun':lambda x:np.array([x[1]-1]),'jac':lambda x:np.array([0.0,1.0])})\n",
    "res=minimize(func,[-1.0,1.0],jac=func_deriv,constraints=cons,method='SLSQP',options={'disp':True})\n",
    "print(\"RESTRICT:\",res)\n",
    "\n",
    "from scipy.optimize import root\n",
    "def fun(x):\n",
    "    return x+2*np.cos(x)\n",
    "sol=root(fun,0.1)\n",
    "print(\"ROOT:\",sol.x,sol.fun)"
   ]
  },
  {
   "cell_type": "markdown",
   "metadata": {},
   "source": [
    "# 3--interpolation 多项式插值"
   ]
  },
  {
   "cell_type": "code",
   "execution_count": 6,
   "metadata": {},
   "outputs": [
    {
     "data": {
      "image/png": "[encoded data removed]",
      "text/plain": [
       "<Figure size 432x288 with 1 Axes>"
      ]
     },
     "metadata": {
      "needs_background": "light"
     },
     "output_type": "display_data"
    },
    {
     "name": "stdout",
     "output_type": "stream",
     "text": [
      "[ 0.00000000e+00  1.31268478e-01  2.58058896e-01  3.79095818e-01\n",
      "  4.93103803e-01  5.98807414e-01  6.94931212e-01  7.80199759e-01\n",
      "  8.53337617e-01  9.13069347e-01  9.58119510e-01  9.87213058e-01\n",
      "  9.99462682e-01  9.95096409e-01  9.74541587e-01  9.38225564e-01\n",
      "  8.86575689e-01  8.20078818e-01  7.39913600e-01  6.47705004e-01\n",
      "  5.45085433e-01  4.33687295e-01  3.15143957e-01  1.91245093e-01\n",
      "  6.41081509e-02 -6.41081509e-02 -1.91245093e-01 -3.15143957e-01\n",
      " -4.33687295e-01 -5.45085433e-01 -6.47705004e-01 -7.39913600e-01\n",
      " -8.20078818e-01 -8.86575689e-01 -9.38225564e-01 -9.74541587e-01\n",
      " -9.95096409e-01 -9.99462682e-01 -9.87213058e-01 -9.58119510e-01\n",
      " -9.13069347e-01 -8.53337617e-01 -7.80199759e-01 -6.94931212e-01\n",
      " -5.98807414e-01 -4.93103803e-01 -3.79095818e-01 -2.58058896e-01\n",
      " -1.31268478e-01 -2.44929360e-16]\n"
     ]
    }
   ],
   "source": [
    "x=np.linspace(0,1,10)\n",
    "y=np.sin(2*np.pi*x)\n",
    "from scipy.interpolate import interp1d\n",
    "li=interp1d(x,y,kind=\"cubic\")\n",
    "x_new=np.linspace(0,1,50)\n",
    "y_new=li(x_new)\n",
    "plt.figure()\n",
    "plt.plot(x,y,\"r\")\n",
    "plt.plot(x_new,y_new,\"k\")\n",
    "plt.show()\n",
    "print(y_new)"
   ]
  },
  {
   "cell_type": "markdown",
   "metadata": {},
   "source": [
    "# 4--linear 线性代数"
   ]
  },
  {
   "cell_type": "code",
   "execution_count": 7,
   "metadata": {},
   "outputs": [
    {
     "name": "stdout",
     "output_type": "stream",
     "text": [
      "det: -2.0\n",
      "inv: [[-2.   1. ]\n",
      " [ 1.5 -0.5]]\n",
      "sol: [2. 2.]\n",
      "eig： (array([-0.37228132+0.j,  5.37228132+0.j]), array([[-0.82456484, -0.41597356],\n",
      "       [ 0.56576746, -0.90937671]]))\n",
      "qr (array([[-0.31622777, -0.9486833 ],\n",
      "       [-0.9486833 ,  0.31622777]]), array([[-3.16227766, -4.42718872],\n",
      "       [ 0.        , -0.63245553]]))\n",
      "svd (array([[-0.40455358, -0.9145143 ],\n",
      "       [-0.9145143 ,  0.40455358]]), array([5.4649857 , 0.36596619]), array([[-0.57604844, -0.81741556],\n",
      "       [ 0.81741556, -0.57604844]]))\n"
     ]
    }
   ],
   "source": [
    "from scipy import linalg as lg \n",
    "arr=np.array([[1,2],[3,4]])\n",
    "print(\"det:\",lg.det(arr))\n",
    "print(\"inv:\",lg.inv(arr))\n",
    "b=np.array([6,14])\n",
    "print(\"sol:\",lg.solve(arr,b))\n",
    "print(\"eig：\",lg.eig(arr))\n",
    "print(\"qr\",lg.qr(arr))\n",
    "print(\"svd\",lg.svd(arr))"
   ]
  },
  {
   "cell_type": "code",
   "execution_count": null,
   "metadata": {},
   "outputs": [],
   "source": []
  }
 ],
 "metadata": {
  "kernelspec": {
   "display_name": "Python 3",
   "language": "python",
   "name": "python3"
  },
  "language_info": {
   "codemirror_mode": {
    "name": "ipython",
    "version": 3
   },
   "file_extension": ".py",
   "mimetype": "text/x-python",
   "name": "python",
   "nbconvert_exporter": "python",
   "pygments_lexer": "ipython3",
   "version": "3.7.4"
  }
 },
 "nbformat": 4,
 "nbformat_minor": 2
}
