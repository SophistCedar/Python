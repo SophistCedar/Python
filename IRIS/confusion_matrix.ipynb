{
 "cells": [
  {
   "cell_type": "code",
   "execution_count": 2,
   "metadata": {},
   "outputs": [
    {
     "data": {
      "text/plain": [
       "'\\n皮马印第安人糖尿病数据集\\n基于数据集中包括的某些诊断测量来诊断性地预测患者是否患有糖尿病\\n输入变量包括：患者的怀孕次数、葡萄糖量、血压、皮褶厚度、体重指数、胰岛素水平、糖尿病谱系功能、年龄\\n输出结果：是否患有糖尿病\\n混淆矩阵指标\\n准确率 整体样本中，预测正确样本数的比例\\nAccuracy = (TP+TN)/(TP+TN+FP+FN)\\n错误率 整体样本中，预测错误样本数的比例\\nMisclassification Rate = (FP+FN)/(TP+TN+FP+FN)\\n召回率 正样本中，预测正确的比例\\nRecall = TP/(TP+FN)\\n特异度 负样本中，预测正确的比例\\nSpecifity = TN/(TN+FP)\\n精确率 预测结果为正的样本中，预测正确的比例\\nPrecision = TP/(TP+FP)\\nF1分数 综合Precision和Recall的一个判断指标\\nF1 socre = 2*Precision*Recall/(Precision+Recall)\\n'"
      ]
     },
     "execution_count": 2,
     "metadata": {},
     "output_type": "execute_result"
    }
   ],
   "source": [
    "# %load confusion_matrix.py\n",
    "\"\"\"\n",
    "皮马印第安人糖尿病数据集\n",
    "基于数据集中包括的某些诊断测量来诊断性地预测患者是否患有糖尿病\n",
    "输入变量包括：患者的怀孕次数、葡萄糖量、血压、皮褶厚度、体重指数、胰岛素水平、糖尿病谱系功能、年龄\n",
    "输出结果：是否患有糖尿病\n",
    "混淆矩阵指标\n",
    "准确率 整体样本中，预测正确样本数的比例\n",
    "Accuracy = (TP+TN)/(TP+TN+FP+FN)\n",
    "错误率 整体样本中，预测错误样本数的比例\n",
    "Misclassification Rate = (FP+FN)/(TP+TN+FP+FN)\n",
    "召回率 正样本中，预测正确的比例\n",
    "Recall = TP/(TP+FN)\n",
    "特异度 负样本中，预测正确的比例\n",
    "Specifity = TN/(TN+FP)\n",
    "精确率 预测结果为正的样本中，预测正确的比例\n",
    "Precision = TP/(TP+FP)\n",
    "F1分数 综合Precision和Recall的一个判断指标\n",
    "F1 socre = 2*Precision*Recall/(Precision+Recall)\n",
    "\"\"\""
   ]
  },
  {
   "cell_type": "code",
   "execution_count": 4,
   "metadata": {},
   "outputs": [
    {
     "name": "stdout",
     "output_type": "stream",
     "text": [
      "   Pregnancies  Glucose  BloodPressure  SkinThickness  Insulin   BMI  \\\n",
      "0            6      148             72             35        0  33.6   \n",
      "1            1       85             66             29        0  26.6   \n",
      "2            8      183             64              0        0  23.3   \n",
      "3            1       89             66             23       94  28.1   \n",
      "4            0      137             40             35      168  43.1   \n",
      "\n",
      "   DiabetesPedigreeFunction  Age  Outcome  \n",
      "0                     0.627   50        1  \n",
      "1                     0.351   31        0  \n",
      "2                     0.672   32        1  \n",
      "3                     0.167   21        0  \n",
      "4                     2.288   33        1  \n"
     ]
    }
   ],
   "source": [
    "#数据预处理\n",
    "import pandas as pd\n",
    "path = './diabetes.csv'\n",
    "pima = pd.read_csv(path)\n",
    "print(pima.head())"
   ]
  },
  {
   "cell_type": "code",
   "execution_count": 6,
   "metadata": {},
   "outputs": [],
   "source": [
    "#x和y赋值\n",
    "feature_names = ['Pregnancies','Insulin','BMI','Age']\n",
    "x = pima[feature_names]\n",
    "y = pima.Outcome"
   ]
  },
  {
   "cell_type": "code",
   "execution_count": 7,
   "metadata": {},
   "outputs": [
    {
     "name": "stdout",
     "output_type": "stream",
     "text": [
      "x.shape (768, 4)\n",
      "y.shape (768,)\n"
     ]
    }
   ],
   "source": [
    "#维度确认\n",
    "print('x.shape',x.shape)\n",
    "print('y.shape',y.shape)"
   ]
  },
  {
   "cell_type": "code",
   "execution_count": 8,
   "metadata": {},
   "outputs": [],
   "source": [
    "#数据分离\n",
    "from sklearn.model_selection import train_test_split\n",
    "x_train,x_test,y_train,y_test = train_test_split(x,y,random_state=0)"
   ]
  },
  {
   "cell_type": "code",
   "execution_count": 9,
   "metadata": {},
   "outputs": [
    {
     "name": "stderr",
     "output_type": "stream",
     "text": [
      "D:\\ProgramData\\Anaconda3\\lib\\site-packages\\sklearn\\linear_model\\logistic.py:432: FutureWarning: Default solver will be changed to 'lbfgs' in 0.22. Specify a solver to silence this warning.\n",
      "  FutureWarning)\n"
     ]
    },
    {
     "data": {
      "text/plain": [
       "LogisticRegression(C=1.0, class_weight=None, dual=False, fit_intercept=True,\n",
       "                   intercept_scaling=1, l1_ratio=None, max_iter=100,\n",
       "                   multi_class='warn', n_jobs=None, penalty='l2',\n",
       "                   random_state=None, solver='warn', tol=0.0001, verbose=0,\n",
       "                   warm_start=False)"
      ]
     },
     "execution_count": 9,
     "metadata": {},
     "output_type": "execute_result"
    }
   ],
   "source": [
    "#模型训练\n",
    "from sklearn.linear_model import LogisticRegression\n",
    "logreg = LogisticRegression()\n",
    "logreg.fit(x_train,y_train)"
   ]
  },
  {
   "cell_type": "code",
   "execution_count": 10,
   "metadata": {},
   "outputs": [
    {
     "name": "stdout",
     "output_type": "stream",
     "text": [
      "0.6927083333333334\n"
     ]
    }
   ],
   "source": [
    "#测试数据集结果预测\n",
    "y_pred = logreg.predict(x_test)\n",
    "#使用准确率进行评估\n",
    "from sklearn.metrics import accuracy_score\n",
    "print(accuracy_score(y_test,y_pred))"
   ]
  },
  {
   "cell_type": "code",
   "execution_count": 11,
   "metadata": {},
   "outputs": [
    {
     "name": "stdout",
     "output_type": "stream",
     "text": [
      "1的比例 0.3229166666666667\n",
      "0的比例 0.6770833333333333\n",
      "空准确率 0.6770833333333333\n"
     ]
    }
   ],
   "source": [
    "#确认正负样本数据量\n",
    "y_test.value_counts()\n",
    "#1的比例\n",
    "print('1的比例',y_test.mean())\n",
    "#0的比例\n",
    "print('0的比例',1-y_test.mean())\n",
    "#空准确率\n",
    "print('空准确率',max(y_test.mean(),1-y_test.mean()))"
   ]
  },
  {
   "cell_type": "code",
   "execution_count": 12,
   "metadata": {},
   "outputs": [
    {
     "name": "stdout",
     "output_type": "stream",
     "text": [
      "混淆矩阵:\n",
      "[[118  12]\n",
      " [ 47  15]]\n"
     ]
    }
   ],
   "source": [
    "#计算并展示混淆矩阵\n",
    "from sklearn import metrics\n",
    "print('混淆矩阵:')\n",
    "print(metrics.confusion_matrix(y_test,y_pred))"
   ]
  },
  {
   "cell_type": "code",
   "execution_count": 13,
   "metadata": {},
   "outputs": [
    {
     "name": "stdout",
     "output_type": "stream",
     "text": [
      "true [1 0 0 1 0 0 1 1 0 0 1 1 0 0 0 0 1 0 0 0 1 1 0 0 0]\n",
      "pred [0 0 0 0 0 0 0 1 0 1 0 1 0 0 0 0 0 0 0 0 0 0 0 0 0]\n"
     ]
    }
   ],
   "source": [
    "#展示部分实际结果与预测结果（25组）\n",
    "print('true',y_test.values[0:25])\n",
    "print('pred',y_pred[0:25])"
   ]
  },
  {
   "cell_type": "code",
   "execution_count": 14,
   "metadata": {},
   "outputs": [
    {
     "name": "stdout",
     "output_type": "stream",
     "text": [
      "118 12 47 15\n"
     ]
    }
   ],
   "source": [
    "#四个因子赋值\n",
    "confusion = metrics.confusion_matrix(y_test,y_pred)\n",
    "TN = confusion[0,0]\n",
    "FP = confusion[0,1]\n",
    "FN = confusion[1,0]\n",
    "TP = confusion[1,1]\n",
    "print(TN,FP,FN,TP)"
   ]
  },
  {
   "cell_type": "code",
   "execution_count": 15,
   "metadata": {},
   "outputs": [
    {
     "name": "stdout",
     "output_type": "stream",
     "text": [
      "Accuracy 0.6927083333333334\n",
      "0.6927083333333334\n"
     ]
    }
   ],
   "source": [
    "#准确率 整体样本中，预测正确样本数的比例\n",
    "Accuracy = (TP+TN)/(TP+TN+FP+FN)\n",
    "print('Accuracy',Accuracy)\n",
    "print(accuracy_score(y_test,y_pred))"
   ]
  },
  {
   "cell_type": "code",
   "execution_count": 16,
   "metadata": {},
   "outputs": [
    {
     "name": "stdout",
     "output_type": "stream",
     "text": [
      "Misclassification_Rate 0.3072916666666667\n",
      "0.30729166666666663\n"
     ]
    }
   ],
   "source": [
    "#错误率 整体样本中，预测错误样本数的比例\n",
    "Misclassification_Rate = (FP+FN)/(TP+TN+FP+FN)\n",
    "print('Misclassification_Rate',Misclassification_Rate)\n",
    "print(1-accuracy_score(y_test,y_pred))"
   ]
  },
  {
   "cell_type": "code",
   "execution_count": 17,
   "metadata": {},
   "outputs": [
    {
     "name": "stdout",
     "output_type": "stream",
     "text": [
      "Recall 0.24193548387096775\n"
     ]
    }
   ],
   "source": [
    "#召回率 正样本中，预测正确的比例\n",
    "Recall = TP/(TP+FN)\n",
    "print('Recall',Recall)"
   ]
  },
  {
   "cell_type": "code",
   "execution_count": 18,
   "metadata": {},
   "outputs": [
    {
     "name": "stdout",
     "output_type": "stream",
     "text": [
      "Specifity 0.9076923076923077\n"
     ]
    }
   ],
   "source": [
    "#特异度 负样本中，预测正确的比例\n",
    "Specifity = TN/(TN+FP)\n",
    "print('Specifity',Specifity)"
   ]
  },
  {
   "cell_type": "code",
   "execution_count": 19,
   "metadata": {},
   "outputs": [
    {
     "name": "stdout",
     "output_type": "stream",
     "text": [
      "Precision 0.5555555555555556\n"
     ]
    }
   ],
   "source": [
    "#精确率 预测结果为正的样本中，预测正确的比例\n",
    "Precision = TP/(TP+FP)\n",
    "print('Precision',Precision)"
   ]
  },
  {
   "cell_type": "code",
   "execution_count": 20,
   "metadata": {},
   "outputs": [
    {
     "name": "stdout",
     "output_type": "stream",
     "text": [
      "F1_socre 0.3370786516853933\n"
     ]
    }
   ],
   "source": [
    "#F1分数 综合Precision和Recall的一个判断指标\n",
    "F1_socre = 2*Precision*Recall/(Precision+Recall)\n",
    "print('F1_socre',F1_socre)"
   ]
  },
  {
   "cell_type": "code",
   "execution_count": null,
   "metadata": {},
   "outputs": [],
   "source": []
  }
 ],
 "metadata": {
  "kernelspec": {
   "display_name": "Python 3",
   "language": "python",
   "name": "python3"
  },
  "language_info": {
   "codemirror_mode": {
    "name": "ipython",
    "version": 3
   },
   "file_extension": ".py",
   "mimetype": "text/x-python",
   "name": "python",
   "nbconvert_exporter": "python",
   "pygments_lexer": "ipython3",
   "version": "3.7.4"
  }
 },
 "nbformat": 4,
 "nbformat_minor": 2
}
