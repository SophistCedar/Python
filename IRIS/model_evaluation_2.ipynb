{
 "cells": [
  {
   "cell_type": "code",
   "execution_count": 2,
   "metadata": {},
   "outputs": [
    {
     "name": "stdout",
     "output_type": "stream",
     "text": [
      "(150, 4) (150,)\n"
     ]
    }
   ],
   "source": [
    "# %load model_evaluation_2.py\n",
    "\"\"\"\n",
    "把数据集分成两部分：训练集、测试集\n",
    "使用训练集进行模型训练\n",
    "使用测试集进行预测，从而评估模型表现\n",
    "\"\"\"\n",
    "#数据加载\n",
    "from sklearn import datasets\n",
    "iris = datasets.load_iris()\n",
    "x = iris.data\n",
    "y = iris.target\n",
    "print(x.shape,y.shape)"
   ]
  },
  {
   "cell_type": "code",
   "execution_count": 3,
   "metadata": {},
   "outputs": [
    {
     "name": "stdout",
     "output_type": "stream",
     "text": [
      "(90, 4) (60, 4) (90,) (60,)\n"
     ]
    }
   ],
   "source": [
    "#数据分离\n",
    "from sklearn.model_selection import train_test_split\n",
    "x_train,x_test,y_train,y_test = train_test_split(x,y,test_size=0.4)\n",
    "#分离后数据维度确认\n",
    "print(x_train.shape,x_test.shape,y_train.shape,y_test.shape)"
   ]
  },
  {
   "cell_type": "code",
   "execution_count": 4,
   "metadata": {},
   "outputs": [
    {
     "name": "stdout",
     "output_type": "stream",
     "text": [
      "k=5 0.9555555555555556\n",
      "k=5 0.9666666666666667\n"
     ]
    }
   ],
   "source": [
    "#分离后的数据预测与评估 k=5\n",
    "from sklearn.neighbors import KNeighborsClassifier\n",
    "knn_5_s = KNeighborsClassifier(n_neighbors=5)\n",
    "knn_5_s.fit(x_train,y_train)\n",
    "y_train_pred = knn_5_s.predict(x_train)\n",
    "y_test_pred = knn_5_s.predict(x_test)\n",
    "from sklearn.metrics import accuracy_score\n",
    "print(\"k=5\",accuracy_score(y_train,y_train_pred))\n",
    "print(\"k=5\",accuracy_score(y_test,y_test_pred))"
   ]
  },
  {
   "cell_type": "code",
   "execution_count": 5,
   "metadata": {},
   "outputs": [
    {
     "name": "stdout",
     "output_type": "stream",
     "text": [
      "k=1 1.0\n",
      "k=1 0.9833333333333333\n"
     ]
    }
   ],
   "source": [
    "#分离后的数据预测与评估 k=1\n",
    "knn_1_s = KNeighborsClassifier(n_neighbors=1)\n",
    "knn_1_s.fit(x_train,y_train)\n",
    "y_train_pred = knn_1_s.predict(x_train)\n",
    "y_test_pred = knn_1_s.predict(x_test)\n",
    "from sklearn.metrics import accuracy_score\n",
    "print(\"k=1\",accuracy_score(y_train,y_train_pred))\n",
    "print(\"k=1\",accuracy_score(y_test,y_test_pred))"
   ]
  },
  {
   "cell_type": "code",
   "execution_count": null,
   "metadata": {},
   "outputs": [],
   "source": []
  }
 ],
 "metadata": {
  "kernelspec": {
   "display_name": "Python 3",
   "language": "python",
   "name": "python3"
  },
  "language_info": {
   "codemirror_mode": {
    "name": "ipython",
    "version": 3
   },
   "file_extension": ".py",
   "mimetype": "text/x-python",
   "name": "python",
   "nbconvert_exporter": "python",
   "pygments_lexer": "ipython3",
   "version": "3.7.4"
  }
 },
 "nbformat": 4,
 "nbformat_minor": 2
}
