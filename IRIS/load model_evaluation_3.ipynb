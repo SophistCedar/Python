{
 "cells": [
  {
   "cell_type": "code",
   "execution_count": 2,
   "metadata": {},
   "outputs": [
    {
     "name": "stdout",
     "output_type": "stream",
     "text": [
      "(150, 4) (150,)\n"
     ]
    }
   ],
   "source": [
    "# %load model_evaluation_3.py\n",
    "\"\"\"\n",
    "如何确定更合适的k值\n",
    "k：1-25\n",
    "遍历所有可能的参数组合\n",
    "建立相应的model\n",
    "model训练\n",
    "model预测\n",
    "给予测试数据的准确率计算\n",
    "查看最高准确率对应的k值\n",
    "\"\"\"\n",
    "#数据加载\n",
    "from sklearn import datasets\n",
    "iris = datasets.load_iris()\n",
    "x = iris.data\n",
    "y = iris.target\n",
    "print(x.shape,y.shape)"
   ]
  },
  {
   "cell_type": "code",
   "execution_count": 3,
   "metadata": {},
   "outputs": [
    {
     "name": "stdout",
     "output_type": "stream",
     "text": [
      "(90, 4) (60, 4) (90,) (60,)\n"
     ]
    }
   ],
   "source": [
    "#数据分离\n",
    "from sklearn.model_selection import train_test_split\n",
    "#Split arrays or matrices into random train and test subsets\n",
    "#加上random_state=0可确保每次分离数据是一样的，不然分离数据不一致后续结果会受影响。\n",
    "x_train,x_test,y_train,y_test = train_test_split(x,y,random_state=0,test_size=0.4)\n",
    "#分离后数据维度确认\n",
    "print(x_train.shape,x_test.shape,y_train.shape,y_test.shape)"
   ]
  },
  {
   "cell_type": "code",
   "execution_count": 4,
   "metadata": {},
   "outputs": [
    {
     "name": "stdout",
     "output_type": "stream",
     "text": [
      "[1, 2, 3, 4, 5, 6, 7, 8, 9, 10, 11, 12, 13, 14, 15, 16, 17, 18, 19, 20, 21, 22, 23, 24, 25]\n"
     ]
    }
   ],
   "source": [
    "#确定k值的范围\n",
    "k_range = list(range(1,26))\n",
    "print(k_range)"
   ]
  },
  {
   "cell_type": "code",
   "execution_count": 5,
   "metadata": {},
   "outputs": [
    {
     "name": "stdout",
     "output_type": "stream",
     "text": [
      "1 1.0 0.9166666666666666\n",
      "2 0.9888888888888889 0.8833333333333333\n",
      "3 0.9888888888888889 0.9333333333333333\n",
      "4 0.9888888888888889 0.9\n",
      "5 1.0 0.95\n",
      "6 1.0 0.9166666666666666\n",
      "7 0.9777777777777777 0.9666666666666667\n",
      "8 0.9888888888888889 0.9333333333333333\n",
      "9 0.9888888888888889 0.9666666666666667\n",
      "10 0.9888888888888889 0.9666666666666667\n",
      "11 0.9888888888888889 0.9666666666666667\n",
      "12 1.0 0.95\n",
      "13 0.9777777777777777 0.95\n",
      "14 0.9777777777777777 0.9166666666666666\n",
      "15 0.9666666666666667 0.9333333333333333\n",
      "16 0.9666666666666667 0.9166666666666666\n",
      "17 0.9666666666666667 0.9333333333333333\n",
      "18 0.9777777777777777 0.9333333333333333\n",
      "19 0.9777777777777777 0.9333333333333333\n",
      "20 0.9777777777777777 0.9166666666666666\n",
      "21 0.9666666666666667 0.9333333333333333\n",
      "22 0.9666666666666667 0.9\n",
      "23 0.9666666666666667 0.9\n",
      "24 0.9555555555555556 0.8833333333333333\n",
      "25 0.9555555555555556 0.8666666666666667\n"
     ]
    }
   ],
   "source": [
    "#遍历参数建模、训练和预测\n",
    "from sklearn.neighbors import KNeighborsClassifier\n",
    "from sklearn.metrics import accuracy_score\n",
    "score_train = []\n",
    "score_test = []\n",
    "for k in k_range:\n",
    "    knn = KNeighborsClassifier(n_neighbors=k)\n",
    "    knn.fit(x_train,y_train)\n",
    "    y_train_pred = knn.predict(x_train)\n",
    "    y_test_pred = knn.predict(x_test)\n",
    "    score_train.append(accuracy_score(y_train,y_train_pred))\n",
    "    score_test.append(accuracy_score(y_test,y_test_pred))\n",
    "for k in k_range:\n",
    "    print(k,score_train[k-1],score_test[k-1])"
   ]
  },
  {
   "cell_type": "code",
   "execution_count": 7,
   "metadata": {},
   "outputs": [
    {
     "data": {
      "image/png": "[encoded data removed]",
      "text/plain": [
       "<Figure size 432x288 with 1 Axes>"
      ]
     },
     "metadata": {
      "needs_background": "light"
     },
     "output_type": "display_data"
    },
    {
     "data": {
      "image/png": "[encoded data removed]",
      "text/plain": [
       "<Figure size 432x288 with 1 Axes>"
      ]
     },
     "metadata": {
      "needs_background": "light"
     },
     "output_type": "display_data"
    }
   ],
   "source": [
    "#可视化展示\n",
    "import matplotlib.pyplot as plt\n",
    "plt.subplot(211)\n",
    "plt.plot(k_range,score_train,'b')\n",
    "plt.xlabel('K(KNN model)')\n",
    "plt.ylabel('Training accyracy')\n",
    "plt.show()\n",
    "\n",
    "plt.subplot(212)\n",
    "plt.plot(k_range,score_test,'r')\n",
    "plt.xlabel('K(KNN model)')\n",
    "plt.ylabel('Testing accyracy')\n",
    "\n",
    "plt.show()"
   ]
  },
  {
   "cell_type": "code",
   "execution_count": null,
   "metadata": {},
   "outputs": [],
   "source": []
  }
 ],
 "metadata": {
  "kernelspec": {
   "display_name": "Python 3",
   "language": "python",
   "name": "python3"
  },
  "language_info": {
   "codemirror_mode": {
    "name": "ipython",
    "version": 3
   },
   "file_extension": ".py",
   "mimetype": "text/x-python",
   "name": "python",
   "nbconvert_exporter": "python",
   "pygments_lexer": "ipython3",
   "version": "3.7.4"
  }
 },
 "nbformat": 4,
 "nbformat_minor": 2
}
