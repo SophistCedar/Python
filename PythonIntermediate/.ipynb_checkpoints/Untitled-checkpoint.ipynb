{
 "cells": [
  {
   "cell_type": "code",
   "execution_count": 10,
   "metadata": {},
   "outputs": [
    {
     "name": "stdout",
     "output_type": "stream",
     "text": [
      "5\n",
      "1\n",
      "3\n",
      "6\n",
      "7\n",
      "8\n",
      "1\n",
      "3\n",
      "6\n",
      "7\n",
      "8\n"
     ]
    }
   ],
   "source": [
    "n = int(input())\n",
    "inputArray = []\n",
    "for _ in range(n):\n",
    "    temp = int(input())\n",
    "    inputArray.append(temp)\n",
    "\n",
    "result = sorted(set(inputArray))\n",
    "for i in result:\n",
    "    print(i)"
   ]
  },
  {
   "cell_type": "code",
   "execution_count": 17,
   "metadata": {},
   "outputs": [
    {
     "name": "stdout",
     "output_type": "stream",
     "text": [
      "slice(0, 16, 8)\n"
     ]
    }
   ],
   "source": [
    "sl = slice(0,16,8)\n",
    "print(sl)"
   ]
  },
  {
   "cell_type": "code",
   "execution_count": 18,
   "metadata": {},
   "outputs": [
    {
     "name": "stdout",
     "output_type": "stream",
     "text": [
      "abc\n",
      "dbajch\n"
     ]
    }
   ],
   "source": [
    "def buqi(s):\n",
    "    if len(s) % 8 != 0:\n",
    "        length = (len(s) // 8 +1) * 8\n",
    "        s = s.ljust(length,'0')\n",
    "    return s\n",
    "def shuchu(s):\n",
    "    for i in range(len(s)/8):\n",
    "        print(s[i*8,(i+1)*8])\n",
    "    \n",
    "while True:\n",
    "    try:\n",
    "        s1 = str(input())\n",
    "        s2 = str(input())\n",
    "        buqi(s1)\n",
    "        buqi(s2)\n",
    "        shuchu(s1)\n",
    "        shuhcu(s2)\n",
    "    except:\n",
    "        break\n",
    "        "
   ]
  },
  {
   "cell_type": "code",
   "execution_count": 36,
   "metadata": {},
   "outputs": [
    {
     "name": "stdout",
     "output_type": "stream",
     "text": [
      "2\n"
     ]
    },
    {
     "data": {
      "text/plain": [
       "'abcchdcbhj000000'"
      ]
     },
     "execution_count": 36,
     "metadata": {},
     "output_type": "execute_result"
    }
   ],
   "source": [
    "def buqi(s):\n",
    "    print(len(s) % 8)\n",
    "    if len(s) % 8 != 0:\n",
    "        length = (len(s) // 8 +1) * 8\n",
    "        s = s.ljust(length,'0')\n",
    "    return s\n",
    "buqi(\"abcchdcbhj\")"
   ]
  },
  {
   "cell_type": "code",
   "execution_count": 30,
   "metadata": {},
   "outputs": [
    {
     "name": "stdout",
     "output_type": "stream",
     "text": [
      "abc00000\n"
     ]
    }
   ],
   "source": [
    "s = \"abc\"\n",
    "print(s.ljust(8,'0'))"
   ]
  },
  {
   "cell_type": "code",
   "execution_count": null,
   "metadata": {},
   "outputs": [],
   "source": []
  }
 ],
 "metadata": {
  "kernelspec": {
   "display_name": "Python 3",
   "language": "python",
   "name": "python3"
  },
  "language_info": {
   "codemirror_mode": {
    "name": "ipython",
    "version": 3
   },
   "file_extension": ".py",
   "mimetype": "text/x-python",
   "name": "python",
   "nbconvert_exporter": "python",
   "pygments_lexer": "ipython3",
   "version": "3.7.4"
  }
 },
 "nbformat": 4,
 "nbformat_minor": 2
}
