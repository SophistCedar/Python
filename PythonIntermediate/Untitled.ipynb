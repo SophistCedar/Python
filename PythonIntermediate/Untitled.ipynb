{
 "cells": [
  {
   "cell_type": "code",
   "execution_count": 10,
   "metadata": {},
   "outputs": [
    {
     "name": "stdout",
     "output_type": "stream",
     "text": [
      "5\n",
      "1\n",
      "3\n",
      "6\n",
      "7\n",
      "8\n",
      "1\n",
      "3\n",
      "6\n",
      "7\n",
      "8\n"
     ]
    }
   ],
   "source": [
    "n = int(input())\n",
    "inputArray = []\n",
    "for _ in range(n):\n",
    "    temp = int(input())\n",
    "    inputArray.append(temp)\n",
    "\n",
    "result = sorted(set(inputArray))\n",
    "for i in result:\n",
    "    print(i)"
   ]
  },
  {
   "cell_type": "code",
   "execution_count": 17,
   "metadata": {},
   "outputs": [
    {
     "name": "stdout",
     "output_type": "stream",
     "text": [
      "slice(0, 16, 8)\n"
     ]
    }
   ],
   "source": [
    "sl = slice(0,16,8)\n",
    "print(sl)"
   ]
  },
  {
   "cell_type": "code",
   "execution_count": 44,
   "metadata": {},
   "outputs": [
    {
     "name": "stdout",
     "output_type": "stream",
     "text": [
      "vbx\n",
      "vxjhb\n",
      "vbx00000\n",
      "vxjhb000\n"
     ]
    }
   ],
   "source": [
    "def buqi(s):\n",
    "    if len(s) % 8 != 0:\n",
    "        length = (len(s) // 8 +1) * 8\n",
    "        s = s.ljust(length,'0')\n",
    "    return s\n",
    "def shuchu(s):\n",
    "    for i in range(int(len(s)/8)):\n",
    "        print(s[int(i*8):int((i+1)*8)])\n",
    "    \n",
    "    \n",
    "\n",
    "s1 = str(input())\n",
    "s2 = str(input())\n",
    "s1 = buqi(s1)\n",
    "s2 = buqi(s2)\n",
    "shuchu(s1)\n",
    "shuchu(s2)"
   ]
  },
  {
   "cell_type": "code",
   "execution_count": 40,
   "metadata": {},
   "outputs": [
    {
     "name": "stdout",
     "output_type": "stream",
     "text": [
      "abcchdcb\n"
     ]
    }
   ],
   "source": [
    "def shuchu(s):\n",
    "    for i in range(int(len(s)/8)):\n",
    "        print(s[int(i*8):int((i+1)*8)])\n",
    "        \n",
    "shuchu(\"abcchdcb\")"
   ]
  },
  {
   "cell_type": "code",
   "execution_count": 30,
   "metadata": {},
   "outputs": [
    {
     "name": "stdout",
     "output_type": "stream",
     "text": [
      "abc00000\n"
     ]
    }
   ],
   "source": [
    "s = \"abc\"\n",
    "print(s.ljust(8,'0'))"
   ]
  },
  {
   "cell_type": "code",
   "execution_count": 45,
   "metadata": {},
   "outputs": [
    {
     "name": "stdout",
     "output_type": "stream",
     "text": [
      "[2]\n"
     ]
    }
   ],
   "source": [
    "num = 10\n",
    "lst = []\n",
    "for i in range(2,int(num//2)+1):\n",
    "    if num % i == 0:\n",
    "        lst.append(i)\n",
    "        num = int(num / i)\n",
    "        break\n",
    "print(lst)"
   ]
  },
  {
   "cell_type": "code",
   "execution_count": 5,
   "metadata": {},
   "outputs": [
    {
     "name": "stdout",
     "output_type": "stream",
     "text": [
      "30\n",
      "2\n",
      "3\n"
     ]
    }
   ],
   "source": [
    "\n",
    "\n",
    "num = int(input())\n",
    "i = 2\n",
    "while num != 1:\n",
    "    if num % i== 0:\n",
    "        print (i)\n",
    "        num /=  i\n",
    "    else:\n",
    "        i += 1\n",
    "print ('')\n",
    "\n"
   ]
  },
  {
   "cell_type": "code",
   "execution_count": 6,
   "metadata": {},
   "outputs": [
    {
     "name": "stdout",
     "output_type": "stream",
     "text": [
      "4\n"
     ]
    }
   ],
   "source": [
    "print(round(4.5))"
   ]
  },
  {
   "cell_type": "code",
   "execution_count": 16,
   "metadata": {},
   "outputs": [
    {
     "name": "stdout",
     "output_type": "stream",
     "text": [
      "3\n",
      "1 1\n",
      "2 2\n",
      "1 3\n"
     ]
    },
    {
     "data": {
      "text/plain": [
       "{1: 4, 2: 2}"
      ]
     },
     "execution_count": 16,
     "metadata": {},
     "output_type": "execute_result"
    }
   ],
   "source": [
    "dic = dict()\n",
    "n = int(input())\n",
    "for _ in range(n):\n",
    "    lst = list(map(int,input().split()))\n",
    "    if len(lst) != 2:\n",
    "        continue\n",
    "    else:\n",
    "        index,value = lst[0],lst[1]\n",
    "        if index in dic:\n",
    "            value += dic[index]\n",
    "        dic[index] = value\n",
    "dic"
   ]
  },
  {
   "cell_type": "code",
   "execution_count": 21,
   "metadata": {},
   "outputs": [
    {
     "name": "stdout",
     "output_type": "stream",
     "text": [
      "['9', '8', '7', '6', '3']\n",
      "['3', '6', '7', '8', '9']\n",
      "36789\n"
     ]
    }
   ],
   "source": [
    "aStr = '9876673'\n",
    "aList = list(set(aStr))\n",
    "aList.sort(key=aStr.index)\n",
    "print(aList)\n",
    "aList.reverse()\n",
    "print(aList)\n",
    "print(''.join(aList))"
   ]
  },
  {
   "cell_type": "code",
   "execution_count": 24,
   "metadata": {},
   "outputs": [
    {
     "name": "stdout",
     "output_type": "stream",
     "text": [
      "['5', '7', '2', '1']\n",
      "['2', '7', '5', '1']\n",
      "['1', '5', '7', '2']\n",
      "1572\n"
     ]
    }
   ],
   "source": [
    "aStr = str(2752771)\n",
    "aList = list(set(aStr))\n",
    "print(aList)\n",
    "aList.sort(key=aStr.index)\n",
    "print(aList)\n",
    "\n",
    "aList.reverse()\n",
    "print(aList)\n",
    "print(''.join(aList))"
   ]
  },
  {
   "cell_type": "code",
   "execution_count": 25,
   "metadata": {},
   "outputs": [
    {
     "name": "stdout",
     "output_type": "stream",
     "text": [
      "2\n"
     ]
    },
    {
     "data": {
      "text/plain": [
       "str"
      ]
     },
     "execution_count": 25,
     "metadata": {},
     "output_type": "execute_result"
    }
   ],
   "source": [
    "x = input()\n",
    "type(x)"
   ]
  },
  {
   "cell_type": "code",
   "execution_count": 27,
   "metadata": {},
   "outputs": [
    {
     "name": "stdout",
     "output_type": "stream",
     "text": [
      "3\n"
     ]
    }
   ],
   "source": [
    "lst = []\n",
    "count = 0\n",
    "for i in range(128):\n",
    "    lst.append(chr(i))\n",
    "s = 'abc'\n",
    "for i in s:\n",
    "    if i in lst:\n",
    "        lst.remove(i)\n",
    "        count += 1\n",
    "print(count)"
   ]
  },
  {
   "cell_type": "code",
   "execution_count": null,
   "metadata": {},
   "outputs": [],
   "source": []
  }
 ],
 "metadata": {
  "kernelspec": {
   "display_name": "Python 3",
   "language": "python",
   "name": "python3"
  },
  "language_info": {
   "codemirror_mode": {
    "name": "ipython",
    "version": 3
   },
   "file_extension": ".py",
   "mimetype": "text/x-python",
   "name": "python",
   "nbconvert_exporter": "python",
   "pygments_lexer": "ipython3",
   "version": "3.7.4"
  }
 },
 "nbformat": 4,
 "nbformat_minor": 2
}
