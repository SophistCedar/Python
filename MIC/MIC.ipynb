{
 "cells": [
  {
   "cell_type": "code",
   "execution_count": 2,
   "metadata": {},
   "outputs": [],
   "source": [
    "# %load MIC\n",
    "import numpy as np\n",
    "from minepy import MINE"
   ]
  },
  {
   "cell_type": "code",
   "execution_count": 3,
   "metadata": {},
   "outputs": [],
   "source": [
    "def print_stats(mine):\n",
    "    print (\"MIC\", mine.mic())\n",
    "    print (\"MAS\", mine.mas())\n",
    "    print (\"MEV\", mine.mev())\n",
    "    print (\"MCN (eps=0)\", mine.mcn(0))\n",
    "    print (\"MCN (eps=1-MIC)\", mine.mcn_general())\n",
    "    print (\"GMIC\", mine.gmic())\n",
    "    print (\"TIC\", mine.tic())"
   ]
  },
  {
   "cell_type": "code",
   "execution_count": 4,
   "metadata": {},
   "outputs": [
    {
     "name": "stdout",
     "output_type": "stream",
     "text": [
      "Without noise:\n",
      "MIC 1.0000000000000002\n",
      "MAS 0.7260715743736172\n",
      "MEV 1.0000000000000002\n",
      "MCN (eps=0) 4.584962500721157\n",
      "MCN (eps=1-MIC) 4.584962500721157\n",
      "GMIC 0.7793602519010566\n",
      "TIC 67.66122955319294\n"
     ]
    }
   ],
   "source": [
    "x = np.linspace(0, 1, 1000)\n",
    "y = np.sin(10 * np.pi * x) + x\n",
    "mine = MINE(alpha=0.6, c=15, est=\"mic_approx\")\n",
    "mine.compute_score(x, y)\n",
    "print (\"Without noise:\")\n",
    "print_stats(mine)"
   ]
  },
  {
   "cell_type": "code",
   "execution_count": 5,
   "metadata": {},
   "outputs": [
    {
     "name": "stdout",
     "output_type": "stream",
     "text": [
      "With noise:\n",
      "MIC 0.5057166934173714\n",
      "MAS 0.3653999042616394\n",
      "MEV 0.5057166934173714\n",
      "MCN (eps=0) 5.954196310386876\n",
      "MCN (eps=1-MIC) 3.8073549220576037\n",
      "GMIC 0.3594755013532375\n",
      "TIC 28.749832695303994\n"
     ]
    }
   ],
   "source": [
    "np.random.seed(0)\n",
    "y +=np.random.uniform(-1, 1, x.shape[0]) # add some noise\n",
    "mine.compute_score(x, y)\n",
    "print (\"With noise:\")\n",
    "print_stats(mine)"
   ]
  },
  {
   "cell_type": "code",
   "execution_count": null,
   "metadata": {},
   "outputs": [],
   "source": []
  }
 ],
 "metadata": {
  "kernelspec": {
   "display_name": "Python 3",
   "language": "python",
   "name": "python3"
  },
  "language_info": {
   "codemirror_mode": {
    "name": "ipython",
    "version": 3
   },
   "file_extension": ".py",
   "mimetype": "text/x-python",
   "name": "python",
   "nbconvert_exporter": "python",
   "pygments_lexer": "ipython3",
   "version": "3.7.4"
  }
 },
 "nbformat": 4,
 "nbformat_minor": 2
}
