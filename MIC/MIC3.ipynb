{
 "cells": [
  {
   "cell_type": "code",
   "execution_count": 9,
   "metadata": {},
   "outputs": [],
   "source": [
    "# %load MIC3\n",
    "import numpy as np\n",
    "from minepy import pstats, cstats\n",
    "import time"
   ]
  },
  {
   "cell_type": "code",
   "execution_count": 10,
   "metadata": {},
   "outputs": [
    {
     "name": "stdout",
     "output_type": "stream",
     "text": [
      "normalized TIC_e (X):\n",
      "[0.01517556 0.00859132 0.00562575 0.01082706 0.01367201 0.0196697\n",
      " 0.00947777 0.01273158 0.011291   0.01455822 0.0072817  0.01187837\n",
      " 0.01595135 0.00902464 0.00974791 0.00952264 0.01806944 0.01064587\n",
      " 0.00808622 0.01075486 0.00943122 0.01116569 0.01380142 0.01590193\n",
      " 0.02159243 0.01450488 0.01347701 0.01036625]\n",
      "MIC_e (X vs. Y):\n",
      "[[0.0175473  0.01102385 0.01489008 0.02957048]\n",
      " [0.01294067 0.02682975 0.02743612 0.02224291]\n",
      " [0.01613576 0.0175808  0.01633154 0.02633199]\n",
      " [0.02090252 0.01680651 0.01735732 0.02186021]\n",
      " [0.01350926 0.01002233 0.02128154 0.02036634]\n",
      " [0.01459962 0.020248   0.0319421  0.01782455]\n",
      " [0.01186273 0.0291112  0.01577821 0.01970322]\n",
      " [0.012531   0.02071883 0.01536824 0.03312674]]\n"
     ]
    }
   ],
   "source": [
    "np.random.seed(0)\n",
    "\n",
    "# build the X matrix, 8 variables, 320 samples\n",
    "X = np.random.rand(8, 320)\n",
    "\n",
    "# build the Y matrix, 4 variables, 320 samples\n",
    "Y = np.random.rand(4, 320)\n",
    "\n",
    "# compute pairwise statistics MIC_e and normalized TIC_e between samples in X,\n",
    "# B=9, c=5\n",
    "mic_p, tic_p =  pstats(X, alpha=9, c=5, est=\"mic_e\")\n",
    "\n",
    "# compute statistics between each pair of samples in X and Y\n",
    "mic_c, tic_c =  cstats(X, Y, alpha=9, c=5, est=\"mic_e\")\n",
    "\n",
    "print (\"normalized TIC_e (X):\")\n",
    "print (tic_p)\n",
    "print (\"MIC_e (X vs. Y):\")\n",
    "print (mic_c)"
   ]
  },
  {
   "cell_type": "code",
   "execution_count": null,
   "metadata": {},
   "outputs": [],
   "source": []
  },
  {
   "cell_type": "code",
   "execution_count": null,
   "metadata": {},
   "outputs": [],
   "source": []
  }
 ],
 "metadata": {
  "kernelspec": {
   "display_name": "Python 3",
   "language": "python",
   "name": "python3"
  },
  "language_info": {
   "codemirror_mode": {
    "name": "ipython",
    "version": 3
   },
   "file_extension": ".py",
   "mimetype": "text/x-python",
   "name": "python",
   "nbconvert_exporter": "python",
   "pygments_lexer": "ipython3",
   "version": "3.7.4"
  }
 },
 "nbformat": 4,
 "nbformat_minor": 2
}
