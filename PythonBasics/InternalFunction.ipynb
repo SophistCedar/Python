{
 "cells": [
  {
   "cell_type": "markdown",
   "metadata": {},
   "source": [
    "# Python 内置的常用函数"
   ]
  },
  {
   "cell_type": "markdown",
   "metadata": {},
   "source": [
    "1. 数据结构部分 list tuple dict set\n",
    "2. 序列操作函数 map filter reduce zip enumerate iter next\n",
    "3. 内容类型判断 any all id isinstance type issubclasss\n",
    "4. 数学函数 sum abs max min len round pow eval\n",
    "5. 进制转换，字符串 bin hex oct  int bool float chr ord str hash complex\n",
    "6. 其他 sorted slice super staticmethod classmethod lst.sort lst.reverse"
   ]
  },
  {
   "cell_type": "markdown",
   "metadata": {},
   "source": [
    "# 数据结构"
   ]
  },
  {
   "cell_type": "markdown",
   "metadata": {},
   "source": [
    "## 列表\n",
    "list方法转换元组，集合，字符串，字典"
   ]
  },
  {
   "cell_type": "code",
   "execution_count": 24,
   "metadata": {},
   "outputs": [
    {
     "name": "stdout",
     "output_type": "stream",
     "text": [
      "[123, 'xyz', 'zara', 'abc']\n",
      "[1, 2, 3]\n",
      "['name', 'age']\n",
      "['a', 'a', 'b', 'c', 'd', 'd', 'e', 'e', 'f', 'f']\n"
     ]
    }
   ],
   "source": [
    "aTuple = (123, 'xyz', 'zara', 'abc');\n",
    "aSet = {1,2,3}\n",
    "aDict = {\"name\":\"san\",\"age\":25}\n",
    "aStr = \"aabcddeeff\"\n",
    "print(list(aTuple))\n",
    "print(list(aSet))\n",
    "print(list(aDict))# 只保留了键\n",
    "print(list(aStr))"
   ]
  },
  {
   "cell_type": "markdown",
   "metadata": {},
   "source": [
    "## 元组\n",
    "tuple方法转换列表，集合，字典，字符串"
   ]
  },
  {
   "cell_type": "code",
   "execution_count": 26,
   "metadata": {},
   "outputs": [
    {
     "name": "stdout",
     "output_type": "stream",
     "text": [
      "(123, 'xyz', 'zara', 'abc')\n",
      "(1, 2, 3)\n",
      "('name', 'age')\n",
      "('a', 'a', 'b', 'c', 'd', 'd', 'e', 'e', 'f', 'f')\n"
     ]
    }
   ],
   "source": [
    "aList = [123, 'xyz', 'zara', 'abc'];\n",
    "aSet = {1,2,3}\n",
    "aDict = {\"name\":\"san\",\"age\":25}\n",
    "aStr = \"aabcddeeff\"\n",
    "print(tuple(aTuple))\n",
    "print(tuple(aSet))\n",
    "print(tuple(aDict))# 只保留了键\n",
    "print(tuple(aStr))"
   ]
  },
  {
   "cell_type": "markdown",
   "metadata": {},
   "source": [
    "## 字典"
   ]
  },
  {
   "cell_type": "markdown",
   "metadata": {},
   "source": [
    "dict() 函数用于创建一个字典。只能将存放元组（两个元素）的列表直接转化为字典\n",
    "\n",
    "dict 语法：\n",
    "1. class dict(**kwarg)\n",
    "2. class dict(mapping, **kwarg)\n",
    "3. class dict(iterable, **kwarg)\n",
    "\n",
    "参数说明：\n",
    "1. **kwargs -- 关键字\n",
    "2. mapping -- 元素的容器。\n",
    "3. iterable -- 可迭代对象。"
   ]
  },
  {
   "cell_type": "markdown",
   "metadata": {},
   "source": [
    "### 创建字典"
   ]
  },
  {
   "cell_type": "code",
   "execution_count": 4,
   "metadata": {},
   "outputs": [
    {
     "name": "stdout",
     "output_type": "stream",
     "text": [
      "{}\n",
      "{'a': 'a', 'b': 'b', 't': 't'}\n",
      "{'one': 1, 'two': 2, 'three': 3}\n",
      "{'one': 1, 'two': 2, 'three': 3}\n",
      "{'one': 1, 'two': 2}\n"
     ]
    }
   ],
   "source": [
    "d1 = dict()                        # 创建空字典\n",
    "d2 = dict(a='a', b='b', t='t')     # 传入关键字\n",
    "d3 = dict(zip(['one', 'two', 'three'], [1, 2, 3]))   # 映射函数方式来构造字典\n",
    "d4 = dict([('one', 1), ('two', 2), ('three', 3)])    # 可迭代对象方式来构造字典\n",
    "d5 = {'one':1,'two':2}\n",
    "print(d1)\n",
    "print(d2)\n",
    "print(d3)\n",
    "print(d4)\n",
    "print(d5)"
   ]
  },
  {
   "cell_type": "markdown",
   "metadata": {},
   "source": [
    "### 字典转换成列表\n",
    "键  值  键值"
   ]
  },
  {
   "cell_type": "code",
   "execution_count": 5,
   "metadata": {},
   "outputs": [
    {
     "name": "stdout",
     "output_type": "stream",
     "text": [
      "dict_items([('one', 1), ('two', 2), ('three', 3)])\n",
      "dict_keys(['one', 'two', 'three'])\n",
      "dict_values([1, 2, 3])\n"
     ]
    }
   ],
   "source": [
    "d = dict([('one', 1), ('two', 2), ('three', 3)])    # 可迭代对象方式来构造字典\n",
    "print(d.items())# 返回列表，里面存放元组，和可迭代方式创建的一致\n",
    "print(d.keys()) # 返回列表，由键组成\n",
    "print(d.values()) # 返回列表，由值组成"
   ]
  },
  {
   "cell_type": "markdown",
   "metadata": {},
   "source": [
    "### 字典的可迭代方式"
   ]
  },
  {
   "cell_type": "code",
   "execution_count": 6,
   "metadata": {},
   "outputs": [
    {
     "name": "stdout",
     "output_type": "stream",
     "text": [
      "('one', 1)\n",
      "one\n",
      "1\n",
      "('two', 2)\n",
      "two\n",
      "2\n",
      "('three', 3)\n",
      "three\n",
      "3\n"
     ]
    }
   ],
   "source": [
    "# 本质上是将字典转化成列表，列表内放了两个元素的元组，元组内容是原来字典的键和值\n",
    "d = dict([('one', 1), ('two', 2), ('three', 3)])    # 可迭代对象方式来构造字典\n",
    "for elem in d.items():\n",
    "    print(elem)\n",
    "    print(elem[0])\n",
    "    print(elem[1])"
   ]
  },
  {
   "cell_type": "markdown",
   "metadata": {},
   "source": [
    "## 集合\n",
    "转换元组，列表，字符串，字典"
   ]
  },
  {
   "cell_type": "code",
   "execution_count": 29,
   "metadata": {},
   "outputs": [
    {
     "name": "stdout",
     "output_type": "stream",
     "text": [
      "{'xyz', 'zara', 123, 'abc'}\n",
      "{1, 2, 3, 4, 5}\n",
      "{'d', 'b', 'e', 'f', 'a', 'c'}\n",
      "{'age', 'name'}\n"
     ]
    }
   ],
   "source": [
    "aTuple = (123, 'xyz', 'zara', 'abc','xyz');\n",
    "aList = [1,2,3,2,4,5,5]\n",
    "aStr = \"aabcddeeff\"\n",
    "aDict = {\"name\":\"san\",\"age\":25,\"name\":\"wang\"}\n",
    "print(set(aTuple))\n",
    "print(set(aList))\n",
    "print(set(aStr))\n",
    "print(set(aDict))# 只保留不重复的键"
   ]
  },
  {
   "cell_type": "markdown",
   "metadata": {},
   "source": [
    "### 集合运算"
   ]
  },
  {
   "cell_type": "code",
   "execution_count": 32,
   "metadata": {},
   "outputs": [
    {
     "name": "stdout",
     "output_type": "stream",
     "text": [
      "{1, 2, 3, 4, 5, 6}\n",
      "{2, 4, 6, 8, 10}\n",
      "{2, 4, 6}\n",
      "{1, 2, 3, 4, 5, 6, 8, 10}\n",
      "{1, 3, 5}\n",
      "{1, 3, 5, 8, 10}\n",
      "True\n"
     ]
    }
   ],
   "source": [
    "set1 = set(range(1, 7))\n",
    "print(set1)\n",
    "set2 = set(range(2, 11, 2))\n",
    "print(set2)\n",
    "print(set1 & set2) # 交集\n",
    "print(set1 | set2) # 并集\n",
    "print(set1 - set2) # 差集\n",
    "print(set1 ^ set2) # 并集去除交集\n",
    "print((set1 ^ set2) == ((set1 | set2) - (set1 & set2)))"
   ]
  },
  {
   "cell_type": "code",
   "execution_count": 34,
   "metadata": {},
   "outputs": [
    {
     "name": "stdout",
     "output_type": "stream",
     "text": [
      "False\n",
      "True\n",
      "False\n",
      "True\n"
     ]
    }
   ],
   "source": [
    "set3 = set(range(1, 5))\n",
    "print(set2 <= set1) # 子集运算\n",
    "print(set3 <= set1)\n",
    "print(set1 >= set2) # 超集运算\n",
    "print(set1 >= set3)"
   ]
  },
  {
   "cell_type": "markdown",
   "metadata": {},
   "source": [
    "## 字符串\n",
    "连接元组和列表，列表和元组内的元素是字符或者字符串"
   ]
  },
  {
   "cell_type": "code",
   "execution_count": 51,
   "metadata": {},
   "outputs": [
    {
     "name": "stdout",
     "output_type": "stream",
     "text": [
      "123 xyz zara abc\n",
      "1 2 5 abc\n"
     ]
    }
   ],
   "source": [
    "# 需要确保列表和元组内部放的是字符串\n",
    "aTuple = ('123', 'xyz', 'zara', 'abc')\n",
    "aList = ['1', '2', '5', 'abc']\n",
    "print(\" \".join(aTuple))\n",
    "print(\" \".join(aList))"
   ]
  },
  {
   "cell_type": "code",
   "execution_count": 52,
   "metadata": {},
   "outputs": [
    {
     "ename": "TypeError",
     "evalue": "sequence item 0: expected str instance, int found",
     "output_type": "error",
     "traceback": [
      "\u001b[1;31m---------------------------------------------------------------------------\u001b[0m",
      "\u001b[1;31mTypeError\u001b[0m                                 Traceback (most recent call last)",
      "\u001b[1;32m<ipython-input-52-34cf7a721552>\u001b[0m in \u001b[0;36m<module>\u001b[1;34m\u001b[0m\n\u001b[0;32m      1\u001b[0m \u001b[0maTuple\u001b[0m \u001b[1;33m=\u001b[0m \u001b[1;33m(\u001b[0m\u001b[1;36m123\u001b[0m\u001b[1;33m,\u001b[0m \u001b[1;34m'xyz'\u001b[0m\u001b[1;33m,\u001b[0m \u001b[1;34m'zara'\u001b[0m\u001b[1;33m,\u001b[0m \u001b[1;34m'abc'\u001b[0m\u001b[1;33m)\u001b[0m\u001b[1;33m\u001b[0m\u001b[1;33m\u001b[0m\u001b[0m\n\u001b[0;32m      2\u001b[0m \u001b[0maList\u001b[0m \u001b[1;33m=\u001b[0m \u001b[1;33m[\u001b[0m\u001b[1;36m1\u001b[0m\u001b[1;33m,\u001b[0m \u001b[1;34m'2'\u001b[0m\u001b[1;33m,\u001b[0m \u001b[1;34m'5'\u001b[0m\u001b[1;33m,\u001b[0m \u001b[1;34m'abc'\u001b[0m\u001b[1;33m]\u001b[0m\u001b[1;33m\u001b[0m\u001b[1;33m\u001b[0m\u001b[0m\n\u001b[1;32m----> 3\u001b[1;33m \u001b[0mprint\u001b[0m\u001b[1;33m(\u001b[0m\u001b[1;34m\" \"\u001b[0m\u001b[1;33m.\u001b[0m\u001b[0mjoin\u001b[0m\u001b[1;33m(\u001b[0m\u001b[0maTuple\u001b[0m\u001b[1;33m)\u001b[0m\u001b[1;33m)\u001b[0m\u001b[1;33m\u001b[0m\u001b[1;33m\u001b[0m\u001b[0m\n\u001b[0m\u001b[0;32m      4\u001b[0m \u001b[0mprint\u001b[0m\u001b[1;33m(\u001b[0m\u001b[1;34m\" \"\u001b[0m\u001b[1;33m.\u001b[0m\u001b[0mjoin\u001b[0m\u001b[1;33m(\u001b[0m\u001b[0maList\u001b[0m\u001b[1;33m)\u001b[0m\u001b[1;33m)\u001b[0m\u001b[1;33m\u001b[0m\u001b[1;33m\u001b[0m\u001b[0m\n",
      "\u001b[1;31mTypeError\u001b[0m: sequence item 0: expected str instance, int found"
     ]
    }
   ],
   "source": [
    "# 如果里面有整型数据，会报错说无法连接整型数据\n",
    "aTuple = (123, 'xyz', 'zara', 'abc')\n",
    "aList = [1, '2', '5', 'abc']\n",
    "print(\" \".join(aTuple))\n",
    "print(\" \".join(aList))"
   ]
  },
  {
   "cell_type": "code",
   "execution_count": 54,
   "metadata": {},
   "outputs": [
    {
     "name": "stdout",
     "output_type": "stream",
     "text": [
      "(123, 'xyz', 'zara', 'abc')\n",
      "[1, '2', '5', 'abc']\n"
     ]
    }
   ],
   "source": [
    "# 此时尝试使用 str 进行转化, 但是仍然的不到想要的结果\n",
    "aTuple = (123, 'xyz', 'zara', 'abc')\n",
    "aList = [1, '2', '5', 'abc']\n",
    "print(\"\".join(str(aTuple)))\n",
    "print(\"\".join(str(aList)))"
   ]
  },
  {
   "cell_type": "markdown",
   "metadata": {},
   "source": [
    "# 序列操作函数"
   ]
  },
  {
   "cell_type": "markdown",
   "metadata": {},
   "source": [
    "## Python map() 函数  返回map对象\n",
    "map() 会根据提供的函数对指定序列做映射。\n",
    "第一个参数 function 以参数序列中的每一个元素调用 function 函数，返回包含每次 function 函数返回值的新列表。"
   ]
  },
  {
   "cell_type": "code",
   "execution_count": 2,
   "metadata": {},
   "outputs": [
    {
     "name": "stdout",
     "output_type": "stream",
     "text": [
      "<map object at 0x000002E41D9D0B08>\n",
      "[1, 4, 9, 16, 25]\n",
      "[]\n"
     ]
    }
   ],
   "source": [
    "def square(x) :            # 计算平方数\n",
    "     return x ** 2\n",
    "lst = map(square, [1,2,3,4,5])   # 计算列表各个元素的平方\n",
    "print(lst)\n",
    "print([i for i in lst])\n",
    "print(list(lst))# 没有转换成功"
   ]
  },
  {
   "cell_type": "code",
   "execution_count": 3,
   "metadata": {},
   "outputs": [
    {
     "name": "stdout",
     "output_type": "stream",
     "text": [
      "<map object at 0x000002E41D9D01C8>\n",
      "[1, 4, 9, 16, 25]\n",
      "[]\n"
     ]
    }
   ],
   "source": [
    "lst = map(lambda x: x ** 2, [1, 2, 3, 4, 5])  # 使用 lambda 匿名函数\n",
    "print(lst)\n",
    "print([i for i in lst])\n",
    "print(list(lst))# 没有转换成功"
   ]
  },
  {
   "cell_type": "code",
   "execution_count": 61,
   "metadata": {},
   "outputs": [
    {
     "name": "stdout",
     "output_type": "stream",
     "text": [
      "<map object at 0x000001DD37953888>\n",
      "[3, 7, 11, 15, 19]\n"
     ]
    }
   ],
   "source": [
    "# 提供了两个列表，对相同位置的列表数据进行相加\n",
    "lst = map(lambda x, y: x + y, [1, 3, 5, 7, 9], [2, 4, 6, 8, 10])\n",
    "print(lst)\n",
    "print([i for i in lst])"
   ]
  },
  {
   "cell_type": "markdown",
   "metadata": {},
   "source": [
    "## Python filter() 函数  返回的是filter对象\n",
    "filter() 函数用于过滤序列，过滤掉不符合条件的元素，返回由符合条件元素组成的新列表。\n",
    "该接收两个参数，第一个为函数，第二个为序列，序列的每个元素作为参数传递给函数进行判断，然后返回 True 或 False，最后将返回 True 的元素放到新列表中。"
   ]
  },
  {
   "cell_type": "code",
   "execution_count": 63,
   "metadata": {},
   "outputs": [
    {
     "name": "stdout",
     "output_type": "stream",
     "text": [
      "<filter object at 0x000001DD37966B88>\n",
      "[1, 3, 5, 7, 9]\n"
     ]
    }
   ],
   "source": [
    "def is_odd(n):\n",
    "    return n % 2 == 1\n",
    "\n",
    "newlist = filter(is_odd, [1, 2, 3, 4, 5, 6, 7, 8, 9, 10])\n",
    "print(newlist)\n",
    "print([i for i in newlist])"
   ]
  },
  {
   "cell_type": "markdown",
   "metadata": {},
   "source": [
    "## Python reduce() 函数  返回最终的结果\n",
    "reduce() 函数会对参数序列中元素进行累积。\n",
    "\n",
    "函数将一个数据集合（列表，元组等）中的所有数据进行下列操作：用传给 reduce 中的函数 function（有两个参数）先对集合中的第 1、2 个元素进行操作，得到的结果再与第三个数据用 function 函数运算，最后得到一个结果。\n",
    "\n",
    "自 Python3 之后，reduce()这个函数从全局命名空间中移除，放在了 functools模块，"
   ]
  },
  {
   "cell_type": "code",
   "execution_count": 65,
   "metadata": {},
   "outputs": [
    {
     "data": {
      "text/plain": [
       "15"
      ]
     },
     "execution_count": 65,
     "metadata": {},
     "output_type": "execute_result"
    }
   ],
   "source": [
    "from functools import reduce\n",
    "def add(x, y) :            # 两数相加\n",
    "     return x + y\n",
    "    \n",
    "reduce(add, [1,2,3,4,5])   # 计算列表和：1+2+3+4+5"
   ]
  },
  {
   "cell_type": "code",
   "execution_count": 66,
   "metadata": {},
   "outputs": [
    {
     "data": {
      "text/plain": [
       "15"
      ]
     },
     "execution_count": 66,
     "metadata": {},
     "output_type": "execute_result"
    }
   ],
   "source": [
    "from functools import reduce\n",
    "reduce(lambda x, y: x+y, [1,2,3,4,5])  # 使用 lambda 匿名函数"
   ]
  },
  {
   "cell_type": "markdown",
   "metadata": {},
   "source": [
    "## Python zip() 函数  返回zip对象\n",
    "可以自己转换成字典或者放元组的列表。\n",
    "zip() 函数用于将可迭代的对象作为参数，将对象中对应的元素打包成一个个元组，然后返回由这些元组组成的列表。\n",
    "如果各个迭代器的元素个数不一致，则返回列表长度与最短的对象相同，利用 * 号操作符，可以将元组解压为列表。\n",
    "\n",
    "zip 方法在 Python 2 和 Python 3 中的不同：在 Python 3.x 中为了减少内存，zip() 返回的是一个对象。如需展示列表，需手动 list() 转换。"
   ]
  },
  {
   "cell_type": "code",
   "execution_count": 2,
   "metadata": {},
   "outputs": [
    {
     "name": "stdout",
     "output_type": "stream",
     "text": [
      "<zip object at 0x0000020BC6643448>\n",
      "[(1, 4), (2, 5), (3, 6)]\n",
      "{1: 4, 2: 5, 3: 6}\n"
     ]
    }
   ],
   "source": [
    "a = [1,2,3]\n",
    "b = [4,5,6]\n",
    "zipped = zip(a,b)     # 打包为元组的列表\n",
    "print(zipped)\n",
    "print([i for i in zipped])\n",
    "print(dict(zip(a,b)))"
   ]
  },
  {
   "cell_type": "code",
   "execution_count": 80,
   "metadata": {},
   "outputs": [
    {
     "name": "stdout",
     "output_type": "stream",
     "text": [
      "<zip object at 0x000001DD3792EA48>\n",
      "[(1, 4), (2, 5), (3, 6)]\n"
     ]
    }
   ],
   "source": [
    "a = [1,2,3]\n",
    "c = [4,5,6,7,8]\n",
    "z2 = zip(a,c)              # 元素个数与最短的列表一致\n",
    "print(z2)\n",
    "print([i for i in z2])"
   ]
  },
  {
   "cell_type": "markdown",
   "metadata": {},
   "source": [
    "## Python enumerate() 函数  返回enumerate对象\n",
    "enumerate() 函数用于将一个可遍历的数据对象(如列表、元组或字符串)组合为一个索引序列，同时列出数据和数据下标，一般用在 for 循环当中。"
   ]
  },
  {
   "cell_type": "code",
   "execution_count": 1,
   "metadata": {},
   "outputs": [
    {
     "name": "stdout",
     "output_type": "stream",
     "text": [
      "[(0, 'Spring'), (1, 'Summer'), (2, 'Fall'), (3, 'Winter')]\n",
      "[(1, 'Spring'), (2, 'Summer'), (3, 'Fall'), (4, 'Winter')]\n"
     ]
    },
    {
     "data": {
      "text/plain": [
       "<enumerate at 0x2e41d9ea4f8>"
      ]
     },
     "execution_count": 1,
     "metadata": {},
     "output_type": "execute_result"
    }
   ],
   "source": [
    "seasons = ['Spring', 'Summer', 'Fall', 'Winter']\n",
    "e1 = list(enumerate(seasons))\n",
    "e2 = list(enumerate(seasons, start=1))       # 下标从 1 开始\n",
    "print(e1)\n",
    "print(e2)\n",
    "enumerate(seasons)"
   ]
  },
  {
   "cell_type": "code",
   "execution_count": 82,
   "metadata": {},
   "outputs": [
    {
     "name": "stdout",
     "output_type": "stream",
     "text": [
      "0 one\n",
      "1 two\n",
      "2 three\n"
     ]
    }
   ],
   "source": [
    "seq = ['one', 'two', 'three']\n",
    "for i, element in enumerate(seq):\n",
    "     print (i, element)"
   ]
  },
  {
   "cell_type": "markdown",
   "metadata": {},
   "source": [
    "## Python iter() 函数    返回iter对象\n",
    "iter() 函数用来生成迭代器。"
   ]
  },
  {
   "cell_type": "code",
   "execution_count": 4,
   "metadata": {},
   "outputs": [
    {
     "name": "stdout",
     "output_type": "stream",
     "text": [
      "<list_iterator object at 0x000002E41D9D02C8>\n",
      "1\n",
      "2\n",
      "3\n"
     ]
    }
   ],
   "source": [
    "lst = [1, 2, 3]\n",
    "print(iter(lst))\n",
    "for i in iter(lst):\n",
    "     print(i)"
   ]
  },
  {
   "cell_type": "markdown",
   "metadata": {},
   "source": [
    "## Python next() 函数\n",
    "next() 返回迭代器的下一个项目。\n",
    "next() 函数要和生成迭代器的iter() 函数一起使用。"
   ]
  },
  {
   "cell_type": "code",
   "execution_count": 84,
   "metadata": {},
   "outputs": [
    {
     "name": "stdout",
     "output_type": "stream",
     "text": [
      "1\n",
      "2\n",
      "3\n",
      "4\n",
      "5\n"
     ]
    }
   ],
   "source": [
    "# 首先获得Iterator对象:\n",
    "it = iter([1, 2, 3, 4, 5])\n",
    "# 循环:\n",
    "while True:\n",
    "    try:\n",
    "        # 获得下一个值:\n",
    "        x = next(it)\n",
    "        print(x)\n",
    "    except StopIteration:\n",
    "        # 遇到StopIteration就退出循环\n",
    "        break"
   ]
  },
  {
   "cell_type": "markdown",
   "metadata": {},
   "source": [
    "# 内容 / 类型判断函数"
   ]
  },
  {
   "cell_type": "markdown",
   "metadata": {},
   "source": [
    "## Python all() 函数\n",
    "all() 函数用于判断给定的可迭代参数 iterable 中的所有元素是否都为 TRUE，如果是返回 True，否则返回 False。\n",
    "元素除了是 0、空、None、False 外都算 True。"
   ]
  },
  {
   "cell_type": "code",
   "execution_count": 86,
   "metadata": {},
   "outputs": [
    {
     "data": {
      "text/plain": [
       "True"
      ]
     },
     "execution_count": 86,
     "metadata": {},
     "output_type": "execute_result"
    }
   ],
   "source": [
    "all(['a', 'b', 'c', 'd'])  # 列表list，元素都不为空或0"
   ]
  },
  {
   "cell_type": "code",
   "execution_count": 87,
   "metadata": {},
   "outputs": [
    {
     "data": {
      "text/plain": [
       "False"
      ]
     },
     "execution_count": 87,
     "metadata": {},
     "output_type": "execute_result"
    }
   ],
   "source": [
    "all(['a', 'b', '', 'd'])   # 列表list，存在一个为空的元素"
   ]
  },
  {
   "cell_type": "code",
   "execution_count": 89,
   "metadata": {},
   "outputs": [
    {
     "data": {
      "text/plain": [
       "False"
      ]
     },
     "execution_count": 89,
     "metadata": {},
     "output_type": "execute_result"
    }
   ],
   "source": [
    "all([0,1,2, 3])          # 列表list，存在一个为0的元素"
   ]
  },
  {
   "cell_type": "code",
   "execution_count": 90,
   "metadata": {},
   "outputs": [
    {
     "data": {
      "text/plain": [
       "False"
      ]
     },
     "execution_count": 90,
     "metadata": {},
     "output_type": "execute_result"
    }
   ],
   "source": [
    "all([None,1,2, 3])          # 列表list，存在一个为0的元素"
   ]
  },
  {
   "cell_type": "code",
   "execution_count": 91,
   "metadata": {},
   "outputs": [
    {
     "data": {
      "text/plain": [
       "False"
      ]
     },
     "execution_count": 91,
     "metadata": {},
     "output_type": "execute_result"
    }
   ],
   "source": [
    "all([False,1,2, 3])          # 列表list，存在一个为0的元素"
   ]
  },
  {
   "cell_type": "code",
   "execution_count": 94,
   "metadata": {},
   "outputs": [
    {
     "data": {
      "text/plain": [
       "True"
      ]
     },
     "execution_count": 94,
     "metadata": {},
     "output_type": "execute_result"
    }
   ],
   "source": [
    "all([])             # 空列表"
   ]
  },
  {
   "cell_type": "markdown",
   "metadata": {},
   "source": [
    "## Python any() 函数\n",
    "any() 函数用于判断给定的可迭代参数 iterable 是否全部为 False，则返回 False，如果有一个为 True，则返回 True。\n",
    "元素除了是 0、空、FALSE 外都算 TRUE。"
   ]
  },
  {
   "cell_type": "code",
   "execution_count": 105,
   "metadata": {},
   "outputs": [
    {
     "data": {
      "text/plain": [
       "True"
      ]
     },
     "execution_count": 105,
     "metadata": {},
     "output_type": "execute_result"
    }
   ],
   "source": [
    "any(['a', 'b', '', 'd'])   # 列表list，存在一个为空的元素"
   ]
  },
  {
   "cell_type": "code",
   "execution_count": 103,
   "metadata": {},
   "outputs": [
    {
     "data": {
      "text/plain": [
       "False"
      ]
     },
     "execution_count": 103,
     "metadata": {},
     "output_type": "execute_result"
    }
   ],
   "source": [
    "any([None,False,0])          # 列表list，存在一个为0的元素"
   ]
  },
  {
   "cell_type": "code",
   "execution_count": 104,
   "metadata": {},
   "outputs": [
    {
     "data": {
      "text/plain": [
       "True"
      ]
     },
     "execution_count": 104,
     "metadata": {},
     "output_type": "execute_result"
    }
   ],
   "source": [
    "any([None,False,0,1])          # 列表list，存在一个为0的元素"
   ]
  },
  {
   "cell_type": "code",
   "execution_count": 100,
   "metadata": {},
   "outputs": [
    {
     "data": {
      "text/plain": [
       "False"
      ]
     },
     "execution_count": 100,
     "metadata": {},
     "output_type": "execute_result"
    }
   ],
   "source": [
    "any([])             # 空列表"
   ]
  },
  {
   "cell_type": "markdown",
   "metadata": {},
   "source": [
    "## Python id() 函数\n",
    "id() 函数返回对象的唯一标识符，标识符是一个整数。返回对象的内存地址。\n",
    "CPython 中 id() 函数用于获取对象的内存地址。"
   ]
  },
  {
   "cell_type": "code",
   "execution_count": 107,
   "metadata": {},
   "outputs": [
    {
     "name": "stdout",
     "output_type": "stream",
     "text": [
      "2049633956080\n",
      "140713448219024\n"
     ]
    }
   ],
   "source": [
    "a = 'runoob'\n",
    "print(id(a))\n",
    "b = 1\n",
    "print(id(b))"
   ]
  },
  {
   "cell_type": "code",
   "execution_count": 111,
   "metadata": {},
   "outputs": [
    {
     "name": "stdout",
     "output_type": "stream",
     "text": [
      "True\n",
      "True\n"
     ]
    }
   ],
   "source": [
    "lst = [1,2,3]\n",
    "lst1 = lst #此种方法知识创建了列表视图，没有进行复制操作,列表内容和内存地址一样\n",
    "print(lst == lst1)\n",
    "print(id(lst) == id(lst1))"
   ]
  },
  {
   "cell_type": "code",
   "execution_count": 112,
   "metadata": {},
   "outputs": [
    {
     "name": "stdout",
     "output_type": "stream",
     "text": [
      "True\n",
      "False\n"
     ]
    }
   ],
   "source": [
    "lst = [1,2,3]\n",
    "lst1 = lst[:] #此种复制列表\n",
    "print(lst == lst1) # 列表内容一样，但是列表的内存地址不一样，说明是两个不同的列表\n",
    "print(id(lst) == id(lst1))"
   ]
  },
  {
   "cell_type": "code",
   "execution_count": 121,
   "metadata": {},
   "outputs": [
    {
     "name": "stdout",
     "output_type": "stream",
     "text": [
      "[[1, 2, 3], [1, 2, 3]]\n",
      "True\n",
      "True\n",
      "[[5, 2, 3], [5, 2, 3]]\n"
     ]
    }
   ],
   "source": [
    "lst = [1,2,3]\n",
    "lst1 = [lst]*2 # * 此种方法对列表操作也是视图操作\n",
    "print(lst1)\n",
    "print(lst1[0] == lst1[0])# 内容相同\n",
    "print(id(lst1[0]) == id(lst1[1])) # 内存地址也相同\n",
    "lst1[0][0] = 5 # 想要更改嵌套的第一个列表内的1，但是嵌套内的两个列表都被更改了\n",
    "print(lst1)"
   ]
  },
  {
   "cell_type": "code",
   "execution_count": 130,
   "metadata": {},
   "outputs": [
    {
     "name": "stdout",
     "output_type": "stream",
     "text": [
      "[]\n",
      "[[1, 2, 3], [1, 2, 3]]\n",
      "True\n",
      "False\n",
      "[[5, 2, 3], [1, 2, 3]]\n"
     ]
    }
   ],
   "source": [
    "lst = [1,2,3]\n",
    "lst1 = [] # 定义一个空列表，使用append方法追加内容\n",
    "print(lst1)\n",
    "lst1.append(lst)\n",
    "lst1.append(lst[:])# 使用：进行列表复制\n",
    "print(lst1)\n",
    "\n",
    "print(lst1[0] == lst1[0])# 内容相同\n",
    "print(id(lst1[0]) == id(lst1[1])) # 内存地址不一样\n",
    "lst1[0][0] = 5 # 只更改嵌套的第一个列表内的1\n",
    "print(lst1)"
   ]
  },
  {
   "cell_type": "code",
   "execution_count": 136,
   "metadata": {},
   "outputs": [
    {
     "name": "stdout",
     "output_type": "stream",
     "text": [
      "True\n"
     ]
    }
   ],
   "source": [
    "print(id([]) == id([]))# 一级空列表 id 是一样的"
   ]
  },
  {
   "cell_type": "code",
   "execution_count": 137,
   "metadata": {},
   "outputs": [
    {
     "name": "stdout",
     "output_type": "stream",
     "text": [
      "False\n",
      "False\n"
     ]
    }
   ],
   "source": [
    "print(id([[]]) == id([[]])) # 嵌套空列表 id 是不一样的\n",
    "print(id(['','',[]]) == id(['','',[]]))"
   ]
  },
  {
   "cell_type": "markdown",
   "metadata": {},
   "source": [
    "## Python isinstance() 函数\n",
    "isinstance() 函数来判断一个对象是否是一个已知的类型，类似 type()。\n",
    "\n",
    "isinstance() 与 type() 区别：\n",
    "1. type() 不会认为子类是一种父类类型，不考虑继承关系。\n",
    "2. isinstance() 会认为子类是一种父类类型，考虑继承关系。\n",
    "如果要判断两个类型是否相同推荐使用 isinstance()。"
   ]
  },
  {
   "cell_type": "code",
   "execution_count": 138,
   "metadata": {},
   "outputs": [
    {
     "name": "stdout",
     "output_type": "stream",
     "text": [
      "True\n",
      "False\n",
      "True\n"
     ]
    }
   ],
   "source": [
    "a = 2\n",
    "print(isinstance (a,int))\n",
    "print(isinstance (a,str))\n",
    "print(isinstance (a,(str,int,list)))    # 是元组中的一个返回 True"
   ]
  },
  {
   "cell_type": "code",
   "execution_count": 140,
   "metadata": {},
   "outputs": [
    {
     "name": "stdout",
     "output_type": "stream",
     "text": [
      "True\n",
      "True\n",
      "True\n",
      "False\n"
     ]
    }
   ],
   "source": [
    "class A(object):\n",
    "    pass\n",
    " \n",
    "class B(A):\n",
    "    pass\n",
    " \n",
    "print(isinstance(A(), A))    # returns True\n",
    "print(type(A()) == A)        # returns True\n",
    "\n",
    "print(isinstance(B(), A))    # returns True\n",
    "print(type(B()) == A)        # returns False"
   ]
  },
  {
   "cell_type": "markdown",
   "metadata": {},
   "source": [
    "## Python type() 函数\n",
    "type() 函数如果你只有第一个参数则返回对象的类型，三个参数返回新的类型对象。"
   ]
  },
  {
   "cell_type": "code",
   "execution_count": 143,
   "metadata": {},
   "outputs": [
    {
     "name": "stdout",
     "output_type": "stream",
     "text": [
      "<class 'int'>\n",
      "<class 'str'>\n",
      "<class 'list'>\n",
      "<class 'int'>\n",
      "<class 'dict'>\n",
      "<class 'set'>\n",
      "True\n"
     ]
    }
   ],
   "source": [
    "# 一个参数实例\n",
    "print(type(1))\n",
    "print(type('runoob'))\n",
    "print(type([2]))\n",
    "print(type((2)))\n",
    "print(type({0:'zero'}))\n",
    "print(type({0,1,2}))\n",
    "x = 1          \n",
    "print(type(x) == int )   # 判断类型是否相等"
   ]
  },
  {
   "cell_type": "code",
   "execution_count": 147,
   "metadata": {},
   "outputs": [
    {
     "name": "stdout",
     "output_type": "stream",
     "text": [
      "<class '__main__.X'>\n"
     ]
    }
   ],
   "source": [
    "# 三个参数\n",
    "class X(object):\n",
    "     a = 1\n",
    "X = type('X', (object,), dict(a=1))  # 产生一个新的类型 X\n",
    "print(X)"
   ]
  },
  {
   "cell_type": "markdown",
   "metadata": {},
   "source": [
    "## Python issubclass() 函数\n",
    "issubclass() 方法用于判断参数 class 是否是类型参数 classinfo 的子类。"
   ]
  },
  {
   "cell_type": "code",
   "execution_count": 148,
   "metadata": {},
   "outputs": [
    {
     "name": "stdout",
     "output_type": "stream",
     "text": [
      "True\n"
     ]
    }
   ],
   "source": [
    "class A:\n",
    "    pass\n",
    "class B(A):\n",
    "    pass\n",
    "    \n",
    "print(issubclass(B,A))    # 返回 True"
   ]
  },
  {
   "cell_type": "markdown",
   "metadata": {},
   "source": [
    "# 数学函数"
   ]
  },
  {
   "cell_type": "code",
   "execution_count": 150,
   "metadata": {},
   "outputs": [
    {
     "name": "stdout",
     "output_type": "stream",
     "text": [
      "abs(-45) :  45\n",
      "abs(100.12) :  100.12\n",
      "abs(119L) :  119\n"
     ]
    }
   ],
   "source": [
    "print (\"abs(-45) : \", abs(-45))\n",
    "print (\"abs(100.12) : \", abs(100.12))\n",
    "print (\"abs(119L) : \", abs(119))"
   ]
  },
  {
   "cell_type": "code",
   "execution_count": 151,
   "metadata": {},
   "outputs": [
    {
     "name": "stdout",
     "output_type": "stream",
     "text": [
      "max(80, 100, 1000) :  1000\n",
      "max(-20, 100, 400) :  400\n"
     ]
    }
   ],
   "source": [
    "print (\"max(80, 100, 1000) : \", max(80, 100, 1000))\n",
    "print (\"max(-20, 100, 400) : \", max(-20, 100, 400))"
   ]
  },
  {
   "cell_type": "code",
   "execution_count": 152,
   "metadata": {},
   "outputs": [
    {
     "name": "stdout",
     "output_type": "stream",
     "text": [
      "min(80, 100, 1000) :  80\n",
      "min(-20, 100, 400) :  -20\n"
     ]
    }
   ],
   "source": [
    "print (\"min(80, 100, 1000) : \", min(80, 100, 1000))\n",
    "print (\"min(-20, 100, 400) : \", min(-20, 100, 400))"
   ]
  },
  {
   "cell_type": "code",
   "execution_count": 153,
   "metadata": {},
   "outputs": [
    {
     "name": "stdout",
     "output_type": "stream",
     "text": [
      "6\n",
      "5\n"
     ]
    }
   ],
   "source": [
    "str1 = \"runoob\"\n",
    "print(len(str1))             # 字符串长度\n",
    "\n",
    "l = [1,2,3,4,5]\n",
    "print(len(l))               # 列表元素个数"
   ]
  },
  {
   "cell_type": "code",
   "execution_count": 155,
   "metadata": {},
   "outputs": [
    {
     "name": "stdout",
     "output_type": "stream",
     "text": [
      "round(80.23456, 2) :  80.23\n",
      "round(100.000656, 3) :  100.001\n",
      "round(-100.000056, 3) :  -100.0\n"
     ]
    }
   ],
   "source": [
    "###### round() 方法返回浮点数x的四舍五入值。\n",
    "print (\"round(80.23456, 2) : \", round(80.23456, 2))\n",
    "print (\"round(100.000656, 3) : \", round(100.000656, 3))\n",
    "print (\"round(-100.000056, 3) : \", round(-100.000056, 3))"
   ]
  },
  {
   "cell_type": "code",
   "execution_count": 157,
   "metadata": {},
   "outputs": [
    {
     "name": "stdout",
     "output_type": "stream",
     "text": [
      "(3, 1)\n",
      "(4, 0)\n"
     ]
    }
   ],
   "source": [
    "# python divmod() 函数把除数和余数运算结果结合起来，返回一个包含商和余数的元组(a // b, a % b)。\n",
    "print(divmod(7, 2))\n",
    "print(divmod(8, 2))"
   ]
  },
  {
   "cell_type": "code",
   "execution_count": 158,
   "metadata": {},
   "outputs": [
    {
     "name": "stdout",
     "output_type": "stream",
     "text": [
      "math.pow(100, 2) :  10000.0\n",
      "pow(100, 2) :  10000\n"
     ]
    }
   ],
   "source": [
    "# pow() 方法返回 xy（x的y次方） 的值。\n",
    "import math   # 导入 math 模块\n",
    "print (\"math.pow(100, 2) : \", math.pow(100, 2))#浮点数运算\n",
    "# 使用内置，查看输出结果区别\n",
    "print (\"pow(100, 2) : \", pow(100, 2))"
   ]
  },
  {
   "cell_type": "code",
   "execution_count": 159,
   "metadata": {},
   "outputs": [
    {
     "name": "stdout",
     "output_type": "stream",
     "text": [
      "21\n",
      "4\n",
      "4\n",
      "85\n"
     ]
    }
   ],
   "source": [
    "# eval() 函数用来执行一个字符串表达式，并返回表达式的值。\n",
    "x = 7\n",
    "print(eval( '3 * x' ))\n",
    "print(eval('pow(2,2)'))\n",
    "print(eval('2 + 2'))\n",
    "\n",
    "n=81\n",
    "print(eval(\"n + 4\"))"
   ]
  },
  {
   "cell_type": "markdown",
   "metadata": {},
   "source": [
    "# 进制转换 整型与字符串转化"
   ]
  },
  {
   "cell_type": "code",
   "execution_count": 5,
   "metadata": {},
   "outputs": [
    {
     "name": "stdout",
     "output_type": "stream",
     "text": [
      "0b1010\n",
      "0b10100\n",
      "<class 'str'>\n"
     ]
    }
   ],
   "source": [
    "# bin() 返回一个整数 int 或者长整数 long int 的二进制表示。\n",
    "print(bin(10))\n",
    "print(bin(20))\n",
    "print(type(bin(20)))"
   ]
  },
  {
   "cell_type": "code",
   "execution_count": 162,
   "metadata": {},
   "outputs": [
    {
     "name": "stdout",
     "output_type": "stream",
     "text": [
      "0xff\n",
      "-0x2a\n",
      "0xb\n",
      "0xc\n",
      "<class 'str'>\n"
     ]
    }
   ],
   "source": [
    "# hex() 函数用于将10进制整数转换成16进制，以字符串形式表示。\n",
    "print(hex(255))\n",
    "print(hex(-42))\n",
    "print(hex(11))\n",
    "print(hex(12))\n",
    "print(type(hex(12))) # 字符串"
   ]
  },
  {
   "cell_type": "code",
   "execution_count": 6,
   "metadata": {},
   "outputs": [
    {
     "name": "stdout",
     "output_type": "stream",
     "text": [
      "0o12\n",
      "0o24\n",
      "0o17\n",
      "<class 'str'>\n"
     ]
    }
   ],
   "source": [
    "# oct() 函数将一个整数转换成8进制字符串。\n",
    "print(oct(10))\n",
    "print(oct(20))\n",
    "print(oct(15))\n",
    "print(type(oct(15)))"
   ]
  },
  {
   "cell_type": "code",
   "execution_count": 8,
   "metadata": {},
   "outputs": [
    {
     "name": "stdout",
     "output_type": "stream",
     "text": [
      "0\n",
      "3\n",
      "3\n",
      "18\n",
      "10\n",
      "10\n",
      "8\n",
      "3\n"
     ]
    }
   ],
   "source": [
    "# int() 函数用于将一个字符串或数字转换为整型。\n",
    "print(int() )              # 不传入参数时，得到结果0\n",
    "print(int(3))\n",
    "print(int(3.6))\n",
    "print(int('12',16))        # 如果是带参数base的话，12要以字符串的形式进行输入，12 为 16进制\n",
    "print(int('0xa',16))  \n",
    "print(int(0xa))  \n",
    "print(int('10',8))  \n",
    "print(int(0b11))"
   ]
  },
  {
   "cell_type": "code",
   "execution_count": 3,
   "metadata": {},
   "outputs": [
    {
     "name": "stdout",
     "output_type": "stream",
     "text": [
      "False\n",
      "False\n",
      "True\n",
      "True\n",
      "True\n"
     ]
    }
   ],
   "source": [
    "# bool() 函数用于将给定参数转换为布尔类型，如果没有参数，返回 False。\n",
    "# bool 是 int 的子类。\n",
    "print(bool())\n",
    "print(bool(0))\n",
    "print(bool(1))\n",
    "print(bool(2))\n",
    "print(issubclass(bool, int))  # bool 是 int 子类"
   ]
  },
  {
   "cell_type": "code",
   "execution_count": 166,
   "metadata": {},
   "outputs": [
    {
     "name": "stdout",
     "output_type": "stream",
     "text": [
      "1.0\n",
      "112.0\n",
      "-123.6\n",
      "123.0\n"
     ]
    }
   ],
   "source": [
    "# float() 函数用于将整数和字符串转换成浮点数。\n",
    "print(float(1))\n",
    "print(float(112))\n",
    "print(float(-123.6))\n",
    "print(float('123'))     # 字符串"
   ]
  },
  {
   "cell_type": "code",
   "execution_count": 167,
   "metadata": {},
   "outputs": [
    {
     "name": "stdout",
     "output_type": "stream",
     "text": [
      "0 1 a\n",
      "0 1 a\n"
     ]
    }
   ],
   "source": [
    "# chr() 用一个范围在 range（256）内的（就是0～255）整数作参数，返回一个对应的字符。\n",
    "# 返回字符\n",
    "print (chr(0x30), chr(0x31), chr(0x61))   # 十六进制\n",
    "print (chr(48), chr(49), chr(97))         # 十进制"
   ]
  },
  {
   "cell_type": "code",
   "execution_count": 169,
   "metadata": {},
   "outputs": [
    {
     "name": "stdout",
     "output_type": "stream",
     "text": [
      "97 98 99\n"
     ]
    }
   ],
   "source": [
    "# ord() 函数是 chr() 函数（对于8位的ASCII字符串）的配对函数，\n",
    "# 它以一个字符（长度为1的字符串）作为参数，返回对应的 ASCII 数值，或者 Unicode 数值，\n",
    "# 如果所给的 Unicode 字符超出了你的 Python 定义范围，则会引发一个 TypeError 的异常。\n",
    "# 返回数字\n",
    "print(ord('a'),ord('b'),ord('c'))"
   ]
  },
  {
   "cell_type": "code",
   "execution_count": 1,
   "metadata": {},
   "outputs": [
    {
     "name": "stdout",
     "output_type": "stream",
     "text": [
      "RUNOOB\n",
      "{'runoob': 'runoob.com', 'google': 'google.com'}\n"
     ]
    }
   ],
   "source": [
    "# str() 函数将对象转化为适于人阅读的形式。\n",
    "s = 'RUNOOB'\n",
    "print(str(s))\n",
    "\n",
    "dict1 = {'runoob': 'runoob.com', 'google': 'google.com'};\n",
    "print(str(dict1))"
   ]
  },
  {
   "cell_type": "code",
   "execution_count": 4,
   "metadata": {},
   "outputs": [
    {
     "name": "stdout",
     "output_type": "stream",
     "text": [
      "-5570045335535581287\n",
      "1\n",
      "-6677808807162985558\n",
      "-5642119570680853675\n"
     ]
    }
   ],
   "source": [
    "# hash() 用于获取取一个对象（字符串或者数值等）的哈希值。\n",
    "print(hash('test'))            # 字符串\n",
    "print(hash(1))                 # 数字\n",
    "print(hash(str([1,2,3])))      # 列表\n",
    "print(hash(str(sorted({'1':1})))) # 字典"
   ]
  },
  {
   "cell_type": "code",
   "execution_count": 5,
   "metadata": {},
   "outputs": [
    {
     "name": "stdout",
     "output_type": "stream",
     "text": [
      "(1+2j)\n",
      "(1+0j)\n",
      "(1+0j)\n",
      "(1+2j)\n"
     ]
    }
   ],
   "source": [
    "print(complex(1, 2))\n",
    "print(complex(1))    # 数字\n",
    "print(complex(\"1\"))  # 当做字符串处理\n",
    "# 注意：这个地方在\"+\"号两边不能有空格，也就是不能写成\"1 + 2j\"，应该是\"1+2j\"，否则会报错\n",
    "print(complex(\"1+2j\"))"
   ]
  },
  {
   "cell_type": "markdown",
   "metadata": {},
   "source": [
    "# 其他\n",
    "## 排序"
   ]
  },
  {
   "cell_type": "markdown",
   "metadata": {},
   "source": [
    "sorted() 函数对所有可迭代的对象进行排序操作。\n",
    "\n",
    "sort 与 sorted 区别：\n",
    "sort 是应用在 list 上的方法，sorted 可以对所有可迭代的对象进行排序操作。\n",
    "list 的 sort 方法返回的是对已经存在的列表进行操作，无返回值，而内建函数 sorted 方法返回的是一个新的 list，而不是在原来的基础上进行的操作。"
   ]
  },
  {
   "cell_type": "code",
   "execution_count": 6,
   "metadata": {},
   "outputs": [
    {
     "name": "stdout",
     "output_type": "stream",
     "text": [
      "[5, 7, 6, 3, 4, 1, 2]\n",
      "[1, 2, 3, 4, 5, 6, 7]\n"
     ]
    }
   ],
   "source": [
    "a = [5,7,6,3,4,1,2]\n",
    "b = sorted(a)       # 保留原列表\n",
    "print(a)\n",
    "print(b)"
   ]
  },
  {
   "cell_type": "code",
   "execution_count": 10,
   "metadata": {},
   "outputs": [
    {
     "data": {
      "text/plain": [
       "[('a', 2), ('b', 1), ('c', 4), ('d', 3)]"
      ]
     },
     "execution_count": 10,
     "metadata": {},
     "output_type": "execute_result"
    }
   ],
   "source": [
    "# 按照键排序\n",
    "L=[('b',1),('a',2),('c',4),('d',3)]\n",
    "sorted(L)"
   ]
  },
  {
   "cell_type": "code",
   "execution_count": 11,
   "metadata": {},
   "outputs": [
    {
     "data": {
      "text/plain": [
       "[('b', 1), ('a', 2), ('d', 3), ('c', 4)]"
      ]
     },
     "execution_count": 11,
     "metadata": {},
     "output_type": "execute_result"
    }
   ],
   "source": [
    "# 按照值排序\n",
    "sorted(L, key=lambda x:x[1])               # 利用key"
   ]
  },
  {
   "cell_type": "code",
   "execution_count": 14,
   "metadata": {},
   "outputs": [
    {
     "name": "stdout",
     "output_type": "stream",
     "text": [
      "[('dave', 'B', 10), ('jane', 'B', 12), ('john', 'A', 15)]\n"
     ]
    },
    {
     "data": {
      "text/plain": [
       "[('john', 'A', 15), ('jane', 'B', 12), ('dave', 'B', 10)]"
      ]
     },
     "execution_count": 14,
     "metadata": {},
     "output_type": "execute_result"
    }
   ],
   "source": [
    "students = [('john', 'A', 15), ('jane', 'B', 12), ('dave', 'B', 10)]\n",
    "print(sorted(students, key=lambda s: s[2]))            # 按年龄排序\n",
    "sorted(students, key=lambda s: s[2], reverse=True)       # 按降序"
   ]
  },
  {
   "cell_type": "markdown",
   "metadata": {},
   "source": [
    "## 切片"
   ]
  },
  {
   "cell_type": "code",
   "execution_count": 17,
   "metadata": {},
   "outputs": [
    {
     "name": "stdout",
     "output_type": "stream",
     "text": [
      "slice(None, 5, None)\n",
      "range(0, 10)\n",
      "range(0, 5)\n"
     ]
    }
   ],
   "source": [
    "# slice() 函数实现切片对象，主要用在切片操作函数里的参数传递。\n",
    "myslice = slice(5)    # 设置截取5个元素的切片\n",
    "print(myslice)\n",
    "arr = range(10)\n",
    "print(arr)\n",
    "print(arr[myslice])         # 截取 5 个元素"
   ]
  },
  {
   "cell_type": "code",
   "execution_count": 3,
   "metadata": {},
   "outputs": [
    {
     "name": "stdout",
     "output_type": "stream",
     "text": [
      "[0, 1, 2, 3, 4, 5, 6, 7, 8, 9, 10, 11, 12, 13, 14, 15, 16, 17, 18, 19, 20, 21, 22, 23]\n",
      "slice(0, 24, 8)\n",
      "[0, 8, 16]\n"
     ]
    }
   ],
   "source": [
    "lst = list(range(24))\n",
    "print(lst)\n",
    "sl = slice(0,len(lst),8)\n",
    "print(sl)\n",
    "print(lst[sl])"
   ]
  },
  {
   "cell_type": "markdown",
   "metadata": {},
   "source": [
    "## Python super() 函数"
   ]
  },
  {
   "cell_type": "code",
   "execution_count": 1,
   "metadata": {},
   "outputs": [
    {
     "name": "stdout",
     "output_type": "stream",
     "text": [
      "初三的王大锤正在学习数学.\n",
      "王大锤只能观看《熊出没》.\n",
      "骆昊砖家正在讲Python程序设计.\n",
      "骆昊正在观看爱情动作片.\n"
     ]
    }
   ],
   "source": [
    "class Person(object):\n",
    "    \"\"\"人\"\"\"\n",
    "\n",
    "    def __init__(self, name, age):\n",
    "        self._name = name\n",
    "        self._age = age\n",
    "\n",
    "    @property\n",
    "    def name(self):\n",
    "        return self._name\n",
    "\n",
    "    @property\n",
    "    def age(self):\n",
    "        return self._age\n",
    "\n",
    "    @age.setter\n",
    "    def age(self, age):\n",
    "        self._age = age\n",
    "\n",
    "    def play(self):\n",
    "        print('%s正在愉快的玩耍.' % self._name)\n",
    "\n",
    "    def watch_av(self):\n",
    "        if self._age >= 18:\n",
    "            print('%s正在观看爱情动作片.' % self._name)\n",
    "        else:\n",
    "            print('%s只能观看《熊出没》.' % self._name)\n",
    "\n",
    "\n",
    "class Student(Person):\n",
    "    \"\"\"学生\"\"\"\n",
    "\n",
    "    def __init__(self, name, age, grade):\n",
    "        super().__init__(name, age)\n",
    "        self._grade = grade\n",
    "\n",
    "    @property\n",
    "    def grade(self):\n",
    "        return self._grade\n",
    "\n",
    "    @grade.setter\n",
    "    def grade(self, grade):\n",
    "        self._grade = grade\n",
    "\n",
    "    def study(self, course):\n",
    "        print('%s的%s正在学习%s.' % (self._grade, self._name, course))\n",
    "\n",
    "\n",
    "class Teacher(Person):\n",
    "    \"\"\"老师\"\"\"\n",
    "\n",
    "    def __init__(self, name, age, title):\n",
    "        super().__init__(name, age)\n",
    "        self._title = title\n",
    "\n",
    "    @property\n",
    "    def title(self):\n",
    "        return self._title\n",
    "\n",
    "    @title.setter\n",
    "    def title(self, title):\n",
    "        self._title = title\n",
    "\n",
    "    def teach(self, course):\n",
    "        print('%s%s正在讲%s.' % (self._name, self._title, course))\n",
    "\n",
    "\n",
    "def main():\n",
    "    stu = Student('王大锤', 15, '初三')\n",
    "    stu.study('数学')\n",
    "    stu.watch_av()\n",
    "    t = Teacher('骆昊', 38, '砖家')\n",
    "    t.teach('Python程序设计')\n",
    "    t.watch_av()\n",
    "\n",
    "\n",
    "main()"
   ]
  },
  {
   "cell_type": "markdown",
   "metadata": {},
   "source": [
    "## Python staticmethod() 函数"
   ]
  },
  {
   "cell_type": "code",
   "execution_count": 18,
   "metadata": {},
   "outputs": [
    {
     "name": "stdout",
     "output_type": "stream",
     "text": [
      "12\n",
      "6.0\n"
     ]
    }
   ],
   "source": [
    "### 静态方法和类方法\n",
    "from math import sqrt\n",
    "class Triangle(object):\n",
    "\n",
    "    def __init__(self, a, b, c):\n",
    "        self._a = a\n",
    "        self._b = b\n",
    "        self._c = c\n",
    "\n",
    "    @staticmethod\n",
    "    def is_valid(a, b, c):\n",
    "        return a + b > c and b + c > a and a + c > b\n",
    "\n",
    "    def perimeter(self):\n",
    "        return self._a + self._b + self._c\n",
    "\n",
    "    def area(self):\n",
    "        half = self.perimeter() / 2\n",
    "        return sqrt(half * (half - self._a) *\n",
    "                    (half - self._b) * (half - self._c))\n",
    "\n",
    "def main():\n",
    "    a, b, c = 3, 4, 5\n",
    "    # 静态方法和类方法都是通过给类发消息来调用的\n",
    "    # 在类没有实例化对象的时候就可以使用静态方法\n",
    "    if Triangle.is_valid(a, b, c):\n",
    "        t = Triangle(a, b, c)\n",
    "        print(t.perimeter())\n",
    "        # 也可以通过给类发消息来调用对象方法但是要传入接收消息的对象作为参数\n",
    "        # print(Triangle.perimeter(t))\n",
    "        print(t.area())\n",
    "        # print(Triangle.area(t))\n",
    "    else:\n",
    "        print('无法构成三角形.')\n",
    "\n",
    "if __name__ == '__main__':\n",
    "    main()"
   ]
  },
  {
   "cell_type": "markdown",
   "metadata": {},
   "source": [
    "## Python classmethod 修饰符"
   ]
  },
  {
   "cell_type": "code",
   "execution_count": 2,
   "metadata": {},
   "outputs": [
    {
     "name": "stdout",
     "output_type": "stream",
     "text": [
      "13:15:36\n",
      "13:15:37\n",
      "13:15:38\n",
      "13:15:39\n",
      "13:15:40\n",
      "13:15:41\n"
     ]
    }
   ],
   "source": [
    "from time import time, localtime, sleep\n",
    "class Clock(object):\n",
    "    \"\"\"数字时钟\"\"\"\n",
    "\n",
    "    def __init__(self, hour=0, minute=0, second=0):\n",
    "        self._hour = hour\n",
    "        self._minute = minute\n",
    "        self._second = second\n",
    "\n",
    "    @classmethod\n",
    "    def now(cls):\n",
    "        ctime = localtime(time())\n",
    "        return cls(ctime.tm_hour, ctime.tm_min, ctime.tm_sec)\n",
    "\n",
    "    def run(self):\n",
    "        \"\"\"走字\"\"\"\n",
    "        self._second += 1\n",
    "        if self._second == 60:\n",
    "            self._second = 0\n",
    "            self._minute += 1\n",
    "            if self._minute == 60:\n",
    "                self._minute = 0\n",
    "                self._hour += 1\n",
    "                if self._hour == 24:\n",
    "                    self._hour = 0\n",
    "\n",
    "    def show(self):\n",
    "        \"\"\"显示时间\"\"\"\n",
    "        return '%02d:%02d:%02d' % \\\n",
    "               (self._hour, self._minute, self._second)\n",
    "\n",
    "def main():\n",
    "    # 通过类方法创建对象并获取系统时间\n",
    "    clock = Clock.now()\n",
    "    count = 0\n",
    "    while True:\n",
    "        print(clock.show())\n",
    "        sleep(1)\n",
    "        clock.run()\n",
    "        count += 1\n",
    "        if count > 5:\n",
    "            break\n",
    "\n",
    "if __name__ == '__main__':\n",
    "    main()"
   ]
  },
  {
   "cell_type": "code",
   "execution_count": null,
   "metadata": {},
   "outputs": [],
   "source": []
  }
 ],
 "metadata": {
  "kernelspec": {
   "display_name": "Python 3",
   "language": "python",
   "name": "python3"
  },
  "language_info": {
   "codemirror_mode": {
    "name": "ipython",
    "version": 3
   },
   "file_extension": ".py",
   "mimetype": "text/x-python",
   "name": "python",
   "nbconvert_exporter": "python",
   "pygments_lexer": "ipython3",
   "version": "3.7.4"
  }
 },
 "nbformat": 4,
 "nbformat_minor": 2
}
