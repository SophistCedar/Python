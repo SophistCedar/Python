{
 "cells": [
  {
   "cell_type": "markdown",
   "metadata": {},
   "source": [
    "* 定义 [] [[],[]] list \n",
    "* 访问 索引访问\n",
    "* 运算 + * len in \n",
    "* 排序 sort sorted\n",
    "* 增加 append insert \n",
    "* 删除 pop del\n",
    "* 计数 count \n",
    "* 查找 index"
   ]
  },
  {
   "cell_type": "markdown",
   "metadata": {},
   "source": [
    "# 普通定义 访问  运算"
   ]
  },
  {
   "cell_type": "code",
   "execution_count": 10,
   "metadata": {},
   "outputs": [
    {
     "name": "stdout",
     "output_type": "stream",
     "text": [
      "list1[0]:  Google\n",
      "list[-1]:  2000\n",
      "list2[1:5]:  [2, 3, 4, 5]\n"
     ]
    }
   ],
   "source": [
    "# 访问列表中的值\n",
    "list1 = ['Google', 'Runoob', 1997, 2000]\n",
    "list2 = [1, 2, 3, 4, 5, 6, 7 ]\n",
    " \n",
    "print (\"list1[0]: \", list1[0])\n",
    "print (\"list[-1]: \",list1[-1])\n",
    "print (\"list2[1:5]: \", list2[1:5])"
   ]
  },
  {
   "cell_type": "code",
   "execution_count": 13,
   "metadata": {},
   "outputs": [
    {
     "name": "stdout",
     "output_type": "stream",
     "text": [
      "3\n",
      "[1, 2, 3, 4, 5, 6]\n",
      "['Hi!', 'Hi!', 'Hi!', 'Hi!']\n",
      "True\n",
      "1 2 3 "
     ]
    }
   ],
   "source": [
    "# Python列表脚本操作符\n",
    "print(len([1, 2, 3])) # 元素个数\n",
    "print([1, 2, 3] + [4, 5, 6]) # 组合\n",
    "print(['Hi!'] * 4) # 重复\n",
    "print(3 in [1, 2, 3]) # 元素是否存在于列表\n",
    "for x in [1, 2, 3]: \n",
    "    print(x, end=\" \")# 迭代"
   ]
  },
  {
   "cell_type": "markdown",
   "metadata": {},
   "source": [
    "# 嵌套定义"
   ]
  },
  {
   "cell_type": "code",
   "execution_count": 14,
   "metadata": {},
   "outputs": [
    {
     "name": "stdout",
     "output_type": "stream",
     "text": [
      "[['a', 'b', 'c'], [1, 2, 3]]\n",
      "['a', 'b', 'c']\n",
      "b\n"
     ]
    }
   ],
   "source": [
    "# 嵌套列表\n",
    "a = ['a', 'b', 'c']\n",
    "n = [1, 2, 3]\n",
    "x = [a, n]\n",
    "print(x)\n",
    "print(x[0])\n",
    "print(x[0][1])"
   ]
  },
  {
   "cell_type": "markdown",
   "metadata": {},
   "source": [
    "# 类型转换定义"
   ]
  },
  {
   "cell_type": "code",
   "execution_count": 15,
   "metadata": {},
   "outputs": [
    {
     "name": "stdout",
     "output_type": "stream",
     "text": [
      "列表元素 :  [123, 'Google', 'Runoob', 'Taobao']\n",
      "列表元素 :  ['H', 'e', 'l', 'l', 'o', ' ', 'W', 'o', 'r', 'l', 'd']\n"
     ]
    }
   ],
   "source": [
    "# list() 方法用于将元组或字符串转换为列表。\n",
    "aTuple = (123, 'Google', 'Runoob', 'Taobao')\n",
    "list1 = list(aTuple)\n",
    "print (\"列表元素 : \", list1)\n",
    "\n",
    "str1=\"Hello World\"\n",
    "list2 = list(str1)\n",
    "print (\"列表元素 : \", list2)"
   ]
  },
  {
   "cell_type": "markdown",
   "metadata": {},
   "source": [
    "# 排序"
   ]
  },
  {
   "cell_type": "code",
   "execution_count": 25,
   "metadata": {},
   "outputs": [
    {
     "name": "stdout",
     "output_type": "stream",
     "text": [
      "List :  ['Facebook', 'Google', 'Runoob', 'Taobao']\n",
      "降序输出: ['u', 'o', 'i', 'e', 'a']\n"
     ]
    }
   ],
   "source": [
    "# sort() 函数用于对原列表进行排序，如果指定参数，则使用比较函数指定的比较函数。\n",
    "# list.sort( key=None, reverse=False)\n",
    "# key -- 主要是用来进行比较的元素，只有一个参数，具体的函数的参数就是取自于可迭代对象中，指定可迭代对象中的一个元素来进行排序。\n",
    "# reverse -- 排序规则，reverse = True 降序， reverse = False 升序（默认）。\n",
    "\n",
    "aList = ['Google', 'Runoob', 'Taobao', 'Facebook']\n",
    "aList.sort()\n",
    "print ( \"List : \", aList)\n",
    "\n",
    "# # 列表\n",
    "vowels = ['e', 'a', 'u', 'o', 'i']\n",
    "# 降序\n",
    "vowels.sort(reverse=True)\n",
    "# 输出结果\n",
    "print ( '降序输出:', vowels )"
   ]
  },
  {
   "cell_type": "code",
   "execution_count": 5,
   "metadata": {},
   "outputs": [
    {
     "name": "stdout",
     "output_type": "stream",
     "text": [
      "[1, 2, 3, 4, 5]\n",
      "['a', 'Andrew', 'from', 'is', 'string', 'test', 'This']\n"
     ]
    },
    {
     "data": {
      "text/plain": [
       "[('dave', 'B', 10), ('jane', 'B', 12), ('john', 'A', 15)]"
      ]
     },
     "execution_count": 5,
     "metadata": {},
     "output_type": "execute_result"
    }
   ],
   "source": [
    "# sorted()方法对所有的可迭代序列都有效。\n",
    "print(sorted({1: 'D', 2: 'B', 3: 'B', 4: 'E', 5: 'A'}))\n",
    "# key参数/函数 通过key指定的函数来忽略字符串的大小写：\n",
    "print(sorted(\"This is a test string from Andrew\".split(), key=lambda s: s.lower()))\n",
    "\n",
    "student_tuples = [\n",
    "        ('john', 'A', 15),\n",
    "        ('jane', 'B', 12),\n",
    "        ('dave', 'B', 10),\n",
    "]\n",
    "sorted(student_tuples, key=lambda student: student[2])   # sort by age"
   ]
  },
  {
   "cell_type": "markdown",
   "metadata": {},
   "source": [
    "# 增加 删除"
   ]
  },
  {
   "cell_type": "code",
   "execution_count": 16,
   "metadata": {},
   "outputs": [
    {
     "name": "stdout",
     "output_type": "stream",
     "text": [
      "更新后的列表 :  ['Google', 'Runoob', 'Taobao', 'Baidu']\n"
     ]
    }
   ],
   "source": [
    "# append() 方法用于在列表末尾添加新的对象。\n",
    "list1 = ['Google', 'Runoob', 'Taobao']\n",
    "list1.append('Baidu')\n",
    "print (\"更新后的列表 : \", list1)"
   ]
  },
  {
   "cell_type": "code",
   "execution_count": 19,
   "metadata": {},
   "outputs": [
    {
     "name": "stdout",
     "output_type": "stream",
     "text": [
      "列表插入元素后为 :  ['Google', 'Baidu', 'Runoob', 'Taobao']\n"
     ]
    }
   ],
   "source": [
    "# insert() 函数用于将指定对象插入列表的指定位置。\n",
    "list1 = ['Google', 'Runoob', 'Taobao']\n",
    "list1.insert(1, 'Baidu')\n",
    "print ('列表插入元素后为 : ', list1)"
   ]
  },
  {
   "cell_type": "code",
   "execution_count": 21,
   "metadata": {},
   "outputs": [
    {
     "name": "stdout",
     "output_type": "stream",
     "text": [
      "列表现在为 :  ['Google', 'Runoob']\n",
      "列表现在为 :  ['Runoob']\n"
     ]
    }
   ],
   "source": [
    "# pop() 函数用于移除列表中的一个元素（默认最后一个元素），并且返回该元素的值。\n",
    "list1 = ['Google', 'Runoob', 'Taobao']\n",
    "list1.pop()\n",
    "print (\"列表现在为 : \", list1)\n",
    "list1.pop(0)\n",
    "print (\"列表现在为 : \", list1)"
   ]
  },
  {
   "cell_type": "code",
   "execution_count": 12,
   "metadata": {},
   "outputs": [
    {
     "name": "stdout",
     "output_type": "stream",
     "text": [
      "原始列表 :  ['Google', 'Runoob', 1997, 2000]\n",
      "删除第三个元素 :  ['Google', 'Runoob', 2000]\n"
     ]
    }
   ],
   "source": [
    "# 删除列表元素\n",
    "lst = ['Google', 'Runoob', 1997, 2000]\n",
    " \n",
    "print (\"原始列表 : \", lst)\n",
    "del lst[2]\n",
    "print (\"删除第三个元素 : \", lst)"
   ]
  },
  {
   "cell_type": "code",
   "execution_count": 11,
   "metadata": {},
   "outputs": [
    {
     "name": "stdout",
     "output_type": "stream",
     "text": [
      "第三个元素为 :  1997\n",
      "更新后的第三个元素为 :  2001\n"
     ]
    }
   ],
   "source": [
    "# 更新列表\n",
    "lst = ['Google', 'Runoob', 1997, 2000]\n",
    " \n",
    "print (\"第三个元素为 : \", lst[2])\n",
    "lst[2] = 2001\n",
    "print (\"更新后的第三个元素为 : \", lst[2])"
   ]
  },
  {
   "cell_type": "markdown",
   "metadata": {},
   "source": [
    "# 计数 查找"
   ]
  },
  {
   "cell_type": "code",
   "execution_count": 17,
   "metadata": {},
   "outputs": [
    {
     "name": "stdout",
     "output_type": "stream",
     "text": [
      "123 元素个数 :  2\n",
      "Runoob 元素个数 :  1\n"
     ]
    }
   ],
   "source": [
    "# count() 方法用于统计某个元素在列表中出现的次数。\n",
    "# count()方法也可以用于计数某个字符在字符串中出现的次数\n",
    "aList = [123, 'Google', 'Runoob', 'Taobao', 123];\n",
    "\n",
    "print (\"123 元素个数 : \", aList.count(123))\n",
    "print (\"Runoob 元素个数 : \", aList.count('Runoob'))"
   ]
  },
  {
   "cell_type": "code",
   "execution_count": 18,
   "metadata": {},
   "outputs": [
    {
     "name": "stdout",
     "output_type": "stream",
     "text": [
      "Runoob 索引值为 1\n",
      "Taobao 索引值为 2\n"
     ]
    }
   ],
   "source": [
    "# index() 函数用于从列表中找出某个值第一个匹配项的索引位置。\n",
    "list1 = ['Google', 'Runoob', 'Taobao']\n",
    "print ('Runoob 索引值为', list1.index('Runoob'))\n",
    "print ('Taobao 索引值为', list1.index('Taobao'))"
   ]
  },
  {
   "cell_type": "code",
   "execution_count": null,
   "metadata": {},
   "outputs": [],
   "source": []
  }
 ],
 "metadata": {
  "kernelspec": {
   "display_name": "Python 3",
   "language": "python",
   "name": "python3"
  },
  "language_info": {
   "codemirror_mode": {
    "name": "ipython",
    "version": 3
   },
   "file_extension": ".py",
   "mimetype": "text/x-python",
   "name": "python",
   "nbconvert_exporter": "python",
   "pygments_lexer": "ipython3",
   "version": "3.7.4"
  }
 },
 "nbformat": 4,
 "nbformat_minor": 2
}
