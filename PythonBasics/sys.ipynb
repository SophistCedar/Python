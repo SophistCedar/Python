{
 "cells": [
  {
   "cell_type": "code",
   "execution_count": 2,
   "metadata": {},
   "outputs": [],
   "source": [
    "import sys"
   ]
  },
  {
   "cell_type": "raw",
   "metadata": {},
   "source": [
    "sys.argv    #获取命令行参数列表，第一个元素是程序本身\n",
    "sys.exit(n) #退出Python程序，exit(0)表示正常退出。当参数非0时，会引发一个SystemExit异常，可以在程序中捕获该异常\n",
    "sys.version #获取Python解释程器的版本信息\n",
    "sys.maxsize #最大的Int值，64位平台是2**63 - 1\n",
    "sys.path    #返回模块的搜索路径，初始化时使用PYTHONPATH环境变量的值\n",
    "sys.platform    #返回操作系统平台名称\n",
    "sys.stdin   #输入相关\n",
    "sys.stdout  #输出相关\n",
    "sys.stderr  #错误相关\n",
    "sys.exc_info()  #返回异常信息三元元组\n",
    "sys.getdefaultencoding()    #获取系统当前编码，默认为utf-8\n",
    "sys.setdefaultencoding()    #设置系统的默认编码\n",
    "sys.getfilesystemencoding() #获取文件系统使用编码方式，默认是utf-8\n",
    "sys.modules #以字典的形式返回所有当前Python环境中已经导入的模块\n",
    "sys.builtin_module_names    #返回一个列表，包含所有已经编译到Python解释器里的模块的名字\n",
    "sys.copyright   #当前Python的版权信息\n",
    "sys.flags   #命令行标识状态信息列表。只读。\n",
    "sys.getrefcount(object) #返回对象的引用数量\n",
    "sys.getrecursionlimit() #返回Python最大递归深度，默认1000\n",
    "sys.getsizeof(object[, default])    #返回对象的大小\n",
    "sys.getswitchinterval() #返回线程切换时间间隔，默认0.005秒\n",
    "sys.setswitchinterval(interval) #设置线程切换的时间间隔，单位秒\n",
    "sys.getwindowsversion() #返回当前windwos系统的版本信息\n",
    "sys.hash_info   #返回Python默认的哈希方法的参数\n",
    "sys.implementation  #当前正在运行的Python解释器的具体实现，比如CPython\n",
    "sys.thread_info #当前线程信息"
   ]
  },
  {
   "cell_type": "markdown",
   "metadata": {},
   "source": [
    "sys.argv 返回传递给Python脚本的命令行参数列表。这个列表中索引0处的项始终是脚本的名称。其余的参数存储在后续索引中。"
   ]
  },
  {
   "cell_type": "markdown",
   "metadata": {},
   "source": [
    "sys.exit 这将导致脚本退出到Python控制台或命令提示符。这通常用于在产生异常时安全退出程序。"
   ]
  },
  {
   "cell_type": "code",
   "execution_count": 7,
   "metadata": {},
   "outputs": [
    {
     "data": {
      "text/plain": [
       "9223372036854775807"
      ]
     },
     "execution_count": 7,
     "metadata": {},
     "output_type": "execute_result"
    }
   ],
   "source": [
    "# Returns the largest integer a variable can take.\n",
    "sys.maxsize  "
   ]
  },
  {
   "cell_type": "code",
   "execution_count": 8,
   "metadata": {},
   "outputs": [
    {
     "data": {
      "text/plain": [
       "['C:\\\\Users\\\\Administrator\\\\Learning\\\\Python\\\\PythonBasics',\n",
       " 'D:\\\\ProgramData\\\\Anaconda3\\\\python37.zip',\n",
       " 'D:\\\\ProgramData\\\\Anaconda3\\\\DLLs',\n",
       " 'D:\\\\ProgramData\\\\Anaconda3\\\\lib',\n",
       " 'D:\\\\ProgramData\\\\Anaconda3',\n",
       " '',\n",
       " 'D:\\\\ProgramData\\\\Anaconda3\\\\lib\\\\site-packages',\n",
       " 'D:\\\\ProgramData\\\\Anaconda3\\\\lib\\\\site-packages\\\\win32',\n",
       " 'D:\\\\ProgramData\\\\Anaconda3\\\\lib\\\\site-packages\\\\win32\\\\lib',\n",
       " 'D:\\\\ProgramData\\\\Anaconda3\\\\lib\\\\site-packages\\\\Pythonwin',\n",
       " 'D:\\\\ProgramData\\\\Anaconda3\\\\lib\\\\site-packages\\\\IPython\\\\extensions',\n",
       " 'C:\\\\Users\\\\Administrator\\\\.ipython']"
      ]
     },
     "execution_count": 8,
     "metadata": {},
     "output_type": "execute_result"
    }
   ],
   "source": [
    "#This is an environment variable that is a search path for all Python modules.\n",
    "sys.path"
   ]
  },
  {
   "cell_type": "code",
   "execution_count": 9,
   "metadata": {},
   "outputs": [
    {
     "data": {
      "text/plain": [
       "'3.7.4 (default, Aug  9 2019, 18:34:13) [MSC v.1915 64 bit (AMD64)]'"
      ]
     },
     "execution_count": 9,
     "metadata": {},
     "output_type": "execute_result"
    }
   ],
   "source": [
    "# This attribute displays a string containing the version number of the current Python interpreter.\n",
    "sys.version"
   ]
  },
  {
   "cell_type": "code",
   "execution_count": 17,
   "metadata": {},
   "outputs": [
    {
     "data": {
      "text/plain": [
       "'win32'"
      ]
     },
     "execution_count": 17,
     "metadata": {},
     "output_type": "execute_result"
    }
   ],
   "source": [
    "sys.platform    #返回操作系统平台名称"
   ]
  },
  {
   "cell_type": "code",
   "execution_count": 18,
   "metadata": {},
   "outputs": [
    {
     "data": {
      "text/plain": [
       "'utf-8'"
      ]
     },
     "execution_count": 18,
     "metadata": {},
     "output_type": "execute_result"
    }
   ],
   "source": [
    "sys.getdefaultencoding()    #获取系统当前编码，默认为utf-8"
   ]
  },
  {
   "cell_type": "code",
   "execution_count": 19,
   "metadata": {},
   "outputs": [
    {
     "data": {
      "text/plain": [
       "'Copyright (c) 2001-2019 Python Software Foundation.\\nAll Rights Reserved.\\n\\nCopyright (c) 2000 BeOpen.com.\\nAll Rights Reserved.\\n\\nCopyright (c) 1995-2001 Corporation for National Research Initiatives.\\nAll Rights Reserved.\\n\\nCopyright (c) 1991-1995 Stichting Mathematisch Centrum, Amsterdam.\\nAll Rights Reserved.'"
      ]
     },
     "execution_count": 19,
     "metadata": {},
     "output_type": "execute_result"
    }
   ],
   "source": [
    "sys.copyright   #当前Python的版权信息"
   ]
  },
  {
   "cell_type": "code",
   "execution_count": 20,
   "metadata": {},
   "outputs": [
    {
     "data": {
      "text/plain": [
       "sys.flags(debug=0, inspect=0, interactive=0, optimize=0, dont_write_bytecode=0, no_user_site=0, no_site=0, ignore_environment=0, verbose=0, bytes_warning=0, quiet=0, hash_randomization=1, isolated=0, dev_mode=False, utf8_mode=0)"
      ]
     },
     "execution_count": 20,
     "metadata": {},
     "output_type": "execute_result"
    }
   ],
   "source": [
    "sys.flags   #命令行标识状态信息列表。只读。"
   ]
  },
  {
   "cell_type": "code",
   "execution_count": 21,
   "metadata": {},
   "outputs": [
    {
     "data": {
      "text/plain": [
       "3000"
      ]
     },
     "execution_count": 21,
     "metadata": {},
     "output_type": "execute_result"
    }
   ],
   "source": [
    "sys.getrecursionlimit() #返回Python最大递归深度，默认1000"
   ]
  },
  {
   "cell_type": "code",
   "execution_count": 23,
   "metadata": {},
   "outputs": [
    {
     "data": {
      "text/plain": [
       "64"
      ]
     },
     "execution_count": 23,
     "metadata": {},
     "output_type": "execute_result"
    }
   ],
   "source": [
    "a = []\n",
    "sys.getsizeof(a)    #返回对象的大小"
   ]
  },
  {
   "cell_type": "code",
   "execution_count": null,
   "metadata": {},
   "outputs": [],
   "source": []
  },
  {
   "cell_type": "code",
   "execution_count": 15,
   "metadata": {},
   "outputs": [
    {
     "name": "stdout",
     "output_type": "stream",
     "text": [
      "<_io.TextIOWrapper name='<stdin>' mode='r' encoding='cp936'>\n",
      "<ipykernel.iostream.OutStream object at 0x00000216B3894CC8>\n",
      "<ipykernel.iostream.OutStream object at 0x00000216B38AAF88>\n"
     ]
    }
   ],
   "source": [
    "for i in (sys.stdin, sys.stdout, sys.stderr):\n",
    "    print(i)"
   ]
  },
  {
   "cell_type": "code",
   "execution_count": 11,
   "metadata": {},
   "outputs": [],
   "source": [
    "a = sys.stdin.readline()"
   ]
  },
  {
   "cell_type": "code",
   "execution_count": 8,
   "metadata": {},
   "outputs": [
    {
     "name": "stdout",
     "output_type": "stream",
     "text": [
      "10\n",
      "10\n"
     ]
    }
   ],
   "source": [
    "a = input()\n",
    "print(a)"
   ]
  },
  {
   "cell_type": "code",
   "execution_count": 12,
   "metadata": {},
   "outputs": [
    {
     "name": "stderr",
     "output_type": "stream",
     "text": [
      "This is stderr text\n"
     ]
    },
    {
     "name": "stdout",
     "output_type": "stream",
     "text": [
      "This is stdout text\n"
     ]
    }
   ],
   "source": [
    "sys.stderr.write('This is stderr text\\n')\n",
    "sys.stderr.flush()\n",
    "sys.stdout.write('This is stdout text\\n')"
   ]
  },
  {
   "cell_type": "code",
   "execution_count": null,
   "metadata": {},
   "outputs": [],
   "source": []
  },
  {
   "cell_type": "code",
   "execution_count": null,
   "metadata": {},
   "outputs": [],
   "source": []
  },
  {
   "cell_type": "code",
   "execution_count": null,
   "metadata": {},
   "outputs": [],
   "source": []
  },
  {
   "cell_type": "code",
   "execution_count": null,
   "metadata": {},
   "outputs": [],
   "source": []
  }
 ],
 "metadata": {
  "kernelspec": {
   "display_name": "Python 3",
   "language": "python",
   "name": "python3"
  },
  "language_info": {
   "codemirror_mode": {
    "name": "ipython",
    "version": 3
   },
   "file_extension": ".py",
   "mimetype": "text/x-python",
   "name": "python",
   "nbconvert_exporter": "python",
   "pygments_lexer": "ipython3",
   "version": "3.7.4"
  }
 },
 "nbformat": 4,
 "nbformat_minor": 2
}
