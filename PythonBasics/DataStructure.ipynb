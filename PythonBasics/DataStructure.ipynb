{
 "cells": [
  {
   "cell_type": "markdown",
   "metadata": {},
   "source": [
    "### 练习\n",
    "\n",
    "#### 练习1：在屏幕上显示跑马灯文字。\n",
    "\n",
    "参考答案："
   ]
  },
  {
   "cell_type": "code",
   "execution_count": 1,
   "metadata": {},
   "outputs": [
    {
     "name": "stdout",
     "output_type": "stream",
     "text": [
      "北京欢迎你为你开天辟地…………\n",
      "京欢迎你为你开天辟地…………北\n",
      "欢迎你为你开天辟地…………北京\n",
      "迎你为你开天辟地…………北京欢\n",
      "你为你开天辟地…………北京欢迎\n",
      "为你开天辟地…………北京欢迎你\n",
      "你开天辟地…………北京欢迎你为\n",
      "开天辟地…………北京欢迎你为你\n",
      "天辟地…………北京欢迎你为你开\n",
      "辟地…………北京欢迎你为你开天\n",
      "地…………北京欢迎你为你开天辟\n",
      "…………北京欢迎你为你开天辟地\n",
      "………北京欢迎你为你开天辟地…\n",
      "……北京欢迎你为你开天辟地……\n",
      "…北京欢迎你为你开天辟地………\n",
      "北京欢迎你为你开天辟地…………\n"
     ]
    }
   ],
   "source": [
    "import os\n",
    "import time\n",
    "\n",
    "def main():\n",
    "    content = '北京欢迎你为你开天辟地…………'\n",
    "    count = 0\n",
    "    while True:\n",
    "        # 清理屏幕上的输出\n",
    "        os.system('cls')  # os.system('clear')\n",
    "        print(content)\n",
    "        # 休眠200毫秒\n",
    "        time.sleep(0.2)\n",
    "        content = content[1:] + content[0]\n",
    "        count += 1\n",
    "        if count > 15:\n",
    "            break\n",
    "main()"
   ]
  },
  {
   "cell_type": "markdown",
   "metadata": {},
   "source": [
    "#### 练习2：设计一个函数产生指定长度的验证码，验证码由大小写字母和数字构成。\n",
    "\n",
    "参考答案："
   ]
  },
  {
   "cell_type": "code",
   "execution_count": 36,
   "metadata": {},
   "outputs": [
    {
     "data": {
      "text/plain": [
       "'saSDPV'"
      ]
     },
     "execution_count": 36,
     "metadata": {},
     "output_type": "execute_result"
    }
   ],
   "source": [
    "import random\n",
    "\n",
    "def generate_code(code_len=4):\n",
    "    \"\"\"\n",
    "    生成指定长度的验证码\n",
    "    :param code_len: 验证码的长度(默认4个字符)\n",
    "    :return: 由大小写英文字母和数字构成的随机验证码\n",
    "    \"\"\"\n",
    "    all_chars = '0123456789abcdefghijklmnopqrstuvwxyzABCDEFGHIJKLMNOPQRSTUVWXYZ'\n",
    "    last_pos = len(all_chars) - 1\n",
    "    code = ''\n",
    "    for _ in range(code_len):\n",
    "        index = random.randint(0, last_pos)\n",
    "        code += all_chars[index]\n",
    "    return code\n",
    "generate_code(6)\n"
   ]
  },
  {
   "cell_type": "markdown",
   "metadata": {},
   "source": [
    "#### 练习3：设计一个函数返回给定文件名的后缀名。\n",
    "\n",
    "参考答案："
   ]
  },
  {
   "cell_type": "code",
   "execution_count": 1,
   "metadata": {},
   "outputs": [
    {
     "data": {
      "text/plain": [
       "'out'"
      ]
     },
     "execution_count": 1,
     "metadata": {},
     "output_type": "execute_result"
    }
   ],
   "source": [
    "def get_suffix(filename, has_dot=False):\n",
    "    \"\"\"\n",
    "    获取文件名的后缀名\n",
    "    :param filename: 文件名\n",
    "    :param has_dot: 返回的后缀名是否需要带点\n",
    "    :return: 文件的后缀名\n",
    "    \"\"\"\n",
    "    pos = filename.rfind('.')\n",
    "    if 0 < pos < len(filename) - 1:\n",
    "        index = pos if has_dot else pos + 1\n",
    "        return filename[index:]\n",
    "    else:\n",
    "        return ''\n",
    "get_suffix(\"bajcbs.lll.out\")"
   ]
  },
  {
   "cell_type": "markdown",
   "metadata": {},
   "source": [
    "#### 练习4：设计一个函数返回传入的列表中最大和第二大的元素的值。\n",
    "\n",
    "参考答案："
   ]
  },
  {
   "cell_type": "code",
   "execution_count": 39,
   "metadata": {},
   "outputs": [
    {
     "data": {
      "text/plain": [
       "(9, 8)"
      ]
     },
     "execution_count": 39,
     "metadata": {},
     "output_type": "execute_result"
    }
   ],
   "source": [
    "def max2(x):\n",
    "    m1, m2 = (x[0], x[1]) if x[0] > x[1] else (x[1], x[0]) # 前两个元素的大小比较 大的m1 小的m2\n",
    "    for index in range(2, len(x)):\n",
    "        if x[index] > m1:\n",
    "            m2 = m1\n",
    "            m1 = x[index]\n",
    "        elif x[index] > m2:\n",
    "            m2 = x[index]\n",
    "    return m1, m2\n",
    "max2(list(range(10)))"
   ]
  },
  {
   "cell_type": "markdown",
   "metadata": {},
   "source": [
    "#### 练习5：计算指定的年月日是这一年的第几天。\n",
    "\n",
    "参考答案："
   ]
  },
  {
   "cell_type": "code",
   "execution_count": 40,
   "metadata": {},
   "outputs": [
    {
     "name": "stdout",
     "output_type": "stream",
     "text": [
      "333\n",
      "365\n",
      "1\n",
      "61\n"
     ]
    }
   ],
   "source": [
    "def is_leap_year(year):\n",
    "    \"\"\"\n",
    "    判断指定的年份是不是闰年\n",
    "\n",
    "    :param year: 年份\n",
    "    :return: 闰年返回True平年返回False\n",
    "    \"\"\"\n",
    "    return year % 4 == 0 and year % 100 != 0 or year % 400 == 0\n",
    "\n",
    "\n",
    "def which_day(year, month, date):\n",
    "    \"\"\"\n",
    "    计算传入的日期是这一年的第几天\n",
    "\n",
    "    :param year: 年\n",
    "    :param month: 月\n",
    "    :param date: 日\n",
    "    :return: 第几天\n",
    "    \"\"\"\n",
    "    days_of_month = [\n",
    "        [31, 28, 31, 30, 31, 30, 31, 31, 30, 31, 30, 31],\n",
    "        [31, 29, 31, 30, 31, 30, 31, 31, 30, 31, 30, 31]\n",
    "    ][is_leap_year(year)]\n",
    "    total = 0\n",
    "    for index in range(month - 1):\n",
    "        total += days_of_month[index]\n",
    "    return total + date\n",
    "\n",
    "\n",
    "print(which_day(1980, 11, 28))\n",
    "print(which_day(1981, 12, 31))\n",
    "print(which_day(2018, 1, 1))\n",
    "print(which_day(2016, 3, 1))"
   ]
  },
  {
   "cell_type": "markdown",
   "metadata": {},
   "source": [
    "#### 练习6：打印[杨辉三角](https://zh.wikipedia.org/wiki/%E6%9D%A8%E8%BE%89%E4%B8%89%E8%A7%92%E5%BD%A2)。\n",
    "\n",
    "参考答案："
   ]
  },
  {
   "cell_type": "code",
   "execution_count": 1,
   "metadata": {},
   "outputs": [
    {
     "name": "stdout",
     "output_type": "stream",
     "text": [
      "Number of rows: 10\n",
      "1\t\n",
      "1\t1\t\n",
      "1\t2\t1\t\n",
      "1\t3\t3\t1\t\n",
      "1\t4\t6\t4\t1\t\n",
      "1\t5\t10\t10\t5\t1\t\n",
      "1\t6\t15\t20\t15\t6\t1\t\n",
      "1\t7\t21\t35\t35\t21\t7\t1\t\n",
      "1\t8\t28\t56\t70\t56\t28\t8\t1\t\n",
      "1\t9\t36\t84\t126\t126\t84\t36\t9\t1\t\n"
     ]
    }
   ],
   "source": [
    "def main():\n",
    "    num = int(input('Number of rows: '))\n",
    "    yh = [[]] * num #创建 num*num 空列表\n",
    "    for row in range(len(yh)): # 遍历行\n",
    "        yh[row] = [None] * (row + 1)  # 第 i 行有 i+1 个数\n",
    "        for col in range(len(yh[row])): # 遍历行内的所有数\n",
    "            if col == 0 or col == row: # 判断第一列和对角列\n",
    "                yh[row][col] = 1\n",
    "            else:\n",
    "                yh[row][col] = yh[row - 1][col] + yh[row - 1][col - 1]\n",
    "            print(yh[row][col], end='\\t')\n",
    "        print()\n",
    "main()"
   ]
  },
  {
   "cell_type": "markdown",
   "metadata": {},
   "source": [
    "### 综合案例\n",
    "\n",
    "#### 案例1：双色球选号。"
   ]
  },
  {
   "cell_type": "code",
   "execution_count": 2,
   "metadata": {},
   "outputs": [
    {
     "name": "stdout",
     "output_type": "stream",
     "text": [
      "机选几注: 6\n",
      "07 11 19 21 29 33 | 03 \n",
      "01 10 20 21 25 26 | 07 \n",
      "04 12 16 20 24 27 | 11 \n",
      "01 08 17 22 28 30 | 02 \n",
      "10 14 15 21 25 27 | 14 \n",
      "01 06 11 17 22 28 | 01 \n"
     ]
    }
   ],
   "source": [
    "from random import randrange, randint, sample\n",
    "\n",
    "def display(balls):\n",
    "    \"\"\"\n",
    "    输出列表中的双色球号码\n",
    "    \"\"\"\n",
    "    for index, ball in enumerate(balls):\n",
    "        if index == len(balls) - 1:\n",
    "            print('|', end=' ') # 在最后一个结果的时候 先输出一条竖线\n",
    "        print('%02d' % ball, end=' ') # 指定输出格式\n",
    "    print()\n",
    "\n",
    "def random_select():\n",
    "    \"\"\"\n",
    "    随机选择一组号码\n",
    "    \"\"\"\n",
    "    red_balls = [x for x in range(1, 34)]\n",
    "    selected_balls = []\n",
    "    selected_balls = sample(red_balls, 6) #从red_balls列表内选不重复的6个元素组成列表\n",
    "    selected_balls.sort()#排序\n",
    "    selected_balls.append(randint(1, 16))#增加一个随机数 作为中奖的结果\n",
    "    return selected_balls #返回选择的号码  前六个是选择的数 最后一个是中奖的数\n",
    "\n",
    "def main():\n",
    "    n = int(input('机选几注: '))\n",
    "    for _ in range(n):\n",
    "        display(random_select())\n",
    "\n",
    "main()"
   ]
  },
  {
   "cell_type": "markdown",
   "metadata": {},
   "source": [
    "> **说明：** 上面使用random模块的sample函数来实现从列表中选择不重复的n个元素。"
   ]
  },
  {
   "cell_type": "markdown",
   "metadata": {},
   "source": [
    "#### 综合案例2：[约瑟夫环问题](https://zh.wikipedia.org/wiki/%E7%BA%A6%E7%91%9F%E5%A4%AB%E6%96%AF%E9%97%AE%E9%A2%98)。"
   ]
  },
  {
   "cell_type": "markdown",
   "metadata": {},
   "source": [
    "《幸运的基督徒》\n",
    "有15个基督徒和15个非基督徒在海上遇险，为了能让一部分人活下来不得不将其中15个人扔到海里面去，有个人想了个办法就是大家围成一个圈，由某个人开始从1报数，报到9的人就扔到海里面，他后面的人接着从1开始报数，报到9的人继续扔到海里面，直到扔掉15个人。由于上帝的保佑，15个基督徒都幸免于难，问这些人最开始是怎么站的，哪些位置是基督徒哪些位置是非基督徒。"
   ]
  },
  {
   "cell_type": "code",
   "execution_count": 1,
   "metadata": {},
   "outputs": [
    {
     "name": "stdout",
     "output_type": "stream",
     "text": [
      "基基基基非非非非非基基非基基基非基非非基基非非非基非非基基非"
     ]
    }
   ],
   "source": [
    "def main():\n",
    "    persons = [True] * 30 # 总共30个人  此处必须全部是True，否则下面的程序逻辑走不通 陷入死循环\n",
    "    counter, index, number = 0, 0, 0 #扔海里人数 报数的次数 每次报数报过数的人数\n",
    "    while counter < 15: # 扔下15人时候截止\n",
    "        if persons[index]:\n",
    "            number += 1\n",
    "            if number == 9:\n",
    "                persons[index] = False # 报数到9的扔下海\n",
    "                counter += 1 # 扔海里人数 + 1\n",
    "                number = 0 # 报过数的人数清零 重新开始\n",
    "        index += 1 # 报数的次数\n",
    "        index %= 30 # 超过30 就对30取余\n",
    "    for person in persons:\n",
    "        print('基' if person else '非', end='')\n",
    "main()\n"
   ]
  },
  {
   "cell_type": "markdown",
   "metadata": {},
   "source": [
    "#### 综合案例3：[井字棋](https://zh.wikipedia.org/wiki/%E4%BA%95%E5%AD%97%E6%A3%8B)游戏。"
   ]
  },
  {
   "cell_type": "code",
   "execution_count": null,
   "metadata": {},
   "outputs": [],
   "source": [
    "import os\n",
    "\n",
    "def print_board(board):\n",
    "    print(board['TL'] + '|' + board['TM'] + '|' + board['TR'])\n",
    "    print('-+-+-')\n",
    "    print(board['ML'] + '|' + board['MM'] + '|' + board['MR'])\n",
    "    print('-+-+-')\n",
    "    print(board['BL'] + '|' + board['BM'] + '|' + board['BR'])\n",
    "\n",
    "def main():\n",
    "    init_board = {\n",
    "        'TL': ' ', 'TM': ' ', 'TR': ' ',\n",
    "        'ML': ' ', 'MM': ' ', 'MR': ' ',\n",
    "        'BL': ' ', 'BM': ' ', 'BR': ' '\n",
    "    }\n",
    "    begin = True # 游戏开始\n",
    "    while begin:\n",
    "        curr_board = init_board.copy() # 游戏面板初始化\n",
    "        begin = False # 进入游戏后  设置不可进入\n",
    "        turn = 'x' \n",
    "        counter = 0 # 走棋次数\n",
    "        os.system('clear')\n",
    "        print_board(curr_board)\n",
    "        while counter < 9:\n",
    "            move = input('轮到%s走棋, 请输入位置: ' % turn)\n",
    "            if curr_board[move] == ' ':\n",
    "                counter += 1\n",
    "                curr_board[move] = turn\n",
    "                if turn == 'x':\n",
    "                    turn = 'o'\n",
    "                else:\n",
    "                    turn = 'x'\n",
    "            os.system('clear')\n",
    "            print_board(curr_board)\n",
    "        choice = input('再玩一局?(yes|no)')\n",
    "        begin = choice == 'yes'\n",
    "main()"
   ]
  },
  {
   "cell_type": "markdown",
   "metadata": {},
   "source": [
    ">**说明：** 最后这个案例来自[《Python编程快速上手:让繁琐工作自动化》](https://item.jd.com/11943853.html)一书（这本书对有编程基础想迅速使用Python将日常工作自动化的人来说还是不错的选择），对代码做了一点点的调整。"
   ]
  },
  {
   "cell_type": "code",
   "execution_count": 1,
   "metadata": {},
   "outputs": [
    {
     "name": "stdout",
     "output_type": "stream",
     "text": [
      "['grape', '@pple', 'strawberry', 'waxberry']\n",
      "grape\n",
      "@pple\n",
      "waxberry\n",
      "strawberry\n",
      "['grape', 'apple', 'strawberry', 'waxberry']\n",
      "['banana', 'grape', 'apple', 'strawberry', 'waxberry', 'pitaya']\n",
      "['strawberry', 'waxberry']\n"
     ]
    }
   ],
   "source": [
    "fruits = ['grape', '@pple', 'strawberry', 'waxberry']\n",
    "print(fruits)\n",
    "# 通过下标访问元素\n",
    "print(fruits[0])\n",
    "print(fruits[1])\n",
    "print(fruits[-1])\n",
    "print(fruits[-2])\n",
    "# print(fruits[-5]) # IndexError\n",
    "# print(fruits[4])  # IndexError\n",
    "fruits[1] = 'apple'\n",
    "print(fruits)\n",
    "# 添加元素\n",
    "fruits.append('pitaya')\n",
    "fruits.insert(0, 'banana')\n",
    "print(fruits)\n",
    "# 删除元素\n",
    "del fruits[1]\n",
    "fruits.pop()\n",
    "fruits.pop(0)\n",
    "fruits.remove('apple')\n",
    "print(fruits)"
   ]
  },
  {
   "cell_type": "code",
   "execution_count": 2,
   "metadata": {},
   "outputs": [
    {
     "name": "stdout",
     "output_type": "stream",
     "text": [
      "Grape Apple Strawberry Waxberry Pitaya Pear Mango \n",
      "['apple', 'strawberry', 'waxberry']\n",
      "['grape', 'apple', 'strawberry', 'waxberry', 'pitaya', 'pear', 'mango']\n",
      "['pitaya', 'pear']\n",
      "['mango', 'pear', 'pitaya', 'waxberry', 'strawberry', 'apple', 'grape']\n"
     ]
    }
   ],
   "source": [
    "fruits = ['grape', 'apple', 'strawberry', 'waxberry']\n",
    "fruits += ['pitaya', 'pear', 'mango']\n",
    "# 循环遍历列表元素\n",
    "for fruit in fruits:\n",
    "    print(fruit.title(), end=' ')\n",
    "print()\n",
    "# 列表切片\n",
    "fruits2 = fruits[1:4]\n",
    "print(fruits2)\n",
    "# fruit3 = fruits  # 没有复制列表只创建了新的引用\n",
    "fruits3 = fruits[:]\n",
    "print(fruits3)\n",
    "fruits4 = fruits[-3:-1]\n",
    "print(fruits4)\n",
    "fruits5 = fruits[::-1]\n",
    "print(fruits5)"
   ]
  },
  {
   "cell_type": "code",
   "execution_count": 5,
   "metadata": {},
   "outputs": [
    {
     "name": "stdout",
     "output_type": "stream",
     "text": [
      "[1, 2, 3, 4, 5, 6, 7, 8, 9, 10]\n",
      "[1, 4, 9, 16, 25, 36, 49, 64, 81, 100]\n",
      "['A1', 'A2', 'A3', 'A4', 'A5', 'B1', 'B2', 'B3', 'B4', 'B5', 'C1', 'C2', 'C3', 'C4', 'C5', 'D1', 'D2', 'D3', 'D4', 'D5', 'E1', 'E2', 'E3', 'E4', 'E5', 'F1', 'F2', 'F3', 'F4', 'F5', 'G1', 'G2', 'G3', 'G4', 'G5']\n",
      "35\n"
     ]
    },
    {
     "data": {
      "text/plain": [
       "344"
      ]
     },
     "execution_count": 5,
     "metadata": {},
     "output_type": "execute_result"
    }
   ],
   "source": [
    "# 用range创建数值列表\n",
    "list1 = list(range(1, 11))\n",
    "print(list1)\n",
    "# 生成表达式\n",
    "list2 = [x * x for x in range(1, 11)]\n",
    "print(list2)\n",
    "list3 = [m + n for m in 'ABCDEFG' for n in '12345']\n",
    "print(list3)\n",
    "print(len(list3))\n",
    "import sys\n",
    "sys.getsizeof(list3)"
   ]
  },
  {
   "cell_type": "code",
   "execution_count": 6,
   "metadata": {},
   "outputs": [
    {
     "name": "stdout",
     "output_type": "stream",
     "text": [
      "<generator object <genexpr> at 0x00000214224FBD48>\n",
      "A1 A2 A3 A4 A5 B1 B2 B3 B4 B5 C1 C2 C3 C4 C5 D1 D2 D3 D4 D5 E1 E2 E3 E4 E5 F1 F2 F3 F4 F5 G1 G2 G3 G4 G5 "
     ]
    },
    {
     "data": {
      "text/plain": [
       "120"
      ]
     },
     "execution_count": 6,
     "metadata": {},
     "output_type": "execute_result"
    }
   ],
   "source": [
    "# 生成器(节省空间但生成下一个元素时需要花费时间)\n",
    "gen = (m + n for m in 'ABCDEFG' for n in '12345')\n",
    "print(gen)\n",
    "for elem in gen:\n",
    "    print(elem, end=' ')\n",
    "sys.getsizeof(gen)"
   ]
  },
  {
   "cell_type": "code",
   "execution_count": 8,
   "metadata": {},
   "outputs": [
    {
     "name": "stdout",
     "output_type": "stream",
     "text": [
      "<generator object fib at 0x0000021423909948>\n",
      "1 1 2 3 5 8 13 21 34 55 89 144 233 377 610 987 1597 2584 4181 6765 \n"
     ]
    }
   ],
   "source": [
    "# 生成Fibonacci序列的生成器\n",
    "def fib(n):\n",
    "    a, b = 0, 1\n",
    "    for _ in range(n):\n",
    "        a, b = b, a + b\n",
    "        yield a\n",
    "\n",
    "gen = fib(20)\n",
    "print(gen)\n",
    "for elem in gen:\n",
    "    print(elem, end=' ')\n",
    "print()"
   ]
  },
  {
   "cell_type": "code",
   "execution_count": 9,
   "metadata": {},
   "outputs": [
    {
     "name": "stdout",
     "output_type": "stream",
     "text": [
      "('骆昊', 38, True, '四川成都')\n",
      "骆昊\n",
      "38\n",
      "True\n",
      "四川成都\n",
      "骆昊\n",
      "38\n",
      "True\n",
      "四川成都\n",
      "('王大锤', 20, True, '云南昆明')\n",
      "['王大锤', 20, True, '云南昆明']\n",
      "['李小龙', 25, True, '云南昆明']\n",
      "('apple', 'banana', 'orange')\n",
      "banana\n"
     ]
    }
   ],
   "source": [
    "# 定义元组\n",
    "t = ('骆昊', 38, True, '四川成都')\n",
    "print(t)\n",
    "# 获取元组中的元素\n",
    "print(t[0])\n",
    "print(t[1])\n",
    "print(t[2])\n",
    "print(t[3])\n",
    "# 遍历元组中的值\n",
    "for member in t:\n",
    "    print(member)\n",
    "# 重新给元组赋值\n",
    "# t[0] = '王大锤'      # TypeError\n",
    "# 变量t重新引用了新的元组 原来的元组被垃圾回收\n",
    "t = ('王大锤', 20, True, '云南昆明')\n",
    "print(t)\n",
    "# 元组和列表的转换\n",
    "person = list(t)\n",
    "print(person)\n",
    "person[0] = '李小龙'\n",
    "person[1] = 25\n",
    "print(person)\n",
    "fruits_list = ['apple', 'banana', 'orange']\n",
    "fruits_tuple = tuple(fruits_list)\n",
    "print(fruits_tuple)\n",
    "print(fruits_tuple[1])"
   ]
  },
  {
   "cell_type": "code",
   "execution_count": 10,
   "metadata": {},
   "outputs": [
    {
     "name": "stdout",
     "output_type": "stream",
     "text": [
      "{1, 2, 3}\n",
      "Length = 3\n",
      "{1, 2, 3, 4, 5}\n"
     ]
    }
   ],
   "source": [
    "set1 = {1, 2, 3, 3, 3, 2}\n",
    "print(set1)\n",
    "print('Length =', len(set1))\n",
    "set1.add(4)\n",
    "set1.add(5)\n",
    "print(set1)"
   ]
  },
  {
   "cell_type": "code",
   "execution_count": 11,
   "metadata": {},
   "outputs": [
    {
     "name": "stdout",
     "output_type": "stream",
     "text": [
      "{1, 2, 3, 4, 5, 6, 7, 8, 9}\n",
      "{1, 2, 3, 4, 5, 6, 7, 8, 9, 11, 12}\n",
      "{1, 2, 3, 6, 7, 8, 9, 11, 12}\n",
      "1 4 9 36 49 64 81 121 144 \n"
     ]
    }
   ],
   "source": [
    "set2 = set(range(1, 10))\n",
    "print(set2)\n",
    "set2.update([11, 12])\n",
    "print(set2)\n",
    "set2.discard(5)\n",
    "# remove的元素如果不存在会引发KeyError\n",
    "if 4 in set2:\n",
    "    set2.remove(4)\n",
    "print(set2)\n",
    "# 遍历集合容器\n",
    "for elem in set2:\n",
    "    print(elem ** 2, end=' ')\n",
    "print()"
   ]
  },
  {
   "cell_type": "code",
   "execution_count": 16,
   "metadata": {},
   "outputs": [
    {
     "name": "stdout",
     "output_type": "stream",
     "text": [
      "{1, 2, 3}\n",
      "1\n",
      "2\n",
      "{3}\n"
     ]
    }
   ],
   "source": [
    "# 将元组转换成集合\n",
    "set3 = set((1, 2, 3, 3, 2, 1))\n",
    "print(set3)\n",
    "print(set3.pop())\n",
    "print(set3.pop())\n",
    "print(set3)"
   ]
  },
  {
   "cell_type": "code",
   "execution_count": 17,
   "metadata": {},
   "outputs": [
    {
     "name": "stdout",
     "output_type": "stream",
     "text": [
      "{1, 2, 3, 4, 5, 6}\n",
      "{2, 4, 6, 8, 10}\n",
      "{2, 4, 6}\n",
      "{1, 2, 3, 4, 5, 6, 8, 10}\n",
      "{1, 3, 5}\n",
      "{1, 3, 5, 8, 10}\n",
      "False\n",
      "True\n",
      "False\n",
      "True\n"
     ]
    }
   ],
   "source": [
    "set1 = set(range(1, 7))\n",
    "print(set1)\n",
    "set2 = set(range(2, 11, 2))\n",
    "print(set2)\n",
    "set3 = set(range(1, 5))\n",
    "print(set1 & set2)\n",
    "# print(set1.intersection(set2))\n",
    "print(set1 | set2)\n",
    "# print(set1.union(set2))\n",
    "print(set1 - set2)\n",
    "# print(set1.difference(set2))\n",
    "print(set1 ^ set2)\n",
    "# print(set1.symmetric_difference(set2))\n",
    "print(set2 <= set1)\n",
    "# print(set2.issubset(set1))\n",
    "print(set3 <= set1)\n",
    "# print(set3.issubset(set1))\n",
    "print(set1 >= set2)\n",
    "# print(set1.issuperset(set2))\n",
    "print(set1 >= set3)\n",
    "# print(set1.issuperset(set3))"
   ]
  },
  {
   "cell_type": "code",
   "execution_count": 19,
   "metadata": {},
   "outputs": [
    {
     "name": "stdout",
     "output_type": "stream",
     "text": [
      "95\n",
      "82\n",
      "骆昊\t--->\t95\n",
      "白元芳\t--->\t78\n",
      "狄仁杰\t--->\t82\n"
     ]
    }
   ],
   "source": [
    "scores = {'骆昊': 95, '白元芳': 78, '狄仁杰': 82}\n",
    "print(scores['骆昊'])\n",
    "print(scores['狄仁杰'])\n",
    "for elem in scores:\n",
    "    print('%s\\t--->\\t%d' % (elem, scores[elem]))"
   ]
  },
  {
   "cell_type": "code",
   "execution_count": 20,
   "metadata": {},
   "outputs": [
    {
     "name": "stdout",
     "output_type": "stream",
     "text": [
      "{'骆昊': 95, '白元芳': 65, '狄仁杰': 82, '诸葛王朗': 71, '冷面': 67, '方启鹤': 85}\n"
     ]
    }
   ],
   "source": [
    "scores['白元芳'] = 65\n",
    "scores['诸葛王朗'] = 71\n",
    "scores.update(冷面=67, 方启鹤=85)\n",
    "print(scores)"
   ]
  },
  {
   "cell_type": "code",
   "execution_count": 21,
   "metadata": {},
   "outputs": [],
   "source": [
    "if '武则天' in scores:\n",
    "    print(scores['武则天'])"
   ]
  },
  {
   "cell_type": "code",
   "execution_count": 22,
   "metadata": {},
   "outputs": [
    {
     "name": "stdout",
     "output_type": "stream",
     "text": [
      "None\n"
     ]
    }
   ],
   "source": [
    "print(scores.get('武则天'))"
   ]
  },
  {
   "cell_type": "code",
   "execution_count": 23,
   "metadata": {},
   "outputs": [
    {
     "name": "stdout",
     "output_type": "stream",
     "text": [
      "60\n"
     ]
    }
   ],
   "source": [
    "print(scores.get('武则天', 60))"
   ]
  },
  {
   "cell_type": "code",
   "execution_count": 24,
   "metadata": {},
   "outputs": [
    {
     "name": "stdout",
     "output_type": "stream",
     "text": [
      "('方启鹤', 85)\n",
      "('冷面', 67)\n"
     ]
    }
   ],
   "source": [
    "print(scores.popitem())\n",
    "print(scores.popitem())"
   ]
  },
  {
   "cell_type": "code",
   "execution_count": 25,
   "metadata": {},
   "outputs": [
    {
     "name": "stdout",
     "output_type": "stream",
     "text": [
      "95\n"
     ]
    }
   ],
   "source": [
    "print(scores.pop('骆昊', 100))"
   ]
  },
  {
   "cell_type": "code",
   "execution_count": 26,
   "metadata": {},
   "outputs": [
    {
     "name": "stdout",
     "output_type": "stream",
     "text": [
      "{'白元芳': 65, '狄仁杰': 82, '诸葛王朗': 71}\n",
      "{}\n"
     ]
    }
   ],
   "source": [
    "print(scores)\n",
    "scores.clear()\n",
    "print(scores)"
   ]
  },
  {
   "cell_type": "code",
   "execution_count": 27,
   "metadata": {},
   "outputs": [
    {
     "name": "stdout",
     "output_type": "stream",
     "text": [
      "{'name': '骆昊', 'age': 38, 'gender': True}\n",
      "dict_keys(['name', 'age', 'gender'])\n",
      "dict_values(['骆昊', 38, True])\n",
      "dict_items([('name', '骆昊'), ('age', 38), ('gender', True)])\n"
     ]
    }
   ],
   "source": [
    "stu = {'name': '骆昊', 'age': 38, 'gender': True}\n",
    "print(stu)\n",
    "print(stu.keys())\n",
    "print(stu.values())\n",
    "print(stu.items())"
   ]
  },
  {
   "cell_type": "code",
   "execution_count": 28,
   "metadata": {},
   "outputs": [
    {
     "name": "stdout",
     "output_type": "stream",
     "text": [
      "('name', '骆昊')\n",
      "name 骆昊\n",
      "('age', 38)\n",
      "age 38\n",
      "('gender', True)\n",
      "gender True\n"
     ]
    }
   ],
   "source": [
    "for elem in stu.items():\n",
    "    print(elem)\n",
    "    print(elem[0], elem[1])"
   ]
  },
  {
   "cell_type": "code",
   "execution_count": 29,
   "metadata": {},
   "outputs": [
    {
     "name": "stdout",
     "output_type": "stream",
     "text": [
      "{'name': '骆昊', 'age': 20, 'gender': True}\n"
     ]
    }
   ],
   "source": [
    "if 'age' in stu:\n",
    "    stu['age'] = 20\n",
    "print(stu)"
   ]
  },
  {
   "cell_type": "code",
   "execution_count": 30,
   "metadata": {},
   "outputs": [
    {
     "name": "stdout",
     "output_type": "stream",
     "text": [
      "{'name': '骆昊', 'age': 20, 'gender': True, 'score': 60}\n"
     ]
    }
   ],
   "source": [
    "stu.setdefault('score', 60)\n",
    "print(stu)"
   ]
  },
  {
   "cell_type": "code",
   "execution_count": 31,
   "metadata": {},
   "outputs": [
    {
     "name": "stdout",
     "output_type": "stream",
     "text": [
      "{'name': '骆昊', 'age': 20, 'gender': True, 'score': 60}\n"
     ]
    }
   ],
   "source": [
    "stu.setdefault('score', 100)\n",
    "print(stu)"
   ]
  },
  {
   "cell_type": "code",
   "execution_count": 32,
   "metadata": {},
   "outputs": [
    {
     "name": "stdout",
     "output_type": "stream",
     "text": [
      "{'name': '骆昊', 'age': 20, 'gender': True, 'score': 100}\n"
     ]
    }
   ],
   "source": [
    "stu['score'] = 100\n",
    "print(stu)"
   ]
  },
  {
   "cell_type": "code",
   "execution_count": null,
   "metadata": {},
   "outputs": [],
   "source": []
  }
 ],
 "metadata": {
  "kernelspec": {
   "display_name": "Python 3",
   "language": "python",
   "name": "python3"
  },
  "language_info": {
   "codemirror_mode": {
    "name": "ipython",
    "version": 3
   },
   "file_extension": ".py",
   "mimetype": "text/x-python",
   "name": "python",
   "nbconvert_exporter": "python",
   "pygments_lexer": "ipython3",
   "version": "3.7.4"
  }
 },
 "nbformat": 4,
 "nbformat_minor": 2
}
