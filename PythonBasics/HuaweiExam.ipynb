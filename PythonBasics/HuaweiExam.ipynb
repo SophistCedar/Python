{
 "cells": [
  {
   "cell_type": "code",
   "execution_count": 14,
   "metadata": {},
   "outputs": [
    {
     "name": "stdout",
     "output_type": "stream",
     "text": [
      "['12 5b ba 34 5b bb 88 05', '75 cd bb 62', '34 cd 78 cc da fb 06']\n"
     ]
    }
   ],
   "source": [
    "import re\n",
    "t = \"5a 12 5b ba 34 5b bb 88 05 5a 75 cd bb 62 5a 34 cd 78 cc da fb 06 5a\"\n",
    "pattern = re.compile(r'(?<=5a\\s).*?(?=\\s5a)')\n",
    "lst = re.findall(pattern,t)\n",
    "print(lst)"
   ]
  },
  {
   "cell_type": "code",
   "execution_count": 9,
   "metadata": {},
   "outputs": [
    {
     "name": "stdout",
     "output_type": "stream",
     "text": [
      "5\n"
     ]
    }
   ],
   "source": [
    "print(int(5))"
   ]
  },
  {
   "cell_type": "code",
   "execution_count": 17,
   "metadata": {},
   "outputs": [
    {
     "name": "stdout",
     "output_type": "stream",
     "text": [
      "12 5a 34 5b 88 05\n",
      "5\n",
      "16\n",
      "75 cd bb 62\n",
      "2\n",
      "10\n",
      "34 cd 78 cc da fb 06\n",
      "6\n",
      "19\n",
      "[False, False, False]\n"
     ]
    }
   ],
   "source": [
    "def check_length(mesg):\n",
    "    mesg = re.sub(r'5b.ba','5a',mesg)\n",
    "    mesg = re.sub(r'5b.bb','5b',mesg)\n",
    "    print(mesg)\n",
    "    print(int(mesg[-1],16))\n",
    "    print(len(mesg)-1)\n",
    "    if len(mesg)-1 == int(mesg[-1],16):\n",
    "        return True\n",
    "    else:\n",
    "        return False\n",
    "    \n",
    "result = [i for i in map(check_length,lst)]\n",
    "print(result)"
   ]
  },
  {
   "cell_type": "code",
   "execution_count": 24,
   "metadata": {},
   "outputs": [
    {
     "name": "stdout",
     "output_type": "stream",
     "text": [
      "['5a', '12', '5b', 'ba', '34', '5b', 'bb', '88', '05'] ['5a', '75', 'cd', 'bb', '62'] ['5a', '34', 'cd', '78', 'cc', 'da', 'fb', '06']\n"
     ]
    }
   ],
   "source": [
    "lst1 = lst_copy[loc1:loc2].copy()\n",
    "lst2 = lst_copy[loc2:loc3].copy()\n",
    "lst3 = lst_copy[loc3:loc4].copy()\n",
    "print(lst1,lst2,lst3)"
   ]
  },
  {
   "cell_type": "code",
   "execution_count": 30,
   "metadata": {},
   "outputs": [],
   "source": [
    "def check_length(lst):\n",
    "    s1 = \" \".join(lst[1:-1])\n",
    "    ret = re.sub(r\"5b ba\",\"5a\",s1)\n",
    "    ret2 = re.sub(r\"5b bb\",\"5b\",ret)\n",
    "    return len(list(ret2.split())) == int(lst[-1])"
   ]
  },
  {
   "cell_type": "code",
   "execution_count": 31,
   "metadata": {},
   "outputs": [
    {
     "data": {
      "text/plain": [
       "True"
      ]
     },
     "execution_count": 31,
     "metadata": {},
     "output_type": "execute_result"
    }
   ],
   "source": [
    "check_length(lst1)"
   ]
  },
  {
   "cell_type": "code",
   "execution_count": 32,
   "metadata": {},
   "outputs": [
    {
     "data": {
      "text/plain": [
       "False"
      ]
     },
     "execution_count": 32,
     "metadata": {},
     "output_type": "execute_result"
    }
   ],
   "source": [
    "check_length(lst2)"
   ]
  },
  {
   "cell_type": "code",
   "execution_count": 33,
   "metadata": {},
   "outputs": [
    {
     "data": {
      "text/plain": [
       "True"
      ]
     },
     "execution_count": 33,
     "metadata": {},
     "output_type": "execute_result"
    }
   ],
   "source": [
    "check_length(lst3)"
   ]
  },
  {
   "cell_type": "code",
   "execution_count": null,
   "metadata": {},
   "outputs": [],
   "source": []
  }
 ],
 "metadata": {
  "kernelspec": {
   "display_name": "Python 3",
   "language": "python",
   "name": "python3"
  },
  "language_info": {
   "codemirror_mode": {
    "name": "ipython",
    "version": 3
   },
   "file_extension": ".py",
   "mimetype": "text/x-python",
   "name": "python",
   "nbconvert_exporter": "python",
   "pygments_lexer": "ipython3",
   "version": "3.7.4"
  }
 },
 "nbformat": 4,
 "nbformat_minor": 2
}
