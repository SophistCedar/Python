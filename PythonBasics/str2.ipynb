{
 "cells": [
  {
   "cell_type": "markdown",
   "metadata": {},
   "source": [
    "# 字符串练习"
   ]
  },
  {
   "cell_type": "code",
   "execution_count": 13,
   "metadata": {},
   "outputs": [
    {
     "name": "stdout",
     "output_type": "stream",
     "text": [
      "My brother's name is '007'\n",
      "My brother\\'s name is \\'007\\'\n"
     ]
    }
   ],
   "source": [
    "# 转义字符\n",
    "print('My brother\\'s name is \\'007\\'')\n",
    "# 原始字符串\n",
    "print(r'My brother\\'s name is \\'007\\'')"
   ]
  },
  {
   "cell_type": "code",
   "execution_count": 14,
   "metadata": {},
   "outputs": [
    {
     "name": "stdout",
     "output_type": "stream",
     "text": [
      "True\n",
      "False\n",
      "False\n",
      "True\n",
      "False\n",
      "True\n",
      "True\n"
     ]
    }
   ],
   "source": [
    "str = 'hello123world'\n",
    "print('he' in str)\n",
    "print('her' in str)\n",
    "# 字符串是否只包含字母\n",
    "print(str.isalpha())\n",
    "# 字符串是否只包含字母和数字\n",
    "print(str.isalnum())\n",
    "# 字符串是否只包含数字\n",
    "print(str.isdecimal())\n",
    "\n",
    "print(str[0:5].isalpha())\n",
    "print(str[5:8].isdecimal())"
   ]
  },
  {
   "cell_type": "code",
   "execution_count": 15,
   "metadata": {},
   "outputs": [
    {
     "name": "stdout",
     "output_type": "stream",
     "text": [
      "床前明月光-疑是地上霜-举头望明月-低头思故乡\n"
     ]
    }
   ],
   "source": [
    "lst = ['床前明月光', '疑是地上霜', '举头望明月', '低头思故乡']\n",
    "print('-'.join(list))"
   ]
  },
  {
   "cell_type": "code",
   "execution_count": 16,
   "metadata": {},
   "outputs": [
    {
     "name": "stdout",
     "output_type": "stream",
     "text": [
      "['You', 'go', 'your', 'way', 'I', 'will', 'go', 'mine']\n"
     ]
    }
   ],
   "source": [
    "sentence = 'You go your way I will go mine'\n",
    "words_list = sentence.split()\n",
    "print(words_list)"
   ]
  },
  {
   "cell_type": "code",
   "execution_count": 17,
   "metadata": {},
   "outputs": [
    {
     "name": "stdout",
     "output_type": "stream",
     "text": [
      "     jackfrued@126.com          \n",
      "jackfrued@126.com\n",
      "     jackfrued@126.com\n",
      "jackfrued@126.com          \n"
     ]
    }
   ],
   "source": [
    "email = '     jackfrued@126.com          '\n",
    "print(email)\n",
    "print(email.strip())\n",
    "print(email.rstrip())\n",
    "print(email.lstrip())"
   ]
  },
  {
   "cell_type": "code",
   "execution_count": 1,
   "metadata": {},
   "outputs": [
    {
     "name": "stdout",
     "output_type": "stream",
     "text": [
      "nohtyP evol I\n",
      "I love Python\n",
      "nohtyP evol I\n",
      "I love Python\n",
      "nohtyP evol I\n",
      "I love Python\n",
      "nohtyP evol I\n",
      "I love Python\n",
      "nohtyP evol I\n",
      "I love Python\n"
     ]
    }
   ],
   "source": [
    "from io import StringIO\n",
    "def reverse_str1(str):\n",
    "    return str[::-1]\n",
    "def reverse_str2(str):\n",
    "    if len(str) <= 1:\n",
    "        return str\n",
    "    return reverse_str2(str[1:]) + str[0:1]\n",
    "def reverse_str3(str):\n",
    "    # StringIO对象是Python中的可变字符串\n",
    "    # 不应该使用不变字符串做字符串连接操作 因为会产生很多无用字符串对象\n",
    "    rstr = StringIO()\n",
    "    str_len = len(str)\n",
    "    for index in range(str_len - 1, -1, -1):\n",
    "        rstr.write(str[index])\n",
    "    return rstr.getvalue()\n",
    "def reverse_str4(str):\n",
    "    return ''.join(str[index] for index in range(len(str) - 1, -1, -1))\n",
    "def reverse_str5(str):\n",
    "    # 将字符串处理成列表\n",
    "    str_list = list(str)\n",
    "    str_len = len(str)\n",
    "    # 使用zip函数将两个序列合并成一个产生元组的迭代器\n",
    "    # 每次正好可以取到一前一后两个下标来实现元素的交换\n",
    "    for i, j in zip(range(str_len // 2), range(str_len - 1, str_len // 2, -1)):\n",
    "        str_list[i], str_list[j] = str_list[j], str_list[i]\n",
    "    # 将列表元素连接成字符串\n",
    "    return ''.join(str_list)\n",
    "\n",
    "str = 'I love Python'\n",
    "print(reverse_str1(str))\n",
    "print(str)\n",
    "print(reverse_str2(str))\n",
    "print(str)\n",
    "print(reverse_str3(str))\n",
    "print(str)\n",
    "print(reverse_str4(str))\n",
    "print(str)\n",
    "print(reverse_str5(str))\n",
    "print(str)"
   ]
  },
  {
   "cell_type": "markdown",
   "metadata": {},
   "source": [
    "# 正则表达式\n",
    "\n",
    "关于正则表达式的相关知识，大家可以阅读一篇非常有名的博客叫[《正则表达式30分钟入门教程》](https://deerchao.net/tutorials/regex/regex.htm)，读完这篇文章后你就可以看懂下面的表格，这是我们对正则表达式中的一些基本符号进行的扼要总结。\n",
    "\n",
    "| 符号               | 解释                                      | 示例             | 说明                                               |\n",
    ":-|:-|:-|:-\n",
    "| ------------------ | ----------------------------------------- | ---------------- | -------------------------------------------------- |\n",
    "| .                  | 匹配任意字符                              | b.t              | 可以匹配bat / but / b#t / b1t等                    |\n",
    "| \\\\w                | 匹配字母/数字/下划线                      | b\\\\wt            | 可以匹配bat / b1t / b_t等<br>但不能匹配b#t         |\n",
    "| \\\\s                | 匹配空白字符（包括\\r、\\n、\\t等）          | love\\\\syou       | 可以匹配love you                                   |\n",
    "| \\\\d                | 匹配数字                                  | \\\\d\\\\d           | 可以匹配01 / 23 / 99等                             |\n",
    "| \\\\b                | 匹配单词的边界                            | \\\\bThe\\\\b        |                                                    |\n",
    "| ^                  | 匹配字符串的开始                          | ^The             | 可以匹配The开头的字符串                            |\n",
    "| \\\\$                  | 匹配字符串的结束                          | .exe$            | 可以匹配.exe结尾的字符串                           |\n",
    "| \\\\W                 | 匹配非字母/数字/下划线                    | b\\\\Wt            | 可以匹配b#t / b@t等<br>但不能匹配but / b1t / b_t等 |\n",
    "| \\\\S                 | 匹配非空白字符                            | love\\\\Syou       | 可以匹配love#you等<br>但不能匹配love you           |\n",
    "| \\\\D                 | 匹配非数字                                | \\\\d\\\\D           | 可以匹配9a / 3# / 0F等                             |\n",
    "| \\\\B                 | 匹配非单词边界                            | \\\\Bio\\\\B         |                                                    |\n",
    "| []                 | 匹配来自字符集的任意单一字符              | [aeiou]          | 可以匹配任一元音字母字符                           |\n",
    "| [^]                | 匹配不在字符集中的任意单一字符            | [^aeiou]         | 可以匹配任一非元音字母字符                         |\n",
    "| *                  | 匹配0次或多次                             | \\\\w*             |                                                    |\n",
    "| +                  | 匹配1次或多次                             | \\\\w+             |                                                    |\n",
    "| ?                  | 匹配0次或1次                              | \\\\w?             |                                                    |\n",
    "| {N}                | 匹配N次                                   | \\\\w{3}            |                                                    |\n",
    "| {M,}               | 匹配至少M次                               | \\\\w{3,}           |                                                    |\n",
    "| {M,N}              | 匹配至少M次至多N次                        | \\\\w{3,6}          |                                                    |\n",
    "| \\|                 | 分支                                      | foo\\|bar         | 可以匹配foo或者bar                                 |\n",
    "| (?#)               | 注释                                      |                  |                                                    |\n",
    "| (exp)              | 匹配exp并捕获到自动命名的组中             |                  |                                                    |\n",
    "| (?&nbsp;&lt;name&gt;exp) | 匹配exp并捕获到名为name的组中             |                  |                                                    |\n",
    "| (?:exp)            | 匹配exp但是不捕获匹配的文本               |                  |                                                    |\n",
    "| (?=exp)            | 匹配exp前面的位置                         | \\\\b\\\\w+(?=ing)     | 可以匹配I'm dancing中的danc                        |\n",
    "| (?<=exp)           | 匹配exp后面的位置                         | (?<=\\\\bdanc)\\\\w+\\\\b | 可以匹配I love dancing and reading中的第一个ing    |\n",
    "| (?!exp)            | 匹配后面不是exp的位置                     |                  |                                                    |\n",
    "| (?<!exp)           | 匹配前面不是exp的位置                     |                  |                                                    |\n",
    "| *?                 | 重复任意次，但尽可能少重复 | a.\\*b<br>a.\\*?b | 将正则表达式应用于aabab，前者会匹配整个字符串aabab，后者会匹配aab和ab两个字符串 |\n",
    "| +?                 | 重复1次或多次，但尽可能少重复 |                  |                                                    |\n",
    "| ??                 | 重复0次或1次，但尽可能少重复 |                  |                                                    |\n",
    "| {M,N}?             | 重复M到N次，但尽可能少重复 |                  |                                                    |\n",
    "| {M,}?              | 重复M次以上，但尽可能少重复 |                  |                                                    |\n",
    "\n",
    "\n",
    "> **说明：** 如果需要匹配的字符是正则表达式中的特殊字符，那么可以使用\\\\进行转义处理，例如想匹配小数点可以写成\\\\.就可以了，因为直接写.会匹配任意字符；同理，想匹配圆括号必须写成\\\\(和\\\\)，否则圆括号被视为正则表达式中的分组。"
   ]
  },
  {
   "cell_type": "markdown",
   "metadata": {},
   "source": [
    "## Python对正则表达式的支持\n",
    "\n",
    "Python提供了re模块来支持正则表达式相关操作，下面是re模块中的核心函数。\n",
    "\n",
    "| 函数                                         | 说明                                                         |\n",
    ":-|:-\n",
    "| -------------------------------------------- | ------------------------------------------------------------ |\n",
    "| compile(pattern, flags=0)                    | 编译正则表达式返回正则表达式对象                             |\n",
    "| match(pattern, string, flags=0)              | 用正则表达式匹配字符串 成功返回匹配对象 否则返回None         |\n",
    "| search(pattern, string, flags=0)             | 搜索字符串中第一次出现正则表达式的模式 成功返回匹配对象 否则返回None |\n",
    "| split(pattern, string, maxsplit=0, flags=0)  | 用正则表达式指定的模式分隔符拆分字符串 返回列表              |\n",
    "| sub(pattern, repl, string, count=0, flags=0) | 用指定的字符串替换原字符串中与正则表达式匹配的模式 可以用count指定替换的次数 |\n",
    "| fullmatch(pattern, string, flags=0)          | match函数的完全匹配（从字符串开头到结尾）版本                |\n",
    "| findall(pattern, string, flags=0)            | 查找字符串所有与正则表达式匹配的模式 返回字符串的列表        |\n",
    "| finditer(pattern, string, flags=0)           | 查找字符串所有与正则表达式匹配的模式 返回一个迭代器          |\n",
    "| purge()                                      | 清除隐式编译的正则表达式的缓存                               |\n",
    "| re.I / re.IGNORECASE                         | 忽略大小写匹配标记                                           |\n",
    "| re.M / re.MULTILINE                          | 多行匹配标记                                                 |\n",
    "\n",
    "> **说明：** 上面提到的re模块中的这些函数，实际开发中也可以用正则表达式对象的方法替代对这些函数的使用，如果一个正则表达式需要重复的使用，那么先通过compile函数编译正则表达式并创建出正则表达式对象无疑是更为明智的选择。"
   ]
  },
  {
   "cell_type": "markdown",
   "metadata": {},
   "source": [
    "## match 成功返回匹配对象 否则返回None"
   ]
  },
  {
   "cell_type": "code",
   "execution_count": 2,
   "metadata": {},
   "outputs": [
    {
     "name": "stdout",
     "output_type": "stream",
     "text": [
      "请输入用户名: 2651657464\n",
      "请输入QQ号: 26516589\n",
      "你输入的信息是有效的!\n"
     ]
    }
   ],
   "source": [
    "import re\n",
    "# 字符串匹配 qq号和用户名\n",
    "def main():\n",
    "    username = input('请输入用户名: ')\n",
    "    qq = input('请输入QQ号: ')\n",
    "    m1 = re.match(r'^[0-9a-zA-Z_]{6,20}$', username)\n",
    "    # Try to apply the pattern at the start of the string, returning a Match object, or None if no match was found.\n",
    "    if not m1:\n",
    "        print('请输入有效的用户名.')\n",
    "    m2 = re.match(r'^[1-9]\\d{4,11}$', qq)\n",
    "    if not m2:\n",
    "        print('请输入有效的QQ号.')\n",
    "    if m1 and m2:\n",
    "        print('你输入的信息是有效的!')\n",
    "main()"
   ]
  },
  {
   "cell_type": "markdown",
   "metadata": {},
   "source": [
    "## search 搜索字符串中第一次出现正则表达式的模式 成功返回匹配对象 否则返回None\n",
    "## compile 编译正则表达式返回正则表达式对象\n",
    "## findall 查找字符串所有与正则表达式匹配的模式 返回字符串的列表\n",
    "## finditer 查找字符串所有与正则表达式匹配的模式 返回一个迭代器"
   ]
  },
  {
   "cell_type": "code",
   "execution_count": 6,
   "metadata": {},
   "outputs": [
    {
     "name": "stdout",
     "output_type": "stream",
     "text": [
      "['13512346789', '15600998765', '15600998765']\n",
      "--------华丽的分隔线--------\n",
      "13512346789\n",
      "15600998765\n",
      "15600998765\n",
      "--------华丽的分隔线--------\n",
      "13512346789\n",
      "15600998765\n",
      "15600998765\n"
     ]
    }
   ],
   "source": [
    "import re\n",
    "# 查找手机号\n",
    "def main():\n",
    "    # 创建正则表达式对象 使用了前瞻和回顾来保证手机号前后不应该出现数字\n",
    "    # Compile a regular expression pattern, returning a Pattern object.\n",
    "    pattern = re.compile(r'(?<=\\D)(1[38]\\d{9}|14[57]\\d{8}|15[0-35-9]\\d{8}|17[678]\\d{8})(?=\\D)')\n",
    "    sentence = '''\n",
    "    重要的事情说8130123456789遍，我的手机号是13512346789这个靓号，\n",
    "    不是15600998765，也是110或119，王大锤的手机号才是15600998765。\n",
    "    '''\n",
    "    # 查找所有匹配并保存到一个列表中\n",
    "    # Return a list of all non-overlapping matches in the string.\n",
    "    mylist = re.findall(pattern, sentence)\n",
    "    print(mylist)\n",
    "    print('--------华丽的分隔线--------')\n",
    "    # 通过迭代器取出匹配对象并获得匹配的内容\n",
    "    # Return an iterator over all non-overlapping matches in the string. For each match, the iterator returns a Match object.\n",
    "    for temp in pattern.finditer(sentence):\n",
    "        print(temp.group())\n",
    "        # 匹配对象方法  group(num=0) 匹配的整个表达式的字符串，group() 可以一次输入多个组号，在这种情况下它将返回一个包含那些组所对应值的元组。\n",
    "        # groups() 返回一个包含所有小组字符串的元组，从 1 到 所含的小组号。\n",
    "    print('--------华丽的分隔线--------')\n",
    "    # 通过search函数指定搜索位置找出所有匹配\n",
    "    # Scan through string looking for a match to the pattern, returning a Match object, or None if no match was found.\n",
    "    m = pattern.search(sentence)\n",
    "    while m:\n",
    "        print(m.group())\n",
    "        m = pattern.search(sentence, m.end()) # 从第一个匹配结束的下标位置继续匹配\n",
    "main()"
   ]
  },
  {
   "cell_type": "markdown",
   "metadata": {},
   "source": [
    "## sub sub(pattern, repl, string, count=0, flags=0)\t\n",
    "## 用指定的字符串替换原字符串中与正则表达式匹配的模式 可以用count指定替换的次数"
   ]
  },
  {
   "cell_type": "code",
   "execution_count": 7,
   "metadata": {},
   "outputs": [
    {
     "name": "stdout",
     "output_type": "stream",
     "text": [
      "你丫是*吗? 我*你大爷的. * you.\n"
     ]
    }
   ],
   "source": [
    "import re\n",
    "# 过滤不良内容\n",
    "def main():\n",
    "    sentence = '你丫是傻叉吗? 我操你大爷的. Fuck you.'\n",
    "    purified = re.sub('[操肏艹]|fuck|shit|傻[比屄逼叉缺吊屌]|煞笔',\n",
    "                      '*', sentence, flags=re.IGNORECASE)\n",
    "    print(purified)\n",
    "main()"
   ]
  },
  {
   "cell_type": "markdown",
   "metadata": {},
   "source": [
    "# 正则表达式练习"
   ]
  },
  {
   "cell_type": "code",
   "execution_count": 8,
   "metadata": {},
   "outputs": [
    {
     "name": "stdout",
     "output_type": "stream",
     "text": [
      "matchObj.group() :  Cats are smarter than dogs\n",
      "matchObj.group(1) :  Cats\n",
      "matchObj.group(2) :  smarter\n"
     ]
    }
   ],
   "source": [
    "import re\n",
    "\n",
    "line = \"Cats are smarter than dogs\"\n",
    "# .* 表示任意匹配除换行符（\\n、\\r）之外的任何单个或多个字符\n",
    "matchObj = re.match( r'(.*) are (.*?) .*', line, re.M|re.I) # re.I 使匹配对大小写不敏感   re.M 多行匹配，影响 ^ 和 $\n",
    "\n",
    "if matchObj:\n",
    "    print (\"matchObj.group() : \", matchObj.group())\n",
    "    print (\"matchObj.group(1) : \", matchObj.group(1))\n",
    "    print (\"matchObj.group(2) : \", matchObj.group(2))\n",
    "else:\n",
    "    print (\"No match!!\")"
   ]
  },
  {
   "cell_type": "code",
   "execution_count": 9,
   "metadata": {},
   "outputs": [
    {
     "name": "stdout",
     "output_type": "stream",
     "text": [
      "(0, 3)\n",
      "(11, 14)\n"
     ]
    }
   ],
   "source": [
    "import re\n",
    "\n",
    "print(re.search('www', 'www.runoob.com').span())  # 在起始位置匹配\n",
    "print(re.search('com', 'www.runoob.com').span())         # 不在起始位置匹配到结果"
   ]
  },
  {
   "cell_type": "code",
   "execution_count": 10,
   "metadata": {},
   "outputs": [
    {
     "name": "stdout",
     "output_type": "stream",
     "text": [
      "No match!!\n",
      "search --> matchObj.group() :  dogs\n"
     ]
    }
   ],
   "source": [
    "import re\n",
    "# re.match 只匹配字符串的开始，如果字符串开始不符合正则表达式，则匹配失败，函数返回 None，而 re.search 匹配整个字符串，直到找到一个匹配。\n",
    "line = \"Cats are smarter than dogs\"\n",
    " \n",
    "matchObj = re.match( r'dogs', line, re.M|re.I)\n",
    "if matchObj:\n",
    "    print (\"match --> matchObj.group() : \", matchObj.group())\n",
    "else:\n",
    "    print (\"No match!!\")\n",
    "\n",
    "matchObj = re.search( r'dogs', line, re.M|re.I)\n",
    "if matchObj:\n",
    "    print (\"search --> matchObj.group() : \", matchObj.group())\n",
    "else:\n",
    "    print (\"No match!!\")"
   ]
  },
  {
   "cell_type": "code",
   "execution_count": 11,
   "metadata": {},
   "outputs": [
    {
     "name": "stdout",
     "output_type": "stream",
     "text": [
      "电话号码 :  2004-959-559 \n",
      "电话号码 :  2004959559\n"
     ]
    }
   ],
   "source": [
    "import re\n",
    "\n",
    "phone = \"2004-959-559 # 这是一个电话号码\"\n",
    "\n",
    "# 删除注释\n",
    "num = re.sub(r'#.*$', \"\", phone)\n",
    "print (\"电话号码 : \", num)\n",
    "\n",
    "# 移除非数字的内容\n",
    "num = re.sub(r'\\D', \"\", phone)\n",
    "print (\"电话号码 : \", num)"
   ]
  },
  {
   "cell_type": "code",
   "execution_count": 13,
   "metadata": {
    "scrolled": true
   },
   "outputs": [
    {
     "name": "stdout",
     "output_type": "stream",
     "text": [
      "None\n",
      "None\n",
      "<re.Match object; span=(3, 5), match='12'>\n",
      "12\n",
      "3\n",
      "5\n",
      "(3, 5)\n"
     ]
    }
   ],
   "source": [
    "import re\n",
    "pattern = re.compile(r'\\d+')                    # 用于匹配至少一个数字\n",
    "m = pattern.match('one12twothree34four')        # 查找头部，没有匹配\n",
    "print( m )\n",
    "\n",
    "m = pattern.match('one12twothree34four', 2, 10) # 从'e'的位置开始匹配，没有匹配\n",
    "print( m )\n",
    "\n",
    "m = pattern.match('one12twothree34four', 3, 10) # 从'1'的位置开始匹配，正好匹配\n",
    "print( m )                                        # 返回一个 Match 对象\n",
    "\n",
    "print(m.group())   # 可省略 0  匹配的内容\n",
    "print(m.start())   # 可省略 0  匹配开始下标\n",
    "print(m.end())     # 可省略 0  匹配结束下标\n",
    "print(m.span())    # 可省略 0  匹配跨度"
   ]
  },
  {
   "cell_type": "code",
   "execution_count": 15,
   "metadata": {},
   "outputs": [
    {
     "name": "stdout",
     "output_type": "stream",
     "text": [
      "<re.Match object; span=(0, 11), match='Hello World'>\n",
      "Hello World\n",
      "(0, 11)\n",
      "Hello\n",
      "(0, 5)\n",
      "World\n",
      "(6, 11)\n",
      "('Hello', 'World')\n"
     ]
    }
   ],
   "source": [
    "import re\n",
    "pattern = re.compile(r'([a-z]+) ([a-z]+)', re.I)   # re.I 表示忽略大小写\n",
    "m = pattern.match('Hello World Wide Web')\n",
    "print(m)                            # 匹配成功，返回一个 Match 对象\n",
    "print(m.group())                            # 返回匹配成功的整个子串\n",
    "print(m.span())                             # 返回匹配成功的整个子串的索引\n",
    "\n",
    "print(m.group(1))                            # 返回第一个分组匹配成功的子串\n",
    "print(m.span(1))                             # 返回第一个分组匹配成功的子串的索引\n",
    "print(m.group(2))                            # 返回第二个分组匹配成功的子串\n",
    "print(m.span(2))                             # 返回第二个分组匹配成功的子串索引\n",
    "\n",
    "print(m.groups())                            # 等价于 (m.group(1), m.group(2), ...)"
   ]
  },
  {
   "cell_type": "code",
   "execution_count": 16,
   "metadata": {},
   "outputs": [
    {
     "name": "stdout",
     "output_type": "stream",
     "text": [
      "['123', '456']\n",
      "['88', '12']\n"
     ]
    }
   ],
   "source": [
    "import re\n",
    " \n",
    "pattern = re.compile(r'\\d+')   # 查找数字\n",
    "result1 = pattern.findall('runoob 123 google 456')\n",
    "result2 = pattern.findall('run88oob123google456', 0, 10)\n",
    " \n",
    "print(result1)\n",
    "print(result2)"
   ]
  },
  {
   "cell_type": "code",
   "execution_count": 17,
   "metadata": {},
   "outputs": [
    {
     "name": "stdout",
     "output_type": "stream",
     "text": [
      "<callable_iterator object at 0x000002C89B388908>\n",
      "12\n",
      "32\n",
      "43\n",
      "3\n"
     ]
    }
   ],
   "source": [
    "import re\n",
    "\n",
    "it = re.finditer(r\"\\d+\",\"12a32bc43jf3\") \n",
    "print(it)\n",
    "for match in it: \n",
    "    print (match.group() )"
   ]
  },
  {
   "cell_type": "code",
   "execution_count": null,
   "metadata": {},
   "outputs": [],
   "source": []
  }
 ],
 "metadata": {
  "kernelspec": {
   "display_name": "Python 3",
   "language": "python",
   "name": "python3"
  },
  "language_info": {
   "codemirror_mode": {
    "name": "ipython",
    "version": 3
   },
   "file_extension": ".py",
   "mimetype": "text/x-python",
   "name": "python",
   "nbconvert_exporter": "python",
   "pygments_lexer": "ipython3",
   "version": "3.7.4"
  }
 },
 "nbformat": 4,
 "nbformat_minor": 2
}
