{
 "cells": [
  {
   "cell_type": "markdown",
   "metadata": {},
   "source": [
    "# 数据结构"
   ]
  },
  {
   "cell_type": "markdown",
   "metadata": {},
   "source": [
    "## 列表"
   ]
  },
  {
   "cell_type": "code",
   "execution_count": 24,
   "metadata": {},
   "outputs": [
    {
     "name": "stdout",
     "output_type": "stream",
     "text": [
      "[123, 'xyz', 'zara', 'abc']\n",
      "[1, 2, 3]\n",
      "['name', 'age']\n",
      "['a', 'a', 'b', 'c', 'd', 'd', 'e', 'e', 'f', 'f']\n"
     ]
    }
   ],
   "source": [
    "aTuple = (123, 'xyz', 'zara', 'abc');\n",
    "aSet = {1,2,3}\n",
    "aDict = {\"name\":\"san\",\"age\":25}\n",
    "aStr = \"aabcddeeff\"\n",
    "print(list(aTuple))\n",
    "print(list(aSet))\n",
    "print(list(aDict))# 只保留了键\n",
    "print(list(aStr))"
   ]
  },
  {
   "cell_type": "markdown",
   "metadata": {},
   "source": [
    "## 元组"
   ]
  },
  {
   "cell_type": "code",
   "execution_count": 26,
   "metadata": {},
   "outputs": [
    {
     "name": "stdout",
     "output_type": "stream",
     "text": [
      "(123, 'xyz', 'zara', 'abc')\n",
      "(1, 2, 3)\n",
      "('name', 'age')\n",
      "('a', 'a', 'b', 'c', 'd', 'd', 'e', 'e', 'f', 'f')\n"
     ]
    }
   ],
   "source": [
    "aList = [123, 'xyz', 'zara', 'abc'];\n",
    "aSet = {1,2,3}\n",
    "aDict = {\"name\":\"san\",\"age\":25}\n",
    "aStr = \"aabcddeeff\"\n",
    "print(tuple(aTuple))\n",
    "print(tuple(aSet))\n",
    "print(tuple(aDict))# 只保留了键\n",
    "print(tuple(aStr))"
   ]
  },
  {
   "cell_type": "markdown",
   "metadata": {},
   "source": [
    "## 字典"
   ]
  },
  {
   "cell_type": "markdown",
   "metadata": {},
   "source": [
    "dict() 函数用于创建一个字典。只能将存放元组（两个元素）的列表直接转化为字典\n",
    "\n",
    "dict 语法：\n",
    "1. class dict(**kwarg)\n",
    "2. class dict(mapping, **kwarg)\n",
    "3. class dict(iterable, **kwarg)\n",
    "\n",
    "参数说明：\n",
    "1. **kwargs -- 关键字\n",
    "2. mapping -- 元素的容器。\n",
    "3. iterable -- 可迭代对象。"
   ]
  },
  {
   "cell_type": "markdown",
   "metadata": {},
   "source": [
    "### 创建字典"
   ]
  },
  {
   "cell_type": "code",
   "execution_count": 17,
   "metadata": {},
   "outputs": [
    {
     "name": "stdout",
     "output_type": "stream",
     "text": [
      "{}\n",
      "{'a': 'a', 'b': 'b', 't': 't'}\n",
      "{'one': 1, 'two': 2, 'three': 3}\n",
      "{'one': 1, 'two': 2, 'three': 3}\n"
     ]
    }
   ],
   "source": [
    "d1 = dict()                        # 创建空字典\n",
    "d2 = dict(a='a', b='b', t='t')     # 传入关键字\n",
    "d3 = dict(zip(['one', 'two', 'three'], [1, 2, 3]))   # 映射函数方式来构造字典\n",
    "d4 = dict([('one', 1), ('two', 2), ('three', 3)])    # 可迭代对象方式来构造字典\n",
    "print(d1)\n",
    "print(d2)\n",
    "print(d3)\n",
    "print(d3)"
   ]
  },
  {
   "cell_type": "markdown",
   "metadata": {},
   "source": [
    "### 字典转换成列表"
   ]
  },
  {
   "cell_type": "code",
   "execution_count": 18,
   "metadata": {},
   "outputs": [
    {
     "name": "stdout",
     "output_type": "stream",
     "text": [
      "dict_items([('one', 1), ('two', 2), ('three', 3)])\n",
      "dict_keys(['one', 'two', 'three'])\n",
      "dict_values([1, 2, 3])\n"
     ]
    }
   ],
   "source": [
    "d = dict([('one', 1), ('two', 2), ('three', 3)])    # 可迭代对象方式来构造字典\n",
    "print(d.items())# 返回列表，里面存放元组，和可迭代方式创建的一致\n",
    "print(d.keys()) # 返回列表，由键组成\n",
    "print(d.values()) # 返回列表，由值组成"
   ]
  },
  {
   "cell_type": "markdown",
   "metadata": {},
   "source": [
    "### 字典的可迭代方式"
   ]
  },
  {
   "cell_type": "code",
   "execution_count": 21,
   "metadata": {},
   "outputs": [
    {
     "name": "stdout",
     "output_type": "stream",
     "text": [
      "('one', 1)\n",
      "one\n",
      "1\n",
      "('two', 2)\n",
      "two\n",
      "2\n",
      "('three', 3)\n",
      "three\n",
      "3\n"
     ]
    }
   ],
   "source": [
    "# 本质上是将字典转化成列表，列表内放了两个元素的元组，元组内容是原来字典的键和值\n",
    "d = dict([('one', 1), ('two', 2), ('three', 3)])    # 可迭代对象方式来构造字典\n",
    "for elem in d.items():\n",
    "    print(elem)\n",
    "    print(elem[0])\n",
    "    print(elem[1])"
   ]
  },
  {
   "cell_type": "markdown",
   "metadata": {},
   "source": [
    "## 集合"
   ]
  },
  {
   "cell_type": "code",
   "execution_count": 29,
   "metadata": {},
   "outputs": [
    {
     "name": "stdout",
     "output_type": "stream",
     "text": [
      "{'xyz', 'zara', 123, 'abc'}\n",
      "{1, 2, 3, 4, 5}\n",
      "{'d', 'b', 'e', 'f', 'a', 'c'}\n",
      "{'age', 'name'}\n"
     ]
    }
   ],
   "source": [
    "aTuple = (123, 'xyz', 'zara', 'abc','xyz');\n",
    "aList = [1,2,3,2,4,5,5]\n",
    "aStr = \"aabcddeeff\"\n",
    "aDict = {\"name\":\"san\",\"age\":25,\"name\":\"wang\"}\n",
    "print(set(aTuple))\n",
    "print(set(aList))\n",
    "print(set(aStr))\n",
    "print(set(aDict))# 只保留不重复的键"
   ]
  },
  {
   "cell_type": "markdown",
   "metadata": {},
   "source": [
    "### 集合运算"
   ]
  },
  {
   "cell_type": "code",
   "execution_count": 32,
   "metadata": {},
   "outputs": [
    {
     "name": "stdout",
     "output_type": "stream",
     "text": [
      "{1, 2, 3, 4, 5, 6}\n",
      "{2, 4, 6, 8, 10}\n",
      "{2, 4, 6}\n",
      "{1, 2, 3, 4, 5, 6, 8, 10}\n",
      "{1, 3, 5}\n",
      "{1, 3, 5, 8, 10}\n",
      "True\n"
     ]
    }
   ],
   "source": [
    "set1 = set(range(1, 7))\n",
    "print(set1)\n",
    "set2 = set(range(2, 11, 2))\n",
    "print(set2)\n",
    "print(set1 & set2) # 交集\n",
    "print(set1 | set2) # 并集\n",
    "print(set1 - set2) # 差集\n",
    "print(set1 ^ set2) # 并集去除交集\n",
    "print((set1 ^ set2) == ((set1 | set2) - (set1 & set2)))"
   ]
  },
  {
   "cell_type": "code",
   "execution_count": 34,
   "metadata": {},
   "outputs": [
    {
     "name": "stdout",
     "output_type": "stream",
     "text": [
      "False\n",
      "True\n",
      "False\n",
      "True\n"
     ]
    }
   ],
   "source": [
    "set3 = set(range(1, 5))\n",
    "print(set2 <= set1) # 子集运算\n",
    "print(set3 <= set1)\n",
    "print(set1 >= set2) # 超集运算\n",
    "print(set1 >= set3)"
   ]
  },
  {
   "cell_type": "markdown",
   "metadata": {},
   "source": [
    "## 字符串"
   ]
  },
  {
   "cell_type": "code",
   "execution_count": 51,
   "metadata": {},
   "outputs": [
    {
     "name": "stdout",
     "output_type": "stream",
     "text": [
      "123 xyz zara abc\n",
      "1 2 5 abc\n"
     ]
    }
   ],
   "source": [
    "# 需要确保列表和元组内部放的是字符串\n",
    "aTuple = ('123', 'xyz', 'zara', 'abc')\n",
    "aList = ['1', '2', '5', 'abc']\n",
    "print(\" \".join(aTuple))\n",
    "print(\" \".join(aList))"
   ]
  },
  {
   "cell_type": "code",
   "execution_count": 52,
   "metadata": {},
   "outputs": [
    {
     "ename": "TypeError",
     "evalue": "sequence item 0: expected str instance, int found",
     "output_type": "error",
     "traceback": [
      "\u001b[1;31m---------------------------------------------------------------------------\u001b[0m",
      "\u001b[1;31mTypeError\u001b[0m                                 Traceback (most recent call last)",
      "\u001b[1;32m<ipython-input-52-34cf7a721552>\u001b[0m in \u001b[0;36m<module>\u001b[1;34m\u001b[0m\n\u001b[0;32m      1\u001b[0m \u001b[0maTuple\u001b[0m \u001b[1;33m=\u001b[0m \u001b[1;33m(\u001b[0m\u001b[1;36m123\u001b[0m\u001b[1;33m,\u001b[0m \u001b[1;34m'xyz'\u001b[0m\u001b[1;33m,\u001b[0m \u001b[1;34m'zara'\u001b[0m\u001b[1;33m,\u001b[0m \u001b[1;34m'abc'\u001b[0m\u001b[1;33m)\u001b[0m\u001b[1;33m\u001b[0m\u001b[1;33m\u001b[0m\u001b[0m\n\u001b[0;32m      2\u001b[0m \u001b[0maList\u001b[0m \u001b[1;33m=\u001b[0m \u001b[1;33m[\u001b[0m\u001b[1;36m1\u001b[0m\u001b[1;33m,\u001b[0m \u001b[1;34m'2'\u001b[0m\u001b[1;33m,\u001b[0m \u001b[1;34m'5'\u001b[0m\u001b[1;33m,\u001b[0m \u001b[1;34m'abc'\u001b[0m\u001b[1;33m]\u001b[0m\u001b[1;33m\u001b[0m\u001b[1;33m\u001b[0m\u001b[0m\n\u001b[1;32m----> 3\u001b[1;33m \u001b[0mprint\u001b[0m\u001b[1;33m(\u001b[0m\u001b[1;34m\" \"\u001b[0m\u001b[1;33m.\u001b[0m\u001b[0mjoin\u001b[0m\u001b[1;33m(\u001b[0m\u001b[0maTuple\u001b[0m\u001b[1;33m)\u001b[0m\u001b[1;33m)\u001b[0m\u001b[1;33m\u001b[0m\u001b[1;33m\u001b[0m\u001b[0m\n\u001b[0m\u001b[0;32m      4\u001b[0m \u001b[0mprint\u001b[0m\u001b[1;33m(\u001b[0m\u001b[1;34m\" \"\u001b[0m\u001b[1;33m.\u001b[0m\u001b[0mjoin\u001b[0m\u001b[1;33m(\u001b[0m\u001b[0maList\u001b[0m\u001b[1;33m)\u001b[0m\u001b[1;33m)\u001b[0m\u001b[1;33m\u001b[0m\u001b[1;33m\u001b[0m\u001b[0m\n",
      "\u001b[1;31mTypeError\u001b[0m: sequence item 0: expected str instance, int found"
     ]
    }
   ],
   "source": [
    "# 如果里面有整型数据，会报错说无法连接整型数据\n",
    "aTuple = (123, 'xyz', 'zara', 'abc')\n",
    "aList = [1, '2', '5', 'abc']\n",
    "print(\" \".join(aTuple))\n",
    "print(\" \".join(aList))"
   ]
  },
  {
   "cell_type": "code",
   "execution_count": 54,
   "metadata": {},
   "outputs": [
    {
     "name": "stdout",
     "output_type": "stream",
     "text": [
      "(123, 'xyz', 'zara', 'abc')\n",
      "[1, '2', '5', 'abc']\n"
     ]
    }
   ],
   "source": [
    "# 此时尝试使用 str 进行转化, 但是仍然的不到想要的结果\n",
    "aTuple = (123, 'xyz', 'zara', 'abc')\n",
    "aList = [1, '2', '5', 'abc']\n",
    "print(\"\".join(str(aTuple)))\n",
    "print(\"\".join(str(aList)))"
   ]
  },
  {
   "cell_type": "code",
   "execution_count": null,
   "metadata": {},
   "outputs": [],
   "source": []
  },
  {
   "cell_type": "code",
   "execution_count": null,
   "metadata": {},
   "outputs": [],
   "source": []
  },
  {
   "cell_type": "code",
   "execution_count": null,
   "metadata": {},
   "outputs": [],
   "source": []
  },
  {
   "cell_type": "code",
   "execution_count": null,
   "metadata": {},
   "outputs": [],
   "source": []
  },
  {
   "cell_type": "code",
   "execution_count": null,
   "metadata": {},
   "outputs": [],
   "source": []
  },
  {
   "cell_type": "code",
   "execution_count": null,
   "metadata": {},
   "outputs": [],
   "source": []
  },
  {
   "cell_type": "code",
   "execution_count": null,
   "metadata": {},
   "outputs": [],
   "source": []
  },
  {
   "cell_type": "code",
   "execution_count": null,
   "metadata": {},
   "outputs": [],
   "source": []
  },
  {
   "cell_type": "code",
   "execution_count": null,
   "metadata": {},
   "outputs": [],
   "source": []
  },
  {
   "cell_type": "code",
   "execution_count": null,
   "metadata": {},
   "outputs": [],
   "source": []
  },
  {
   "cell_type": "code",
   "execution_count": null,
   "metadata": {},
   "outputs": [],
   "source": []
  },
  {
   "cell_type": "code",
   "execution_count": null,
   "metadata": {},
   "outputs": [],
   "source": []
  },
  {
   "cell_type": "code",
   "execution_count": null,
   "metadata": {},
   "outputs": [],
   "source": []
  },
  {
   "cell_type": "code",
   "execution_count": null,
   "metadata": {},
   "outputs": [],
   "source": []
  },
  {
   "cell_type": "code",
   "execution_count": null,
   "metadata": {},
   "outputs": [],
   "source": []
  }
 ],
 "metadata": {
  "kernelspec": {
   "display_name": "Python 3",
   "language": "python",
   "name": "python3"
  },
  "language_info": {
   "codemirror_mode": {
    "name": "ipython",
    "version": 3
   },
   "file_extension": ".py",
   "mimetype": "text/x-python",
   "name": "python",
   "nbconvert_exporter": "python",
   "pygments_lexer": "ipython3",
   "version": "3.7.4"
  }
 },
 "nbformat": 4,
 "nbformat_minor": 2
}
