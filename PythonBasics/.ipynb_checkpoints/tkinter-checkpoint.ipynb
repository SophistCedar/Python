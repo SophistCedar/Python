{
 "cells": [
  {
   "cell_type": "markdown",
   "metadata": {},
   "source": [
    "## 图形用户界面和游戏开发\n",
    "\n",
    "### 基于tkinter模块的GUI\n",
    "\n",
    "GUI是图形用户界面的缩写，图形化的用户界面对使用过计算机的人来说应该都不陌生，在此也无需进行赘述。Python默认的GUI开发模块是tkinter（在Python 3以前的版本中名为Tkinter），从这个名字就可以看出它是基于Tk的，Tk是一个工具包，最初是为Tcl设计的，后来被移植到很多其他的脚本语言中，它提供了跨平台的GUI控件。当然Tk并不是最新和最好的选择，也没有功能特别强大的GUI控件，事实上，开发GUI应用并不是Python最擅长的工作，如果真的需要使用Python开发GUI应用，wxPython、PyQt、PyGTK等模块都是不错的选择。\n",
    "基本上使用tkinter来开发GUI应用需要以下5个步骤：\n",
    "\n",
    "1. 导入tkinter模块中我们需要的东西。\n",
    "2. 创建一个顶层窗口对象并用它来承载整个GUI应用。\n",
    "3. 在顶层窗口对象上添加GUI组件。\n",
    "4. 通过代码将这些GUI组件的功能组织起来。\n",
    "5. 进入主事件循环(main loop)。\n",
    "\n",
    "下面的代码演示了如何使用tkinter做一个简单的GUI应用。"
   ]
  },
  {
   "cell_type": "code",
   "execution_count": 1,
   "metadata": {},
   "outputs": [],
   "source": [
    "import tkinter\n",
    "import tkinter.messagebox\n",
    "\n",
    "def main():\n",
    "    flag = True\n",
    "    \n",
    "    # 修改标签上的文字\n",
    "    def change_label_text():\n",
    "        nonlocal flag\n",
    "        flag = not flag\n",
    "        color, msg = ('red', 'Hello, world!')\\\n",
    "            if flag else ('blue', 'Goodbye, world!')\n",
    "        label.config(text=msg, fg=color)\n",
    "\n",
    "    # 确认退出\n",
    "    def confirm_to_quit():\n",
    "        if tkinter.messagebox.askokcancel('温馨提示', '确定要退出吗?'):\n",
    "            top.quit()\n",
    "\n",
    "    # 创建顶层窗口\n",
    "    top = tkinter.Tk()\n",
    "    # 设置窗口大小\n",
    "    top.geometry('240x160')\n",
    "    # 设置窗口标题\n",
    "    top.title('小游戏')\n",
    "    \n",
    "    # 创建标签对象并添加到顶层窗口\n",
    "    label = tkinter.Label(top, text='Hello, world!', font='Arial -32', fg='red')\n",
    "    label.pack(expand=1)# pack() 包装\n",
    "    \n",
    "    # 创建一个装按钮的容器  框架构件\n",
    "    panel = tkinter.Frame(top)\n",
    "    panel.pack(side='bottom')\n",
    "    # 创建按钮对象 指定添加到哪个容器中 通过command参数绑定事件回调函数\n",
    "    button1 = tkinter.Button(panel, text='修改', command=change_label_text)\n",
    "    button1.pack(side='left')\n",
    "    button2 = tkinter.Button(panel, text='退出', command=confirm_to_quit)\n",
    "    button2.pack(side='right')\n",
    "    \n",
    "    # 开启主事件循环\n",
    "    tkinter.mainloop()\n",
    "    \n",
    "main()"
   ]
  },
  {
   "cell_type": "markdown",
   "metadata": {},
   "source": [
    "需要说明的是，GUI应用通常是事件驱动式的，之所以要进入主事件循环就是要监听鼠标、键盘等各种事件的发生并执行对应的代码对事件进行处理，因为事件会持续的发生，所以需要这样的一个循环一直运行着等待下一个事件的发生。另一方面，Tk为控件的摆放提供了三种布局管理器，通过布局管理器可以对控件进行定位，这三种布局管理器分别是：Placer（开发者提供控件的大小和摆放位置）、Packer（自动将控件填充到合适的位置）和Grid（基于网格坐标来摆放控件），此处不进行赘述。"
   ]
  },
  {
   "cell_type": "code",
   "execution_count": null,
   "metadata": {},
   "outputs": [],
   "source": [
    "\"\"\"\n",
    "使用tkinter创建GUI\n",
    "- 使用画布绘图\n",
    "- 处理鼠标事件\n",
    "\"\"\"\n",
    "import tkinter\n",
    "\n",
    "def mouse_evt_handler(evt=None):\n",
    "    row = round((evt.y - 20) / 40)\n",
    "    col = round((evt.x - 20) / 40)\n",
    "    pos_x = 40 * col\n",
    "    pos_y = 40 * row\n",
    "    canvas.create_oval(pos_x, pos_y, 40 + pos_x, 40 + pos_y, fill='black')\n",
    "\n",
    "# 创建顶层窗口\n",
    "top = tkinter.Tk()\n",
    "# 设置窗口尺寸\n",
    "top.geometry('620x620')\n",
    "# 设置窗口标题\n",
    "top.title('五子棋')\n",
    "# 设置窗口大小不可改变\n",
    "top.resizable(False, False)\n",
    "# 设置窗口置顶\n",
    "top.wm_attributes('-topmost', 1)\n",
    "\n",
    "canvas = tkinter.Canvas(top, width=600, height=600, bd=0, highlightthickness=0)\n",
    "canvas.bind('<Button-1>', mouse_evt_handler)\n",
    "canvas.create_rectangle(0, 0, 600, 600, fill='yellow', outline='white')\n",
    "for index in range(15):\n",
    "    canvas.create_line(20, 20 + 40 * index, 580, 20 + 40 * index, fill='black')\n",
    "    canvas.create_line(20 + 40 * index, 20, 20 + 40 * index, 580, fill='black')\n",
    "canvas.create_rectangle(15, 15, 585, 585, outline='black', width=4)\n",
    "canvas.pack()\n",
    "tkinter.mainloop()\n",
    "\n",
    "# 请思考如何用面向对象的编程思想对上面的代码进行封装\n"
   ]
  }
 ],
 "metadata": {
  "kernelspec": {
   "display_name": "Python 3",
   "language": "python",
   "name": "python3"
  },
  "language_info": {
   "codemirror_mode": {
    "name": "ipython",
    "version": 3
   },
   "file_extension": ".py",
   "mimetype": "text/x-python",
   "name": "python",
   "nbconvert_exporter": "python",
   "pygments_lexer": "ipython3",
   "version": "3.7.4"
  }
 },
 "nbformat": 4,
 "nbformat_minor": 2
}
