{
 "cells": [
  {
   "cell_type": "markdown",
   "metadata": {},
   "source": [
    "## 分支结构\n",
    "\n",
    "### 应用场景\n",
    "\n",
    "迄今为止，我们写的Python代码都是一条一条语句顺序执行，这种代码结构通常称之为顺序结构。然而仅有顺序结构并不能解决所有的问题，比如我们设计一个游戏，游戏第一关的通关条件是玩家获得1000分，那么在完成本局游戏后，我们要根据玩家得到分数来决定究竟是进入第二关，还是告诉玩家“Game Over”，这里就会产生两个分支，而且这两个分支只有一个会被执行。类似的场景还有很多，我们将这种结构称之为“分支结构”或“选择结构”。给大家一分钟的时间，你应该可以想到至少5个以上这样的例子，赶紧试一试。\n",
    "\n",
    "### if语句的使用\n",
    "\n",
    "在Python中，要构造分支结构可以使用`if`、`elif`和`else`关键字。所谓**关键字**就是有特殊含义的单词，像`if`和`else`就是专门用于构造分支结构的关键字，很显然你不能够使用它作为变量名（事实上，用作其他的标识符也是不可以）。下面的例子中演示了如何构造一个分支结构。"
   ]
  },
  {
   "cell_type": "markdown",
   "metadata": {},
   "source": [
    "### 用户身份验证"
   ]
  },
  {
   "cell_type": "code",
   "execution_count": 1,
   "metadata": {},
   "outputs": [
    {
     "name": "stdout",
     "output_type": "stream",
     "text": [
      "请输入用户名: admin\n",
      "请输入口令: 123456\n",
      "身份验证成功!\n"
     ]
    }
   ],
   "source": [
    "username = input('请输入用户名: ')\n",
    "password = input('请输入口令: ')\n",
    "# 用户名是admin且密码是123456则身份验证成功否则身份验证失败\n",
    "if username == 'admin' and password == '123456':\n",
    "    print('身份验证成功!')\n",
    "else:\n",
    "    print('身份验证失败!')\n"
   ]
  },
  {
   "cell_type": "markdown",
   "metadata": {},
   "source": [
    "唯一需要说明的是和C/C++、Java等语言不同，Python中没有用花括号来构造代码块而是使用了缩进的方式来设置代码的层次结构，如果`if`条件成立的情况下需要执行多条语句，只要保持多条语句具有相同的缩进就可以了，换句话说连续的代码如果又保持了相同的缩进那么它们属于同一个代码块，相当于是一个执行的整体。\n",
    "\n",
    "当然如果要构造出更多的分支，可以使用`if…elif…else…`结构，例如下面的分段函数求值。"
   ]
  },
  {
   "cell_type": "code",
   "execution_count": 2,
   "metadata": {},
   "outputs": [
    {
     "name": "stdout",
     "output_type": "stream",
     "text": [
      "x = 23\n",
      "f(23.00) = 64.00\n"
     ]
    }
   ],
   "source": [
    "\"\"\"\n",
    "分段函数求值\n",
    "\n",
    "        3x - 5  (x > 1)\n",
    "f(x) =  x + 2   (-1 <= x <= 1)\n",
    "        5x + 3  (x < -1)\n",
    "\n",
    "\"\"\"\n",
    "\n",
    "x = float(input('x = '))\n",
    "if x > 1:\n",
    "    y = 3 * x - 5\n",
    "elif x >= -1:\n",
    "    y = x + 2\n",
    "else:\n",
    "    y = 5 * x + 3\n",
    "print('f(%.2f) = %.2f' % (x, y))\n"
   ]
  },
  {
   "cell_type": "markdown",
   "metadata": {},
   "source": [
    "当然根据实际开发的需要，分支结构是可以嵌套的，例如判断是否通关以后还要根据你获得的宝物或者道具的数量对你的表现给出等级（比如点亮两颗或三颗星星），那么我们就需要在`if`的内部构造出一个新的分支结构，同理`elif`和`else`中也可以再构造新的分支，我们称之为嵌套的分支结构，也就是说上面的代码也可以写成下面的样子。"
   ]
  },
  {
   "cell_type": "code",
   "execution_count": 3,
   "metadata": {},
   "outputs": [
    {
     "name": "stdout",
     "output_type": "stream",
     "text": [
      "x = 456\n",
      "f(456.00) = 1363.00\n"
     ]
    }
   ],
   "source": [
    "\"\"\"\n",
    "分段函数求值\n",
    "\t\t3x - 5\t(x > 1)\n",
    "f(x) =\tx + 2\t(-1 <= x <= 1)\n",
    "\t\t5x + 3\t(x < -1)\n",
    "\n",
    "Version: 0.1\n",
    "Author: 骆昊\n",
    "\"\"\"\n",
    "\n",
    "x = float(input('x = '))\n",
    "if x > 1:\n",
    "    y = 3 * x - 5\n",
    "else:\n",
    "    if x >= -1:\n",
    "        y = x + 2\n",
    "    else:\n",
    "        y = 5 * x + 3\n",
    "print('f(%.2f) = %.2f' % (x, y))\n"
   ]
  },
  {
   "cell_type": "markdown",
   "metadata": {},
   "source": [
    "> **说明：** 大家可以自己感受一下这两种写法到底是哪一种更好。在之前我们提到的Python之禅中有这么一句话“Flat is better than nested.”，之所以提倡代码“扁平化”是因为嵌套结构的嵌套层次多了之后会严重的影响代码的可读性，所以能使用扁平化的结构时就不要使用嵌套。"
   ]
  },
  {
   "cell_type": "markdown",
   "metadata": {},
   "source": [
    "### 练习\n",
    "\n",
    "#### 练习1：英制单位英寸与公制单位厘米互换。"
   ]
  },
  {
   "cell_type": "code",
   "execution_count": 4,
   "metadata": {},
   "outputs": [
    {
     "name": "stdout",
     "output_type": "stream",
     "text": [
      "请输入长度: 25\n",
      "请输入单位: in\n",
      "25.000000英寸 = 63.500000厘米\n"
     ]
    }
   ],
   "source": [
    "value = float(input('请输入长度: '))\n",
    "unit = input('请输入单位: ')\n",
    "if unit == 'in' or unit == '英寸':\n",
    "    print('%f英寸 = %f厘米' % (value, value * 2.54))\n",
    "elif unit == 'cm' or unit == '厘米':\n",
    "    print('%f厘米 = %f英寸' % (value, value / 2.54))\n",
    "else:\n",
    "    print('请输入有效的单位')"
   ]
  },
  {
   "cell_type": "markdown",
   "metadata": {},
   "source": [
    "#### 练习2：百分制成绩转换为等级制成绩。\n",
    "\n",
    "> **要求**：如果输入的成绩在90分以上（含90分）输出A；80分-90分（不含90分）输出B；70分-80分（不含80分）输出C；60分-70分（不含70分）输出D；60分以下输出E。"
   ]
  },
  {
   "cell_type": "code",
   "execution_count": 5,
   "metadata": {},
   "outputs": [
    {
     "name": "stdout",
     "output_type": "stream",
     "text": [
      "请输入成绩: 85\n",
      "对应的等级是: B\n"
     ]
    }
   ],
   "source": [
    "score = float(input('请输入成绩: '))\n",
    "if score >= 90:\n",
    "    grade = 'A'\n",
    "elif score >= 80:\n",
    "    grade = 'B'\n",
    "elif score >= 70:\n",
    "    grade = 'C'\n",
    "elif score >= 60:\n",
    "    grade = 'D'\n",
    "else:\n",
    "    grade = 'E'\n",
    "print('对应的等级是:', grade)"
   ]
  },
  {
   "cell_type": "markdown",
   "metadata": {},
   "source": [
    "#### 练习3：输入三条边长，如果能构成三角形就计算周长和面积。\n",
    "判断输入的边长能否构成三角形，如果能则计算出三角形的周长和面积\n"
   ]
  },
  {
   "cell_type": "code",
   "execution_count": 6,
   "metadata": {},
   "outputs": [
    {
     "name": "stdout",
     "output_type": "stream",
     "text": [
      "a = 2\n",
      "b = 2\n",
      "c = 2\n",
      "周长: 6.000000\n",
      "面积: 1.732051\n"
     ]
    }
   ],
   "source": [
    "a = float(input('a = '))\n",
    "b = float(input('b = '))\n",
    "c = float(input('c = '))\n",
    "if a + b > c and a + c > b and b + c > a:\n",
    "    print('周长: %f' % (a + b + c))\n",
    "    p = (a + b + c) / 2\n",
    "    area = (p * (p - a) * (p - b) * (p - c)) ** 0.5\n",
    "    print('面积: %f' % (area))\n",
    "else:\n",
    "    print('不能构成三角形')"
   ]
  },
  {
   "cell_type": "markdown",
   "metadata": {},
   "source": [
    "> **说明：** 上面使用的通过边长计算三角形面积的公式叫做[海伦公式](https://zh.wikipedia.org/zh-hans/海伦公式)。"
   ]
  },
  {
   "cell_type": "code",
   "execution_count": 7,
   "metadata": {},
   "outputs": [
    {
     "name": "stdout",
     "output_type": "stream",
     "text": [
      "做俯卧撑\n"
     ]
    }
   ],
   "source": [
    "\"\"\"\n",
    "掷骰子决定做什么事情\n",
    "\"\"\"\n",
    "from random import randint\n",
    "\n",
    "face = randint(1, 6)\n",
    "if face == 1:\n",
    "    result = '唱首歌'\n",
    "elif face == 2:\n",
    "    result = '跳个舞'\n",
    "elif face == 3:\n",
    "    result = '学狗叫'\n",
    "elif face == 4:\n",
    "    result = '做俯卧撑'\n",
    "elif face == 5:\n",
    "    result = '念绕口令'\n",
    "else:\n",
    "    result = '讲冷笑话'\n",
    "print(result)"
   ]
  },
  {
   "cell_type": "code",
   "execution_count": 8,
   "metadata": {},
   "outputs": [
    {
     "name": "stdout",
     "output_type": "stream",
     "text": [
      "本月收入: 5000\n",
      "五险一金: 1500\n",
      "个人所得税: ￥0.00元\n",
      "实际到手收入: ￥3500.00元\n"
     ]
    }
   ],
   "source": [
    "\"\"\"\n",
    "输入月收入和五险一金计算个人所得税\n",
    "说明：写这段代码时新的个人所得税计算方式还没有颁布\n",
    "\"\"\"\n",
    "\n",
    "salary = float(input('本月收入: '))\n",
    "insurance = float(input('五险一金: '))\n",
    "diff = salary - insurance - 3500\n",
    "if diff <= 0:\n",
    "    rate = 0\n",
    "    deduction = 0\n",
    "elif diff < 1500:\n",
    "    rate = 0.03\n",
    "    deduction = 0\n",
    "elif diff < 4500:\n",
    "    rate = 0.1\n",
    "    deduction = 105\n",
    "elif diff < 9000:\n",
    "    rate = 0.2\n",
    "    deduction = 555\n",
    "elif diff < 35000:\n",
    "    rate = 0.25\n",
    "    deduction = 1005\n",
    "elif diff < 55000:\n",
    "    rate = 0.3\n",
    "    deduction = 2755\n",
    "elif diff < 80000:\n",
    "    rate = 0.35\n",
    "    deduction = 5505\n",
    "else:\n",
    "    rate = 0.45\n",
    "    deduction = 13505\n",
    "tax = abs(diff * rate - deduction)\n",
    "print('个人所得税: ￥%.2f元' % tax)\n",
    "print('实际到手收入: ￥%.2f元' % (diff + 3500 - tax))"
   ]
  },
  {
   "cell_type": "markdown",
   "metadata": {},
   "source": [
    "## 循环结构\n",
    "\n",
    "### 应用场景\n",
    "\n",
    "如果在程序中我们需要重复的执行某条或某些指令，例如用程序控制机器人踢足球，如果机器人持球而且还没有进入射门范围，那么我们就要一直发出让机器人向球门方向奔跑的指令。当然你可能已经注意到了，刚才的描述中不仅仅有需要重复的动作，还需要用到上一章讲的分支结构。再举一个简单的例子，我们要实现一个每隔1秒中在屏幕上打印一次&quot;hello, world&quot;并持续打印一个小时的程序，我们肯定不能够直接把`print('hello, world')`这句代码写3600遍，如果真的要这样做，那么编程的工作就太无聊乏味了。因此，我们还需要了解一下循环结构，有了循环结构我们就可以轻松的控制某件事或者某些事重复、重复、再重复的去执行。\n",
    "\n",
    "在Python中构造循环结构有两种做法，一种是`for-in`循环，一种是`while`循环。\n",
    "\n",
    "### for-in循环\n",
    "\n",
    "如果明确的知道循环执行的次数或者要对一个容器进行迭代（后面会讲到），那么我们推荐使用`for-in`循环，例如下面代码中计算1~100求和的结果（$\\displaystyle \\sum \\limits_{n=1}^{100}n$）。 "
   ]
  },
  {
   "cell_type": "code",
   "execution_count": 9,
   "metadata": {},
   "outputs": [
    {
     "name": "stdout",
     "output_type": "stream",
     "text": [
      "5050\n"
     ]
    }
   ],
   "source": [
    "\"\"\"\n",
    "用for循环实现1~100求和\n",
    "\"\"\"\n",
    "sum = 0\n",
    "for x in range(101):\n",
    "    sum += x\n",
    "print(sum)"
   ]
  },
  {
   "cell_type": "markdown",
   "metadata": {},
   "source": [
    "需要说明的是上面代码中的`range(101)`可以用来构造一个从0到100的取值范围，这样就可以构造出一个整数的序列并用于循环中，例如：\n",
    "\n",
    "- `range(101)`可以产生一个0到100的整数序列。\n",
    "- `range(1, 100)`可以产生一个1到99的整数序列。\n",
    "- `range(1, 100, 2)`可以产生一个1到99的奇数序列，其中2是步长，即数值序列的增量。\n",
    "\n",
    "知道了这一点，我们可以用下面的代码来实现1~100之间的偶数求和。"
   ]
  },
  {
   "cell_type": "code",
   "execution_count": 10,
   "metadata": {},
   "outputs": [
    {
     "name": "stdout",
     "output_type": "stream",
     "text": [
      "2550\n"
     ]
    }
   ],
   "source": [
    "\"\"\"\n",
    "用for循环实现1~100之间的偶数求和\n",
    "\"\"\"\n",
    "\n",
    "sum = 0\n",
    "for x in range(2, 101, 2):\n",
    "    sum += x\n",
    "print(sum)"
   ]
  },
  {
   "cell_type": "markdown",
   "metadata": {},
   "source": [
    "也可以通过在循环中使用分支结构的方式来实现相同的功能，代码如下所示。"
   ]
  },
  {
   "cell_type": "code",
   "execution_count": 11,
   "metadata": {},
   "outputs": [
    {
     "name": "stdout",
     "output_type": "stream",
     "text": [
      "2550\n"
     ]
    }
   ],
   "source": [
    "\"\"\"\n",
    "用for循环实现1~100之间的偶数求和\n",
    "\"\"\"\n",
    "sum = 0\n",
    "for x in range(1, 101):\n",
    "    if x % 2 == 0:\n",
    "        sum += x\n",
    "print(sum)"
   ]
  },
  {
   "cell_type": "code",
   "execution_count": 19,
   "metadata": {},
   "outputs": [
    {
     "name": "stdout",
     "output_type": "stream",
     "text": [
      "n = 5\n",
      "5! = 120\n"
     ]
    }
   ],
   "source": [
    "\"\"\"\n",
    "输入非负整数n计算n!\n",
    "\"\"\"\n",
    "n = int(input('n = '))\n",
    "result = 1\n",
    "for x in range(1, n + 1):\n",
    "    result *= x\n",
    "print('%d! = %d' % (n, result))"
   ]
  },
  {
   "cell_type": "markdown",
   "metadata": {},
   "source": [
    "### while循环\n",
    "\n",
    "如果要构造不知道具体循环次数的循环结构，我们推荐使用`while`循环。`while`循环通过一个能够产生或转换出`bool`值的表达式来控制循环，表达式的值为`True`循环继续，表达式的值为`False`循环结束。下面我们通过一个“猜数字”的小游戏（计算机出一个1~100之间的随机数，人输入自己猜的数字，计算机给出对应的提示信息，直到人猜出计算机出的数字）来看看如何使用`while`循环。"
   ]
  },
  {
   "cell_type": "code",
   "execution_count": 13,
   "metadata": {},
   "outputs": [
    {
     "name": "stdout",
     "output_type": "stream",
     "text": [
      "请输入: 50\n",
      "小一点\n",
      "请输入: 25\n",
      "小一点\n",
      "请输入: 12\n",
      "大一点\n",
      "请输入: 19\n",
      "大一点\n",
      "请输入: 22\n",
      "恭喜你猜对了!\n",
      "你总共猜了5次\n"
     ]
    }
   ],
   "source": [
    "\"\"\"\n",
    "猜数字游戏\n",
    "计算机出一个1~100之间的随机数由人来猜\n",
    "计算机根据人猜的数字分别给出提示大一点/小一点/猜对了\n",
    "\"\"\"\n",
    "\n",
    "import random\n",
    "\n",
    "answer = random.randint(1, 100)\n",
    "counter = 0\n",
    "while True:\n",
    "    counter += 1\n",
    "    number = int(input('请输入: '))\n",
    "    if number < answer:\n",
    "        print('大一点')\n",
    "    elif number > answer:\n",
    "        print('小一点')\n",
    "    else:\n",
    "        print('恭喜你猜对了!')\n",
    "        break\n",
    "print('你总共猜了%d次' % counter)\n",
    "if counter > 7:\n",
    "    print('你的智商余额明显不足')"
   ]
  },
  {
   "cell_type": "markdown",
   "metadata": {},
   "source": [
    "上面的代码中使用了`break`关键字来提前终止循环，需要注意的是`break`只能终止它所在的那个循环，这一点在使用嵌套的循环结构（下面会讲到）需要引起注意。除了`break`之外，还有另一个关键字是`continue`，它可以用来放弃本次循环后续的代码直接让循环进入下一轮。\n",
    "\n",
    "和分支结构一样，循环结构也是可以嵌套的，也就是说在循环中还可以构造循环结构。下面的例子演示了如何通过嵌套的循环来输出一个九九乘法表。"
   ]
  },
  {
   "cell_type": "code",
   "execution_count": 14,
   "metadata": {},
   "outputs": [
    {
     "name": "stdout",
     "output_type": "stream",
     "text": [
      "1*1=1\t\n",
      "2*1=2\t2*2=4\t\n",
      "3*1=3\t3*2=6\t3*3=9\t\n",
      "4*1=4\t4*2=8\t4*3=12\t4*4=16\t\n",
      "5*1=5\t5*2=10\t5*3=15\t5*4=20\t5*5=25\t\n",
      "6*1=6\t6*2=12\t6*3=18\t6*4=24\t6*5=30\t6*6=36\t\n",
      "7*1=7\t7*2=14\t7*3=21\t7*4=28\t7*5=35\t7*6=42\t7*7=49\t\n",
      "8*1=8\t8*2=16\t8*3=24\t8*4=32\t8*5=40\t8*6=48\t8*7=56\t8*8=64\t\n",
      "9*1=9\t9*2=18\t9*3=27\t9*4=36\t9*5=45\t9*6=54\t9*7=63\t9*8=72\t9*9=81\t\n"
     ]
    }
   ],
   "source": [
    "\"\"\"\n",
    "输出乘法口诀表(九九表)\n",
    "\n",
    "\"\"\"\n",
    "\n",
    "for i in range(1, 10):\n",
    "    for j in range(1, i + 1):\n",
    "        print('%d*%d=%d' % (i, j, i * j), end='\\t')\n",
    "    print()"
   ]
  },
  {
   "cell_type": "markdown",
   "metadata": {},
   "source": [
    "### 练习\n",
    "\n",
    "#### 练习1：输入一个正整数判断是不是素数。\n",
    "\n",
    "> **提示**：素数指的是只能被1和自身整除的大于1的整数。\n"
   ]
  },
  {
   "cell_type": "code",
   "execution_count": 15,
   "metadata": {},
   "outputs": [
    {
     "name": "stdout",
     "output_type": "stream",
     "text": [
      "请输入一个正整数: 25\n",
      "25不是素数\n"
     ]
    }
   ],
   "source": [
    "\"\"\"\n",
    "输入一个正整数判断它是不是素数\n",
    "\"\"\"\n",
    "from math import sqrt\n",
    "\n",
    "num = int(input('请输入一个正整数: '))\n",
    "end = int(sqrt(num))\n",
    "is_prime = True\n",
    "for x in range(2, end + 1):\n",
    "    if num % x == 0:\n",
    "        is_prime = False\n",
    "        break\n",
    "if is_prime and num != 1:\n",
    "    print('%d是素数' % num)\n",
    "else:\n",
    "    print('%d不是素数' % num)"
   ]
  },
  {
   "cell_type": "markdown",
   "metadata": {},
   "source": [
    "#### 练习2：输入两个正整数，计算它们的最大公约数和最小公倍数。\n",
    "\n",
    "参考答案："
   ]
  },
  {
   "cell_type": "code",
   "execution_count": 16,
   "metadata": {},
   "outputs": [
    {
     "name": "stdout",
     "output_type": "stream",
     "text": [
      "x = 25\n",
      "y = 50\n",
      "25和50的最大公约数是25\n",
      "25和50的最小公倍数是50\n"
     ]
    }
   ],
   "source": [
    "\"\"\"\n",
    "输入两个正整数计算它们的最大公约数和最小公倍数\n",
    "\n",
    "\"\"\"\n",
    "\n",
    "x = int(input('x = '))\n",
    "y = int(input('y = '))\n",
    "# 如果x大于y就交换x和y的值\n",
    "if x > y:\n",
    "    # 通过下面的操作将y的值赋给x, 将x的值赋给y\n",
    "    x, y = y, x\n",
    "# 从两个数中较小的数开始做递减的循环\n",
    "for factor in range(x, 0, -1):\n",
    "    if x % factor == 0 and y % factor == 0:\n",
    "        print('%d和%d的最大公约数是%d' % (x, y, factor))\n",
    "        print('%d和%d的最小公倍数是%d' % (x, y, x * y // factor))\n",
    "        break"
   ]
  },
  {
   "cell_type": "markdown",
   "metadata": {},
   "source": [
    "#### 练习3：打印如下所示的三角形图案。\n",
    "\n",
    "```\n",
    "*\n",
    "**\n",
    "***\n",
    "****\n",
    "*****\n",
    "```\n",
    "\n",
    "```\n",
    "    *\n",
    "   **\n",
    "  ***\n",
    " ****\n",
    "*****\n",
    "```\n",
    "\n",
    "```\n",
    "    *\n",
    "   ***\n",
    "  *****\n",
    " *******\n",
    "*********\n",
    "```"
   ]
  },
  {
   "cell_type": "code",
   "execution_count": 17,
   "metadata": {},
   "outputs": [
    {
     "name": "stdout",
     "output_type": "stream",
     "text": [
      "请输入行数: 4\n",
      "*\n",
      "**\n",
      "***\n",
      "****\n",
      "   *\n",
      "  **\n",
      " ***\n",
      "****\n",
      "   *\n",
      "  ***\n",
      " *****\n",
      "*******\n"
     ]
    }
   ],
   "source": [
    "\"\"\"\n",
    "打印三角形图案\n",
    "\n",
    "\"\"\"\n",
    "\n",
    "row = int(input('请输入行数: '))\n",
    "for i in range(row):\n",
    "    for _ in range(i + 1):\n",
    "        print('*', end='')\n",
    "    print()\n",
    "\n",
    "\n",
    "for i in range(row):\n",
    "    for j in range(row): # 是一个方形，所以每一行遍历和行数一样的次数\n",
    "        if j < row - i - 1: # 对于每一行，先判断打印多少空格。空格数 = 行数 - 第几行的几\n",
    "            print(' ', end='')\n",
    "        else:\n",
    "            print('*', end='') # 空格打印结束，打印*号\n",
    "    print() # 打印完一行后换行\n",
    "\n",
    "for i in range(row): # 遍历所有行，每一行打印空格和*号\n",
    "    for _ in range(row - i - 1): # 空格数 = 行数 - 第几行的几\n",
    "        print(' ', end='')\n",
    "    for _ in range(2 * i + 1): # *数 = 第几行的几 * 2 + 1\n",
    "        print('*', end='')\n",
    "    print()\n"
   ]
  },
  {
   "cell_type": "markdown",
   "metadata": {},
   "source": [
    "## 构造程序逻辑\n",
    "\n",
    "学完前面的几个章节后，我觉得有必要在这里带大家做一些练习来巩固之前所学的知识，虽然迄今为止我们学习的内容只是Python的冰山一角，但是这些内容已经足够我们来构建程序中的逻辑。对于编程语言的初学者来说，在学习了Python的核心语言元素（变量、类型、运算符、表达式、分支结构、循环结构等）之后，必须做的一件事情就是尝试用所学知识去解决现实中的问题，换句话说就是锻炼自己把用人类自然语言描述的算法（解决问题的方法和步骤）翻译成Python代码的能力，而这件事情必须通过大量的练习才能达成。\n",
    "\n",
    "我们在本章为大家整理了一些经典的案例和习题，希望通过这些例子，一方面帮助大家巩固之前所学的Python知识，另一方面帮助大家了解如何建立程序中的逻辑以及如何运用一些简单的算法解决现实中的问题。\n",
    "\n",
    "### 经典的例子\n",
    "\n",
    "1. 寻找**水仙花数**。\n",
    "\n",
    "   > **说明**：水仙花数也被称为超完全数字不变数、自恋数、自幂数、阿姆斯特朗数，它是一个3位数，该数字每个位上数字的立方之和正好等于它本身，例如：$1^3 + 5^3+ 3^3=153$。"
   ]
  },
  {
   "cell_type": "code",
   "execution_count": 20,
   "metadata": {},
   "outputs": [
    {
     "name": "stdout",
     "output_type": "stream",
     "text": [
      "153\n",
      "370\n",
      "371\n",
      "407\n"
     ]
    }
   ],
   "source": [
    "\"\"\"\n",
    "找出所有水仙花数\n",
    "\"\"\"\n",
    "\n",
    "for num in range(100, 1000):\n",
    "   low = num % 10\n",
    "   mid = num // 10 % 10\n",
    "   high = num // 100\n",
    "   if num == low ** 3 + mid ** 3 + high ** 3:\n",
    "       print(num)"
   ]
  },
  {
   "cell_type": "markdown",
   "metadata": {},
   "source": [
    "   在上面的代码中，我们通过整除和求模运算分别找出了一个三位数的个位、十位和百位，这种小技巧在实际开发中还是常用的。用类似的方法，我们还可以实现将一个正整数反转，例如：将12345变成54321，代码如下所示。"
   ]
  },
  {
   "cell_type": "code",
   "execution_count": null,
   "metadata": {},
   "outputs": [],
   "source": [
    "\"\"\"\n",
    "正整数的反转\n",
    "依次取出一个正整数的个十百千...位，用这些数构造一个新的数；正整数对10取余数得到一个位，每次取完一个位，就把那个位的数字删除，\n",
    "一直到这个数的最高位被取完，这个数变为0。\n",
    "新的数 = 新的数 * 10 + 原数 % 10\n",
    "原数 = 原数 // 10\n",
    "也可以转换成字符串，再进行倒序，再转换成整数\n",
    "\n",
    "\"\"\"\n",
    "\n",
    "num = int(input('num = ')) # 原数\n",
    "reversed_num = 0 # 新数\n",
    "while num > 0: # 判断条件\n",
    "   reversed_num = reversed_num * 10 + num % 10 # 新数 = 新数 * 10 + 原数 % 10  构造新的数\n",
    "   num //= 10 # 原数 = 原数 // 10  删除最低位\n",
    "print(reversed_num)"
   ]
  },
  {
   "cell_type": "code",
   "execution_count": 21,
   "metadata": {},
   "outputs": [
    {
     "name": "stdout",
     "output_type": "stream",
     "text": [
      "num = 56138\n",
      "83165\n"
     ]
    }
   ],
   "source": [
    "# 使用字符串进行逆序\n",
    "s = str(input('num = ')) # 原数\n",
    "num = s[::-1]\n",
    "num = int(num)\n",
    "print(num)"
   ]
  },
  {
   "cell_type": "markdown",
   "metadata": {},
   "source": [
    "2. **百钱百鸡**问题。\n",
    "\n",
    "   > **说明**：百钱百鸡是我国古代数学家[张丘建](https://baike.baidu.com/item/%E5%BC%A0%E4%B8%98%E5%BB%BA/10246238)在《算经》一书中提出的数学问题：鸡翁一值钱五，鸡母一值钱三，鸡雏三值钱一。百钱买百鸡，问鸡翁、鸡母、鸡雏各几何？翻译成现代文是：公鸡5元一只，母鸡3元一只，小鸡1元三只，用100块钱买一百只鸡，问公鸡、母鸡、小鸡各有多少只？"
   ]
  },
  {
   "cell_type": "code",
   "execution_count": 22,
   "metadata": {},
   "outputs": [
    {
     "name": "stdout",
     "output_type": "stream",
     "text": [
      "公鸡: 0只, 母鸡: 25只, 小鸡: 75只\n",
      "公鸡: 4只, 母鸡: 18只, 小鸡: 78只\n",
      "公鸡: 8只, 母鸡: 11只, 小鸡: 81只\n",
      "公鸡: 12只, 母鸡: 4只, 小鸡: 84只\n"
     ]
    }
   ],
   "source": [
    "for x in range(0, 20):\n",
    "   for y in range(0, 33):\n",
    "       z = 100 - x - y\n",
    "       if 5 * x + 3 * y + z / 3 == 100:\n",
    "           print('公鸡: %d只, 母鸡: %d只, 小鸡: %d只' % (x, y, z))\n"
   ]
  },
  {
   "cell_type": "markdown",
   "metadata": {},
   "source": [
    "   上面使用的方法叫做**穷举法**，也称为**暴力搜索法**，这种方法通过一项一项的列举备选解决方案中所有可能的候选项并检查每个候选项是否符合问题的描述，最终得到问题的解。这种方法看起来比较笨拙，但对于运算能力非常强大的计算机来说，通常都是一个可行的甚至是不错的选择，而且问题的解如果存在，这种方法一定能够找到它。"
   ]
  },
  {
   "cell_type": "markdown",
   "metadata": {},
   "source": [
    "3. **CRAPS赌博游戏**。\n",
    "\n",
    "   > **说明**：CRAPS又称花旗骰，是美国拉斯维加斯非常受欢迎的一种的桌上赌博游戏。该游戏使用两粒骰子，玩家通过摇两粒骰子获得点数进行游戏。简单的规则是：玩家第一次摇骰子如果摇出了7点或11点，玩家胜；玩家第一次如果摇出2点、3点或12点，庄家胜；其他点数玩家继续摇骰子，如果玩家摇出了7点，庄家胜；如果玩家摇出了第一次摇的点数，玩家胜；其他点数，玩家继续要骰子，直到分出胜负。"
   ]
  },
  {
   "cell_type": "code",
   "execution_count": 23,
   "metadata": {},
   "outputs": [
    {
     "name": "stdout",
     "output_type": "stream",
     "text": [
      "你的总资产为: 1000\n",
      "请下注: 500\n",
      "玩家摇出了6点\n",
      "玩家摇出了9点\n",
      "玩家摇出了7点\n",
      "庄家胜\n",
      "你的总资产为: 500\n",
      "请下注: 100\n",
      "玩家摇出了7点\n",
      "玩家胜!\n",
      "你的总资产为: 600\n",
      "请下注: 500\n",
      "玩家摇出了5点\n",
      "玩家摇出了7点\n",
      "庄家胜\n",
      "你的总资产为: 100\n",
      "请下注: 100\n",
      "玩家摇出了4点\n",
      "玩家摇出了7点\n",
      "庄家胜\n",
      "你破产了, 游戏结束!\n"
     ]
    }
   ],
   "source": [
    "\"\"\"\n",
    "Craps赌博游戏\n",
    "我们设定玩家开始游戏时有1000元的赌注\n",
    "游戏结束的条件是玩家输光所有的赌注\n",
    "\"\"\"\n",
    "from random import randint\n",
    "\n",
    "money = 1000 #初始资金\n",
    "while money > 0: #退出条件\n",
    "   print('你的总资产为:', money)\n",
    "   needs_go_on = False #玩过一次之后是否需要接着玩\n",
    "   while True:\n",
    "       debt = int(input('请下注: '))\n",
    "       if 0 < debt <= money: # 判断下注没有超过本金 并且大于0\n",
    "           break\n",
    "   first = randint(1, 6) + randint(1, 6)\n",
    "   print('玩家摇出了%d点' % first)\n",
    "   if first == 7 or first == 11:\n",
    "       print('玩家胜!')\n",
    "       money += debt\n",
    "   elif first == 2 or first == 3 or first == 12:\n",
    "       print('庄家胜!')\n",
    "       money -= debt\n",
    "   else:\n",
    "       needs_go_on = True\n",
    "   while needs_go_on:\n",
    "       needs_go_on = False\n",
    "       current = randint(1, 6) + randint(1, 6)\n",
    "       print('玩家摇出了%d点' % current)\n",
    "       if current == 7:\n",
    "           print('庄家胜')\n",
    "           money -= debt\n",
    "       elif current == first:\n",
    "           print('玩家胜')\n",
    "           money += debt\n",
    "       else:\n",
    "           needs_go_on = True\n",
    "print('你破产了, 游戏结束!')"
   ]
  },
  {
   "cell_type": "markdown",
   "metadata": {},
   "source": [
    "### 有用的练习 \n",
    "\n",
    "1. 生成**斐波那契数列**的前20个数。\n",
    "\n",
    "   > **说明**：斐波那契数列（Fibonacci sequence），又称黄金分割数列，是意大利数学家莱昂纳多·斐波那契（Leonardoda Fibonacci）在《计算之书》中提出一个在理想假设条件下兔子成长率的问题而引入的数列，所以这个数列也被戏称为&quot;兔子数列&quot;。斐波那契数列的特点是数列的前两个数都是1，从第三个数开始，每个数都是它前面两个数的和，形如：1, 1, 2, 3, 5, 8, 13, 21, 34, 55, 89, 144, ...。斐波那契数列在现代物理、准晶体结构、化学等领域都有直接的应用。"
   ]
  },
  {
   "cell_type": "code",
   "execution_count": 27,
   "metadata": {},
   "outputs": [
    {
     "name": "stdout",
     "output_type": "stream",
     "text": [
      "1 1 2 3 5 8 13 21 34 55 89 144 233 377 610 987 1597 2584 4181 6765 "
     ]
    }
   ],
   "source": [
    "a = 0\n",
    "b = 1\n",
    "for _ in range(20):\n",
    "    a,b = b, a+b\n",
    "    print(a, end = \" \")"
   ]
  },
  {
   "cell_type": "markdown",
   "metadata": {},
   "source": [
    "2. 找出10000以内的**完美数**。\n",
    "\n",
    "   > **说明**：完美数又称为完全数或完备数，它的所有的真因子（即除了自身以外的因子）的和（即因子函数）恰好等于它本身。例如：6（$6=1+2+3$）和28（$28=1+2+4+7+14$）就是完美数。完美数有很多神奇的特性，有兴趣的可以自行了解。"
   ]
  },
  {
   "cell_type": "code",
   "execution_count": 16,
   "metadata": {},
   "outputs": [
    {
     "name": "stdout",
     "output_type": "stream",
     "text": [
      "1\n",
      "6\n",
      "28\n",
      "496\n",
      "8128\n"
     ]
    }
   ],
   "source": [
    "from math import sqrt\n",
    "\n",
    "for num in range(1, 10000): # 遍历所有的数\n",
    "    result = 0 # 留作计算每个数的因子总和\n",
    "    for factor in range(1, int(sqrt(num)) + 1): # 遍历找到某个数的所有因子，不需要遍历到这个数的最后一项，到平方根+1即可\n",
    "        if num % factor == 0:\n",
    "            result += factor # 找到一个因子，加上去\n",
    "            if factor > 1 and num // factor != factor: # 找到这个因子的对应因子，去除数本身和平方根，这解释了为什么遍历到平方根+1即可\n",
    "                result += num / factor\n",
    "    if result == num:\n",
    "        print(num)"
   ]
  },
  {
   "cell_type": "markdown",
   "metadata": {},
   "source": [
    "3. 输出**100以内所有的素数**。\n",
    "\n",
    "   > **说明**：素数指的是只能被1和自身整除的正整数（不包括1）。\n"
   ]
  },
  {
   "cell_type": "code",
   "execution_count": 23,
   "metadata": {},
   "outputs": [
    {
     "name": "stdout",
     "output_type": "stream",
     "text": [
      "2 3 5 7 11 13 17 19 23 29 31 37 41 43 47 53 59 61 67 71 73 79 83 89 97 "
     ]
    }
   ],
   "source": [
    "import math\n",
    "\n",
    "for num in range(2,100): #遍历所有的数\n",
    "    is_prime = True #假设是素数，用后面不满足素数的情况赋值False\n",
    "    for factor in range(2,int(math.sqrt(num))+1):\n",
    "        if num % factor == 0:\n",
    "            is_prime = False\n",
    "            break\n",
    "    if is_prime:\n",
    "        print(num,end=\" \")"
   ]
  },
  {
   "cell_type": "code",
   "execution_count": null,
   "metadata": {},
   "outputs": [],
   "source": []
  }
 ],
 "metadata": {
  "kernelspec": {
   "display_name": "Python 3",
   "language": "python",
   "name": "python3"
  },
  "language_info": {
   "codemirror_mode": {
    "name": "ipython",
    "version": 3
   },
   "file_extension": ".py",
   "mimetype": "text/x-python",
   "name": "python",
   "nbconvert_exporter": "python",
   "pygments_lexer": "ipython3",
   "version": "3.7.4"
  }
 },
 "nbformat": 4,
 "nbformat_minor": 2
}
