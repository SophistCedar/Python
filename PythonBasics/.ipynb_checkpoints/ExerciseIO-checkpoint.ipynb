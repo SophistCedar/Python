{
 "cells": [
  {
   "cell_type": "markdown",
   "metadata": {},
   "source": [
    "# 字符串"
   ]
  },
  {
   "cell_type": "raw",
   "metadata": {},
   "source": [
    "题目描述 \n",
    "对输入的字符串进行排序后输出\n",
    "输入描述:\n",
    "输入有两行，第一行n\n",
    "第二行是n个空格隔开的字符串\n",
    "输出描述:\n",
    "输出一行排序后的字符串，空格隔开，无结尾空格"
   ]
  },
  {
   "cell_type": "code",
   "execution_count": 3,
   "metadata": {},
   "outputs": [
    {
     "name": "stdout",
     "output_type": "stream",
     "text": [
      "2\n",
      "jh jkn\n",
      "jh jkn\n",
      "\n"
     ]
    }
   ],
   "source": [
    "while True:\n",
    "    try:\n",
    "        n = int(input())\n",
    "        x = list(map(str,input().split()))\n",
    "        x.sort()\n",
    "        print(\" \".join(x))\n",
    "    except:\n",
    "        break"
   ]
  },
  {
   "cell_type": "raw",
   "metadata": {},
   "source": [
    "题目描述 \n",
    "对输入的字符串进行排序后输出\n",
    "输入描述:\n",
    "多个测试用例，每个测试用例一行。\n",
    "每行通过空格隔开，有n个字符，n＜100\n",
    "输出描述:\n",
    "对于每组测试用例，输出一行排序过的字符串，每个字符串通过空格隔开"
   ]
  },
  {
   "cell_type": "code",
   "execution_count": null,
   "metadata": {},
   "outputs": [],
   "source": [
    "while True:\n",
    "    try:\n",
    "        x=list(map(str,input().split(' ')))\n",
    "        x.sort()\n",
    "        print(' '.join(x))\n",
    "    except:\n",
    "        break"
   ]
  },
  {
   "cell_type": "raw",
   "metadata": {},
   "source": [
    "题目描述 \n",
    "对输入的字符串进行排序后输出\n",
    "输入描述:\n",
    "多个测试用例，每个测试用例一行。\n",
    "每行通过,隔开，有n个字符，n＜100\n",
    "输出描述:\n",
    "对于每组用例输出一行排序后的字符串，用','隔开，无结尾空格"
   ]
  },
  {
   "cell_type": "code",
   "execution_count": null,
   "metadata": {},
   "outputs": [],
   "source": [
    "while True:\n",
    "    try:\n",
    "        x=list(map(str,input().split(',')))\n",
    "        x.sort()\n",
    "        print(','.join(x))\n",
    "    except:\n",
    "        break"
   ]
  },
  {
   "cell_type": "raw",
   "metadata": {},
   "source": [
    "输入描述:\n",
    "输入有多组测试用例，每组空格隔开两个整数\n",
    "输出描述:\n",
    "对于每组数据输出一行两个整数的和"
   ]
  },
  {
   "cell_type": "code",
   "execution_count": null,
   "metadata": {},
   "outputs": [],
   "source": [
    "while True:\n",
    "    try:\n",
    "        x = list(map(int,input().split()))\n",
    "        print(sum(x))\n",
    "    except:\n",
    "        break"
   ]
  },
  {
   "cell_type": "markdown",
   "metadata": {},
   "source": [
    "# 整数"
   ]
  },
  {
   "cell_type": "raw",
   "metadata": {},
   "source": [
    "题目描述 \n",
    "计算a+b\n",
    "输入描述:\n",
    "输入包括两个正整数a,b(1 <= a, b <= 10^9),输入数据包括多组。\n",
    "输出描述:\n",
    "输出a+b的结果"
   ]
  },
  {
   "cell_type": "code",
   "execution_count": null,
   "metadata": {},
   "outputs": [],
   "source": [
    "while True:\n",
    "    try:\n",
    "        a,b = map(int,input().split())\n",
    "        print(a+b)\n",
    "    except:\n",
    "        break"
   ]
  },
  {
   "cell_type": "raw",
   "metadata": {},
   "source": [
    "题目描述 \n",
    "计算a+b\n",
    "输入描述:\n",
    "输入第一行包括一个数据组数t(1 <= t <= 100)\n",
    "接下来每行包括两个正整数a,b(1 <= a, b <= 10^9)\n",
    "输出描述:\n",
    "输出a+b的结果"
   ]
  },
  {
   "cell_type": "code",
   "execution_count": null,
   "metadata": {},
   "outputs": [],
   "source": [
    "input()\n",
    "while True:\n",
    "    try:\n",
    "        a,b = map(int,input().split())\n",
    "        print(a+b)\n",
    "    except:\n",
    "        break"
   ]
  },
  {
   "cell_type": "raw",
   "metadata": {},
   "source": [
    "题目描述 \n",
    "计算a+b\n",
    "输入描述:\n",
    "输入包括两个正整数a,b(1 <= a, b <= 10^9),输入数据有多组, 如果输入为0 0则结束输入\n",
    "输出描述:\n",
    "输出a+b的结果"
   ]
  },
  {
   "cell_type": "code",
   "execution_count": null,
   "metadata": {},
   "outputs": [],
   "source": [
    "while True:\n",
    "    a, b = map(int, input().split())\n",
    "    if a + b:\n",
    "        print(a + b)\n",
    "    else: \n",
    "        break"
   ]
  },
  {
   "cell_type": "raw",
   "metadata": {},
   "source": [
    "题目描述 \n",
    "计算一系列数的和\n",
    "输入描述:\n",
    "输入数据包括多组。\n",
    "每组数据一行,每行的第一个整数为整数的个数n(1 <= n <= 100), n为0的时候结束输入。\n",
    "接下来n个正整数,即需要求和的每个正整数。\n",
    "输出描述:\n",
    "每组数据输出求和的结果"
   ]
  },
  {
   "cell_type": "code",
   "execution_count": null,
   "metadata": {},
   "outputs": [],
   "source": [
    "while True:\n",
    "    nums = list(map(int,input().split()))\n",
    "    sum = 0\n",
    "    if len(nums) == 1:\n",
    "        break\n",
    "    else:\n",
    "        for i in range(1,len(nums)):\n",
    "            sum += nums[i]\n",
    "        print(sum)"
   ]
  },
  {
   "cell_type": "raw",
   "metadata": {},
   "source": [
    "题目描述 \n",
    "计算一系列数的和\n",
    "输入描述:\n",
    "输入的第一行包括一个正整数t(1 <= t <= 100), 表示数据组数。\n",
    "接下来t行, 每行一组数据。\n",
    "每行的第一个整数为整数的个数n(1 <= n <= 100)。\n",
    "接下来n个正整数, 即需要求和的每个正整数。\n",
    "输出描述:\n",
    "每组数据输出求和的结果"
   ]
  },
  {
   "cell_type": "code",
   "execution_count": null,
   "metadata": {},
   "outputs": [],
   "source": [
    "t = int(input())\n",
    "for i in range(t):\n",
    "    sum = 0\n",
    "    nums = list(map(int,input().split()))\n",
    "    for j in range(1,len(nums)):\n",
    "        sum += nums[j]\n",
    "    print(sum)"
   ]
  },
  {
   "cell_type": "raw",
   "metadata": {},
   "source": [
    "题目描述 \n",
    "计算一系列数的和\n",
    "输入描述:\n",
    "输入数据有多组, 每行表示一组输入数据。\n",
    "每行的第一个整数为整数的个数n(1 <= n <= 100)。\n",
    "接下来n个正整数, 即需要求和的每个正整数。\n",
    "输出描述:\n",
    "每组数据输出求和的结果"
   ]
  },
  {
   "cell_type": "code",
   "execution_count": null,
   "metadata": {},
   "outputs": [],
   "source": [
    "while True:\n",
    "    try:\n",
    "        sum = 0\n",
    "        nums = list(map(int,input().split()))\n",
    "        for i in range(1,len(nums)):\n",
    "            sum += nums[i]\n",
    "        print(sum)\n",
    "    except:\n",
    "        break"
   ]
  },
  {
   "cell_type": "raw",
   "metadata": {},
   "source": [
    "题目描述 \n",
    "计算一系列数的和\n",
    "输入描述:\n",
    "输入数据有多组, 每行表示一组输入数据。\n",
    "每行不定有n个整数，空格隔开。(1 <= n <= 100)。\n",
    "输出描述:\n",
    "每组数据输出求和的结果"
   ]
  },
  {
   "cell_type": "code",
   "execution_count": null,
   "metadata": {},
   "outputs": [],
   "source": [
    "while True:\n",
    "    try:\n",
    "        sum = 0\n",
    "        nums = list(map(int,input().split()))\n",
    "        for i in range(len(nums)):\n",
    "            sum += nums[i]\n",
    "        print(sum)\n",
    "    except:\n",
    "        break"
   ]
  }
 ],
 "metadata": {
  "kernelspec": {
   "display_name": "Python 3",
   "language": "python",
   "name": "python3"
  },
  "language_info": {
   "codemirror_mode": {
    "name": "ipython",
    "version": 3
   },
   "file_extension": ".py",
   "mimetype": "text/x-python",
   "name": "python",
   "nbconvert_exporter": "python",
   "pygments_lexer": "ipython3",
   "version": "3.7.4"
  }
 },
 "nbformat": 4,
 "nbformat_minor": 2
}
