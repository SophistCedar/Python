{
 "cells": [
  {
   "cell_type": "code",
   "execution_count": 1,
   "metadata": {},
   "outputs": [
    {
     "name": "stdout",
     "output_type": "stream",
     "text": [
      "35\n"
     ]
    }
   ],
   "source": [
    "\"\"\"\n",
    "函数的定义和使用 - 计算组合数C(7,3)\n",
    "\n",
    "Version: 0.1\n",
    "Author: 骆昊\n",
    "Date: 2018-03-05\n",
    "\"\"\"\n",
    "\n",
    "\n",
    "# 将求阶乘的功能封装成一个函数\n",
    "def factorial(n):\n",
    "    result = 1\n",
    "    for num in range(1, n + 1):\n",
    "        result *= num\n",
    "    return result\n",
    "\n",
    "\n",
    "print(factorial(7) // factorial(3) // factorial(4))\n"
   ]
  },
  {
   "cell_type": "code",
   "execution_count": 6,
   "metadata": {},
   "outputs": [
    {
     "name": "stdout",
     "output_type": "stream",
     "text": [
      "3\n",
      "135\n",
      "1\n"
     ]
    }
   ],
   "source": [
    "\"\"\"\n",
    "函数的定义和使用 - 求最大公约数和最小公倍数\n",
    "\n",
    "Version: 0.1\n",
    "Author: 骆昊\n",
    "Date: 2018-03-05\n",
    "\"\"\"\n",
    "\n",
    "\n",
    "def gcd(x, y):\n",
    "    if x > y:\n",
    "        (x, y) = (y, x)\n",
    "    for factor in range(x, 1, -1):\n",
    "        if x % factor == 0 and y % factor == 0:\n",
    "            return factor\n",
    "    return 1 # 最大公约数是1的情况\n",
    "\n",
    "\n",
    "def lcm(x, y):\n",
    "    return x * y // gcd(x, y)\n",
    "\n",
    "\n",
    "print(gcd(15, 27))\n",
    "print(lcm(15, 27))\n",
    "print(gcd(1,2))"
   ]
  },
  {
   "cell_type": "code",
   "execution_count": 7,
   "metadata": {},
   "outputs": [
    {
     "name": "stdout",
     "output_type": "stream",
     "text": [
      "骆\n",
      "0x9a86\n",
      "1.2345\n",
      "-1\n",
      "2.8671833852463537\n",
      "['peach', 'durian']\n",
      "['orange', 'peach', 'durian', 'watermelon']\n",
      "['orange', 'durian']\n"
     ]
    }
   ],
   "source": [
    "\"\"\"\n",
    "Python的内置函数\n",
    "- 数学相关: abs / divmod / pow / round / min / max / sum\n",
    "- 序列相关: len / range / next / filter / map / sorted / slice / reversed\n",
    "- 类型转换: chr / ord / str / bool / int / float / complex / bin / oct / hex\n",
    "- 数据结构: dict / list / set / tuple\n",
    "- 其他函数: all / any / id / input / open / print / type\n",
    "\n",
    "Version: 0.1\n",
    "Author: 骆昊\n",
    "Date: 2018-03-05\n",
    "\"\"\"\n",
    "\n",
    "\n",
    "def myfilter(mystr):\n",
    "    return len(mystr) == 6\n",
    "\n",
    "\n",
    "# help()\n",
    "print(chr(0x9a86))\n",
    "print(hex(ord('骆')))\n",
    "print(abs(-1.2345))\n",
    "print(round(-1.2345))\n",
    "print(pow(1.2345, 5))\n",
    "fruits = ['orange', 'peach', 'durian', 'watermelon']\n",
    "print(fruits[slice(1, 3)])\n",
    "fruits2 = list(filter(myfilter, fruits))\n",
    "print(fruits)\n",
    "print(fruits2)\n"
   ]
  },
  {
   "cell_type": "code",
   "execution_count": 13,
   "metadata": {},
   "outputs": [
    {
     "name": "stdout",
     "output_type": "stream",
     "text": [
      "1587639675.9820702\n",
      "time.struct_time(tm_year=2020, tm_mon=4, tm_mday=23, tm_hour=19, tm_min=1, tm_sec=15, tm_wday=3, tm_yday=114, tm_isdst=0)\n",
      "2020\n",
      "4\n",
      "23\n",
      "Thu Apr 23 19:01:15 2020\n",
      "2020-04-23 19:01:15\n",
      "time.struct_time(tm_year=2018, tm_mon=1, tm_mday=1, tm_hour=0, tm_min=0, tm_sec=0, tm_wday=0, tm_yday=1, tm_isdst=-1)\n"
     ]
    }
   ],
   "source": [
    "\"\"\"\n",
    "Python常用模块\n",
    "- 运行时服务相关模块: copy / pickle / sys / ...\n",
    "- 数学相关模块: decimal / math / random / ...\n",
    "- 字符串处理模块: codecs / re / ...\n",
    "- 文件处理相关模块: shutil / gzip / ...\n",
    "- 操作系统服务相关模块: datetime / os / time / logging / io / ...\n",
    "- 进程和线程相关模块: multiprocessing / threading / queue\n",
    "- 网络应用相关模块: ftplib / http / smtplib / urllib / ...\n",
    "- Web编程相关模块: cgi / webbrowser\n",
    "- 数据处理和编码模块: base64 / csv / html.parser / json / xml / ...\n",
    "\n",
    "Version: 0.1\n",
    "Author: 骆昊\n",
    "Date: 2018-03-05\n",
    "\"\"\"\n",
    "\n",
    "import time\n",
    "seconds = time.time()# Return the current time in seconds since the Epoch.\n",
    "print(seconds)\n",
    "localtime = time.localtime(seconds)# Convert seconds since the Epoch to a time tuple expressing local time.\n",
    "print(localtime)\n",
    "print(localtime.tm_year)\n",
    "print(localtime.tm_mon)\n",
    "print(localtime.tm_mday)\n",
    "asctime = time.asctime(localtime)# Convert a time tuple to a string\n",
    "print(asctime)\n",
    "strtime = time.strftime('%Y-%m-%d %H:%M:%S', localtime)# Convert a time tuple to a string according to a format specification.\n",
    "print(strtime)\n",
    "mydate = time.strptime('2018-1-1', '%Y-%m-%d')# Parse a string to a time tuple according to a format specification.\n",
    "print(mydate)"
   ]
  },
  {
   "cell_type": "code",
   "execution_count": 15,
   "metadata": {},
   "outputs": [
    {
     "data": {
      "text/plain": [
       "1"
      ]
     },
     "execution_count": 15,
     "metadata": {},
     "output_type": "execute_result"
    }
   ],
   "source": [
    "import os\n",
    "os.system('ls -l')\n",
    "os.system('ls -l')\n",
    "os.mkdir('test')"
   ]
  },
  {
   "cell_type": "code",
   "execution_count": 16,
   "metadata": {},
   "outputs": [
    {
     "name": "stdout",
     "output_type": "stream",
     "text": [
      "14\n",
      "530\n",
      "140\n",
      "13\n"
     ]
    }
   ],
   "source": [
    "\"\"\"\n",
    "函数的参数\n",
    "- 位置参数\n",
    "- 可变参数\n",
    "- 关键字参数\n",
    "- 命名关键字参数\n",
    "\n",
    "Version: 0.1\n",
    "Author: 骆昊\n",
    "Date: 2018-03-05\n",
    "\"\"\"\n",
    "\n",
    "\n",
    "# 参数默认值\n",
    "def f1(a, b=5, c=10):\n",
    "    return a + b * 2 + c * 3\n",
    "\n",
    "\n",
    "print(f1(1, 2, 3))\n",
    "print(f1(100, 200))\n",
    "print(f1(100))\n",
    "print(f1(c=2, b=3, a=1))"
   ]
  },
  {
   "cell_type": "code",
   "execution_count": 17,
   "metadata": {},
   "outputs": [
    {
     "name": "stdout",
     "output_type": "stream",
     "text": [
      "6\n",
      "15\n",
      "0\n"
     ]
    }
   ],
   "source": [
    "# 可变参数\n",
    "def f2(*args):\n",
    "    sum = 0\n",
    "    for num in args:\n",
    "        sum += num\n",
    "    return sum\n",
    "\n",
    "\n",
    "print(f2(1, 2, 3))\n",
    "print(f2(1, 2, 3, 4, 5))\n",
    "print(f2())"
   ]
  },
  {
   "cell_type": "code",
   "execution_count": 18,
   "metadata": {},
   "outputs": [
    {
     "name": "stdout",
     "output_type": "stream",
     "text": [
      "欢迎你骆昊!\n",
      "欢迎你骆昊!\n",
      "你的联系电话是: 13866778899!\n",
      "没找到你的个人信息!\n"
     ]
    }
   ],
   "source": [
    "# 关键字参数\n",
    "def f3(**kw):\n",
    "    if 'name' in kw:\n",
    "        print('欢迎你%s!' % kw['name'])\n",
    "    elif 'tel' in kw:\n",
    "        print('你的联系电话是: %s!' % kw['tel'])\n",
    "    else:\n",
    "        print('没找到你的个人信息!')\n",
    "\n",
    "\n",
    "param = {'name': '骆昊', 'age': 38}\n",
    "f3(**param)\n",
    "f3(name='骆昊', age=38, tel='13866778899')\n",
    "f3(user='骆昊', age=38, tel='13866778899')\n",
    "f3(user='骆昊', age=38, mobile='13866778899')"
   ]
  },
  {
   "cell_type": "code",
   "execution_count": 19,
   "metadata": {},
   "outputs": [],
   "source": [
    "\"\"\"\n",
    "作用域问题\n",
    "\n",
    "Version: 0.1\n",
    "Author: 骆昊\n",
    "Date: 2018-03-05\n",
    "\"\"\"\n",
    "\n",
    "# 局部作用域\n",
    "def foo1():\n",
    "    a = 5\n",
    "foo1()\n",
    "# print(a)  # NameError"
   ]
  },
  {
   "cell_type": "code",
   "execution_count": 20,
   "metadata": {},
   "outputs": [
    {
     "name": "stdout",
     "output_type": "stream",
     "text": [
      "10\n"
     ]
    }
   ],
   "source": [
    "# 全局作用域\n",
    "b = 10\n",
    "def foo2():\n",
    "    print(b)\n",
    "foo2()"
   ]
  },
  {
   "cell_type": "code",
   "execution_count": 22,
   "metadata": {},
   "outputs": [
    {
     "name": "stdout",
     "output_type": "stream",
     "text": [
      "100\n",
      "5\n"
     ]
    }
   ],
   "source": [
    "b = 5\n",
    "def foo3():\n",
    "    b = 100     # 局部变量 只是一个叫做b的变量而已\n",
    "    print(b)\n",
    "foo3() # 此处调用不改变全局变量的值\n",
    "print(b)"
   ]
  },
  {
   "cell_type": "code",
   "execution_count": 25,
   "metadata": {},
   "outputs": [
    {
     "name": "stdout",
     "output_type": "stream",
     "text": [
      "200\n",
      "200\n"
     ]
    }
   ],
   "source": [
    "b = 5\n",
    "def foo4():\n",
    "    global b\n",
    "    b = 200     # 全局变量\n",
    "    print(b)\n",
    "foo4() #此处调用已经改变了全局变量b的值\n",
    "print(b)"
   ]
  },
  {
   "cell_type": "code",
   "execution_count": null,
   "metadata": {},
   "outputs": [],
   "source": []
  },
  {
   "cell_type": "code",
   "execution_count": null,
   "metadata": {},
   "outputs": [],
   "source": []
  },
  {
   "cell_type": "code",
   "execution_count": null,
   "metadata": {},
   "outputs": [],
   "source": []
  }
 ],
 "metadata": {
  "kernelspec": {
   "display_name": "Python 3",
   "language": "python",
   "name": "python3"
  },
  "language_info": {
   "codemirror_mode": {
    "name": "ipython",
    "version": 3
   },
   "file_extension": ".py",
   "mimetype": "text/x-python",
   "name": "python",
   "nbconvert_exporter": "python",
   "pygments_lexer": "ipython3",
   "version": "3.7.4"
  }
 },
 "nbformat": 4,
 "nbformat_minor": 2
}
