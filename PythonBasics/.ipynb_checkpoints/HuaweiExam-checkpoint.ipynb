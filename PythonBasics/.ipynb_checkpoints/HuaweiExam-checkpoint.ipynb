{
 "cells": [
  {
   "cell_type": "code",
   "execution_count": 37,
   "metadata": {},
   "outputs": [
    {
     "name": "stdout",
     "output_type": "stream",
     "text": [
      "[0, 9, 14, 22]\n"
     ]
    }
   ],
   "source": [
    "import re\n",
    "t = \"5a 12 5b ba 34 5b bb 88 05 5a 75 cd bb 62 5a 34 cd 78 cc da fb 06 5a\"\n",
    "pattern = re.compile(r'^5a*5a')"
   ]
  },
  {
   "cell_type": "code",
   "execution_count": 35,
   "metadata": {},
   "outputs": [
    {
     "name": "stdout",
     "output_type": "stream",
     "text": [
      "['5a', '12', '5b', 'ba', '34', '5b', 'bb', '88', '05', '5a', '75', 'cd', 'bb', '62', '5a', '34', 'cd', '78', 'cc', 'da', 'fb', '06', '5a']\n",
      "0 9 14 22\n"
     ]
    }
   ],
   "source": []
  },
  {
   "cell_type": "code",
   "execution_count": 24,
   "metadata": {},
   "outputs": [
    {
     "name": "stdout",
     "output_type": "stream",
     "text": [
      "['5a', '12', '5b', 'ba', '34', '5b', 'bb', '88', '05'] ['5a', '75', 'cd', 'bb', '62'] ['5a', '34', 'cd', '78', 'cc', 'da', 'fb', '06']\n"
     ]
    }
   ],
   "source": [
    "lst1 = lst_copy[loc1:loc2].copy()\n",
    "lst2 = lst_copy[loc2:loc3].copy()\n",
    "lst3 = lst_copy[loc3:loc4].copy()\n",
    "print(lst1,lst2,lst3)"
   ]
  },
  {
   "cell_type": "code",
   "execution_count": 30,
   "metadata": {},
   "outputs": [],
   "source": [
    "def check_length(lst):\n",
    "    s1 = \" \".join(lst[1:-1])\n",
    "    ret = re.sub(r\"5b ba\",\"5a\",s1)\n",
    "    ret2 = re.sub(r\"5b bb\",\"5b\",ret)\n",
    "    return len(list(ret2.split())) == int(lst[-1])"
   ]
  },
  {
   "cell_type": "code",
   "execution_count": 31,
   "metadata": {},
   "outputs": [
    {
     "data": {
      "text/plain": [
       "True"
      ]
     },
     "execution_count": 31,
     "metadata": {},
     "output_type": "execute_result"
    }
   ],
   "source": [
    "check_length(lst1)"
   ]
  },
  {
   "cell_type": "code",
   "execution_count": 32,
   "metadata": {},
   "outputs": [
    {
     "data": {
      "text/plain": [
       "False"
      ]
     },
     "execution_count": 32,
     "metadata": {},
     "output_type": "execute_result"
    }
   ],
   "source": [
    "check_length(lst2)"
   ]
  },
  {
   "cell_type": "code",
   "execution_count": 33,
   "metadata": {},
   "outputs": [
    {
     "data": {
      "text/plain": [
       "True"
      ]
     },
     "execution_count": 33,
     "metadata": {},
     "output_type": "execute_result"
    }
   ],
   "source": [
    "check_length(lst3)"
   ]
  },
  {
   "cell_type": "code",
   "execution_count": null,
   "metadata": {},
   "outputs": [],
   "source": []
  }
 ],
 "metadata": {
  "kernelspec": {
   "display_name": "Python 3",
   "language": "python",
   "name": "python3"
  },
  "language_info": {
   "codemirror_mode": {
    "name": "ipython",
    "version": 3
   },
   "file_extension": ".py",
   "mimetype": "text/x-python",
   "name": "python",
   "nbconvert_exporter": "python",
   "pygments_lexer": "ipython3",
   "version": "3.7.4"
  }
 },
 "nbformat": 4,
 "nbformat_minor": 2
}
