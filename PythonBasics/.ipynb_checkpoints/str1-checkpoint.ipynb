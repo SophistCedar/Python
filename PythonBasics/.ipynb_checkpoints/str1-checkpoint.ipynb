{
 "cells": [
  {
   "cell_type": "code",
   "execution_count": null,
   "metadata": {},
   "outputs": [],
   "source": [
    "# 字符串降重，保留原有字符出现的次序\n",
    "while True:\n",
    "    try:\n",
    "        s = str(input()) #输入数据定义为字符串\n",
    "        b = list(set(s)) #使用set降重，转换成列表\n",
    "        b.sort(key=s.index) #根据原有字符串index排序列表\n",
    "        print(\"\".join(b))\n",
    "    except:\n",
    "        break"
   ]
  },
  {
   "cell_type": "raw",
   "metadata": {},
   "source": [
    "切片 split\n",
    "连接 join\n",
    "首尾处理 strip rstrip lstrip\n",
    "查找 find rfind index rindex\n",
    "替换 replace expandtabs\n",
    "访问 更新 运算 + * len max min in \n",
    "计数 count \n",
    "大小写转换 upper lower title capititle swapcase\n",
    "解码编码 decode encode\n",
    "判断字符串内容 isupper islower istitle startwith endwith isdecimal isalpha isalnum isspace\n",
    "居中和左右对齐 rjust ljust center"
   ]
  },
  {
   "cell_type": "markdown",
   "metadata": {},
   "source": [
    "# 切片与连接"
   ]
  },
  {
   "cell_type": "code",
   "execution_count": 87,
   "metadata": {},
   "outputs": [
    {
     "name": "stdout",
     "output_type": "stream",
     "text": [
      "['this', 'is', 'string', 'example....wow!!!']\n",
      "['th', 's is string example....wow!!!']\n",
      "['this is string example....', 'o', '!!!']\n",
      "['this is string example....w', 'w!!!']\n",
      "['Google', 'Runoob#Taobao#Facebook']\n"
     ]
    }
   ],
   "source": [
    "# split() 通过指定分隔符对字符串进行切片，如果第二个参数 num 有指定值，则分割为 num+1 个子字符串。\n",
    "str = \"this is string example....wow!!!\"\n",
    "print (str.split( ))       # 以空格为分隔符\n",
    "print (str.split('i',1))   # 以 i 为分隔符\n",
    "print (str.split('w'))     # 以 w 为分隔符\n",
    "print (str.split('o'))     # 以 w 为分隔符\n",
    "\n",
    "txt = \"Google#Runoob#Taobao#Facebook\"\n",
    "# 第二个参数为 1，返回两个参数列表\n",
    "x = txt.split(\"#\", 1)\n",
    "print(x)"
   ]
  },
  {
   "cell_type": "code",
   "execution_count": 46,
   "metadata": {},
   "outputs": [
    {
     "name": "stdout",
     "output_type": "stream",
     "text": [
      "r-u-n-o-o-b\n",
      "runoob\n"
     ]
    }
   ],
   "source": [
    "# Python join() 方法用于将序列中的元素以指定的字符连接生成一个新的字符串。\n",
    "# str.join(sequence)\n",
    "s1 = \"-\"\n",
    "s2 = \"\"\n",
    "seq = (\"r\", \"u\", \"n\", \"o\", \"o\", \"b\") # 字符串序列\n",
    "print (s1.join( seq ))\n",
    "print (s2.join( seq ))"
   ]
  },
  {
   "cell_type": "markdown",
   "metadata": {},
   "source": [
    "# 删除首/尾的指定元素"
   ]
  },
  {
   "cell_type": "code",
   "execution_count": 88,
   "metadata": {},
   "outputs": [
    {
     "name": "stdout",
     "output_type": "stream",
     "text": [
      "this is **string** example....wow!!!\n",
      "3abcrunoob3\n"
     ]
    }
   ],
   "source": [
    "# Python strip() 方法用于移除字符串头尾指定的字符（默认为空格）或字符序列。\n",
    "str = \"*****this is **string** example....wow!!!*****\"\n",
    "print (str.strip( '*' ))  # 指定字符串 *\n",
    "str = \"123abcrunoob321\"\n",
    "print (str.strip( '12' ))  # 字符序列为 12"
   ]
  },
  {
   "cell_type": "code",
   "execution_count": 89,
   "metadata": {},
   "outputs": [
    {
     "name": "stdout",
     "output_type": "stream",
     "text": [
      "this is string example....wow!!!     \n",
      "this is string example....wow!!!8888888\n"
     ]
    }
   ],
   "source": [
    "# lstrip() 方法用于截掉字符串左边的 空格或指定字符。\n",
    "str = \"     this is string example....wow!!!     \";\n",
    "print( str.lstrip() );\n",
    "str = \"88888888this is string example....wow!!!8888888\";\n",
    "print( str.lstrip('8') );"
   ]
  },
  {
   "cell_type": "code",
   "execution_count": 90,
   "metadata": {},
   "outputs": [
    {
     "name": "stdout",
     "output_type": "stream",
     "text": [
      "     this is string example....wow!!!\n",
      "*****this is string example....wow!!!\n"
     ]
    }
   ],
   "source": [
    "# rstrip() 删除 string 字符串末尾的指定字符（默认为空格）.\n",
    "str = \"     this is string example....wow!!!     \"\n",
    "print (str.rstrip())\n",
    "str = \"*****this is string example....wow!!!*****\"\n",
    "print (str.rstrip('*'))"
   ]
  },
  {
   "cell_type": "markdown",
   "metadata": {},
   "source": [
    "# 访问 更新 运算"
   ]
  },
  {
   "cell_type": "code",
   "execution_count": 18,
   "metadata": {},
   "outputs": [
    {
     "name": "stdout",
     "output_type": "stream",
     "text": [
      "var1[0]:  H\n",
      "var2[1:5]:  unoo\n"
     ]
    }
   ],
   "source": [
    "# Python 访问字符串中的值\n",
    "var1 = 'Hello World!'\n",
    "var2 = \"Runoob\"\n",
    " \n",
    "print (\"var1[0]: \", var1[0])\n",
    "print (\"var2[1:5]: \", var2[1:5])"
   ]
  },
  {
   "cell_type": "code",
   "execution_count": 21,
   "metadata": {},
   "outputs": [
    {
     "name": "stdout",
     "output_type": "stream",
     "text": [
      "已更新字符串 :  Hello Runoob!\n"
     ]
    }
   ],
   "source": [
    "# Python 字符串更新\n",
    "var1 = 'Hello World!'# 空格也算一个字符\n",
    " \n",
    "print (\"已更新字符串 : \", var1[:6] + 'Runoob!')"
   ]
  },
  {
   "cell_type": "code",
   "execution_count": 22,
   "metadata": {},
   "outputs": [
    {
     "name": "stdout",
     "output_type": "stream",
     "text": [
      "a + b 输出结果： HelloPython\n",
      "a * 2 输出结果： HelloHello\n",
      "a[1] 输出结果： e\n",
      "a[1:4] 输出结果： ell\n",
      "H 在变量 a 中\n",
      "M 不在变量 a 中\n",
      "\\n\n",
      "\\n\n"
     ]
    }
   ],
   "source": [
    "# Python字符串运算符\n",
    "a = \"Hello\"\n",
    "b = \"Python\"\n",
    " \n",
    "print(\"a + b 输出结果：\", a + b)\n",
    "print(\"a * 2 输出结果：\", a * 2)\n",
    "print(\"a[1] 输出结果：\", a[1])\n",
    "print(\"a[1:4] 输出结果：\", a[1:4])\n",
    " \n",
    "if( \"H\" in a) :\n",
    "    print(\"H 在变量 a 中\")\n",
    "else :\n",
    "    print(\"H 不在变量 a 中\")\n",
    " \n",
    "\n",
    "if( \"M\" not in a) :\n",
    "    print(\"M 不在变量 a 中\")\n",
    "else :\n",
    "    print(\"M 在变量 a 中\")\n",
    " \n",
    "print (r'\\n')\n",
    "print (R'\\n')"
   ]
  },
  {
   "cell_type": "code",
   "execution_count": 23,
   "metadata": {},
   "outputs": [
    {
     "name": "stdout",
     "output_type": "stream",
     "text": [
      "我叫 小明 今年 10 岁!\n"
     ]
    }
   ],
   "source": [
    "# Python字符串格式化\n",
    "print (\"我叫 %s 今年 %d 岁!\" % ('小明', 10))"
   ]
  },
  {
   "cell_type": "code",
   "execution_count": 47,
   "metadata": {},
   "outputs": [
    {
     "name": "stdout",
     "output_type": "stream",
     "text": [
      "6\n",
      "5\n"
     ]
    }
   ],
   "source": [
    "# Python len() 方法返回对象（字符、列表、元组等）长度或项目个数。\n",
    "str = \"runoob\"\n",
    "print(len(str) )            # 字符串长度\n",
    "\n",
    "l = [1,2,3,4,5]\n",
    "print(len(l))           # 列表元素个数"
   ]
  },
  {
   "cell_type": "code",
   "execution_count": 53,
   "metadata": {},
   "outputs": [
    {
     "name": "stdout",
     "output_type": "stream",
     "text": [
      "最大字符: u\n"
     ]
    }
   ],
   "source": [
    "# max() 方法返回字符串中最大的字母。\n",
    "str = \"runoob\"\n",
    "print (\"最大字符: \" + max(str))"
   ]
  },
  {
   "cell_type": "code",
   "execution_count": 54,
   "metadata": {},
   "outputs": [
    {
     "name": "stdout",
     "output_type": "stream",
     "text": [
      "最小字符: b\n"
     ]
    }
   ],
   "source": [
    "# Python min() 方法返回字符串中最小的字母。\n",
    "str = \"runoob\";\n",
    "print (\"最小字符: \" + min(str));"
   ]
  },
  {
   "cell_type": "markdown",
   "metadata": {},
   "source": [
    "# 计数"
   ]
  },
  {
   "cell_type": "code",
   "execution_count": 27,
   "metadata": {},
   "outputs": [
    {
     "name": "stdout",
     "output_type": "stream",
     "text": [
      "str.count('o') :  3\n",
      "str.count('run', 0, 10) :  1\n"
     ]
    }
   ],
   "source": [
    "# count() 方法用于统计字符串里某个字符出现的次数。可选参数为在字符串搜索的开始与结束位置。\n",
    "# str.count(sub, start= 0,end=len(string))\n",
    "str=\"www.runoob.com\"\n",
    "sub='o'\n",
    "print (\"str.count('o') : \", str.count(sub))\n",
    "\n",
    "sub='run'\n",
    "print (\"str.count('run', 0, 10) : \", str.count(sub,0,10))"
   ]
  },
  {
   "cell_type": "markdown",
   "metadata": {},
   "source": [
    "# 查找和替换"
   ]
  },
  {
   "cell_type": "code",
   "execution_count": 35,
   "metadata": {},
   "outputs": [
    {
     "name": "stdout",
     "output_type": "stream",
     "text": [
      "7\n",
      "7\n",
      "-1\n",
      "0\n",
      "3\n",
      "-1\n"
     ]
    }
   ],
   "source": [
    "# find() 方法检测字符串中是否包含子字符串 str ，如果指定 beg（开始） 和 end（结束） 范围，则检查是否包含在指定范围内，\n",
    "# 如果指定范围内如果包含指定索引值，返回的是索引值在字符串中的起始位置。如果不包含索引值，返回-1。\n",
    "# str.find(str, beg=0, end=len(string))\n",
    "str1 = \"Runoob example....wow!!!\"\n",
    "str2 = \"exam\";\n",
    "\n",
    "print (str1.find(str2))     # 从下标0开始\n",
    "print (str1.find(str2, 5))  # 从下标5开始\n",
    "print (str1.find(str2, 10)) # 查找不到返回 -1\n",
    "\n",
    "info = 'abca'\n",
    "print(info.find('a'))      # 从下标0开始，查找在字符串里第一个出现的子串，返回结果：0\n",
    "print(info.find('a', 1))   # 从下标1开始，查找在字符串里第一个出现的子串：返回结果3\n",
    "print(info.find('3'))      # 查找不到返回-1"
   ]
  },
  {
   "cell_type": "code",
   "execution_count": 36,
   "metadata": {},
   "outputs": [
    {
     "name": "stdout",
     "output_type": "stream",
     "text": [
      "7\n",
      "7\n"
     ]
    },
    {
     "ename": "ValueError",
     "evalue": "substring not found",
     "output_type": "error",
     "traceback": [
      "\u001b[1;31m---------------------------------------------------------------------------\u001b[0m",
      "\u001b[1;31mValueError\u001b[0m                                Traceback (most recent call last)",
      "\u001b[1;32m<ipython-input-36-ac6de97b8e00>\u001b[0m in \u001b[0;36m<module>\u001b[1;34m\u001b[0m\n\u001b[0;32m      7\u001b[0m \u001b[0mprint\u001b[0m \u001b[1;33m(\u001b[0m\u001b[0mstr1\u001b[0m\u001b[1;33m.\u001b[0m\u001b[0mindex\u001b[0m\u001b[1;33m(\u001b[0m\u001b[0mstr2\u001b[0m\u001b[1;33m)\u001b[0m\u001b[1;33m)\u001b[0m\u001b[1;33m\u001b[0m\u001b[1;33m\u001b[0m\u001b[0m\n\u001b[0;32m      8\u001b[0m \u001b[0mprint\u001b[0m \u001b[1;33m(\u001b[0m\u001b[0mstr1\u001b[0m\u001b[1;33m.\u001b[0m\u001b[0mindex\u001b[0m\u001b[1;33m(\u001b[0m\u001b[0mstr2\u001b[0m\u001b[1;33m,\u001b[0m \u001b[1;36m5\u001b[0m\u001b[1;33m)\u001b[0m\u001b[1;33m)\u001b[0m\u001b[1;33m\u001b[0m\u001b[1;33m\u001b[0m\u001b[0m\n\u001b[1;32m----> 9\u001b[1;33m \u001b[0mprint\u001b[0m \u001b[1;33m(\u001b[0m\u001b[0mstr1\u001b[0m\u001b[1;33m.\u001b[0m\u001b[0mindex\u001b[0m\u001b[1;33m(\u001b[0m\u001b[0mstr2\u001b[0m\u001b[1;33m,\u001b[0m \u001b[1;36m10\u001b[0m\u001b[1;33m)\u001b[0m\u001b[1;33m)\u001b[0m\u001b[1;33m\u001b[0m\u001b[1;33m\u001b[0m\u001b[0m\n\u001b[0m",
      "\u001b[1;31mValueError\u001b[0m: substring not found"
     ]
    }
   ],
   "source": [
    "# index() 方法检测字符串中是否包含子字符串 str ，如果指定 beg（开始） 和 end（结束） 范围，则检查是否包含在指定范围内，\n",
    "# 该方法与 python find()方法一样，只不过如果str不在 string中会报一个异常。\n",
    "# str.index(str, beg=0, end=len(string))\n",
    "str1 = \"Runoob example....wow!!!\"\n",
    "str2 = \"exam\";\n",
    "\n",
    "print (str1.index(str2))\n",
    "print (str1.index(str2, 5))\n",
    "print (str1.index(str2, 10))"
   ]
  },
  {
   "cell_type": "code",
   "execution_count": null,
   "metadata": {},
   "outputs": [],
   "source": [
    "#Python rfind() 返回字符串最后一次出现的位置，如果没有匹配项则返回-1。\n",
    "str1 = \"this is really a string example....wow!!!\"\n",
    "str2 = \"is\"\n",
    "\n",
    "print (str1.rfind(str2))\n",
    "\n",
    "print (str1.rfind(str2, 0, 10))\n",
    "print (str1.rfind(str2, 10, 0))\n",
    "\n",
    "print (str1.find(str2))\n",
    "print (str1.find(str2, 0, 10))\n",
    "print (str1.find(str2, 10, 0))"
   ]
  },
  {
   "cell_type": "code",
   "execution_count": 59,
   "metadata": {},
   "outputs": [
    {
     "name": "stdout",
     "output_type": "stream",
     "text": [
      "5\n",
      "5\n"
     ]
    }
   ],
   "source": [
    "# rindex() 返回子字符串 str 在字符串中最后出现的位置，如果没有匹配的字符串会报异常，你可以指定可选参数[beg:end]设置查找的区间。\n",
    "str1 = \"this is really a string example....wow!!!\"\n",
    "str2 = \"is\"\n",
    "\n",
    "print (str1.rindex(str2))\n",
    "print (str1.rindex(str2,0,10))"
   ]
  },
  {
   "cell_type": "code",
   "execution_count": 56,
   "metadata": {},
   "outputs": [
    {
     "name": "stdout",
     "output_type": "stream",
     "text": [
      "菜鸟教程旧地址： www.w3cschool.cc\n",
      "菜鸟教程新地址： www.runoob.com\n",
      "thwas was string example....was great is wow!!!\n"
     ]
    }
   ],
   "source": [
    "# replace() 方法把字符串中的 old（旧字符串） 替换成 new(新字符串)，如果指定第三个参数max，则替换不超过 max 次。\n",
    "str = \"www.w3cschool.cc\"\n",
    "print (\"菜鸟教程旧地址：\", str)\n",
    "print (\"菜鸟教程新地址：\", str.replace(\"w3cschool.cc\", \"runoob.com\"))\n",
    " \n",
    "str = \"this is string example....is great is wow!!!\"\n",
    "print (str.replace(\"is\", \"was\", 3))"
   ]
  },
  {
   "cell_type": "code",
   "execution_count": 33,
   "metadata": {},
   "outputs": [
    {
     "name": "stdout",
     "output_type": "stream",
     "text": [
      "原始字符串: this is\tstring example....wow!!!\n",
      "替换 \\t 符号: this is string example....wow!!!\n",
      "使用16个空格替换 \\t 符号: this is         string example....wow!!!\n"
     ]
    }
   ],
   "source": [
    "# expandtabs() 方法把字符串中的 tab 符号('\\t')转为空格，tab 符号('\\t')默认的空格数是 8。\n",
    "# str.expandtabs(tabsize=8)\n",
    "str = \"this is\\tstring example....wow!!!\"\n",
    " \n",
    "print (\"原始字符串: \" + str)\n",
    "print (\"替换 \\\\t 符号: \" +  str.expandtabs())\n",
    "print (\"使用16个空格替换 \\\\t 符号: \" +  str.expandtabs(16))"
   ]
  },
  {
   "cell_type": "markdown",
   "metadata": {},
   "source": [
    "# 大小写转换"
   ]
  },
  {
   "cell_type": "code",
   "execution_count": 72,
   "metadata": {},
   "outputs": [
    {
     "name": "stdout",
     "output_type": "stream",
     "text": [
      "str.upper() :  THIS IS STRING EXAMPLE FROM RUNOOB....WOW!!!\n"
     ]
    }
   ],
   "source": [
    "# Python upper() 方法将字符串中的小写字母转为大写字母。\n",
    "str = \"this is string example from runoob....wow!!!\";\n",
    "print (\"str.upper() : \", str.upper())"
   ]
  },
  {
   "cell_type": "code",
   "execution_count": 51,
   "metadata": {},
   "outputs": [
    {
     "name": "stdout",
     "output_type": "stream",
     "text": [
      "runoob example....wow!!!\n"
     ]
    }
   ],
   "source": [
    "# Python lower() 方法转换字符串中所有大写字符为小写。\n",
    "str = \"Runoob EXAMPLE....WOW!!!\"\n",
    "\n",
    "print( str.lower() )"
   ]
  },
  {
   "cell_type": "code",
   "execution_count": 25,
   "metadata": {},
   "outputs": [
    {
     "name": "stdout",
     "output_type": "stream",
     "text": [
      "str.capitalize() :  This is string example from runoob....wow!!!\n"
     ]
    }
   ],
   "source": [
    "# Python capitalize()将字符串的第一个字母变成大写,其他字母变小写。\n",
    "str = \"this is string Example from Runoob....wow!!!\"\n",
    "print (\"str.capitalize() : \", str.capitalize())"
   ]
  },
  {
   "cell_type": "code",
   "execution_count": 71,
   "metadata": {},
   "outputs": [
    {
     "name": "stdout",
     "output_type": "stream",
     "text": [
      "This Is String Example From Runoob....Wow!!!\n"
     ]
    }
   ],
   "source": [
    "# Python title() 方法返回\"标题化\"的字符串,就是说所有单词的首个字母转化为大写，其余字母均为小写(见 istitle())。\n",
    "str = \"this is string example from runoob....wow!!!\"\n",
    "print (str.title())"
   ]
  },
  {
   "cell_type": "code",
   "execution_count": 70,
   "metadata": {},
   "outputs": [
    {
     "name": "stdout",
     "output_type": "stream",
     "text": [
      "THIS IS STRING EXAMPLE....WOW!!!\n",
      "tHIS iS sTRING eXAMPLE....wow!!!\n"
     ]
    }
   ],
   "source": [
    "# swapcase() 方法用于对字符串的大小写字母进行转换。\n",
    "str = \"this is string example....wow!!!\"\n",
    "print (str.swapcase())\n",
    "\n",
    "str = \"This Is String Example....WOW!!!\"\n",
    "print (str.swapcase())"
   ]
  },
  {
   "cell_type": "markdown",
   "metadata": {},
   "source": [
    "# 解码编码"
   ]
  },
  {
   "cell_type": "code",
   "execution_count": 28,
   "metadata": {},
   "outputs": [
    {
     "name": "stdout",
     "output_type": "stream",
     "text": [
      "菜鸟教程\n",
      "UTF-8 编码： b'\\xe8\\x8f\\x9c\\xe9\\xb8\\x9f\\xe6\\x95\\x99\\xe7\\xa8\\x8b'\n",
      "GBK 编码： b'\\xb2\\xcb\\xc4\\xf1\\xbd\\xcc\\xb3\\xcc'\n",
      "UTF-8 解码： 菜鸟教程\n",
      "GBK 解码： 菜鸟教程\n"
     ]
    }
   ],
   "source": [
    "# decode() 方法以指定的编码格式解码 bytes 对象。默认编码为 'utf-8'。\n",
    "# encode() 方法以指定的编码格式编码字符串。errors参数可以指定不同的错误处理方案。\n",
    "\n",
    "str = \"菜鸟教程\";\n",
    "str_utf8 = str.encode(\"UTF-8\")\n",
    "str_gbk = str.encode(\"GBK\")\n",
    " \n",
    "print(str)\n",
    "print(\"UTF-8 编码：\", str_utf8)\n",
    "print(\"GBK 编码：\", str_gbk)\n",
    " \n",
    "print(\"UTF-8 解码：\", str_utf8.decode('UTF-8','strict'))\n",
    "print(\"GBK 解码：\", str_gbk.decode('GBK','strict'))"
   ]
  },
  {
   "cell_type": "markdown",
   "metadata": {},
   "source": [
    "# 判断字符串内容"
   ]
  },
  {
   "cell_type": "markdown",
   "metadata": {},
   "source": [
    "## 首尾"
   ]
  },
  {
   "cell_type": "code",
   "execution_count": 67,
   "metadata": {},
   "outputs": [
    {
     "name": "stdout",
     "output_type": "stream",
     "text": [
      "True\n",
      "True\n",
      "False\n"
     ]
    }
   ],
   "source": [
    "# startswith() 方法用于检查字符串是否是以指定子字符串开头，如果是则返回 True，否则返回 False。\n",
    "# 如果参数 beg 和 end 指定值，则在指定范围内检查。\n",
    "str = \"this is string example....wow!!!\"\n",
    "print (str.startswith( 'this' ))   # 字符串是否以 this 开头\n",
    "print (str.startswith( 'string', 8 ))  # 从第八个字符开始的字符串是否以 string 开头\n",
    "print (str.startswith( 'this', 2, 4 )) # 从第2个字符开始到第四个字符结束的字符串是否以 this 开头"
   ]
  },
  {
   "cell_type": "code",
   "execution_count": 32,
   "metadata": {},
   "outputs": [
    {
     "name": "stdout",
     "output_type": "stream",
     "text": [
      "True\n",
      "False\n",
      "False\n",
      "True\n",
      "False\n",
      "True\n"
     ]
    }
   ],
   "source": [
    "# endswith() 方法用于判断字符串是否以指定后缀结尾，如果以指定后缀结尾返回 True，否则返回 False。\n",
    "# 可选参数 \"start\" 与 \"end\" 为检索字符串的开始与结束位置。\n",
    "# str.endswith(suffix[, start[, end]])\n",
    "Str='Runoob example....wow!!!'\n",
    "suffix='!!'\n",
    "print (Str.endswith(suffix))\n",
    "print (Str.endswith(suffix,0,20))\n",
    "suffix='oob'\n",
    "print (Str.endswith(suffix))\n",
    "print (Str.endswith(suffix, 0, 6))\n",
    "print('01234'.endswith('234', 0, 4))\n",
    "print('01234'.endswith('234', 0, 5))"
   ]
  },
  {
   "cell_type": "markdown",
   "metadata": {},
   "source": [
    "## 字母数字空格"
   ]
  },
  {
   "cell_type": "code",
   "execution_count": 74,
   "metadata": {},
   "outputs": [
    {
     "name": "stdout",
     "output_type": "stream",
     "text": [
      "False\n",
      "True\n"
     ]
    }
   ],
   "source": [
    "# isdecimal() 方法检查字符串是否只包含十进制字符。这种方法只存在于unicode对象。\n",
    "str = \"runoob2016\"\n",
    "print (str.isdecimal())\n",
    "\n",
    "str = \"23443434\"\n",
    "print (str.isdecimal())"
   ]
  },
  {
   "cell_type": "code",
   "execution_count": 38,
   "metadata": {},
   "outputs": [
    {
     "name": "stdout",
     "output_type": "stream",
     "text": [
      "True\n",
      "True\n",
      "False\n"
     ]
    }
   ],
   "source": [
    "# Python isalpha() 方法检测字符串是否只由字母或文字组成。\n",
    "str = \"runoob\"\n",
    "print (str.isalpha())\n",
    "\n",
    "# 字母和中文文字\n",
    "str = \"runoob菜鸟教程\"\n",
    "print (str.isalpha())\n",
    "\n",
    "str = \"Runoob example....wow!!!\"\n",
    "print (str.isalpha())"
   ]
  },
  {
   "cell_type": "code",
   "execution_count": 37,
   "metadata": {},
   "outputs": [
    {
     "name": "stdout",
     "output_type": "stream",
     "text": [
      "True\n",
      "False\n"
     ]
    }
   ],
   "source": [
    "# isalnum() 方法检测字符串是否由字母和数字组成。\n",
    "str = \"runoob2016\"  # 字符串没有空格\n",
    "print (str.isalnum())\n",
    " \n",
    "str = \"www.runoob.com\"\n",
    "print (str.isalnum())"
   ]
  },
  {
   "cell_type": "code",
   "execution_count": 43,
   "metadata": {},
   "outputs": [
    {
     "name": "stdout",
     "output_type": "stream",
     "text": [
      "True\n",
      "False\n"
     ]
    }
   ],
   "source": [
    "# Python isspace() 方法检测字符串是否只由空白字符组成。\n",
    "str = \"       \" \n",
    "print (str.isspace())\n",
    " \n",
    "str = \"Runoob example....wow!!!\"\n",
    "print (str.isspace())"
   ]
  },
  {
   "cell_type": "code",
   "execution_count": 39,
   "metadata": {},
   "outputs": [
    {
     "name": "stdout",
     "output_type": "stream",
     "text": [
      "True\n",
      "False\n"
     ]
    }
   ],
   "source": [
    "# Python isdigit() 方法检测字符串是否只由数字组成。\n",
    "str = \"123456\"; \n",
    "print (str.isdigit())\n",
    "\n",
    "str = \"Runoob example....wow!!!\"\n",
    "print (str.isdigit())"
   ]
  },
  {
   "cell_type": "code",
   "execution_count": 42,
   "metadata": {},
   "outputs": [
    {
     "name": "stdout",
     "output_type": "stream",
     "text": [
      "False\n",
      "True\n",
      "True\n",
      "True\n",
      "True\n",
      "True\n",
      "False\n"
     ]
    }
   ],
   "source": [
    "# isnumeric() 方法检测字符串是否只由数字组成，数字可以是： Unicode 数字，全角数字（双字节），罗马数字，汉字数字。\n",
    "# 指数类似 ² 与分数类似 ½ 也属于数字。\n",
    "str = \"runoob2016\"  \n",
    "print (str.isnumeric())\n",
    "\n",
    "str = \"23443434\"\n",
    "print (str.isnumeric())\n",
    "\n",
    "s = '\\u00B23455'\n",
    "print(s.isnumeric())\n",
    "# s = '½'\n",
    "s = '\\u00BD'\n",
    "print(s.isnumeric())\n",
    "\n",
    "a = \"\\u0030\" #unicode for 0\n",
    "print(a.isnumeric())\n",
    "\n",
    "b = \"\\u00B2\" #unicode for ²\n",
    "print(b.isnumeric())\n",
    "\n",
    "c = \"10km2\"\n",
    "print(c.isnumeric())"
   ]
  },
  {
   "cell_type": "markdown",
   "metadata": {},
   "source": [
    "## 大小写"
   ]
  },
  {
   "cell_type": "code",
   "execution_count": 40,
   "metadata": {},
   "outputs": [
    {
     "name": "stdout",
     "output_type": "stream",
     "text": [
      "False\n",
      "True\n"
     ]
    }
   ],
   "source": [
    "# islower() 方法检测字符串是否由小写字母组成。\n",
    "str = \"RUNOOB example....wow!!!\"\n",
    "print (str.islower())\n",
    "\n",
    "str = \"runoob example....wow!!!\"\n",
    "print (str.islower())"
   ]
  },
  {
   "cell_type": "code",
   "execution_count": 44,
   "metadata": {},
   "outputs": [
    {
     "name": "stdout",
     "output_type": "stream",
     "text": [
      "True\n",
      "False\n"
     ]
    }
   ],
   "source": [
    "# istitle() 方法检测字符串中所有的单词拼写首字母是否为大写，且其他字母为小写。\n",
    "str = \"This Is String Example...Wow!!!\"\n",
    "print (str.istitle())\n",
    " \n",
    "str = \"This is string example....wow!!!\"\n",
    "print (str.istitle())"
   ]
  },
  {
   "cell_type": "code",
   "execution_count": 45,
   "metadata": {},
   "outputs": [
    {
     "name": "stdout",
     "output_type": "stream",
     "text": [
      "True\n",
      "False\n"
     ]
    }
   ],
   "source": [
    "# isupper() 方法检测字符串中所有的字母是否都为大写。\n",
    "str = \"THIS IS STRING EXAMPLE....WOW!!!\"\n",
    "print (str.isupper())\n",
    "\n",
    "str = \"THIS is string example....wow!!!\"\n",
    "print (str.isupper())"
   ]
  },
  {
   "cell_type": "markdown",
   "metadata": {},
   "source": [
    "# 居中和左右对齐"
   ]
  },
  {
   "cell_type": "code",
   "execution_count": 26,
   "metadata": {},
   "outputs": [
    {
     "name": "stdout",
     "output_type": "stream",
     "text": [
      "str.center(40, '*') :  ****************[runoob]****************\n"
     ]
    }
   ],
   "source": [
    "# center() 方法返回一个指定的宽度 width 居中的字符串，fillchar 为填充的字符，默认为空格。\n",
    "str = \"[runoob]\"\n",
    "print (\"str.center(40, '*') : \", str.center(40, '*'))"
   ]
  },
  {
   "cell_type": "code",
   "execution_count": 50,
   "metadata": {},
   "outputs": [
    {
     "name": "stdout",
     "output_type": "stream",
     "text": [
      "Runoob example....wow!!!**************************\n",
      "Runoob example....wow!!!@@@@@@@@@@@@@@@@@@@@@@@@@@\n"
     ]
    }
   ],
   "source": [
    "# ljust() 方法返回一个原字符串左对齐,并使用空格填充至指定长度的新字符串。如果指定的长度小于原字符串的长度则返回原字符串。\n",
    "str = \"Runoob example....wow!!!\"\n",
    "print (str.ljust(50, '*'))\n",
    "print (str.ljust(50, '@'))"
   ]
  },
  {
   "cell_type": "code",
   "execution_count": 62,
   "metadata": {},
   "outputs": [
    {
     "name": "stdout",
     "output_type": "stream",
     "text": [
      "******************this is string example....wow!!!\n",
      "                  this is string example....wow!!!\n",
      "@@@@@@@@@@@@@@@@@@this is string example....wow!!!\n"
     ]
    }
   ],
   "source": [
    "# rjust() 返回一个原字符串右对齐,并使用空格填充至长度 width 的新字符串。如果指定的长度小于字符串的长度则返回原字符串。\n",
    "str = \"this is string example....wow!!!\"\n",
    "print (str.rjust(50, '*'))\n",
    "print (str.rjust(50, ' '))\n",
    "print (str.rjust(50, '@'))"
   ]
  },
  {
   "cell_type": "code",
   "execution_count": 73,
   "metadata": {},
   "outputs": [
    {
     "name": "stdout",
     "output_type": "stream",
     "text": [
      "str.zfill :  this is string example from runoob....wow!!!\n",
      "str.zfill :  000000this is string example from runoob....wow!!!\n"
     ]
    }
   ],
   "source": [
    "# Python zfill() 方法返回指定长度的字符串，原字符串右对齐，前面填充0。\n",
    "str = \"this is string example from runoob....wow!!!\"\n",
    "print (\"str.zfill : \",str.zfill(40))\n",
    "print (\"str.zfill : \",str.zfill(50))"
   ]
  },
  {
   "cell_type": "code",
   "execution_count": null,
   "metadata": {},
   "outputs": [],
   "source": []
  },
  {
   "cell_type": "code",
   "execution_count": null,
   "metadata": {},
   "outputs": [],
   "source": []
  },
  {
   "cell_type": "code",
   "execution_count": null,
   "metadata": {},
   "outputs": [],
   "source": []
  }
 ],
 "metadata": {
  "kernelspec": {
   "display_name": "Python 3",
   "language": "python",
   "name": "python3"
  },
  "language_info": {
   "codemirror_mode": {
    "name": "ipython",
    "version": 3
   },
   "file_extension": ".py",
   "mimetype": "text/x-python",
   "name": "python",
   "nbconvert_exporter": "python",
   "pygments_lexer": "ipython3",
   "version": "3.7.4"
  }
 },
 "nbformat": 4,
 "nbformat_minor": 2
}
