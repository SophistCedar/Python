{
 "cells": [
  {
   "cell_type": "raw",
   "metadata": {},
   "source": [
    "题目描述\n",
    "给出一个正整数N和长度L，找出一段长度大于等于L的连续非负整数，他们的和恰好为N。答案可能有多个，我们需要找出长度最小的那个。\n",
    "例如 N = 18 L = 2：\n",
    "5 + 6 + 7 = 18 \n",
    "3 + 4 + 5 + 6 = 18\n",
    "都是满足要求的，但是我们输出更短的 5 6 7\n",
    "输入描述:\n",
    "输入数据包括一行： 两个正整数N(1 ≤ N ≤ 1000000000),L(2 ≤ L ≤ 100)\n",
    "输出描述:\n",
    "从小到大输出这段连续非负整数，以空格分隔，行末无空格。如果没有这样的序列或者找出的序列长度大于100，则输出No"
   ]
  },
  {
   "cell_type": "raw",
   "metadata": {},
   "source": [
    "这题就是通过差值为1的等差数列求解，通过等差数列基本公式的推导可以得到等差数列首项a1 = (2N - (L-1)L) / (2 * N)，\n",
    "而L的值是不能大于100的，所以可以直接求解L——100间有没有整数a1解，有的话直接输出就好了，超过100，直接输出No，注意输出的行末不能带有空格\n",
    "a1 >= 0"
   ]
  },
  {
   "cell_type": "code",
   "execution_count": 3,
   "metadata": {},
   "outputs": [
    {
     "name": "stdout",
     "output_type": "stream",
     "text": [
      "18 2\n",
      "5 6 7\n"
     ]
    }
   ],
   "source": [
    "import math\n",
    "\n",
    "N, L = map(int, input().split())\n",
    "i = L # L必须从小往大，因为要求长度尽可能短\n",
    "while i <= 100: # L 范围在 【2,100】\n",
    "    a = (2 * N - i*(i - 1)) / (2 * i) # 等差数列推到结果 a是第一项 i是有多少项\n",
    "    if math.ceil(a) == a: # 判断首项是整数\n",
    "        for _ in range(i- 1): # 满足条件就输出结果\n",
    "            print(int(a), end=\" \")\n",
    "            a += 1\n",
    "        print(int(a))# 最后一个没有空格\n",
    "        break\n",
    "    i += 1 #不满足条件就继续增加项数\n",
    "if i == 101:\n",
    "    print(\"No\")"
   ]
  },
  {
   "cell_type": "code",
   "execution_count": null,
   "metadata": {},
   "outputs": [],
   "source": []
  }
 ],
 "metadata": {
  "kernelspec": {
   "display_name": "Python 3",
   "language": "python",
   "name": "python3"
  },
  "language_info": {
   "codemirror_mode": {
    "name": "ipython",
    "version": 3
   },
   "file_extension": ".py",
   "mimetype": "text/x-python",
   "name": "python",
   "nbconvert_exporter": "python",
   "pygments_lexer": "ipython3",
   "version": "3.7.4"
  }
 },
 "nbformat": 4,
 "nbformat_minor": 2
}
