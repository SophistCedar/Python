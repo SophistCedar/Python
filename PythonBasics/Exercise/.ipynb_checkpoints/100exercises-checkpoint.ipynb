{
 "cells": [
  {
   "cell_type": "markdown",
   "metadata": {},
   "source": [
    "题目：有四个数字：1、2、3、4，能组成多少个互不相同且无重复数字的三位数？各是多少？\n",
    "程序分析：可填在百位、十位、个位的数字都是1、2、3、4。组成所有的排列后再去 掉不满足条件的排列。"
   ]
  },
  {
   "cell_type": "code",
   "execution_count": 2,
   "metadata": {},
   "outputs": [
    {
     "name": "stdout",
     "output_type": "stream",
     "text": [
      "1 2 3\n",
      "1 2 4\n",
      "1 3 2\n",
      "1 3 4\n",
      "1 4 2\n",
      "1 4 3\n",
      "2 1 3\n",
      "2 1 4\n",
      "2 3 1\n",
      "2 3 4\n",
      "2 4 1\n",
      "2 4 3\n",
      "3 1 2\n",
      "3 1 4\n",
      "3 2 1\n",
      "3 2 4\n",
      "3 4 1\n",
      "3 4 2\n",
      "4 1 2\n",
      "4 1 3\n",
      "4 2 1\n",
      "4 2 3\n",
      "4 3 1\n",
      "4 3 2\n"
     ]
    }
   ],
   "source": [
    "for i in range(1,5):\n",
    "    for j in range(1,5):\n",
    "        for k in range(1,5):\n",
    "            if( i != k ) and (i != j) and (j != k):\n",
    "                print (i,j,k)"
   ]
  },
  {
   "cell_type": "markdown",
   "metadata": {},
   "source": [
    "题目：企业发放的奖金根据利润提成。利润(I)低于或等于10万元时，奖金可提10%；利润高于10万元，低于20万元时，低于10万元的部分按10%提成，高于10万元的部分，可提成7.5%；20万到40万之间时，高于20万元的部分，可提成5%；40万到60万之间时高于40万元的部分，可提成3%；60万到100万之间时，高于60万元的部分，可提成1.5%，高于100万元时，超过100万元的部分按1%提成，从键盘输入当月利润I，求应发放奖金总数？\n",
    "\n",
    "程序分析：请利用数轴来分界，定位。注意定义时需把奖金定义成长整型。"
   ]
  },
  {
   "cell_type": "code",
   "execution_count": 3,
   "metadata": {},
   "outputs": [
    {
     "name": "stdout",
     "output_type": "stream",
     "text": [
      "净利润:1000000\n",
      "6000.0\n",
      "6000.0\n",
      "10000.0\n",
      "7500.0\n",
      "10000.0\n",
      "39500.0\n"
     ]
    }
   ],
   "source": [
    "i = int(input('净利润:'))\n",
    "arr = [1000000,600000,400000,200000,100000,0]# 奖金分界\n",
    "rat = [0.01,0.015,0.03,0.05,0.075,0.1]# 提成比例分界\n",
    "r = 0\n",
    "for idx in range(6):# 从最大销售额开始判断\n",
    "    if i > arr[idx]:\n",
    "        r += (i-arr[idx])*rat[idx] # 计算分界点以上的利润\n",
    "        print((i-arr[idx])*rat[idx]) \n",
    "        i=arr[idx] # 接下来还可以提成的净利润\n",
    "print(r)"
   ]
  },
  {
   "cell_type": "raw",
   "metadata": {},
   "source": [
    "题目：一个整数，它加上100后是一个完全平方数，再加上168又是一个完全平方数，请问该数是多少？\n",
    "\n",
    "程序分析：\n",
    "假设该数为 x。\n",
    "1、则：x + 100 = n2, x + 100 + 168 = m2\n",
    "2、计算等式：m2 - n2 = (m + n)(m - n) = 168\n",
    "3、设置： m + n = i，m - n = j，i * j =168，i 和 j 至少一个是偶数\n",
    "4、可得： m = (i + j) / 2， n = (i - j) / 2，i 和 j 要么都是偶数，要么都是奇数。\n",
    "5、从 3 和 4 推导可知道，i 与 j 均是大于等于 2 的偶数。\n",
    "6、由于 i * j = 168， j>=2，则 1 < i < 168 / 2 + 1。\n",
    "7、接下来将 i 的所有数字循环计算即可。"
   ]
  },
  {
   "cell_type": "code",
   "execution_count": 6,
   "metadata": {},
   "outputs": [
    {
     "name": "stdout",
     "output_type": "stream",
     "text": [
      "-99.0\n",
      "21.0\n",
      "261.0\n",
      "1581.0\n"
     ]
    }
   ],
   "source": [
    "for i in range(1,85):\n",
    "    if 168 % i == 0:\n",
    "        j = 168 / i;\n",
    "        if  i > j and (i + j) % 2 == 0 and (i - j) % 2 == 0 :\n",
    "            m = (i + j) / 2\n",
    "            n = (i - j) / 2\n",
    "            x = n * n - 100\n",
    "            print(x)"
   ]
  },
  {
   "cell_type": "code",
   "execution_count": 12,
   "metadata": {},
   "outputs": [
    {
     "name": "stdout",
     "output_type": "stream",
     "text": [
      "-99.0\n",
      "21.0\n",
      "261.0\n",
      "1581.0\n"
     ]
    }
   ],
   "source": [
    "for i in range(2,85,2):\n",
    "    if 168 % i == 0:\n",
    "        j = 168 / i;\n",
    "        if  i > j and (i + j) % 2 == 0 and (i - j) % 2 == 0 :\n",
    "            m = (i + j) / 2\n",
    "            n = (i - j) / 2\n",
    "            x = n * n - 100\n",
    "            print(x)"
   ]
  },
  {
   "cell_type": "markdown",
   "metadata": {},
   "source": [
    "题目：输入某年某月某日，判断这一天是这一年的第几天？\n",
    "\n",
    "程序分析：以3月5日为例，应该先把前两个月的加起来，然后再加上5天即本年的第几天，特殊情况，闰年且输入月份大于2时需考虑多加一天：\n",
    "程序源代码："
   ]
  },
  {
   "cell_type": "code",
   "execution_count": 15,
   "metadata": {},
   "outputs": [
    {
     "name": "stdout",
     "output_type": "stream",
     "text": [
      "year:\n",
      "2020\n",
      "month:\n",
      "4\n",
      "day:\n",
      "24\n",
      "it is the 115th day.\n"
     ]
    }
   ],
   "source": [
    "year = int(input('year:\\n'))\n",
    "month = int(input('month:\\n'))\n",
    "day = int(input('day:\\n'))\n",
    " \n",
    "months = (0,31,59,90,120,151,181,212,243,273,304,334)\n",
    "if 0 < month <= 12:\n",
    "    sum = months[month - 1]\n",
    "else:\n",
    "    print ('data error')\n",
    "sum += day\n",
    "leap = 0\n",
    "if (year % 400 == 0) or ((year % 4 == 0) and (year % 100 != 0)):\n",
    "    leap = 1\n",
    "if (leap == 1) and (month > 2):\n",
    "    sum += 1\n",
    "print ('it is the %dth day.' % sum)"
   ]
  },
  {
   "cell_type": "code",
   "execution_count": 1,
   "metadata": {},
   "outputs": [
    {
     "name": "stdout",
     "output_type": "stream",
     "text": [
      "333\n",
      "365\n",
      "1\n",
      "61\n"
     ]
    }
   ],
   "source": [
    "def is_leap_year(year):\n",
    "    \"\"\"\n",
    "    判断指定的年份是不是闰年\n",
    "    :param year: 年份\n",
    "    :return: 闰年返回True平年返回False\n",
    "    \"\"\"\n",
    "    return year % 4 == 0 and year % 100 != 0 or year % 400 == 0\n",
    "\n",
    "\n",
    "def which_day(year, month, date):\n",
    "    \"\"\"\n",
    "    计算传入的日期是这一年的第几天\n",
    "    :param year: 年\n",
    "    :param month: 月\n",
    "    :param date: 日\n",
    "    :return: 第几天\n",
    "    \"\"\"\n",
    "    days_of_month = [\n",
    "        [31, 28, 31, 30, 31, 30, 31, 31, 30, 31, 30, 31],\n",
    "        [31, 29, 31, 30, 31, 30, 31, 31, 30, 31, 30, 31]\n",
    "    ][is_leap_year(year)] # 嵌套列表选择内部元素，满足闰年结果是True, 1，不满足闰年结果是False, 0\n",
    "    total = 0\n",
    "    for index in range(month - 1):\n",
    "        total += days_of_month[index]\n",
    "    return total + date\n",
    "\n",
    "\n",
    "print(which_day(1980, 11, 28))\n",
    "print(which_day(1981, 12, 31))\n",
    "print(which_day(2018, 1, 1))\n",
    "print(which_day(2016, 3, 1))"
   ]
  },
  {
   "cell_type": "markdown",
   "metadata": {},
   "source": [
    "题目：输入三个整数x,y,z，请把这三个数由小到大输出。\n",
    "\n",
    "程序分析：我们想办法把最小的数放到x上，先将x与y进行比较，如果x>y则将x与y的值进行交换，然后再用x与z进行比较，如果x>z则将x与z的值进行交换，这样能使x最小。"
   ]
  },
  {
   "cell_type": "code",
   "execution_count": 11,
   "metadata": {},
   "outputs": [
    {
     "name": "stdout",
     "output_type": "stream",
     "text": [
      "10 25 6\n",
      "[6, 10, 25]\n"
     ]
    }
   ],
   "source": [
    "lst = list(map(int,input().split()))\n",
    "lst.sort()\n",
    "print(lst)"
   ]
  },
  {
   "cell_type": "markdown",
   "metadata": {},
   "source": [
    "题目：斐波那契数列。\n",
    "\n",
    "程序分析：斐波那契数列（Fibonacci sequence），又称黄金分割数列，指的是这样一个数列：0、1、1、2、3、5、8、13、21、34、……。\n",
    "在数学上，费波那契数列是以递归的方法来定义：\n",
    "\n",
    "F0 = 0     (n=0)\n",
    "\n",
    "F1 = 1    (n=1)\n",
    "\n",
    "Fn = F[n-1]+ F[n-2](n=>2)\n"
   ]
  },
  {
   "cell_type": "code",
   "execution_count": 14,
   "metadata": {},
   "outputs": [
    {
     "name": "stdout",
     "output_type": "stream",
     "text": [
      "0\n",
      "1\n",
      "3\n"
     ]
    }
   ],
   "source": [
    "def fib(n):\n",
    "    a = 0\n",
    "    b = 1\n",
    "    for i in range(n):\n",
    "        a,b = b,a+b\n",
    "    return a\n",
    "print(fib(0))\n",
    "print(fib(1))\n",
    "print(fib(4))"
   ]
  },
  {
   "cell_type": "code",
   "execution_count": 19,
   "metadata": {},
   "outputs": [
    {
     "name": "stdout",
     "output_type": "stream",
     "text": [
      "0\n",
      "1\n",
      "3\n"
     ]
    }
   ],
   "source": [
    "# 使用递归\n",
    "def fib(n):\n",
    "    if n == 0:\n",
    "        return 0\n",
    "    elif n==1 or n==2:\n",
    "        return 1\n",
    "    return fib(n-1)+fib(n-2)\n",
    "print(fib(0))\n",
    "print(fib(1))\n",
    "print(fib(4))"
   ]
  },
  {
   "cell_type": "code",
   "execution_count": 20,
   "metadata": {},
   "outputs": [
    {
     "data": {
      "text/plain": [
       "[0, 1, 1, 2, 3, 5, 8, 13, 21, 34]"
      ]
     },
     "execution_count": 20,
     "metadata": {},
     "output_type": "execute_result"
    }
   ],
   "source": [
    "# 输出指定个数的fib数列\n",
    "def fib(n):\n",
    "    if n == 0:\n",
    "        return 0\n",
    "    elif n==1 or n==2:\n",
    "        return 1\n",
    "    return fib(n-1)+fib(n-2)\n",
    "\n",
    "def fibs(n):\n",
    "    lst = []\n",
    "    for i in range(n):\n",
    "        lst.append(fib(i))\n",
    "    return lst\n",
    "fibs(10)"
   ]
  },
  {
   "cell_type": "markdown",
   "metadata": {},
   "source": [
    "题目：将一个列表的数据复制到另一个列表中。\n",
    "程序分析：使用列表[:]。"
   ]
  },
  {
   "cell_type": "code",
   "execution_count": 22,
   "metadata": {},
   "outputs": [
    {
     "name": "stdout",
     "output_type": "stream",
     "text": [
      "1386673617288\n",
      "1386674975432\n",
      "False\n"
     ]
    }
   ],
   "source": [
    "a = [1, 2, 3]\n",
    "b = a[:] \n",
    "print(id(a))\n",
    "print(id(b))\n",
    "print(a is b)"
   ]
  },
  {
   "cell_type": "markdown",
   "metadata": {},
   "source": [
    "题目：输出 9*9 乘法口诀表。\n",
    "程序分析：分行与列考虑，共9行9列，i控制行，j控制列。"
   ]
  },
  {
   "cell_type": "code",
   "execution_count": 32,
   "metadata": {},
   "outputs": [
    {
     "name": "stdout",
     "output_type": "stream",
     "text": [
      "1*1=1 \n",
      "2*1=2 2*2=4 \n",
      "3*1=3 3*2=6 3*3=9 \n",
      "4*1=4 4*2=8 4*3=12 4*4=16 \n",
      "5*1=5 5*2=10 5*3=15 5*4=20 5*5=25 \n",
      "6*1=6 6*2=12 6*3=18 6*4=24 6*5=30 6*6=36 \n",
      "7*1=7 7*2=14 7*3=21 7*4=28 7*5=35 7*6=42 7*7=49 \n",
      "8*1=8 8*2=16 8*3=24 8*4=32 8*5=40 8*6=48 8*7=56 8*8=64 \n",
      "9*1=9 9*2=18 9*3=27 9*4=36 9*5=45 9*6=54 9*7=63 9*8=72 9*9=81 \n"
     ]
    }
   ],
   "source": [
    "for i in range(1,10):\n",
    "    for j in range(1,i+1):\n",
    "        print(\"%d*%d=%d\" % (i,j,i*j),end = \" \")\n",
    "    print()"
   ]
  },
  {
   "cell_type": "markdown",
   "metadata": {},
   "source": [
    "题目：暂停一秒输出。\n",
    "程序分析：使用 time 模块的 sleep() 函数。"
   ]
  },
  {
   "cell_type": "code",
   "execution_count": 36,
   "metadata": {},
   "outputs": [
    {
     "name": "stdout",
     "output_type": "stream",
     "text": [
      "0\n",
      "1\n",
      "2\n",
      "3\n",
      "4\n"
     ]
    }
   ],
   "source": [
    "import time\n",
    "\n",
    "l=list(range(5))\n",
    "\n",
    "for i in range(len(l)):\n",
    "    print (l[i])\n",
    "    time.sleep(1)  # 暂停一秒输出"
   ]
  },
  {
   "cell_type": "markdown",
   "metadata": {},
   "source": [
    "题目：暂停一秒输出，并格式化当前时间。"
   ]
  },
  {
   "cell_type": "code",
   "execution_count": 38,
   "metadata": {},
   "outputs": [
    {
     "name": "stdout",
     "output_type": "stream",
     "text": [
      "2020-04-25 10:34:45\n",
      "2020-04-25 10:34:46\n"
     ]
    }
   ],
   "source": [
    "import time\n",
    "print(time.strftime(\"%Y-%m-%d %H:%M:%S\",time.localtime(time.time())))\n",
    "time.sleep(1)\n",
    "print(time.strftime(\"%Y-%m-%d %H:%M:%S\",time.localtime(time.time())))"
   ]
  },
  {
   "cell_type": "markdown",
   "metadata": {},
   "source": [
    "题目：古典问题：有一对兔子，从出生后第3个月起每个月都生一对兔子，小兔子长到第三个月后每个月又生一对兔子，假如兔子都不死，问每个月的兔子总数为多少？\n",
    "\n",
    "程序分析：兔子的规律为数列1,1,2,3,5,8,13,21...."
   ]
  },
  {
   "cell_type": "code",
   "execution_count": 39,
   "metadata": {},
   "outputs": [
    {
     "name": "stdout",
     "output_type": "stream",
     "text": [
      "           1            1            2            3            5            8 \n",
      "          13           21           34           55           89          144 \n",
      "         233          377          610          987         1597         2584 \n",
      "        4181         6765        10946        17711        28657        46368 \n",
      "       75025       121393       196418       317811       514229       832040 \n",
      "     1346269      2178309      3524578      5702887      9227465     14930352 \n",
      "    24157817     39088169     63245986    102334155    165580141    267914296 \n"
     ]
    }
   ],
   "source": [
    "f1 = 1\n",
    "f2 = 1\n",
    "for i in range(1,22):\n",
    "    print ('%12ld %12ld' % (f1,f2),end=\" \")\n",
    "    if (i % 3) == 0:\n",
    "        print ('')\n",
    "    f1 = f1 + f2\n",
    "    f2 = f1 + f2"
   ]
  },
  {
   "cell_type": "markdown",
   "metadata": {},
   "source": [
    "题目：判断101-200之间有多少个素数，并输出所有素数。\n",
    "\n",
    "程序分析：判断素数的方法：用一个数分别去除2到sqrt(这个数)，如果能被整除，则表明此数不是素数，反之是素数。 　　　"
   ]
  },
  {
   "cell_type": "code",
   "execution_count": 49,
   "metadata": {
    "scrolled": true
   },
   "outputs": [
    {
     "name": "stdout",
     "output_type": "stream",
     "text": [
      "101 103 107 109 113 127 131 137 139 149 151 157 163 167 173 179 181 191 193 197 199 \n",
      "total prime num: 21\n"
     ]
    }
   ],
   "source": [
    "import math\n",
    "def is_prime(num):\n",
    "    for i in range(2,int(math.sqrt(num))+1):\n",
    "        if num % i == 0:\n",
    "            return False\n",
    "    return True if num != 1 else False\n",
    "\n",
    "count = 0\n",
    "for i in range(101,200):\n",
    "    if is_prime(i):\n",
    "        print(i,end=\" \")\n",
    "        count += 1\n",
    "print()\n",
    "print(\"total prime num:\",count)\n",
    "        "
   ]
  },
  {
   "cell_type": "markdown",
   "metadata": {},
   "source": [
    "题目：打印出所有的\"水仙花数\"，所谓\"水仙花数\"是指一个三位数，其各位数字立方和等于该数本身。例如：153是一个\"水仙花数\"，因为153=1的三次方＋5的三次方＋3的三次方。\n",
    "\n",
    "程序分析：利用for循环控制100-999个数，每个数分解出个位，十位，百位。"
   ]
  },
  {
   "cell_type": "code",
   "execution_count": 56,
   "metadata": {},
   "outputs": [
    {
     "name": "stdout",
     "output_type": "stream",
     "text": [
      "True\n",
      "153 370 371 407 \n",
      "total narcissistic num: 4\n"
     ]
    }
   ],
   "source": [
    "def is_narcissistic(num):\n",
    "    low = num % 10\n",
    "    mid = num // 10 % 10\n",
    "    high = num // 100\n",
    "    if num == low**3 + mid**3 + high**3:\n",
    "        return True\n",
    "    else:\n",
    "        return False\n",
    "print(is_narcissistic(153))\n",
    "\n",
    "count = 0\n",
    "for i in range(100,1000):\n",
    "    if is_narcissistic(i):\n",
    "        print(i,end = \" \")\n",
    "        count += 1\n",
    "print()\n",
    "print(\"total narcissistic num:\",count)        "
   ]
  },
  {
   "cell_type": "markdown",
   "metadata": {},
   "source": [
    "题目：将一个正整数分解质因数。例如：输入90,打印出90=2 * 3 * 3* 5 。\n",
    "程序分析：对n进行分解质因数，应先找到一个最小的质数k，然后按下述步骤完成：\n",
    "\n",
    "1. 如果这个质数恰等于n，则说明分解质因数的过程已经结束，打印出即可。\n",
    "2. 如果n<>k，但n能被k整除，则应打印出k的值，并用n除以k的商,作为新的正整数你n,重复执行第一步。\n",
    "3. 如果n不能被k整除，则用k+1作为k的值,重复执行第一步。"
   ]
  },
  {
   "cell_type": "code",
   "execution_count": 5,
   "metadata": {},
   "outputs": [
    {
     "name": "stdout",
     "output_type": "stream",
     "text": [
      "90 = 2 * 3 * 3 * 5\n",
      "1\n",
      "2 = 2\n",
      "200 = 2 * 2 * 2 * 5 * 5\n"
     ]
    }
   ],
   "source": [
    "def reduceNum(n):\n",
    "    if not isinstance(n, int) or n <= 0 :\n",
    "        print( '请输入一个正确的数字 !')\n",
    "        exit(0)\n",
    "    elif n in [1] :\n",
    "        print (n)\n",
    "    else:\n",
    "        print('{} ='.format(n),end=\" \")\n",
    "        while n not in [1] : # 循环保证递归\n",
    "            # print(n)\n",
    "            for index in range(2, int(n + 1)):\n",
    "                if n % index == 0: # 找到最小的质数\n",
    "                    n /= index # n 等于 n/index\n",
    "                    if n == 1: \n",
    "                        print(index) \n",
    "                    else : # index 一定是素数\n",
    "                        print( '{} *'.format(index),end=\" \")\n",
    "                    break\n",
    "reduceNum(90)\n",
    "reduceNum(1)\n",
    "reduceNum(2)\n",
    "reduceNum(200)"
   ]
  },
  {
   "cell_type": "markdown",
   "metadata": {},
   "source": [
    "题目：利用条件运算符的嵌套来完成此题：学习成绩>=90分的同学用A表示，60-89分之间的用B表示，60分以下的用C表示。\n",
    "\n",
    "程序分析：程序分析：(a>b)?a:b这是条件运算符的基本例子。"
   ]
  },
  {
   "cell_type": "code",
   "execution_count": 3,
   "metadata": {},
   "outputs": [
    {
     "name": "stdout",
     "output_type": "stream",
     "text": [
      "95\n",
      "95 score is A grade\n"
     ]
    }
   ],
   "source": [
    "score = int(input())\n",
    "if score >= 90:\n",
    "    grade = \"A\"\n",
    "elif score >= 60:\n",
    "    grade = \"B\"\n",
    "else:\n",
    "    grade = \"C\"\n",
    "print(\"%d score is %s grade\" % (score,grade))"
   ]
  },
  {
   "cell_type": "markdown",
   "metadata": {},
   "source": [
    "题目：输出指定格式的日期。\n",
    "\n",
    "程序分析：使用 datetime 模块。"
   ]
  },
  {
   "cell_type": "code",
   "execution_count": 4,
   "metadata": {},
   "outputs": [
    {
     "name": "stdout",
     "output_type": "stream",
     "text": [
      "25/04/2020\n",
      "05/01/1941\n",
      "06/01/1941\n",
      "05/01/1942\n"
     ]
    }
   ],
   "source": [
    "import datetime\n",
    "\n",
    "# 输出今日日期，格式为 dd/mm/yyyy。更多选项可以查看 strftime() 方法\n",
    "print(datetime.date.today().strftime('%d/%m/%Y'))\n",
    "\n",
    "# 创建日期对象\n",
    "miyazakiBirthDate = datetime.date(1941, 1, 5)\n",
    "print(miyazakiBirthDate.strftime('%d/%m/%Y'))\n",
    "\n",
    "# 日期算术运算\n",
    "miyazakiBirthNextDay = miyazakiBirthDate + datetime.timedelta(days=1)\n",
    "print(miyazakiBirthNextDay.strftime('%d/%m/%Y'))\n",
    "\n",
    "# 日期替换\n",
    "miyazakiFirstBirthday = miyazakiBirthDate.replace(year=miyazakiBirthDate.year + 1)\n",
    "print(miyazakiFirstBirthday.strftime('%d/%m/%Y'))"
   ]
  },
  {
   "cell_type": "markdown",
   "metadata": {},
   "source": [
    "题目：输入一行字符，分别统计出其中英文字母、空格、数字和其它字符的个数。\n",
    "\n",
    "程序分析：利用 while 或 for 语句,条件为输入的字符不为 '\\n'。"
   ]
  },
  {
   "cell_type": "code",
   "execution_count": 5,
   "metadata": {},
   "outputs": [
    {
     "name": "stdout",
     "output_type": "stream",
     "text": [
      "请输入一个字符串:\n",
      "vsabj\n",
      "char = 5,space = 0,digit = 0,others = 0\n"
     ]
    }
   ],
   "source": [
    "s = input('请输入一个字符串:\\n')\n",
    "letters = 0\n",
    "space = 0\n",
    "digit = 0\n",
    "others = 0\n",
    "i=0\n",
    "while i < len(s):\n",
    "    c = s[i]\n",
    "    i += 1\n",
    "    if c.isalpha():\n",
    "        letters += 1\n",
    "    elif c.isspace():\n",
    "        space += 1\n",
    "    elif c.isdigit():\n",
    "        digit += 1\n",
    "    else:\n",
    "        others += 1\n",
    "print ('char = %d,space = %d,digit = %d,others = %d' % (letters,space,digit,others))"
   ]
  },
  {
   "cell_type": "code",
   "execution_count": 6,
   "metadata": {},
   "outputs": [
    {
     "name": "stdout",
     "output_type": "stream",
     "text": [
      "请输入一个字符串:\n",
      "vjdzhbv28394/'\n",
      "char = 7,space = 0,digit = 5,others = 2\n"
     ]
    }
   ],
   "source": [
    "s = input('请输入一个字符串:\\n')\n",
    "letters = 0\n",
    "space = 0\n",
    "digit = 0\n",
    "others = 0\n",
    "for c in s:\n",
    "    if c.isalpha():\n",
    "        letters += 1\n",
    "    elif c.isspace():\n",
    "        space += 1\n",
    "    elif c.isdigit():\n",
    "        digit += 1\n",
    "    else:\n",
    "        others += 1\n",
    "print( 'char = %d,space = %d,digit = %d,others = %d' % (letters,space,digit,others))"
   ]
  },
  {
   "cell_type": "markdown",
   "metadata": {},
   "source": [
    "题目：求s=a+aa+aaa+aaaa+aa...a的值，其中a是一个数字。例如2+22+222+2222+22222(此时共有5个数相加)，几个数相加由键盘控制。\n",
    "\n",
    "程序分析：关键是计算出每一项的值。"
   ]
  },
  {
   "cell_type": "code",
   "execution_count": 8,
   "metadata": {},
   "outputs": [
    {
     "name": "stdout",
     "output_type": "stream",
     "text": [
      "n = 4\n",
      "a = 5\n",
      "5\n",
      "55\n",
      "555\n",
      "5555\n",
      "计算和为： 6170\n"
     ]
    }
   ],
   "source": [
    "Tn = 0\n",
    "Sn = []\n",
    "n = int(input('n = '))\n",
    "a = int(input('a = '))\n",
    "\n",
    "for _ in range(n):\n",
    "    Tn = Tn + a\n",
    "    a = a * 10\n",
    "    Sn.append(Tn)\n",
    "    print (Tn)\n",
    "    \n",
    "print (\"计算和为：\",sum(Sn))"
   ]
  },
  {
   "cell_type": "markdown",
   "metadata": {},
   "source": [
    "题目：一个数如果恰好等于它的因子之和，这个数就称为\"完数\"。例如6=1＋2＋3.编程找出1000以内的所有完数。"
   ]
  },
  {
   "cell_type": "code",
   "execution_count": 11,
   "metadata": {},
   "outputs": [
    {
     "data": {
      "text/plain": [
       "False"
      ]
     },
     "execution_count": 11,
     "metadata": {},
     "output_type": "execute_result"
    }
   ],
   "source": [
    "def is_perfect(num):\n",
    "    lst = []\n",
    "    for i in range(1,num):\n",
    "        if num % i == 0:\n",
    "            lst.append(i)\n",
    "    if num == sum(lst):\n",
    "        return True\n",
    "    else:\n",
    "        return False\n",
    "is_perfect(6)\n",
    "is_perfect(7)"
   ]
  },
  {
   "cell_type": "code",
   "execution_count": 16,
   "metadata": {},
   "outputs": [
    {
     "name": "stdout",
     "output_type": "stream",
     "text": [
      "6 28 496 \n",
      "total perfect num: 3\n"
     ]
    }
   ],
   "source": [
    "count = 0\n",
    "lst = []\n",
    "for i in range(1,1000):\n",
    "    if is_perfect(i):\n",
    "        print(i,end=\" \")\n",
    "        count += 1\n",
    "print()\n",
    "print(\"total perfect num:\",count)"
   ]
  },
  {
   "cell_type": "markdown",
   "metadata": {},
   "source": [
    "题目：一球从100米高度自由落下，每次落地后反跳回原高度的一半；再落下，求它在第10次落地时，共经过多少米？第10次反弹多高？"
   ]
  },
  {
   "cell_type": "code",
   "execution_count": 26,
   "metadata": {},
   "outputs": [
    {
     "name": "stdout",
     "output_type": "stream",
     "text": [
      "总高度：tour = 299.609375\n",
      "第10次反弹高度：height = 0.09765625\n"
     ]
    }
   ],
   "source": [
    "tour = []\n",
    "height = []\n",
    "\n",
    "hei = 100.0 # 起始高度\n",
    "tim = 10 # 次数\n",
    "\n",
    "for i in range(1, tim + 1):\n",
    "    # 从第二次开始，落地时的距离应该是反弹高度乘以2（弹到最高点再落下）\n",
    "    if i == 1:\n",
    "        tour.append(hei)\n",
    "    else:\n",
    "        tour.append(2*hei) \n",
    "    hei /= 2\n",
    "    height.append(hei)\n",
    "    \n",
    "print('总高度：tour = {0}'.format(sum(tour)))\n",
    "print('第10次反弹高度：height = {0}'.format(height[-1]))\n",
    "    "
   ]
  },
  {
   "cell_type": "markdown",
   "metadata": {},
   "source": [
    "题目：猴子吃桃问题：猴子第一天摘下若干个桃子，当即吃了一半，还不瘾，又多吃了一个第二天早上又将剩下的桃子吃掉一半，又多吃了一个。以后每天早上都吃了前一天剩下的一半零一个。到第10天早上想再吃时，见只剩下一个桃子了。求第一天共摘了多少。\n",
    "\n",
    "程序分析：采取逆向思维的方法，从后往前推断。"
   ]
  },
  {
   "cell_type": "code",
   "execution_count": 33,
   "metadata": {},
   "outputs": [
    {
     "name": "stdout",
     "output_type": "stream",
     "text": [
      "1534\n",
      "[1, 4, 10, 22, 46, 94, 190, 382, 766, 1534]\n"
     ]
    }
   ],
   "source": [
    "day = 1\n",
    "lst = []\n",
    "for _ in range(10,0,-1):\n",
    "    lst.append(day)\n",
    "    day = (day + 1)*2\n",
    "print(lst[-1])\n",
    "print(lst)"
   ]
  },
  {
   "cell_type": "code",
   "execution_count": 34,
   "metadata": {},
   "outputs": [
    {
     "name": "stdout",
     "output_type": "stream",
     "text": [
      "1534\n"
     ]
    }
   ],
   "source": [
    "x2 = 1\n",
    "for day in range(9,0,-1):\n",
    "    x1 = (x2 + 1) * 2\n",
    "    x2 = x1\n",
    "print (x1)"
   ]
  },
  {
   "cell_type": "markdown",
   "metadata": {},
   "source": [
    "题目：两个乒乓球队进行比赛，各出三人。甲队为a,b,c三人，乙队为x,y,z三人。已抽签决定比赛名单。有人向队员打听比赛的名单。a说他不和x比，c说他不和x,z比，请编程序找出三队赛手的名单。\n",
    "\n",
    "c只能和y比，a只能和z比，剩下的b和x比"
   ]
  },
  {
   "cell_type": "code",
   "execution_count": 46,
   "metadata": {},
   "outputs": [
    {
     "name": "stdout",
     "output_type": "stream",
     "text": [
      "order is a -- z\t b -- x\tc--y\n"
     ]
    }
   ],
   "source": [
    "# i j k 分别和a b c比赛\n",
    "for i in range(ord('x'),ord('z') + 1):\n",
    "    for j in range(ord('x'),ord('z') + 1):\n",
    "        if i != j:\n",
    "            for k in range(ord('x'),ord('z') + 1):\n",
    "                if (i != k) and (j != k): #三人互比，三次遍历\n",
    "                    if (i != ord('x')) and (k != ord('x')) and (k != ord('z')):\n",
    "                        print ('order is a -- %s\\t b -- %s\\tc--%s' % (chr(i),chr(j),chr(k)))"
   ]
  },
  {
   "cell_type": "raw",
   "metadata": {},
   "source": [
    "题目：打印出如下图案（菱形）:\n",
    "   *\n",
    "  ***\n",
    " *****\n",
    "*******\n",
    " *****\n",
    "  ***\n",
    "   *\n"
   ]
  },
  {
   "cell_type": "code",
   "execution_count": 62,
   "metadata": {},
   "outputs": [
    {
     "name": "stdout",
     "output_type": "stream",
     "text": [
      "    *\n",
      "   ***\n",
      "  *****\n",
      " *******\n",
      "  *****\n",
      "   ***\n",
      "    *\n"
     ]
    }
   ],
   "source": [
    "for i in range(4):\n",
    "    for _ in range(4-i):\n",
    "        print(\" \",end=\"\")\n",
    "    for _ in range(2*i+1):\n",
    "        print(\"*\",end=\"\")\n",
    "    print()\n",
    "    \n",
    "for i in range(3,0,-1):\n",
    "    for _ in range(4-i+1):\n",
    "        print(\" \",end=\"\")\n",
    "    for _ in range(2*i-1):\n",
    "        print(\"*\",end=\"\")\n",
    "    print()"
   ]
  },
  {
   "cell_type": "code",
   "execution_count": 64,
   "metadata": {},
   "outputs": [
    {
     "name": "stdout",
     "output_type": "stream",
     "text": [
      "   *\n",
      "  ***\n",
      " *****\n",
      "*******\n",
      " *****\n",
      "  ***\n",
      "   *\n"
     ]
    }
   ],
   "source": [
    "from sys import stdout\n",
    "for i in range(4):\n",
    "    for j in range(2 - i + 1):\n",
    "        stdout.write(' ')\n",
    "    for k in range(2 * i + 1):\n",
    "        stdout.write('*')\n",
    "    print()\n",
    "\n",
    "for i in range(3):\n",
    "    for j in range(i + 1):\n",
    "        stdout.write(' ')\n",
    "    for k in range(4 - 2 * i + 1):\n",
    "        stdout.write('*')\n",
    "    print()"
   ]
  },
  {
   "cell_type": "markdown",
   "metadata": {},
   "source": [
    "题目：有一分数序列：2/1，3/2，5/3，8/5，13/8，21/13...求出这个数列的前20项之和。\n",
    "\n",
    "程序分析：请抓住分子与分母的变化规律。"
   ]
  },
  {
   "cell_type": "code",
   "execution_count": 71,
   "metadata": {},
   "outputs": [
    {
     "name": "stdout",
     "output_type": "stream",
     "text": [
      "5 3\n",
      "32.66026079864164\n"
     ]
    }
   ],
   "source": [
    "def fib1(n):\n",
    "    if n==1:\n",
    "        return 1\n",
    "    elif n==2:\n",
    "        return 2\n",
    "    else:\n",
    "        return fib1(n-1)+fib1(n-2)\n",
    "def fib2(n):\n",
    "    if n==1:\n",
    "        return 2\n",
    "    elif n==2:\n",
    "        return 3\n",
    "    else:\n",
    "        return fib2(n-1)+fib2(n-2)\n",
    "print(fib2(3),fib1(3))\n",
    "result = 0\n",
    "for i in range(1,21):\n",
    "    result +=  fib2(i)/fib1(i)\n",
    "print(result)"
   ]
  },
  {
   "cell_type": "code",
   "execution_count": 70,
   "metadata": {},
   "outputs": [
    {
     "name": "stdout",
     "output_type": "stream",
     "text": [
      "32.66026079864164\n"
     ]
    }
   ],
   "source": [
    "a = 2.0\n",
    "b = 1.0\n",
    "s = 0\n",
    "for n in range(1,21):\n",
    "    s += a / b\n",
    "    a,b = a+b,a\n",
    "print (s)"
   ]
  },
  {
   "cell_type": "code",
   "execution_count": 74,
   "metadata": {},
   "outputs": [
    {
     "name": "stdout",
     "output_type": "stream",
     "text": [
      "32.66026079864164\n"
     ]
    }
   ],
   "source": [
    "a = 2.0\n",
    "b = 1.0\n",
    "l = []\n",
    "l.append(a / b)\n",
    "for _ in range(1,20):\n",
    "    b,a = a,a + b\n",
    "    l.append(a / b)\n",
    "print (sum(l))"
   ]
  },
  {
   "cell_type": "markdown",
   "metadata": {},
   "source": [
    "题目：求1+2!+3!+...+20!的和。\n",
    "\n",
    "程序分析：此程序只是把累加变成了累乘。"
   ]
  },
  {
   "cell_type": "code",
   "execution_count": 75,
   "metadata": {},
   "outputs": [
    {
     "name": "stdout",
     "output_type": "stream",
     "text": [
      "2.5613274941118203e+18\n"
     ]
    }
   ],
   "source": [
    "from math import factorial\n",
    "for i in range(1,21):\n",
    "    result += factorial(i)\n",
    "print(result)"
   ]
  },
  {
   "cell_type": "code",
   "execution_count": 76,
   "metadata": {},
   "outputs": [
    {
     "name": "stdout",
     "output_type": "stream",
     "text": [
      "1! + 2! + 3! + ... + 20! = 2561327494111820313\n"
     ]
    }
   ],
   "source": [
    "s = 0\n",
    "l = range(1,21)\n",
    "def op(x):\n",
    "    r = 1\n",
    "    for i in range(1,x + 1):\n",
    "        r *= i\n",
    "    return r\n",
    "s = sum(map(op,l))\n",
    "print ('1! + 2! + 3! + ... + 20! = %d' % s)"
   ]
  },
  {
   "cell_type": "markdown",
   "metadata": {},
   "source": [
    "题目：利用递归方法求5!。\n",
    "\n",
    "程序分析：递归公式：fn=fn-1*4!"
   ]
  },
  {
   "cell_type": "code",
   "execution_count": 78,
   "metadata": {},
   "outputs": [
    {
     "name": "stdout",
     "output_type": "stream",
     "text": [
      "120\n"
     ]
    }
   ],
   "source": [
    "def fact(j):\n",
    "    sum = 0\n",
    "    if j == 0:\n",
    "        sum = 1\n",
    "    else:\n",
    "        sum = j * fact(j - 1)\n",
    "    return sum\n",
    "print (fact(5))"
   ]
  },
  {
   "cell_type": "code",
   "execution_count": 79,
   "metadata": {},
   "outputs": [
    {
     "name": "stdout",
     "output_type": "stream",
     "text": [
      "120\n"
     ]
    }
   ],
   "source": [
    "def fac(n):\n",
    "    result = 1\n",
    "    for i in range(1,n+1):\n",
    "        result *= i\n",
    "    return result\n",
    "print(fac(5))"
   ]
  },
  {
   "cell_type": "markdown",
   "metadata": {},
   "source": [
    "题目：利用递归函数调用方式，将所输入的5个字符，以相反顺序打印出来。"
   ]
  },
  {
   "cell_type": "code",
   "execution_count": 80,
   "metadata": {},
   "outputs": [
    {
     "name": "stdout",
     "output_type": "stream",
     "text": [
      "Input a string:abcde\n",
      "e\n",
      "d\n",
      "c\n",
      "b\n",
      "a\n"
     ]
    }
   ],
   "source": [
    "def output(s,l):\n",
    "    if l==0:\n",
    "        return\n",
    "    print(s[l-1])\n",
    "    output(s,l-1)\n",
    "s = input('Input a string:')\n",
    "l = len(s)\n",
    "output(s,l)"
   ]
  },
  {
   "cell_type": "code",
   "execution_count": 83,
   "metadata": {},
   "outputs": [
    {
     "name": "stdout",
     "output_type": "stream",
     "text": [
      "Input a string:vdzjhvbd \n",
      " dbvhjzdv\n"
     ]
    }
   ],
   "source": [
    "s = str(input('Input a string:'))\n",
    "s = s[::-1]\n",
    "print(s)"
   ]
  },
  {
   "cell_type": "markdown",
   "metadata": {},
   "source": [
    "题目：有5个人坐在一起，问第五个人多少岁？他说比第4个人大2岁。问第4个人岁数，他说比第3个人大2岁。问第三个人，又说比第2人大两岁。问第2个人，说比第一个人大两岁。最后问第一个人，他说是10岁。请问第五个人多大？\n",
    "\n",
    "程序分析：利用递归的方法，递归分为回推和递推两个阶段。要想知道第五个人岁数，需知道第四人的岁数，依次类推，推到第一人（10岁），再往回推。"
   ]
  },
  {
   "cell_type": "code",
   "execution_count": 84,
   "metadata": {},
   "outputs": [
    {
     "name": "stdout",
     "output_type": "stream",
     "text": [
      "18\n"
     ]
    }
   ],
   "source": [
    "def age(n):\n",
    "    if n == 1: \n",
    "        c = 10\n",
    "    else: \n",
    "        c = age(n - 1) + 2\n",
    "    return c\n",
    "\n",
    "print (age(5))"
   ]
  },
  {
   "cell_type": "markdown",
   "metadata": {},
   "source": [
    "题目：给一个不多于5位的正整数，要求：一、求它是几位数，二、逆序打印出各位数字。"
   ]
  },
  {
   "cell_type": "code",
   "execution_count": 85,
   "metadata": {},
   "outputs": [
    {
     "name": "stdout",
     "output_type": "stream",
     "text": [
      "52698\n",
      "5\n",
      "89625\n"
     ]
    }
   ],
   "source": [
    "a = str(input())\n",
    "print(len(a))\n",
    "print(a[::-1])"
   ]
  },
  {
   "cell_type": "code",
   "execution_count": 88,
   "metadata": {},
   "outputs": [
    {
     "name": "stdout",
     "output_type": "stream",
     "text": [
      "请输入一个数:\n",
      "56932\n",
      "5 位数： 2 3 9 6 5\n"
     ]
    }
   ],
   "source": [
    "x = int(input(\"请输入一个数:\\n\"))\n",
    "a = x // 10000\n",
    "b = x % 10000 // 1000\n",
    "c = x % 1000 // 100\n",
    "d = x % 100 // 10\n",
    "e = x % 10\n",
    " \n",
    "if a != 0:\n",
    "    print (\"5 位数：\",e,d,c,b,a)\n",
    "elif b != 0:\n",
    "    print (\"4 位数：\",e,d,c,b,)\n",
    "elif c != 0:\n",
    "    print (\"3 位数：\",e,d,c)\n",
    "elif d != 0:\n",
    "    print (\"2 位数：\",e,d)\n",
    "else:\n",
    "    print (\"1 位数：\",e)"
   ]
  },
  {
   "cell_type": "markdown",
   "metadata": {},
   "source": [
    "题目：一个5位数，判断它是不是回文数。即12321是回文数，个位与万位相同，十位与千位相同。"
   ]
  },
  {
   "cell_type": "code",
   "execution_count": 89,
   "metadata": {},
   "outputs": [
    {
     "name": "stdout",
     "output_type": "stream",
     "text": [
      "输入一个五位数12321\n",
      "True\n"
     ]
    }
   ],
   "source": [
    "def is_palindromic(num):\n",
    "    s = str(num)\n",
    "    if s[0]==s[-1] and s[1]==s[-2]:\n",
    "        return True\n",
    "    else:\n",
    "        return False\n",
    "s = str(input(\"输入一个五位数\"))\n",
    "print(is_palindromic(s))"
   ]
  },
  {
   "cell_type": "code",
   "execution_count": 91,
   "metadata": {},
   "outputs": [
    {
     "name": "stdout",
     "output_type": "stream",
     "text": [
      "请输入一个数字:\n",
      "1223221\n",
      "1223221 是一个回文数!\n"
     ]
    }
   ],
   "source": [
    "a = int(input(\"请输入一个数字:\\n\"))\n",
    "x = str(a)\n",
    "flag = True\n",
    "for i in range(int(len(x)/2)):\n",
    "    if x[i] != x[-i - 1]:\n",
    "        flag = False\n",
    "        break\n",
    "if flag:\n",
    "    print (\"%d 是一个回文数!\" % a)\n",
    "else:\n",
    "    print (\"%d 不是一个回文数!\" % a)"
   ]
  },
  {
   "cell_type": "markdown",
   "metadata": {},
   "source": [
    "题目：请输入星期几的第一个字母来判断一下是星期几，如果第一个字母一样，则继续判断第二个字母。\n",
    "\n",
    "程序分析：用情况语句比较好，如果第一个字母一样，则判断用情况语句或if语句判断第二个字母。"
   ]
  },
  {
   "cell_type": "code",
   "execution_count": 92,
   "metadata": {},
   "outputs": [
    {
     "name": "stdout",
     "output_type": "stream",
     "text": [
      "please input:S\n",
      "please input second letter:\n",
      "please input:a\n",
      "Saturday\n"
     ]
    }
   ],
   "source": [
    "letter = input(\"please input:\")\n",
    "\n",
    "if letter == 'S':\n",
    "    print ('please input second letter:')\n",
    "    letter = input(\"please input:\")\n",
    "    if letter == 'a':\n",
    "        print ('Saturday')\n",
    "    elif letter  == 'u':\n",
    "        print ('Sunday')\n",
    "    else:\n",
    "        print ('data error')\n",
    "    \n",
    "elif letter == 'F':\n",
    "    print ('Friday')\n",
    "    \n",
    "elif letter == 'M':\n",
    "    print ('Monday')\n",
    "    \n",
    "elif letter == 'T':\n",
    "    print ('please input second letter')\n",
    "    letter = input(\"please input:\")\n",
    " \n",
    "    if letter  == 'u':\n",
    "        print ('Tuesday')\n",
    "    elif letter  == 'h':\n",
    "        print ('Thursday')\n",
    "    else:\n",
    "        print ('data error')\n",
    "        \n",
    "elif letter == 'W':\n",
    "    print ('Wednesday')\n",
    "else:\n",
    "    print ('data error')"
   ]
  },
  {
   "cell_type": "markdown",
   "metadata": {},
   "source": [
    "题目：按相反的顺序输出列表的值。"
   ]
  },
  {
   "cell_type": "code",
   "execution_count": 93,
   "metadata": {},
   "outputs": [
    {
     "name": "stdout",
     "output_type": "stream",
     "text": [
      "three\n",
      "two\n",
      "one\n"
     ]
    }
   ],
   "source": [
    "a = ['one', 'two', 'three']\n",
    "for i in a[::-1]:\n",
    "    print (i)"
   ]
  },
  {
   "cell_type": "markdown",
   "metadata": {},
   "source": [
    "题目：按逗号分隔列表。"
   ]
  },
  {
   "cell_type": "code",
   "execution_count": 94,
   "metadata": {},
   "outputs": [
    {
     "name": "stdout",
     "output_type": "stream",
     "text": [
      "1,2,3,4,5\n"
     ]
    }
   ],
   "source": [
    "L = [1,2,3,4,5]\n",
    "s1 = ','.join(str(n) for n in L)\n",
    "print (s1)"
   ]
  },
  {
   "cell_type": "markdown",
   "metadata": {},
   "source": [
    "题目：练习函数调用。"
   ]
  },
  {
   "cell_type": "code",
   "execution_count": 95,
   "metadata": {},
   "outputs": [
    {
     "name": "stdout",
     "output_type": "stream",
     "text": [
      "hello world\n",
      "hello world\n",
      "hello world\n"
     ]
    }
   ],
   "source": [
    "def hello_world():\n",
    "    print ('hello world')\n",
    "\n",
    "def three_hellos():\n",
    "    for i in range(3):\n",
    "        hello_world()\n",
    "        \n",
    "three_hellos()"
   ]
  },
  {
   "cell_type": "markdown",
   "metadata": {},
   "source": [
    "题目：文本颜色设置。"
   ]
  },
  {
   "cell_type": "code",
   "execution_count": 96,
   "metadata": {},
   "outputs": [
    {
     "name": "stdout",
     "output_type": "stream",
     "text": [
      "\u001b[93m警告的颜色字体?\u001b[0m\n"
     ]
    }
   ],
   "source": [
    "class bcolors:\n",
    "    HEADER = '\\033[95m'\n",
    "    OKBLUE = '\\033[94m'\n",
    "    OKGREEN = '\\033[92m'\n",
    "    WARNING = '\\033[93m'\n",
    "    FAIL = '\\033[91m'\n",
    "    ENDC = '\\033[0m'\n",
    "    BOLD = '\\033[1m'\n",
    "    UNDERLINE = '\\033[4m'\n",
    "print (bcolors.WARNING + \"警告的颜色字体?\" + bcolors.ENDC)"
   ]
  },
  {
   "cell_type": "markdown",
   "metadata": {},
   "source": [
    "题目：求100之内的素数。"
   ]
  },
  {
   "cell_type": "code",
   "execution_count": 98,
   "metadata": {},
   "outputs": [
    {
     "name": "stdout",
     "output_type": "stream",
     "text": [
      "输入区间最小值: 1\n",
      "输入区间最大值: 10\n",
      "2\n",
      "3\n",
      "5\n",
      "7\n"
     ]
    }
   ],
   "source": [
    "lower = int(input(\"输入区间最小值: \"))\n",
    "upper = int(input(\"输入区间最大值: \"))\n",
    " \n",
    "for num in range(lower,upper + 1):\n",
    "    # 素数大于 1\n",
    "    if num > 1:\n",
    "        for i in range(2,num):\n",
    "            if (num % i) == 0:\n",
    "                break\n",
    "        else:\n",
    "            print(num)"
   ]
  },
  {
   "cell_type": "code",
   "execution_count": 105,
   "metadata": {},
   "outputs": [
    {
     "name": "stdout",
     "output_type": "stream",
     "text": [
      "输入区间最小值: 1\n",
      "输入区间最大值: 60\n",
      "5 7 9 11 13 15 17 19 21 23 25 27 29 31 33 35 37 39 41 43 45 47 49 51 53 55 57 59 "
     ]
    }
   ],
   "source": [
    "lower = int(input(\"输入区间最小值: \"))\n",
    "upper = int(input(\"输入区间最大值: \"))\n",
    "from math import sqrt\n",
    "def is_prime(num):\n",
    "    if num == 1:\n",
    "        return False\n",
    "    for i in range(2,int(sqrt(num))+1):\n",
    "        if num % i == 0:\n",
    "            return False\n",
    "        else:\n",
    "            return True\n",
    "for i in range(lower,upper):\n",
    "    if is_prime(i):\n",
    "        print(i,end=\" \")"
   ]
  },
  {
   "cell_type": "markdown",
   "metadata": {},
   "source": [
    "题目：对10个数进行排序。\n",
    "\n",
    "程序分析：可以利用选择法，即从后9个比较过程中，选择一个最小的与第一个元素交换，下次类推，即用第二个元素与后8个进行比较，并进行交换。"
   ]
  },
  {
   "cell_type": "code",
   "execution_count": 111,
   "metadata": {},
   "outputs": [
    {
     "name": "stdout",
     "output_type": "stream",
     "text": [
      "[22, 4, 89, 67, 19, 70, 57, 18, 37, 3]\n",
      "[3, 4, 18, 19, 22, 37, 57, 67, 70, 89]\n"
     ]
    }
   ],
   "source": [
    "import random\n",
    "arr = [random.randint(1,100) for i in range(10)]\n",
    "print(arr)\n",
    "arr.sort()\n",
    "print(arr)"
   ]
  },
  {
   "cell_type": "markdown",
   "metadata": {},
   "source": [
    "题目：求一个3*3矩阵主对角线元素之和。\n",
    "\n",
    "程序分析：利用双重for循环控制输入二维数组，再将a[i][i]累加后输出。"
   ]
  },
  {
   "cell_type": "code",
   "execution_count": 126,
   "metadata": {},
   "outputs": [
    {
     "name": "stdout",
     "output_type": "stream",
     "text": [
      "[[]]\n",
      "input num:\n",
      "1\n",
      "input num:\n",
      "2\n",
      "input num:\n",
      "3\n",
      "[[1.0, 2.0, 3.0], []]\n",
      "input num:\n",
      "4\n",
      "input num:\n",
      "5\n",
      "input num:\n",
      "6\n",
      "[[1.0, 2.0, 3.0], [4.0, 5.0, 6.0], []]\n",
      "input num:\n",
      "7\n",
      "input num:\n",
      "8\n",
      "input num:\n",
      "9\n",
      "15.0\n"
     ]
    }
   ],
   "source": [
    "a = []\n",
    "sum = 0.0\n",
    "for i in range(3):\n",
    "    a.append([])\n",
    "    print(a)\n",
    "    for j in range(3):\n",
    "        a[i].append(float(input(\"input num:\\n\")))\n",
    "        \n",
    "for i in range(3):\n",
    "    sum += a[i][i]\n",
    "print (sum)"
   ]
  },
  {
   "cell_type": "markdown",
   "metadata": {},
   "source": [
    "题目：有一个已经排好序的数组。现输入一个数，要求按原来的规律将它插入数组中。\n",
    "\n",
    "程序分析：首先判断此数是否大于最后一个数，然后再考虑插入中间的数的情况，插入后此元素之后的数，依次后移一个位置。"
   ]
  },
  {
   "cell_type": "code",
   "execution_count": 127,
   "metadata": {},
   "outputs": [
    {
     "name": "stdout",
     "output_type": "stream",
     "text": [
      "[1, 4, 6, 9, 13, 16, 19, 28, 40, 100]\n",
      "[0, 1, 4, 6, 9, 13, 16, 19, 28, 40, 100]\n"
     ]
    }
   ],
   "source": [
    "# 方法一 ： 0 作为加入数字的占位符\n",
    "a = [1,4,6,9,13,16,19,28,40,100]\n",
    "print(a)\n",
    "a.append(0)\n",
    "a.sort()\n",
    "print(a)"
   ]
  },
  {
   "cell_type": "markdown",
   "metadata": {},
   "source": [
    "题目：将一个数组逆序输出。\n",
    "程序分析：用第一个与最后一个交换。"
   ]
  },
  {
   "cell_type": "code",
   "execution_count": 128,
   "metadata": {},
   "outputs": [
    {
     "name": "stdout",
     "output_type": "stream",
     "text": [
      "[1, 4, 5, 6, 9]\n"
     ]
    }
   ],
   "source": [
    "a = [9,6,5,4,1]\n",
    "print(a[::-1])"
   ]
  },
  {
   "cell_type": "markdown",
   "metadata": {},
   "source": [
    "题目：模仿静态变量的用法。"
   ]
  },
  {
   "cell_type": "code",
   "execution_count": 129,
   "metadata": {},
   "outputs": [
    {
     "name": "stdout",
     "output_type": "stream",
     "text": [
      "var = 0\n",
      "var = 0\n",
      "var = 0\n"
     ]
    }
   ],
   "source": [
    "def varfunc():\n",
    "    var = 0\n",
    "    print ('var = %d' % var)\n",
    "    var += 1\n",
    "\n",
    "for i in range(3):\n",
    "    varfunc()"
   ]
  },
  {
   "cell_type": "code",
   "execution_count": 132,
   "metadata": {},
   "outputs": [
    {
     "name": "stdout",
     "output_type": "stream",
     "text": [
      "<class '__main__.Static'>\n",
      "6\n",
      "7\n",
      "8\n"
     ]
    }
   ],
   "source": [
    "# 类的属性\n",
    "# 作为类的一个属性吧\n",
    "class Static(object):\n",
    "    def __init__(self,StaticVar=5):\n",
    "        self.StaticVar = StaticVar\n",
    "        \n",
    "    def varfunc(self):\n",
    "        self.StaticVar += 1\n",
    "        print (self.StaticVar)\n",
    "\n",
    "print (Static)\n",
    "a = Static()\n",
    "for i in range(3):\n",
    "    a.varfunc()"
   ]
  },
  {
   "cell_type": "markdown",
   "metadata": {},
   "source": [
    "题目：学习使用auto定义变量的用法。\n",
    "程序分析：没有auto关键字，使用变量作用域来举例吧。"
   ]
  },
  {
   "cell_type": "code",
   "execution_count": 134,
   "metadata": {},
   "outputs": [
    {
     "name": "stdout",
     "output_type": "stream",
     "text": [
      "The num = 2\n",
      "internal block num = 1\n",
      "The num = 3\n",
      "internal block num = 1\n",
      "The num = 4\n",
      "internal block num = 1\n"
     ]
    }
   ],
   "source": [
    "num = 2\n",
    "def autofunc():\n",
    "    num = 1\n",
    "    print ('internal block num = %d' % num)\n",
    "    num += 1\n",
    "for i in range(3):\n",
    "    print ('The num = %d' % num)\n",
    "    num += 1\n",
    "    autofunc()"
   ]
  },
  {
   "cell_type": "markdown",
   "metadata": {},
   "source": [
    "题目：模仿静态变量(static)另一案例。\n",
    "程序分析：演示一个python作用域使用方法"
   ]
  },
  {
   "cell_type": "code",
   "execution_count": 135,
   "metadata": {},
   "outputs": [
    {
     "name": "stdout",
     "output_type": "stream",
     "text": [
      "The num = 3\n",
      "nNum = 2\n",
      "The num = 4\n",
      "nNum = 3\n",
      "The num = 5\n",
      "nNum = 4\n"
     ]
    }
   ],
   "source": [
    "class Num:\n",
    "    def __init__(self,nNum=1):\n",
    "        self.nNum=nNum\n",
    "\n",
    "    def inc(self):\n",
    "        self.nNum += 1\n",
    "        print ('nNum = %d' % self.nNum)\n",
    "\n",
    "\n",
    "nNum = 2\n",
    "inst = Num()\n",
    "for i in range(3):\n",
    "    nNum += 1\n",
    "    print ('The num = %d' % nNum)\n",
    "    inst.inc()"
   ]
  },
  {
   "cell_type": "raw",
   "metadata": {},
   "source": [
    "两个 3 行 3 列的矩阵，实现其对应位置的数据相加，并返回一个新矩阵：\n",
    "X = [[12,7,3],\n",
    "    [4 ,5,6],\n",
    "    [7 ,8,9]]\n",
    "\n",
    "Y = [[5,8,1],\n",
    "    [6,7,3],\n",
    "    [4,5,9]]"
   ]
  },
  {
   "cell_type": "code",
   "execution_count": 136,
   "metadata": {},
   "outputs": [
    {
     "name": "stdout",
     "output_type": "stream",
     "text": [
      "[[17 15  4]\n",
      " [10 12  9]\n",
      " [11 13 18]]\n"
     ]
    }
   ],
   "source": [
    "X = [[12,7,3],\n",
    "    [4 ,5,6],\n",
    "    [7 ,8,9]]\n",
    "\n",
    "Y = [[5,8,1],\n",
    "    [6,7,3],\n",
    "    [4,5,9]]\n",
    "import numpy as np\n",
    "x = np.array(X)\n",
    "y = np.array(Y)\n",
    "print(x+y)"
   ]
  },
  {
   "cell_type": "code",
   "execution_count": 137,
   "metadata": {},
   "outputs": [
    {
     "name": "stdout",
     "output_type": "stream",
     "text": [
      "[17, 15, 4]\n",
      "[10, 12, 9]\n",
      "[11, 13, 18]\n"
     ]
    }
   ],
   "source": [
    "X = [[12,7,3],\n",
    "    [4 ,5,6],\n",
    "    [7 ,8,9]]\n",
    " \n",
    "Y = [[5,8,1],\n",
    "    [6,7,3],\n",
    "    [4,5,9]]\n",
    " \n",
    "result = [[0,0,0],\n",
    "         [0,0,0],\n",
    "         [0,0,0]]\n",
    " \n",
    "# 迭代输出行\n",
    "for i in range(len(X)):\n",
    "   # 迭代输出列\n",
    "   for j in range(len(X[0])):\n",
    "        result[i][j] = X[i][j] + Y[i][j]\n",
    "\n",
    "for r in result:\n",
    "    print(r)"
   ]
  },
  {
   "cell_type": "markdown",
   "metadata": {},
   "source": [
    "题目：统计 1 到 100 之和。"
   ]
  },
  {
   "cell_type": "code",
   "execution_count": 138,
   "metadata": {},
   "outputs": [
    {
     "name": "stdout",
     "output_type": "stream",
     "text": [
      "The sum is 5050\n"
     ]
    }
   ],
   "source": [
    "tmp = 0\n",
    "for i in range(1,101):\n",
    "    tmp += i\n",
    "print ('The sum is %d' % tmp)"
   ]
  },
  {
   "cell_type": "code",
   "execution_count": 147,
   "metadata": {},
   "outputs": [
    {
     "name": "stdout",
     "output_type": "stream",
     "text": [
      "5050\n"
     ]
    }
   ],
   "source": [
    "import numpy as np\n",
    "lst = [x for x in range(1,101)]\n",
    "print(np.sum(lst))"
   ]
  },
  {
   "cell_type": "code",
   "execution_count": 148,
   "metadata": {},
   "outputs": [
    {
     "ename": "TypeError",
     "evalue": "'float' object is not callable",
     "output_type": "error",
     "traceback": [
      "\u001b[1;31m---------------------------------------------------------------------------\u001b[0m",
      "\u001b[1;31mTypeError\u001b[0m                                 Traceback (most recent call last)",
      "\u001b[1;32m<ipython-input-148-4184ec99f9f7>\u001b[0m in \u001b[0;36m<module>\u001b[1;34m\u001b[0m\n\u001b[0;32m      1\u001b[0m \u001b[0mlst\u001b[0m \u001b[1;33m=\u001b[0m \u001b[1;33m[\u001b[0m\u001b[0mx\u001b[0m \u001b[1;32mfor\u001b[0m \u001b[0mx\u001b[0m \u001b[1;32min\u001b[0m \u001b[0mrange\u001b[0m\u001b[1;33m(\u001b[0m\u001b[1;36m1\u001b[0m\u001b[1;33m,\u001b[0m\u001b[1;36m101\u001b[0m\u001b[1;33m)\u001b[0m\u001b[1;33m]\u001b[0m\u001b[1;33m\u001b[0m\u001b[1;33m\u001b[0m\u001b[0m\n\u001b[1;32m----> 2\u001b[1;33m \u001b[0mprint\u001b[0m\u001b[1;33m(\u001b[0m\u001b[0msum\u001b[0m\u001b[1;33m(\u001b[0m\u001b[0mlst\u001b[0m\u001b[1;33m)\u001b[0m\u001b[1;33m)\u001b[0m\u001b[1;33m\u001b[0m\u001b[1;33m\u001b[0m\u001b[0m\n\u001b[0m",
      "\u001b[1;31mTypeError\u001b[0m: 'float' object is not callable"
     ]
    }
   ],
   "source": [
    "lst = [x for x in range(1,101)]\n",
    "print(sum(lst))"
   ]
  },
  {
   "cell_type": "markdown",
   "metadata": {},
   "source": [
    "题目：求输入数字的平方，如果平方运算后小于 50 则退出。"
   ]
  },
  {
   "cell_type": "code",
   "execution_count": 152,
   "metadata": {},
   "outputs": [
    {
     "name": "stdout",
     "output_type": "stream",
     "text": [
      "如果输入的数字平方小于 50，程序将停止运行。\n",
      "please input a number:5\n",
      "运算结果为: 25\n"
     ]
    }
   ],
   "source": [
    "print ('如果输入的数字平方小于 50，程序将停止运行。')\n",
    "again = True\n",
    "while again:\n",
    "    num = int(input('please input a number:'))\n",
    "    print ('运算结果为: %d' % num**2)\n",
    "    if num**2 >= 50:\n",
    "        again = True\n",
    "    else:\n",
    "        again = False"
   ]
  },
  {
   "cell_type": "code",
   "execution_count": 153,
   "metadata": {},
   "outputs": [
    {
     "name": "stdout",
     "output_type": "stream",
     "text": [
      "如果输入的数字平方小于 50，程序将停止运行。\n",
      "请输入一个数字：3\n",
      "运算结果为: 9\n"
     ]
    }
   ],
   "source": [
    "def SQ(x):\n",
    "    return x * x\n",
    "print ('如果输入的数字平方小于 50，程序将停止运行。')\n",
    "again = True\n",
    "while again:\n",
    "    num = int(input('请输入一个数字：'))\n",
    "    print ('运算结果为: %d' % (SQ(num)))\n",
    "    if SQ(num) >= 50:\n",
    "        again = True\n",
    "    else:\n",
    "        again = False"
   ]
  },
  {
   "cell_type": "markdown",
   "metadata": {},
   "source": [
    "题目：两个变量值互换。"
   ]
  },
  {
   "cell_type": "code",
   "execution_count": 154,
   "metadata": {},
   "outputs": [
    {
     "name": "stdout",
     "output_type": "stream",
     "text": [
      "x = 10,y = 20\n",
      "x = 20,y = 10\n"
     ]
    }
   ],
   "source": [
    "def exchange(a,b):\n",
    "    a,b = b,a\n",
    "    return (a,b)\n",
    "x = 10\n",
    "y = 20\n",
    "print ('x = %d,y = %d' % (x,y))\n",
    "x,y = exchange(x,y)\n",
    "print ('x = %d,y = %d' % (x,y))"
   ]
  },
  {
   "cell_type": "markdown",
   "metadata": {},
   "source": [
    "题目：数字比较。"
   ]
  },
  {
   "cell_type": "code",
   "execution_count": 156,
   "metadata": {},
   "outputs": [
    {
     "name": "stdout",
     "output_type": "stream",
     "text": [
      "10 小于 20\n"
     ]
    }
   ],
   "source": [
    "i = 10\n",
    "j = 20\n",
    "if i > j:\n",
    "    print ('%d 大于 %d' % (i,j))\n",
    "elif i == j:\n",
    "    print ('%d 等于 %d' % (i,j))\n",
    "elif i < j:\n",
    "    print ('%d 小于 %d' % (i,j))\n",
    "else:\n",
    "    print ('未知')"
   ]
  },
  {
   "cell_type": "markdown",
   "metadata": {},
   "source": [
    "题目：使用lambda来创建匿名函数。"
   ]
  },
  {
   "cell_type": "code",
   "execution_count": 157,
   "metadata": {},
   "outputs": [
    {
     "name": "stdout",
     "output_type": "stream",
     "text": [
      "The largar one is 20\n",
      "The lower one is 10\n"
     ]
    }
   ],
   "source": [
    "MAXIMUM = lambda x,y :  (x > y) * x + (x < y) * y\n",
    "MINIMUM = lambda x,y :  (x > y) * y + (x < y) * x\n",
    "\n",
    "a = 10\n",
    "b = 20\n",
    "print ('The largar one is %d' % MAXIMUM(a,b))\n",
    "print ('The lower one is %d' % MINIMUM(a,b))"
   ]
  },
  {
   "cell_type": "markdown",
   "metadata": {},
   "source": [
    "题目：输出一个随机数。"
   ]
  },
  {
   "cell_type": "code",
   "execution_count": 159,
   "metadata": {},
   "outputs": [
    {
     "name": "stdout",
     "output_type": "stream",
     "text": [
      "13.3785281145156\n"
     ]
    }
   ],
   "source": [
    "import random\n",
    " \n",
    "#生成 10 到 20 之间的随机数\n",
    "print (random.uniform(10, 20))"
   ]
  },
  {
   "cell_type": "markdown",
   "metadata": {},
   "source": [
    "题目：学习使用按位与 & 。\n",
    "\n",
    "程序分析：0&0=0; 0&1=0; 1&0=0; 1&1=1。"
   ]
  },
  {
   "cell_type": "code",
   "execution_count": 160,
   "metadata": {},
   "outputs": [
    {
     "name": "stdout",
     "output_type": "stream",
     "text": [
      "a & b = 3\n",
      "a & b = 3\n"
     ]
    }
   ],
   "source": [
    "a = 0x77\n",
    "b = a & 3\n",
    "print ('a & b = %d' % b)\n",
    "b &= 7\n",
    "print ('a & b = %d' % b)"
   ]
  },
  {
   "cell_type": "code",
   "execution_count": 162,
   "metadata": {},
   "outputs": [
    {
     "name": "stdout",
     "output_type": "stream",
     "text": [
      "0x11,0x11ff\n",
      "0x11ff\n"
     ]
    }
   ],
   "source": [
    "# 将两个 byte 连接为 16bits 值：\n",
    "def BUILD_UNIT16(x,y):\n",
    "    z = 0\n",
    "    z = x << 8\n",
    "    z += y\n",
    "    print ('0x%x,0x%x' %(x,z))\n",
    "    return z\n",
    "\n",
    "print ('0x%x' %(BUILD_UNIT16(0x11,0xff)))"
   ]
  },
  {
   "cell_type": "markdown",
   "metadata": {},
   "source": [
    "题目：学习使用按位或 | 。\n",
    "\n",
    "程序分析：0|0=0; 0|1=1; 1|0=1; 1|1=1"
   ]
  },
  {
   "cell_type": "code",
   "execution_count": 164,
   "metadata": {},
   "outputs": [
    {
     "name": "stdout",
     "output_type": "stream",
     "text": [
      "a | b is 119\n",
      "a | b is 119\n"
     ]
    }
   ],
   "source": [
    "a = 0x77\n",
    "b = a | 3\n",
    "print ('a | b is %d' % b)\n",
    "b |= 7\n",
    "print ('a | b is %d' % b)"
   ]
  },
  {
   "cell_type": "markdown",
   "metadata": {},
   "source": [
    "题目：学习使用按位异或 ^ 。\n",
    "\n",
    "程序分析：0^0=0; 0^1=1; 1^0=1; 1^1=0"
   ]
  },
  {
   "cell_type": "code",
   "execution_count": 165,
   "metadata": {},
   "outputs": [
    {
     "name": "stdout",
     "output_type": "stream",
     "text": [
      "The a ^ 3 = 116\n",
      "The a ^ b = 115\n"
     ]
    }
   ],
   "source": [
    "a = 0x77\n",
    "b = a ^ 3\n",
    "print ('The a ^ 3 = %d' % b)\n",
    "b ^= 7\n",
    "print ('The a ^ b = %d' % b)"
   ]
  },
  {
   "cell_type": "markdown",
   "metadata": {},
   "source": [
    "题目：取一个整数a从右端开始的4〜7位。\n",
    "\n",
    "程序分析：可以这样考虑： \n",
    "1. 先使a右移4位。 \n",
    "2. 设置一个低4位全为1,其余全为0的数。可用~(~0<<4) \n",
    "3. 将上面二者进行&运算。"
   ]
  },
  {
   "cell_type": "code",
   "execution_count": 166,
   "metadata": {},
   "outputs": [
    {
     "name": "stdout",
     "output_type": "stream",
     "text": [
      "input a number:\n",
      "56\n",
      "70\t3\n"
     ]
    }
   ],
   "source": [
    "a = int(input('input a number:\\n'))\n",
    "b = a >> 4\n",
    "c = ~(~0 << 4)\n",
    "d = b & c\n",
    "print ('%o\\t%o' %(a,d))"
   ]
  },
  {
   "cell_type": "markdown",
   "metadata": {},
   "source": [
    "题目：学习使用按位取反~。\n",
    "\n",
    "程序分析：~0=1; ~1=0; \n",
    "1. 先使a右移4位。 \n",
    "2. 设置一个低4位全为1,其余全为0的数。可用~(~0<<4) \n",
    "3. 将上面二者进行&运算。\n",
    "程序源代码："
   ]
  },
  {
   "cell_type": "code",
   "execution_count": 167,
   "metadata": {},
   "outputs": [
    {
     "name": "stdout",
     "output_type": "stream",
     "text": [
      "The a's 1 complement is -235\n",
      "The a's 2 complement is -235\n"
     ]
    }
   ],
   "source": [
    "a = 234\n",
    "b = ~a\n",
    "print ('The a\\'s 1 complement is %d' % b)\n",
    "a = ~a\n",
    "print ('The a\\'s 2 complement is %d' % a)"
   ]
  },
  {
   "cell_type": "markdown",
   "metadata": {},
   "source": [
    "题目：画图，学用circle画圆形。"
   ]
  },
  {
   "cell_type": "code",
   "execution_count": 171,
   "metadata": {},
   "outputs": [],
   "source": [
    "from tkinter import Canvas, mainloop\n",
    "\n",
    "canvas = Canvas(width=800, height=600, bg='yellow')  \n",
    "canvas.pack()                \n",
    "k = 1\n",
    "j = 1\n",
    "for i in range(0,26):\n",
    "    canvas.create_oval(310 - k,250 - k,310 + k,250 + k, width=1)\n",
    "    k += j\n",
    "    j += 0.3\n",
    "\n",
    "mainloop()"
   ]
  },
  {
   "cell_type": "markdown",
   "metadata": {},
   "source": [
    "题目：画图，学用line画直线。"
   ]
  },
  {
   "cell_type": "code",
   "execution_count": 173,
   "metadata": {},
   "outputs": [],
   "source": [
    "from tkinter import *\n",
    "\n",
    "canvas = Canvas(width=300, height=300, bg='green')   \n",
    "canvas.pack(expand=YES, fill=BOTH)                  \n",
    "x0 = 263\n",
    "y0 = 263\n",
    "y1 = 275\n",
    "x1 = 275\n",
    "for i in range(19):\n",
    "    canvas.create_line(x0,y0,x0,y1, width=1, fill='red')\n",
    "    x0 = x0 - 5\n",
    "    y0 = y0 - 5\n",
    "    x1 = x1 + 5\n",
    "    y1 = y1 + 5\n",
    "\n",
    "x0 = 263\n",
    "y1 = 275\n",
    "y0 = 263\n",
    "for i in range(21):\n",
    "    canvas.create_line(x0,y0,x0,y1,fill = 'red')\n",
    "    x0 += 5\n",
    "    y0 += 5\n",
    "    y1 += 5\n",
    "\n",
    "mainloop()"
   ]
  },
  {
   "cell_type": "markdown",
   "metadata": {},
   "source": [
    "题目：画图，学用rectangle画方形。　　　"
   ]
  },
  {
   "cell_type": "code",
   "execution_count": 174,
   "metadata": {},
   "outputs": [],
   "source": [
    "from tkinter import *\n",
    "root = Tk()\n",
    "root.title('Canvas')\n",
    "\n",
    "canvas = Canvas(root,width = 400,height = 400,bg = 'yellow')\n",
    "x0 = 263\n",
    "y0 = 263\n",
    "y1 = 275\n",
    "x1 = 275\n",
    "\n",
    "for i in range(19):\n",
    "    canvas.create_rectangle(x0,y0,x1,y1)\n",
    "    x0 -= 5\n",
    "    y0 -= 5\n",
    "    x1 += 5\n",
    "    y1 += 5\n",
    "\n",
    "canvas.pack()\n",
    "root.mainloop()"
   ]
  },
  {
   "cell_type": "markdown",
   "metadata": {},
   "source": [
    "题目：画图，综合例子。　\n",
    "\n",
    "程序分析：利用for循环控制100-999个数，每个数分解出个位，十位，百位。。"
   ]
  },
  {
   "cell_type": "code",
   "execution_count": 176,
   "metadata": {},
   "outputs": [],
   "source": [
    "if __name__  == '__main__':\n",
    "    from tkinter import *\n",
    "    canvas = Canvas(width = 300,height = 300,bg = 'green')\n",
    "    canvas.pack(expand = YES,fill = BOTH)\n",
    "    x0 = 150\n",
    "    y0 = 100\n",
    "    canvas.create_oval(x0 - 10,y0 - 10,x0 + 10,y0 + 10)\n",
    "    canvas.create_oval(x0 - 20,y0 - 20,x0 + 20,y0 + 20)\n",
    "    canvas.create_oval(x0 - 50,y0 - 50,x0 + 50,y0 + 50)\n",
    "    import math\n",
    "    B = 0.809\n",
    "    for i in range(16):\n",
    "        a = 2 * math.pi / 16 * i\n",
    "        x = math.ceil(x0 + 48 * math.cos(a))\n",
    "        y = math.ceil(y0 + 48 * math.sin(a) * B)\n",
    "        canvas.create_line(x0,y0,x,y,fill = 'red')\n",
    "    canvas.create_oval(x0 - 60,y0 - 60,x0 + 60,y0 + 60)\n",
    "    \n",
    "\n",
    "    for k in range(501):\n",
    "        for i in range(17):\n",
    "            a = (2 * math.pi / 16) * i + (2 * math.pi / 180) * k\n",
    "            x = math.ceil(x0 + 48 * math.cos(a))\n",
    "            y = math.ceil(y0 + 48 + math.sin(a) * B)\n",
    "            canvas.create_line(x0,y0,x,y,fill = 'red')\n",
    "        for j in range(51):\n",
    "            a = (2 * math.pi / 16) * i + (2* math.pi / 180) * k - 1\n",
    "            x = math.ceil(x0 + 48 * math.cos(a))\n",
    "            y = math.ceil(y0 + 48 * math.sin(a) * B)\n",
    "            canvas.create_line(x0,y0,x,y,fill = 'red')\n",
    "    mainloop()"
   ]
  },
  {
   "cell_type": "markdown",
   "metadata": {},
   "source": [
    "题目：计算字符串长度。　　"
   ]
  },
  {
   "cell_type": "code",
   "execution_count": 177,
   "metadata": {},
   "outputs": [
    {
     "name": "stdout",
     "output_type": "stream",
     "text": [
      "6\n"
     ]
    }
   ],
   "source": [
    "sStr1 = 'strlen'\n",
    "print (len(sStr1))"
   ]
  },
  {
   "cell_type": "markdown",
   "metadata": {},
   "source": [
    "题目：打印出杨辉三角形（要求打印出10行如下图）。"
   ]
  },
  {
   "cell_type": "code",
   "execution_count": 179,
   "metadata": {},
   "outputs": [
    {
     "name": "stdout",
     "output_type": "stream",
     "text": [
      "1 \n",
      "1 1 \n",
      "1 2 1 \n",
      "1 3 3 1 \n",
      "1 4 6 4 1 \n",
      "1 5 10 10 5 1 \n",
      "1 6 15 20 15 6 1 \n",
      "1 7 21 35 35 21 7 1 \n",
      "1 8 28 56 70 56 28 8 1 \n",
      "1 9 36 84 126 126 84 36 9 1 \n"
     ]
    }
   ],
   "source": [
    "if __name__ == '__main__':\n",
    "    a = []\n",
    "    # 创建10行n*n的嵌套列表\n",
    "    for i in range(10):\n",
    "        a.append([])\n",
    "        for j in range(10):\n",
    "            a[i].append(0)\n",
    "    # 复制对角线元素和最左一列的值\n",
    "    for i in range(10):\n",
    "        a[i][0] = 1\n",
    "        a[i][i] = 1\n",
    "    # 赋值其他列的值\n",
    "    for i in range(2,10):\n",
    "        for j in range(1,i):\n",
    "            a[i][j] = a[i - 1][j-1] + a[i - 1][j]\n",
    "    from sys import stdout\n",
    "    for i in range(10):\n",
    "        for j in range(i + 1):\n",
    "            stdout.write(str(a[i][j]))\n",
    "            stdout.write(' ')\n",
    "        print()"
   ]
  },
  {
   "cell_type": "code",
   "execution_count": 193,
   "metadata": {},
   "outputs": [
    {
     "name": "stdout",
     "output_type": "stream",
     "text": [
      "[[], [], [], [], [], [], [], [], [], []]\n",
      "[1]\n",
      "[1, 1]\n",
      "[2, 2, 1]\n",
      "[3, 4, 3, 1]\n",
      "[4, 7, 7, 4, 1]\n",
      "[5, 11, 14, 11, 5, 1]\n",
      "[6, 16, 25, 25, 16, 6, 1]\n",
      "[7, 22, 41, 50, 41, 22, 7, 1]\n",
      "[8, 29, 63, 91, 91, 63, 29, 8, 1]\n",
      "[9, 37, 92, 154, 182, 154, 92, 37, 9, 1]\n"
     ]
    }
   ],
   "source": [
    "num = 10\n",
    "a = [[]]*num\n",
    "print(a)\n",
    "for i in range(num):\n",
    "    a[i]= [0]*(i+1)\n",
    "    for j in range(i+1):\n",
    "        if i == j or i == 1:\n",
    "            a[i][j]=1\n",
    "        else:\n",
    "            a[i][j] = a[i-1][j-1] + a[i-1][j]\n",
    "for i in a:\n",
    "    print(i)"
   ]
  },
  {
   "cell_type": "markdown",
   "metadata": {},
   "source": [
    "题目：查找字符串。　　"
   ]
  },
  {
   "cell_type": "code",
   "execution_count": 194,
   "metadata": {},
   "outputs": [
    {
     "name": "stdout",
     "output_type": "stream",
     "text": [
      "2\n"
     ]
    }
   ],
   "source": [
    "sStr1 = 'abcdefg'\n",
    "sStr2 = 'cde'\n",
    "print (sStr1.find(sStr2))"
   ]
  },
  {
   "cell_type": "markdown",
   "metadata": {},
   "source": [
    "题目：画椭圆。　"
   ]
  },
  {
   "cell_type": "code",
   "execution_count": 196,
   "metadata": {},
   "outputs": [],
   "source": [
    "if __name__ == '__main__':\n",
    "    from tkinter import *\n",
    "    x = 360\n",
    "    y = 160\n",
    "    top = y - 30\n",
    "    bottom = y - 30\n",
    "    \n",
    "    canvas = Canvas(width = 400,height = 600,bg = 'white')\n",
    "    for i in range(20):\n",
    "        canvas.create_oval(250 - top,250 - bottom,250 + top,250 + bottom)\n",
    "        top -= 5\n",
    "        bottom += 5\n",
    "    canvas.pack()\n",
    "    mainloop()"
   ]
  },
  {
   "cell_type": "markdown",
   "metadata": {},
   "source": [
    "题目：利用ellipse 和 rectangle 画图。。　"
   ]
  },
  {
   "cell_type": "code",
   "execution_count": 197,
   "metadata": {},
   "outputs": [],
   "source": [
    "if __name__ == '__main__':\n",
    "    from tkinter import *\n",
    "    canvas = Canvas(width = 400,height = 600,bg = 'white')\n",
    "    left = 20\n",
    "    right = 50\n",
    "    top = 50\n",
    "    num = 15\n",
    "    for i in range(num):\n",
    "        canvas.create_oval(250 - right,250 - left,250 + right,250 + left)\n",
    "        canvas.create_oval(250 - 20,250 - top,250 + 20,250 + top)\n",
    "        canvas.create_rectangle(20 - 2 * i,20 - 2 * i,10 * (i + 2),10 * ( i + 2))\n",
    "        right += 5\n",
    "        left += 5\n",
    "        top += 10\n",
    "\n",
    "    canvas.pack()\n",
    "    mainloop()"
   ]
  },
  {
   "cell_type": "markdown",
   "metadata": {},
   "source": [
    "题目：一个最优美的图案。　　"
   ]
  },
  {
   "cell_type": "code",
   "execution_count": 199,
   "metadata": {},
   "outputs": [],
   "source": [
    "import math\n",
    "from tkinter import *\n",
    "class PTS:\n",
    "    def __init__(self):\n",
    "        self.x = 0\n",
    "        self.y = 0\n",
    "points = []\n",
    "\n",
    "def LineToDemo():\n",
    "\n",
    "    screenx = 400\n",
    "    screeny = 400\n",
    "    canvas = Canvas(width = screenx,height = screeny,bg = 'white')\n",
    "\n",
    "    AspectRatio = 0.85\n",
    "    MAXPTS = 15\n",
    "    h = screeny\n",
    "    w = screenx\n",
    "    xcenter = w / 2\n",
    "    ycenter = h / 2\n",
    "    radius = (h - 30) / (AspectRatio * 2) - 20\n",
    "    step = 360 / MAXPTS\n",
    "    angle = 0.0\n",
    "    for i in range(MAXPTS):\n",
    "        rads = angle * math.pi / 180.0\n",
    "        p = PTS()\n",
    "        p.x = xcenter + int(math.cos(rads) * radius)\n",
    "        p.y = ycenter - int(math.sin(rads) * radius * AspectRatio)\n",
    "        angle += step\n",
    "        points.append(p)\n",
    "    canvas.create_oval(xcenter - radius,ycenter - radius,\n",
    "                       xcenter + radius,ycenter + radius)\n",
    "    for i in range(MAXPTS):\n",
    "        for j in range(i,MAXPTS):\n",
    "            canvas.create_line(points[i].x,points[i].y,points[j].x,points[j].y)\n",
    "\n",
    "    canvas.pack()\n",
    "    mainloop()\n",
    "if __name__ == '__main__':\n",
    "    LineToDemo()"
   ]
  },
  {
   "cell_type": "markdown",
   "metadata": {},
   "source": [
    "题目：输入3个数a,b,c，按大小顺序输出。　　"
   ]
  },
  {
   "cell_type": "code",
   "execution_count": 200,
   "metadata": {},
   "outputs": [
    {
     "name": "stdout",
     "output_type": "stream",
     "text": [
      "n1 = :\n",
      "1\n",
      "n2 = :\n",
      "2\n",
      "n3 = :\n",
      "6\n",
      "1 2 6\n"
     ]
    }
   ],
   "source": [
    "if __name__ == '__main__':\n",
    "    n1 = int(input('n1 = :\\n'))\n",
    "    n2 = int(input('n2 = :\\n'))\n",
    "    n3 = int(input('n3 = :\\n'))\n",
    " \n",
    "    def swap(p1,p2):\n",
    "        return p2,p1\n",
    " \n",
    "    if n1 > n2 : n1,n2 = swap(n1,n2)\n",
    "    if n1 > n3 : n1,n3 = swap(n1,n3)\n",
    "    if n2 > n3 : n2,n3 = swap(n2,n3)\n",
    " \n",
    "    print (n1,n2,n3)"
   ]
  },
  {
   "cell_type": "code",
   "execution_count": 203,
   "metadata": {},
   "outputs": [
    {
     "name": "stdout",
     "output_type": "stream",
     "text": [
      "输入三个整数，空格分隔89 5 32\n",
      "[5, 32, 89]\n"
     ]
    }
   ],
   "source": [
    "lst = list(map(int,input(\"输入三个整数，空格分隔\").split()))\n",
    "lst.sort()\n",
    "print(lst)"
   ]
  },
  {
   "cell_type": "markdown",
   "metadata": {},
   "source": [
    "题目：输入数组，最大的与第一个元素交换，最小的与最后一个元素交换，输出数组。"
   ]
  },
  {
   "cell_type": "code",
   "execution_count": 205,
   "metadata": {},
   "outputs": [
    {
     "name": "stdout",
     "output_type": "stream",
     "text": [
      "[25, 25, 78, 68, 92, 17, 90, 19, 49, 54]\n",
      "[92, 25, 78, 68, 92, 17, 90, 19, 49, 17]\n"
     ]
    }
   ],
   "source": [
    "import random\n",
    "lst = [random.randint(1,100) for i in range(10)]\n",
    "print(lst)\n",
    "lst[0],lst[-1] = max(lst),min(lst)\n",
    "print(lst)"
   ]
  },
  {
   "cell_type": "markdown",
   "metadata": {},
   "source": [
    "题目：有 n 个整数，使其前面各数顺序向后移 m 个位置，最后 m 个数变成最前面的 m 个数"
   ]
  },
  {
   "cell_type": "code",
   "execution_count": 206,
   "metadata": {},
   "outputs": [
    {
     "name": "stdout",
     "output_type": "stream",
     "text": [
      "[87, 17, 32, 36, 97, 59, 68, 15, 20, 75]\n",
      "[59, 68, 15, 20, 75, 87, 17, 32, 36, 97]\n"
     ]
    }
   ],
   "source": [
    "import random\n",
    "n = 10\n",
    "lst = [random.randint(1,100) for i in range(n)]\n",
    "print(lst)\n",
    "m = 5\n",
    "lst1 = lst[0:m]\n",
    "lst2 = lst[m:n]\n",
    "lst = lst2 + lst1\n",
    "print(lst)"
   ]
  },
  {
   "cell_type": "markdown",
   "metadata": {},
   "source": [
    "题目：有n个人围成一圈，顺序排号。从第一个人开始报数（从1到3报数），凡报到3的人退出圈子，问最后留下的是原来第几号的那位。"
   ]
  },
  {
   "cell_type": "code",
   "execution_count": 12,
   "metadata": {},
   "outputs": [
    {
     "name": "stdout",
     "output_type": "stream",
     "text": [
      "[1, 1, 1, 1, 1, 1, 1, 1, 1, 1]\n",
      "[0, 0, 0, 1, 0, 0, 0, 0, 0, 0]\n",
      "4\n"
     ]
    }
   ],
   "source": [
    "n = 10\n",
    "lst = [1 for x in range(1,n+1)]#把报到3的人全部赋值为0\n",
    "print(lst)\n",
    "\n",
    "i = 0 #报数的次数\n",
    "k = 0 #报数的数值 1 2 3\n",
    "m = 0 #退出的人数\n",
    "while m < n - 1: # 退出条件\n",
    "    if lst[i] != 0: # 报数增加条件\n",
    "        k += 1\n",
    "    if k == 3: # 如何判断退出\n",
    "        lst[i] = 0 # 退出后，重新报数，退出人数增加\n",
    "        k = 0\n",
    "        m += 1\n",
    "    i += 1\n",
    "    i %= n # 阻止数组越界\n",
    "\n",
    "print(lst)\n",
    "loc = lst.index(1) + 1\n",
    "print(loc)"
   ]
  },
  {
   "cell_type": "code",
   "execution_count": 3,
   "metadata": {},
   "outputs": [
    {
     "name": "stdout",
     "output_type": "stream",
     "text": [
      "请输入总人数:10\n",
      "[1, 2, 3, 4, 5, 6, 7, 8, 9, 10]\n",
      "[0, 0, 0, 4, 0, 0, 0, 0, 0, 0]\n",
      "4\n"
     ]
    }
   ],
   "source": [
    "n = int(input('请输入总人数:'))\n",
    "num = []\n",
    "for i in range(n):\n",
    "    num.append(i + 1)\n",
    "print(num)\n",
    "\n",
    "i = 0 # 总共报数的次数\n",
    "k = 0 # 报数次数 1 2 3 \n",
    "m = 0 # 退出的人数\n",
    "\n",
    "while m < n - 1: # 判别条件是 退出的人数为不小于 n-1\n",
    "    if num[i] != 0 : # 报数人数增加的条件\n",
    "        k += 1\n",
    "    if k == 3: # 去掉报数为3的人，赋值其为0\n",
    "        num[i] = 0\n",
    "        k = 0\n",
    "        m += 1\n",
    "    i += 1\n",
    "    if i == n : \n",
    "        i = 0 # 防止数组越界\n",
    "\n",
    "print(num)\n",
    "i = 0\n",
    "while num[i] == 0: \n",
    "    i += 1\n",
    "print (num[i])"
   ]
  },
  {
   "cell_type": "markdown",
   "metadata": {},
   "source": [
    "题目：写一个函数，求一个字符串的长度，在main函数中输入字符串，并输出其长度。"
   ]
  },
  {
   "cell_type": "code",
   "execution_count": 13,
   "metadata": {},
   "outputs": [
    {
     "name": "stdout",
     "output_type": "stream",
     "text": [
      "please input a string:\n",
      "vdzvxz3121\n",
      "the string has 10 characters.\n"
     ]
    }
   ],
   "source": [
    "if __name__ == '__main__':\n",
    "    s = input('please input a string:\\n')\n",
    "    print ('the string has %d characters.' % len(s))"
   ]
  },
  {
   "cell_type": "markdown",
   "metadata": {},
   "source": [
    "题目：编写input()和output()函数输入，输出2个学生的数据记录。"
   ]
  },
  {
   "cell_type": "code",
   "execution_count": null,
   "metadata": {},
   "outputs": [
    {
     "name": "stdout",
     "output_type": "stream",
     "text": [
      "[['', '', []], ['', '', []]]\n"
     ]
    }
   ],
   "source": [
    "# stu\n",
    "# num : string\n",
    "# name : string\n",
    "# score[2]: list\n",
    "N = 2\n",
    "student = []\n",
    "for i in range(N):\n",
    "    student.append(['','',[]])\n",
    "print(student)\n",
    "\n",
    "def input_stu(stu):\n",
    "    for i in range(N):\n",
    "        stu[i][0] = input('input student num:\\n')\n",
    "        stu[i][1] = input('input student name:\\n')\n",
    "        for j in range(2):\n",
    "            stu[i][2].append(int(input('score:\\n')))\n",
    "\n",
    "def output_stu(stu):\n",
    "    for i in range(N):\n",
    "        print ('num: %s, name:%s' % ( stu[i][0],stu[i][1] ))\n",
    "        for j in range(2):\n",
    "            print ('%d' % stu[i][2][j])\n",
    "\n",
    "if __name__ == '__main__':\n",
    "    input_stu(student)\n",
    "    print (student)\n",
    "    output_stu(student)"
   ]
  },
  {
   "cell_type": "code",
   "execution_count": 5,
   "metadata": {},
   "outputs": [
    {
     "name": "stdout",
     "output_type": "stream",
     "text": [
      "[['', '', []], ['', '', []]]\n",
      "input student num:\n",
      "1\n",
      "input student name:\n",
      "liyang\n",
      "score:\n",
      "88\n",
      "score:\n",
      "77\n",
      "input student num:\n",
      "2\n",
      "input student name:\n",
      "wangfang\n",
      "score:\n",
      "99\n",
      "score:\n",
      "78\n",
      "[['1', 'liyang', [88, 77]], ['2', 'wangfang', [99, 78]]]\n",
      "num: 1, name:liyang\n",
      "score0 = 88\n",
      "score1 = 77\n",
      "num: 2, name:wangfang\n",
      "score0 = 99\n",
      "score1 = 78\n"
     ]
    }
   ],
   "source": [
    "# stu\n",
    "# num : string\n",
    "# name : string\n",
    "# score[2]: list\n",
    "\n",
    "def input_stu(stu,N):\n",
    "    for i in range(N):\n",
    "        stu[i][0] = input('input student num:\\n')\n",
    "        stu[i][1] = input('input student name:\\n')\n",
    "        for j in range(2):\n",
    "            stu[i][2].append(int(input('score:\\n')))\n",
    "        \n",
    "def output_stu(stu,N):\n",
    "    for i in range(N):\n",
    "        print ('num: %s, name:%s' % ( stu[i][0],stu[i][1] ))\n",
    "        for j in range(2):\n",
    "            print ('score%d = %d' % (j,stu[i][2][j]))\n",
    "\n",
    "if __name__ == '__main__':\n",
    "    N = 2\n",
    "    student = []\n",
    "    for i in range(N):\n",
    "        student.append(['','',[]])\n",
    "    print(student)\n",
    "    # student = [['','',[]]]*N #这里不可以用这种定义方法 是因为复制的列表是视图，两个列表指向同一个内存空间，两个存储分数的列表是一摸一样的\n",
    "    # print(student)\n",
    "    input_stu(student,N)\n",
    "    print (student)\n",
    "    output_stu(student,N)"
   ]
  },
  {
   "cell_type": "markdown",
   "metadata": {},
   "source": [
    "# 此处是列表视图  两个id一样的"
   ]
  },
  {
   "cell_type": "code",
   "execution_count": 20,
   "metadata": {},
   "outputs": [
    {
     "name": "stdout",
     "output_type": "stream",
     "text": [
      "[[1, 2, []], [1, 2, []]]\n",
      "[[1, 2, [1]], [1, 2, [1]]]\n",
      "[[1, 2, [1, 2]], [1, 2, [1, 2]]]\n",
      "True\n"
     ]
    }
   ],
   "source": [
    "lst = [[1,2,[]]]*2\n",
    "print(lst)\n",
    "lst[0][2].append(1)\n",
    "print(lst)\n",
    "lst[1][2].append(2)\n",
    "print(lst)\n",
    "print(id(lst[0][2]) == id(lst[1][2]))"
   ]
  },
  {
   "cell_type": "markdown",
   "metadata": {},
   "source": [
    "# 此处是两个不同的列表  id不一致"
   ]
  },
  {
   "cell_type": "code",
   "execution_count": 22,
   "metadata": {},
   "outputs": [
    {
     "name": "stdout",
     "output_type": "stream",
     "text": [
      "[[1, 2, []], [1, 2, []]]\n",
      "[[1, 2, [1]], [1, 2, []]]\n",
      "[[1, 2, [1]], [1, 2, [2]]]\n",
      "False\n"
     ]
    }
   ],
   "source": [
    "l = []\n",
    "l.append([1,2,[]])\n",
    "l.append([1,2,[]])\n",
    "print(l)\n",
    "l[0][2].append(1)\n",
    "print(l)\n",
    "l[1][2].append(2)\n",
    "print(l)\n",
    "print(id(l[0][2]) == id(l[1][2]))"
   ]
  },
  {
   "cell_type": "markdown",
   "metadata": {},
   "source": [
    "题目：创建一个链表。"
   ]
  },
  {
   "cell_type": "code",
   "execution_count": 23,
   "metadata": {},
   "outputs": [
    {
     "name": "stdout",
     "output_type": "stream",
     "text": [
      "please input a number:\n",
      "1\n",
      "please input a number:\n",
      "2\n",
      "please input a number:\n",
      "3\n",
      "please input a number:\n",
      "5\n",
      "please input a number:\n",
      "6\n",
      "[1, 2, 3, 5, 6]\n"
     ]
    }
   ],
   "source": [
    "if __name__ == '__main__':\n",
    "    ptr = []\n",
    "    for i in range(5):\n",
    "        num = int(input('please input a number:\\n'))\n",
    "        ptr.append(num)\n",
    "    print( ptr)"
   ]
  },
  {
   "cell_type": "markdown",
   "metadata": {},
   "source": [
    "题目：反向输出一个链表。"
   ]
  },
  {
   "cell_type": "code",
   "execution_count": 24,
   "metadata": {},
   "outputs": [
    {
     "name": "stdout",
     "output_type": "stream",
     "text": [
      "please input a number:\n",
      "1\n",
      "please input a number:\n",
      "2\n",
      "please input a number:\n",
      "3\n",
      "please input a number:\n",
      "6\n",
      "please input a number:\n",
      "85\n",
      "[1, 2, 3, 6, 85]\n",
      "[85, 6, 3, 2, 1]\n"
     ]
    }
   ],
   "source": [
    "if __name__ == '__main__':\n",
    "    ptr = []\n",
    "    for i in range(5):\n",
    "        num = int(input('please input a number:\\n'))\n",
    "        ptr.append(num)\n",
    "    print (ptr)\n",
    "    ptr.reverse()\n",
    "    print (ptr)"
   ]
  },
  {
   "cell_type": "markdown",
   "metadata": {},
   "source": [
    "题目：列表排序及连接。\n",
    "程序分析：排序可使用 sort() 方法，连接可以使用 + 号或 extend() 方法。\n",
    "程序源代码："
   ]
  },
  {
   "cell_type": "code",
   "execution_count": 25,
   "metadata": {},
   "outputs": [
    {
     "name": "stdout",
     "output_type": "stream",
     "text": [
      "[1, 2, 3]\n",
      "[1, 2, 3, 3, 4, 5]\n",
      "[1, 2, 3, 3, 4, 5]\n"
     ]
    }
   ],
   "source": [
    "if __name__ == '__main__':\n",
    "    a = [1,3,2]\n",
    "    b = [3,4,5]\n",
    "    a.sort()     # 对列表 a 进行排序\n",
    "    print (a)\n",
    " \n",
    "    # 连接列表 a 与 b\n",
    "    print( a+b)\n",
    "    \n",
    "    # 连接列表 a 与 b\n",
    "    a.extend(b)\n",
    "    print (a)"
   ]
  },
  {
   "cell_type": "markdown",
   "metadata": {},
   "source": [
    "题目：放松一下，算一道简单的题目。"
   ]
  },
  {
   "cell_type": "code",
   "execution_count": 28,
   "metadata": {},
   "outputs": [
    {
     "name": "stdout",
     "output_type": "stream",
     "text": [
      "67\n"
     ]
    }
   ],
   "source": [
    "if __name__ == '__main__':\n",
    "    for i in range(5):\n",
    "        n = 0\n",
    "        if i != 1: \n",
    "            n += 1\n",
    "        if i == 3: \n",
    "            n += 1\n",
    "        if i == 4: \n",
    "            n += 1\n",
    "        if i != 4: \n",
    "            n += 1\n",
    "        if n == 3: \n",
    "            print (64 + i)"
   ]
  },
  {
   "cell_type": "markdown",
   "metadata": {},
   "source": [
    "题目：编写一个函数，输入n为偶数时，调用函数求1/2+1/4+...+1/n,当输入n为奇数时，调用函数1/1+1/3+...+1/n"
   ]
  },
  {
   "cell_type": "code",
   "execution_count": 29,
   "metadata": {},
   "outputs": [
    {
     "name": "stdout",
     "output_type": "stream",
     "text": [
      "0.9166666666666666\n"
     ]
    }
   ],
   "source": [
    "def foo(n):\n",
    "    result = 0\n",
    "    if n % 2 == 0:\n",
    "        for i in range(n,0,-2):\n",
    "            result += 1/i\n",
    "    else:\n",
    "        for i in range(n,-1,-2):\n",
    "            result += 1/i\n",
    "    return result\n",
    "a = foo(6)\n",
    "print(a)"
   ]
  },
  {
   "cell_type": "markdown",
   "metadata": {},
   "source": [
    "题目：循环输出列表"
   ]
  },
  {
   "cell_type": "code",
   "execution_count": 30,
   "metadata": {},
   "outputs": [
    {
     "name": "stdout",
     "output_type": "stream",
     "text": [
      "man\n",
      "woman\n",
      "girl\n",
      "boy\n",
      "sister\n"
     ]
    }
   ],
   "source": [
    "s = [\"man\",\"woman\",\"girl\",\"boy\",\"sister\"]\n",
    "for i in range(len(s)):\n",
    "    print (s[i])"
   ]
  },
  {
   "cell_type": "code",
   "execution_count": 32,
   "metadata": {},
   "outputs": [
    {
     "name": "stdout",
     "output_type": "stream",
     "text": [
      "man\n",
      "woman\n",
      "girl\n",
      "boy\n",
      "sister\n"
     ]
    }
   ],
   "source": [
    "s = [\"man\",\"woman\",\"girl\",\"boy\",\"sister\"]\n",
    "for i in s:\n",
    "    print (i)"
   ]
  },
  {
   "cell_type": "markdown",
   "metadata": {},
   "source": [
    "题目：找到年龄最大的人，并输出。请找出程序中有什么问题。"
   ]
  },
  {
   "cell_type": "code",
   "execution_count": 43,
   "metadata": {},
   "outputs": [
    {
     "name": "stdout",
     "output_type": "stream",
     "text": [
      "50\n",
      "('wang', 50)\n",
      "wang\n",
      "50\n"
     ]
    }
   ],
   "source": [
    "person = {\"li\":18,\"wang\":50,\"zhang\":20,\"sun\":22}\n",
    "max_age = max(person.values())\n",
    "print(max_age)\n",
    "for elem in person.items():\n",
    "    if elem[1] == max_age:\n",
    "        print(elem)\n",
    "        print(elem[0])\n",
    "        print(elem[1])"
   ]
  },
  {
   "cell_type": "code",
   "execution_count": 44,
   "metadata": {},
   "outputs": [
    {
     "name": "stdout",
     "output_type": "stream",
     "text": [
      "{'li': 18, 'wang': 50, 'zhang': 20, 'sun': 22}\n",
      "dict_keys(['li', 'wang', 'zhang', 'sun'])\n",
      "dict_values([18, 50, 20, 22])\n",
      "dict_items([('li', 18), ('wang', 50), ('zhang', 20), ('sun', 22)])\n"
     ]
    }
   ],
   "source": [
    "person = {\"li\":18,\"wang\":50,\"zhang\":20,\"sun\":22}\n",
    "print(person)#字典\n",
    "print(person.keys())#列表\n",
    "print(person.values())#列表\n",
    "print(person.items())# 列表内放元组"
   ]
  },
  {
   "cell_type": "markdown",
   "metadata": {},
   "source": [
    "题目：字符串排序。"
   ]
  },
  {
   "cell_type": "code",
   "execution_count": 45,
   "metadata": {},
   "outputs": [
    {
     "name": "stdout",
     "output_type": "stream",
     "text": [
      "input string:\n",
      "bjhvx\n",
      "input string:\n",
      "vsjbxhv\n",
      "input string:\n",
      "suyjhbc\n",
      "bjhvx vsjbxhv suyjhbc\n",
      "after being sorted.\n",
      "bjhvx suyjhbc vsjbxhv\n"
     ]
    }
   ],
   "source": [
    "str1 = input('input string:\\n')\n",
    "str2 = input('input string:\\n')\n",
    "str3 = input('input string:\\n')\n",
    "print (str1,str2,str3)\n",
    "\n",
    "if str1 > str2 : str1,str2 = str2,str1\n",
    "if str1 > str3 : str1,str3 = str3,str1\n",
    "if str2 > str3 : str2,str3 = str3,str2\n",
    "\n",
    "print ('after being sorted.')\n",
    "print (str1,str2,str3)"
   ]
  },
  {
   "cell_type": "code",
   "execution_count": 47,
   "metadata": {},
   "outputs": [
    {
     "name": "stdout",
     "output_type": "stream",
     "text": [
      "ad uf jk od ss \n",
      "['ad', 'uf', 'jk', 'od', 'ss']\n",
      "['ad', 'jk', 'od', 'ss', 'uf']\n"
     ]
    }
   ],
   "source": [
    "lst = list(map(str,input().split()))\n",
    "print(lst)\n",
    "lst.sort()\n",
    "print(lst)"
   ]
  },
  {
   "cell_type": "markdown",
   "metadata": {},
   "source": [
    "题目：海滩上有一堆桃子，五只猴子来分。第一只猴子把这堆桃子平均分为五份，多了一个，这只猴子把多的一个扔入海中，拿走了一份。第二只猴子把剩下的桃子又平均分成五份，又多了一个，它同样把多的一个扔入海中，拿走了一份，第三、第四、第五只猴子都是这样做的，问海滩上原来最少有多少个桃子？"
   ]
  },
  {
   "cell_type": "markdown",
   "metadata": {},
   "source": [
    "分析:设海滩上原来有x个桃子，则\n",
    "\n",
    "第一只猴子分完桃子之后剩下的桃子x1=x-1-(x-1)/5=(4*(x-1))/5\n",
    "\n",
    "第二只猴子分完桃子之后剩下的桃子x2=x1-1-(x1-1)/5=(4*(x1-1))/5\n",
    "\n",
    "第三只猴子分完桃子之后剩下的桃子x3=x2-1-(x2-1)/5=(4*(x2-1))/5\n",
    "\n",
    "第四只猴子分完桃子之后剩下的桃子x4=x3-1-(x3-1)/5=(4*(x3-1))/5\n",
    "\n",
    "第五只猴子分完桃子之后剩下的桃子x5=x4-1-(x4-1)/5=(4*(x4-1))/5\n",
    "\n",
    "假设第五只猴子分得的桃子为1，五份则为5，即第5只猴子分完桃子后剩下的桃子为4\n",
    "\n",
    "4/4*5+1=6  即6为第五只猴子开始分之前的桃子数，但是6%4!=0,即不满足当第四只猴子分完桃子后剩余桃子个数。\n",
    "\n",
    "所以第五只猴子分得的桃子数不是1，那么从2开始推，直到满足每次所有条件为止。\n",
    "\n",
    "即当第五只猴子分得桃子个数为255时\n",
    "\n",
    "剩余桃子数1020,那么四只猴子分完桃子后剩余1276=1020/4*5+1   //此处除以4是因为剩余桃子数刚好为第五只猴子的4份\n",
    "\n",
    "当第三只猴子分完桃子后剩余1596=1276/4*5+1 \n",
    "\n",
    "第二只猴子分完桃子后剩余1996=1596/4*5+1\n",
    "\n",
    "第一只猴子分完桃子后剩余2496=1996/4*5+1\n",
    "\n",
    "那么没有分桃子时桃子为3121=2496/4*5+1\n",
    "\n",
    "符合所有条件\n",
    "\n",
    "那么没有分桃子时，桃子个数最少为3121"
   ]
  },
  {
   "cell_type": "code",
   "execution_count": 56,
   "metadata": {},
   "outputs": [
    {
     "name": "stdout",
     "output_type": "stream",
     "text": [
      "第五个猴子分256个，桃子数3121个\n",
      "3121.0\n"
     ]
    }
   ],
   "source": [
    "i = 0 #循环次数，循环5次，每次都要能够被4整除\n",
    "j = 1 #假设第五只猴子分的桃子为 1\n",
    "x = 0 #桃子总数，每只猴子扔掉一个，再拿五分之一后，分完剩下的桃子数量，必须可以被4整除\n",
    "\n",
    "while (i < 5) :\n",
    "    x = 4 * j #第n个猴子分了之后剩下的桃子\n",
    "    for _ in range(5) :\n",
    "        if(x%4 != 0) : #必须连续五次x都能被四整除才满足条件\n",
    "            i = 0\n",
    "            break\n",
    "        else :\n",
    "            i += 1\n",
    "            x = (x/4) * 5 +1 #第n-1个猴子分了之后的\n",
    "    j += 1\n",
    "print(\"第五个猴子分%d个，桃子数%d个\" % (j,x))\n",
    "print (x)"
   ]
  },
  {
   "cell_type": "code",
   "execution_count": 57,
   "metadata": {},
   "outputs": [
    {
     "name": "stdout",
     "output_type": "stream",
     "text": [
      "最少为：3121个桃子\n"
     ]
    }
   ],
   "source": [
    "# 笨方法\n",
    "start,end,m1=0,100,0\n",
    "while m1==0:\n",
    "    end=end*2\n",
    "    for i in range(start,end):\n",
    "        m5=5*i+1\n",
    "        if m5%4==0:\n",
    "            m4=(m5/4)*5+1\n",
    "            if m4%4==0:\n",
    "                m3=(m4/4)*5+1\n",
    "                if m3%4==0:\n",
    "                    m2=(m3/4)*5+1\n",
    "                    if m2%4==0:\n",
    "                        m1=(m2/4)*5+1\n",
    "                        break\n",
    "    start=i\n",
    "print(\"最少为：%d个桃子\" % m1)"
   ]
  },
  {
   "cell_type": "code",
   "execution_count": 59,
   "metadata": {},
   "outputs": [
    {
     "name": "stdout",
     "output_type": "stream",
     "text": [
      "海滩上原来最少有3121个桃子\n"
     ]
    }
   ],
   "source": [
    "# 递归方法\n",
    "# num=int(input(\"输入猴子的数目:\"))\n",
    "num = 5\n",
    "def fn(n):\n",
    "    if n==num:\n",
    "        return(4*x)       #最后剩的桃子的数目\n",
    "    else:\n",
    "        return(fn(n+1)*5/4+1)\n",
    "    \n",
    "x=1 # 第五只猴子拿走的桃子\n",
    "while 1:\n",
    "    count=0\n",
    "    for i in range(1,num): # 判断第五只猴子分到x个桃子的情况能否满足条件\n",
    "        if fn(i)%4==0 :\n",
    "            count=count+1\n",
    "    if count==num-1:\n",
    "        print(\"海滩上原来最少有%d个桃子\" % int(fn(0)))\n",
    "        break\n",
    "    else: # 不满足条件继续增加第五只猴子分到的桃子数量\n",
    "        x=x+1"
   ]
  },
  {
   "cell_type": "markdown",
   "metadata": {},
   "source": [
    "题目：809 * ??=800 * ??+9 * ?? 其中??代表的两位数, 809 * ??为四位数，8 * ??的结果为两位数，9 * ??的结果为3位数。求??代表的两位数，及809 * ??后的结果。"
   ]
  },
  {
   "cell_type": "code",
   "execution_count": 61,
   "metadata": {},
   "outputs": [
    {
     "name": "stdout",
     "output_type": "stream",
     "text": [
      "809 * 12 = 800 * 12 + 9 * 12\n"
     ]
    }
   ],
   "source": [
    "for i in range(10,100):\n",
    "    if (809 * i) in range(1000,10000) and (8 * i) in range(10,100) and (9 * i ) in range(100,1000):\n",
    "        print(\"809 * %d = 800 * %d + 9 * %d\" %(i,i,i))"
   ]
  },
  {
   "cell_type": "markdown",
   "metadata": {},
   "source": [
    "题目：八进制转换为十进制"
   ]
  },
  {
   "cell_type": "code",
   "execution_count": 62,
   "metadata": {},
   "outputs": [
    {
     "name": "stdout",
     "output_type": "stream",
     "text": [
      "input a octal number:\n",
      "10\n",
      "8\n"
     ]
    }
   ],
   "source": [
    "n = 0\n",
    "p = input('input a octal number:\\n')\n",
    "for i in range(len(p)):\n",
    "    n = n * 8 + ord(p[i]) - ord('0')\n",
    "print (n)"
   ]
  },
  {
   "cell_type": "markdown",
   "metadata": {},
   "source": [
    "题目：求0—7所能组成的奇数个数。\n",
    "程序分析：\n",
    "\n",
    "组成1位数是4个。\n",
    "\n",
    "组成2位数是7 * 4个。\n",
    "\n",
    "组成3位数是7 * 8 * 4个。\n",
    "\n",
    "组成4位数是7 * 8 * 8 * 4个。"
   ]
  },
  {
   "cell_type": "code",
   "execution_count": 70,
   "metadata": {},
   "outputs": [
    {
     "name": "stdout",
     "output_type": "stream",
     "text": [
      "[4, 28, 224, 1792, 14336, 114688, 917504, 7340032]\n",
      "8388608\n"
     ]
    }
   ],
   "source": [
    "s = 4\n",
    "lst = []\n",
    "lst.append(s)\n",
    "for i in range(2,9):\n",
    "    if i <= 2:\n",
    "        s *= 7\n",
    "    else:\n",
    "        s *= 8\n",
    "    lst.append(s)\n",
    "print(lst)\n",
    "print(sum(lst))"
   ]
  },
  {
   "cell_type": "code",
   "execution_count": 71,
   "metadata": {},
   "outputs": [
    {
     "name": "stdout",
     "output_type": "stream",
     "text": [
      "4\n",
      "28\n",
      "224\n",
      "1792\n",
      "14336\n",
      "114688\n",
      "917504\n",
      "7340032\n",
      "sum = 8388608\n"
     ]
    }
   ],
   "source": [
    "s = 4\n",
    "print(s)\n",
    "sum1 = 4\n",
    "for j in range(2,9):\n",
    "    if j <= 2:\n",
    "        s *= 7\n",
    "    else:\n",
    "        s *= 8\n",
    "    print (s)\n",
    "    sum1 += s\n",
    "print ('sum = %d' % sum1)"
   ]
  },
  {
   "cell_type": "markdown",
   "metadata": {},
   "source": [
    "题目：连接字符串。"
   ]
  },
  {
   "cell_type": "code",
   "execution_count": 72,
   "metadata": {},
   "outputs": [
    {
     "name": "stdout",
     "output_type": "stream",
     "text": [
      "Brazil,Russia,India,China\n"
     ]
    }
   ],
   "source": [
    "delimiter = ','\n",
    "mylist = ['Brazil', 'Russia', 'India', 'China']\n",
    "print (delimiter.join(mylist))"
   ]
  },
  {
   "cell_type": "markdown",
   "metadata": {},
   "source": [
    "题目：输入一个奇数，然后判断最少几个 9 除于该数的结果为整数。\n",
    "程序分析：999999 / 13 = 76923。"
   ]
  },
  {
   "cell_type": "code",
   "execution_count": 77,
   "metadata": {},
   "outputs": [
    {
     "name": "stdout",
     "output_type": "stream",
     "text": [
      "999999 / 13 = 76923.0\n",
      "6\n"
     ]
    }
   ],
   "source": [
    "go_on = True\n",
    "n = 13\n",
    "num = 9\n",
    "while go_on == True:\n",
    "    if num % n == 0:\n",
    "        print(num,\"/\",n,\"=\",num/n)\n",
    "        go_on = False\n",
    "        break\n",
    "    else:\n",
    "        num = num*10 + 9\n",
    "print(len(str(num)))"
   ]
  },
  {
   "cell_type": "markdown",
   "metadata": {},
   "source": [
    "题目：两个字符串连接程序。"
   ]
  },
  {
   "cell_type": "code",
   "execution_count": 78,
   "metadata": {},
   "outputs": [
    {
     "name": "stdout",
     "output_type": "stream",
     "text": [
      "acegikmbdfhjlnpq\n"
     ]
    }
   ],
   "source": [
    "a = \"acegikm\"\n",
    "b = \"bdfhjlnpq\"\n",
    "\n",
    "# 连接字符串\n",
    "c = a + b\n",
    "print (c)"
   ]
  },
  {
   "cell_type": "markdown",
   "metadata": {},
   "source": [
    "题目：回答结果（结构体变量传递）。"
   ]
  },
  {
   "cell_type": "code",
   "execution_count": 84,
   "metadata": {},
   "outputs": [
    {
     "name": "stdout",
     "output_type": "stream",
     "text": [
      "0 0\n",
      "20 c\n"
     ]
    }
   ],
   "source": [
    "class student:\n",
    "    def __init__(self,x=0,c=0):\n",
    "        self.x = 0\n",
    "        self.c = 0\n",
    "    def f(self):\n",
    "        self.x = 20\n",
    "        self.c = 'c'\n",
    "    \n",
    "a = student()\n",
    "print (a.x,a.c)\n",
    "a.f()\n",
    "print (a.x,a.c)"
   ]
  },
  {
   "cell_type": "markdown",
   "metadata": {},
   "source": [
    "题目：读取7个数（1—50）的整数值，每读取一个值，程序打印出该值个数的＊。"
   ]
  },
  {
   "cell_type": "code",
   "execution_count": 85,
   "metadata": {},
   "outputs": [
    {
     "name": "stdout",
     "output_type": "stream",
     "text": [
      "input a number:\n",
      "5\n",
      "*****\n",
      "input a number:\n",
      "9\n",
      "*********\n",
      "input a number:\n",
      "8\n",
      "********\n",
      "input a number:\n",
      "7\n",
      "*******\n",
      "input a number:\n",
      "8\n",
      "********\n",
      "input a number:\n",
      "4\n",
      "****\n",
      "input a number:\n",
      "1\n",
      "*\n"
     ]
    }
   ],
   "source": [
    "n = 1\n",
    "while n <= 7:\n",
    "    a = int(input('input a number:\\n'))\n",
    "    while a < 1 or a > 50:\n",
    "        a = int(input('input a number:\\n'))\n",
    "    print ('*'*a)\n",
    "    n += 1"
   ]
  },
  {
   "cell_type": "code",
   "execution_count": 87,
   "metadata": {},
   "outputs": [
    {
     "name": "stdout",
     "output_type": "stream",
     "text": [
      "[8, 42, 10, 29, 9, 29, 6]\n",
      "********\n",
      "******************************************\n",
      "**********\n",
      "*****************************\n",
      "*********\n",
      "*****************************\n",
      "******\n"
     ]
    }
   ],
   "source": [
    "import random\n",
    "lst = [random.randint(1,50) for i in range(7)]\n",
    "print(lst)\n",
    "for i in lst:\n",
    "    print(\"*\"*i)"
   ]
  },
  {
   "cell_type": "markdown",
   "metadata": {},
   "source": [
    "题目：某个公司采用公用电话传递数据，数据是四位的整数，在传递过程中是加密的，加密规则如下：每位数字都加上5,然后用和除以10的余数代替该数字，再将第一位和第四位交换，第二位和第三位交换。"
   ]
  },
  {
   "cell_type": "code",
   "execution_count": 89,
   "metadata": {},
   "outputs": [
    {
     "name": "stdout",
     "output_type": "stream",
     "text": [
      "输入四个数字,无空格:\n",
      "5698\n",
      "3410"
     ]
    }
   ],
   "source": [
    "from sys import stdout\n",
    "a = int(input('输入四个数字,无空格:\\n'))\n",
    "aa = []\n",
    "aa.append(a % 10)\n",
    "aa.append(a % 100 // 10)\n",
    "aa.append(a % 1000 // 100)\n",
    "aa.append(a // 1000)\n",
    "\n",
    "for i in range(4):\n",
    "    aa[i] += 5\n",
    "    aa[i] %= 10\n",
    "    \n",
    "for i in range(2):\n",
    "    aa[i],aa[3 - i] = aa[3 - i],aa[i]\n",
    "    \n",
    "for i in range(3,-1,-1):\n",
    "    stdout.write(str(aa[i]))"
   ]
  },
  {
   "cell_type": "markdown",
   "metadata": {},
   "source": [
    "题目：列表使用实例。"
   ]
  },
  {
   "cell_type": "code",
   "execution_count": 90,
   "metadata": {},
   "outputs": [
    {
     "name": "stdout",
     "output_type": "stream",
     "text": [
      "3\n",
      "['中国移动', [1, 2, 4, 5]]\n",
      "4\n",
      "i'm new here!\n"
     ]
    }
   ],
   "source": [
    "#list  \n",
    "#新建列表  \n",
    "testList=[10086,'中国移动',[1,2,4,5]]  \n",
    "#访问列表长度  \n",
    "print (len(testList))  \n",
    "#到列表结尾  \n",
    "print (testList[1:])  \n",
    "#向列表添加元素  \n",
    "testList.append('i\\'m new here!')  \n",
    "print (len(testList))  \n",
    "print (testList[-1])  "
   ]
  },
  {
   "cell_type": "code",
   "execution_count": 91,
   "metadata": {},
   "outputs": [
    {
     "name": "stdout",
     "output_type": "stream",
     "text": [
      "中国移动\n",
      "3\n",
      "[10086, [1, 2, 4, 5], \"i'm new here!\"]\n"
     ]
    }
   ],
   "source": [
    "#弹出列表的最后一个元素  \n",
    "print (testList.pop(1))  \n",
    "print (len(testList))  \n",
    "print (testList)  "
   ]
  },
  {
   "cell_type": "code",
   "execution_count": 92,
   "metadata": {},
   "outputs": [
    {
     "name": "stdout",
     "output_type": "stream",
     "text": [
      "[[1, 2, 3], [4, 5, 6], [7, 8, 9]]\n",
      "[4, 5, 6]\n"
     ]
    }
   ],
   "source": [
    "#list comprehension  \n",
    "#后面有介绍，暂时掠过  \n",
    "matrix = [[1, 2, 3],  \n",
    "          [4, 5, 6],  \n",
    "          [7, 8, 9]]  \n",
    "print (matrix)  \n",
    "print (matrix[1])  "
   ]
  },
  {
   "cell_type": "code",
   "execution_count": 93,
   "metadata": {},
   "outputs": [
    {
     "name": "stdout",
     "output_type": "stream",
     "text": [
      "[2, 5, 8]\n"
     ]
    }
   ],
   "source": [
    "col2 = [row[1] for row in matrix] # get a  column from a matrix  \n",
    "print (col2)  "
   ]
  },
  {
   "cell_type": "code",
   "execution_count": null,
   "metadata": {},
   "outputs": [],
   "source": [
    "col2even = [row[1] for row in matrix if  row[1] % 2 == 0]#filter odd item  \n",
    "print col2even"
   ]
  },
  {
   "cell_type": "code",
   "execution_count": null,
   "metadata": {},
   "outputs": [],
   "source": []
  },
  {
   "cell_type": "code",
   "execution_count": null,
   "metadata": {},
   "outputs": [],
   "source": []
  },
  {
   "cell_type": "code",
   "execution_count": null,
   "metadata": {},
   "outputs": [],
   "source": []
  },
  {
   "cell_type": "code",
   "execution_count": null,
   "metadata": {},
   "outputs": [],
   "source": []
  },
  {
   "cell_type": "code",
   "execution_count": null,
   "metadata": {},
   "outputs": [],
   "source": []
  }
 ],
 "metadata": {
  "kernelspec": {
   "display_name": "Python 3",
   "language": "python",
   "name": "python3"
  }
 },
 "nbformat": 4,
 "nbformat_minor": 2
}
