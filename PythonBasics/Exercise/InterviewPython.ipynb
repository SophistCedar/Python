{
 "cells": [
  {
   "cell_type": "code",
   "execution_count": 2,
   "metadata": {},
   "outputs": [
    {
     "data": {
      "text/plain": [
       "5050"
      ]
     },
     "execution_count": 2,
     "metadata": {},
     "output_type": "execute_result"
    }
   ],
   "source": [
    "# 1、一行代码实现1--100之和\n",
    "# sum()\n",
    "sum(range(1,101))"
   ]
  },
  {
   "cell_type": "code",
   "execution_count": 3,
   "metadata": {},
   "outputs": [],
   "source": [
    "# 2、如何在一个函数内部修改全局变量\n",
    "# global\n",
    "def fn():\n",
    "    global a\n",
    "    a = 4"
   ]
  },
  {
   "cell_type": "raw",
   "metadata": {},
   "source": [
    "# 3、列出5个python标准库\n",
    "os：提供了不少与操作系统相关联的函数\n",
    "sys: 通常用于命令行参数\n",
    "re: 正则匹配\n",
    "math: 数学运算\n",
    "datetime:处理日期时间"
   ]
  },
  {
   "cell_type": "code",
   "execution_count": 7,
   "metadata": {},
   "outputs": [
    {
     "name": "stdout",
     "output_type": "stream",
     "text": [
      "{'age': 18}\n",
      "{'age': 18, 'name': 'kitty'}\n"
     ]
    }
   ],
   "source": [
    "# 4、字典如何删除键和合并两个字典\n",
    "# del和update方法\n",
    "dic = {\"name\":\"jhon\",\"age\":18}\n",
    "del dic[\"name\"] #删除键\n",
    "print(dic)\n",
    "dic2 = {\"name\":\"kitty\"} # 合并\n",
    "dic.update(dic2)\n",
    "print(dic)"
   ]
  },
  {
   "cell_type": "raw",
   "metadata": {},
   "source": [
    "# 5、谈下python的GIL\n",
    "GIL 是python的全局解释器锁，同一进程中假如有多个线程运行，一个线程在运行python程序的时候会霸占python解释器（加了一把锁即GIL），使该进程内的其他线程无法运行，等该线程运行完后其他线程才能运行。如果线程运行过程中遇到耗时操作，则解释器锁解开，使其他线程运行。所以在多线程中，线程的运行仍是有先后顺序的，并不是同时进行。\n",
    "\n",
    "多进程中因为每个进程都能被系统分配资源，相当于每个进程有了一个python解释器，所以多进程可以实现多个进程的同时运行，缺点是进程系统资源开销大"
   ]
  },
  {
   "cell_type": "code",
   "execution_count": 8,
   "metadata": {},
   "outputs": [
    {
     "name": "stdout",
     "output_type": "stream",
     "text": [
      "{11, 12, 15, 18, 85}\n"
     ]
    },
    {
     "data": {
      "text/plain": [
       "[11, 12, 15, 18, 85]"
      ]
     },
     "execution_count": 8,
     "metadata": {},
     "output_type": "execute_result"
    }
   ],
   "source": [
    "# 6、python实现列表去重的方法\n",
    "# 先通过集合去重，在转列表\n",
    "lst = [11,15,18,85,18,15,12,12]\n",
    "a = set(lst)\n",
    "print(a)\n",
    "[x for x in a]"
   ]
  },
  {
   "cell_type": "raw",
   "metadata": {},
   "source": [
    "# 7、fun(*args,**kwargs)中的*args,**kwargs什么意思？\n",
    "*args 不定数量参数传递给函数\n",
    "**kwargs 不定长度的键值对传递给函数"
   ]
  },
  {
   "cell_type": "raw",
   "metadata": {},
   "source": [
    "# 8、python2和python3的range（100）的区别\n",
    "\n",
    "python2返回列表，python3返回迭代器，节约内存"
   ]
  },
  {
   "cell_type": "raw",
   "metadata": {},
   "source": [
    "# 9、一句话解释什么样的语言能够用装饰器?\n",
    "函数可以作为参数传递的语言，可以使用装饰器"
   ]
  },
  {
   "cell_type": "raw",
   "metadata": {},
   "source": [
    "# 10、python内建数据类型有哪些\n",
    "整型--int\n",
    "布尔型--bool\n",
    "字符串--str\n",
    "列表--list\n",
    "元组--tuple\n",
    "字典--dict"
   ]
  },
  {
   "cell_type": "raw",
   "metadata": {},
   "source": [
    "11、简述面向对象中__new__和__init__区别\n",
    "__init__是初始化方法，创建对象后，就立刻被默认调用了，可接收参数.\n",
    "1、__new__至少要有一个参数cls，代表当前类，此参数在实例化时由Python解释器自动识别\n",
    "2、__new__必须要有返回值，返回实例化出来的实例，这点在自己实现__new__时要特别注意，可以return父类（通过super(当前类名, cls)）__new__出来的实例，或者直接是object的__new__出来的实例\n",
    "3、__init__有一个参数self，就是这个__new__返回的实例，__init__在__new__的基础上可以完成一些其它初始化的动作，__init__不需要返回值\n",
    "4、如果__new__创建的是当前类的实例，会自动调用__init__函数，通过return语句里面调用的__new__函数的第一个参数是cls来保证是当前类实例，如果是其他类的类名，；那么实际创建返回的就是其他类的实例，其实就不会调用当前类的__init__函数，也不会调用其他类的__init__函数。"
   ]
  },
  {
   "cell_type": "raw",
   "metadata": {},
   "source": [
    "12、简述with方法打开处理文件帮我我们做了什么？\n",
    "打开文件在进行读写的时候可能会出现一些异常状况，\n",
    "如果按照常规的f.open写法，我们需要try,except,finally，做异常判断，并且文件最终不管遇到什么情况，都要执行finally f.close()关闭文件，with方法帮我们实现了finally中f.close"
   ]
  },
  {
   "cell_type": "code",
   "execution_count": 9,
   "metadata": {},
   "outputs": [
    {
     "name": "stdout",
     "output_type": "stream",
     "text": [
      "<map object at 0x000001B9675DFF48>\n"
     ]
    },
    {
     "data": {
      "text/plain": [
       "[16, 25]"
      ]
     },
     "execution_count": 9,
     "metadata": {},
     "output_type": "execute_result"
    }
   ],
   "source": [
    "# 13、列表[1,2,3,4,5],请使用map()函数输出[1,4,9,16,25]，并使用列表推导式提取出大于10的数，最终输出[16,25]\n",
    "lst = [1,2,3,4,5]\n",
    "def fn(x):\n",
    "    return x**2\n",
    "lst2 = map(fn,lst)\n",
    "print(lst2)\n",
    "[x for x in lst2 if x > 10]"
   ]
  },
  {
   "cell_type": "code",
   "execution_count": 14,
   "metadata": {},
   "outputs": [
    {
     "name": "stdout",
     "output_type": "stream",
     "text": [
      "0.7304629702567088\n",
      "[[0.97185559 0.71918931 0.91478381]\n",
      " [0.54141396 0.0764897  0.68787949]]\n",
      "2\n",
      "[2 8]\n",
      "-0.24314266119074238\n",
      "[[-3.57196788 -0.45720875  0.61507946  2.01341022]\n",
      " [-0.17883957 -1.53589475  0.07433281  0.5039946 ]]\n",
      "40\n"
     ]
    }
   ],
   "source": [
    "# 14、python中生成随机整数、随机小数、0--1之间小数方法\n",
    "print(np.random.rand()) #生成一个随机数\n",
    "print(np.random.rand(2,3)) #生成2*3随机数\n",
    "print(np.random.randint(2,6)) #在2-6内生成一个随机整数\n",
    "print(np.random.randint(2,16,2)) #在2-16内生成2个随机整数\n",
    "print(np.random.randn()) #生成一个随机正泰分布的数\n",
    "print(np.random.randn(2,4)) #生成2*4随机正泰分布的数\n",
    "print(np.random.choice([10,20,30,40,60])) #生成给定一些数中的一个随机数"
   ]
  },
  {
   "cell_type": "code",
   "execution_count": 15,
   "metadata": {},
   "outputs": [
    {
     "name": "stdout",
     "output_type": "stream",
     "text": [
      "this is \t and ...\n",
      "this is \\t and ...\n"
     ]
    }
   ],
   "source": [
    "# 15、避免转义给字符串加哪个字母表示原始字符串？\n",
    "# r , 表示需要原始字符串，不转义特殊字符\n",
    "print(\"this is \\t and ...\")\n",
    "print(r\"this is \\t and ...\")"
   ]
  },
  {
   "cell_type": "raw",
   "metadata": {},
   "source": [
    "# 16、<div class=\"nam\">中国</div>，用正则匹配出标签里面的内容（“中国”），其中class的类名是不确定的\n",
    "* 通配符"
   ]
  },
  {
   "cell_type": "raw",
   "metadata": {},
   "source": [
    "# 17、python中断言方法举例\n",
    "assert（）方法，断言成功，则程序继续执行，断言失败，则程序报错"
   ]
  },
  {
   "cell_type": "raw",
   "metadata": {},
   "source": [
    "# 18、数据表student有id,name,score,city字段，其中name中的名字可有重复，需要消除重复行,请写sql语句\n",
    "select distinct name from student"
   ]
  },
  {
   "cell_type": "raw",
   "metadata": {},
   "source": [
    "# 19、10个Linux常用命令\n",
    "ls pwd cd touch rm mkdir tree cp mv cat more grep echo"
   ]
  },
  {
   "cell_type": "raw",
   "metadata": {},
   "source": [
    "# 20、python2和python3区别？列举5个\n",
    "1、Python3 使用 print 必须要以小括号包裹打印内容，比如 print('hi')\n",
    "Python2 既可以使用带小括号的方式，也可以使用一个空格来分隔打印内容，比 如 print 'hi'\n",
    "2、python2 range(1,10)返回列表，python3中返回迭代器，节约内存\n",
    "3、python2中使用ascii编码，python中使用utf-8编码\n",
    "4、python2中unicode表示字符串序列，str表示字节序列\n",
    "python3中str表示字符串序列，byte表示字节序列\n",
    "5、python2中为正常显示中文，引入coding声明，python3中不需要\n",
    "6、python2中是raw_input()函数，python3中是input()函数"
   ]
  },
  {
   "cell_type": "code",
   "execution_count": 16,
   "metadata": {},
   "outputs": [
    {
     "name": "stdout",
     "output_type": "stream",
     "text": [
      "140733338133168\n",
      "1895813950536\n"
     ]
    }
   ],
   "source": [
    "# 21、列出python中可变数据类型和不可变数据类型，并简述原理\n",
    "# 不可变数据类型：数值型、字符串型string和元组tuple\n",
    "# 不允许变量的值发生变化，如果改变了变量的值，相当于是新建了一个对象，而对于相同的值的对象，在内存中则只有一个对象（一个地址），\n",
    "# 可变数据类型：列表list和字典dict；\n",
    "# 允许变量的值发生变化，即如果对变量进行append、+=等这种操作后，只是改变了变量的值，而不会新建一个对象，\n",
    "b = 10\n",
    "print(id(b))\n",
    "a = [1,2,3]\n",
    "print(id(a))"
   ]
  },
  {
   "cell_type": "code",
   "execution_count": 23,
   "metadata": {},
   "outputs": [
    {
     "name": "stdout",
     "output_type": "stream",
     "text": [
      "['d', 'f', 'l', 'a', 'j']\n",
      "['a', 'd', 'f', 'j', 'l']\n",
      "adfjl\n",
      "True\n"
     ]
    }
   ],
   "source": [
    "# 22、s = \"ajldjlajfdljfddd\"，去重并从小到大排序输出\"adfjl\"\n",
    "s = \"ajldjlajfdljfddd\"\n",
    "goal = \"adfjl\"\n",
    "a = list(set(s)) # set去重 list排序\n",
    "print(a)\n",
    "a.sort()\n",
    "print(a)\n",
    "res = \"\".join(a) # 列表转换成字符串拼接\n",
    "print(res)\n",
    "print(res == goal)"
   ]
  },
  {
   "cell_type": "code",
   "execution_count": 24,
   "metadata": {},
   "outputs": [
    {
     "name": "stdout",
     "output_type": "stream",
     "text": [
      "12\n"
     ]
    }
   ],
   "source": [
    "# 23、用lambda函数实现两个数相乘\n",
    "muti = lambda a, b: a*b\n",
    "print(muti(3,4))"
   ]
  },
  {
   "cell_type": "code",
   "execution_count": 35,
   "metadata": {},
   "outputs": [
    {
     "name": "stdout",
     "output_type": "stream",
     "text": [
      "dict_items([('name', 'zs'), ('age', 18), ('city', '深圳'), ('tel', '1362626627')])\n",
      "dict_keys(['name', 'age', 'city', 'tel'])\n",
      "dict_values(['zs', 18, '深圳', '1362626627'])\n",
      "['age', 'city', 'name', 'tel']\n",
      "[('age', 18), ('city', '深圳'), ('name', 'zs'), ('tel', '1362626627')]\n"
     ]
    }
   ],
   "source": [
    "# 24、字典根据键从小到大排序\n",
    "dic={\"name\":\"zs\",\"age\":18,\"city\":\"深圳\",\"tel\":\"1362626627\"}\n",
    "print(dic.items())\n",
    "print(dic.keys())# 键\n",
    "print(dic.values())# 值\n",
    "print(sorted(dic)) # 按键排序 只输出键\n",
    "print(sorted(dic.items())) #输出全部内容"
   ]
  },
  {
   "cell_type": "raw",
   "metadata": {},
   "source": [
    "25、利用collections库的Counter方法统计字符串每个单词出现的次数\"kjalfj;ldsjafl;hdsllfdhg;lahfbl;hl;ahlf;h\""
   ]
  },
  {
   "cell_type": "code",
   "execution_count": 44,
   "metadata": {},
   "outputs": [
    {
     "name": "stdout",
     "output_type": "stream",
     "text": [
      "['not', '404', 'found', '张三', '99', '深圳']\n",
      "['not', '404', 'found', '99']\n",
      "张三 深圳\n"
     ]
    }
   ],
   "source": [
    "# 26、字符串a = \"not 404 found 张三 99 深圳\"，每个词中间是空格，用正则过滤掉英文和数字，最终输出\"张三 深圳\"\n",
    "import re\n",
    "a = \"not 404 found 张三 99 深圳\"\n",
    "lst = list(a.split())\n",
    "print(lst)\n",
    "res = re.findall('\\d+|[a-zA-Z]+',a)\n",
    "print(res)\n",
    "for i in res:\n",
    "    if i in lst:\n",
    "        lst.remove(i)\n",
    "str = \" \".join(lst)\n",
    "print(str)"
   ]
  },
  {
   "cell_type": "code",
   "execution_count": 46,
   "metadata": {},
   "outputs": [
    {
     "name": "stdout",
     "output_type": "stream",
     "text": [
      "[1, 3, 5, 7, 9]\n"
     ]
    }
   ],
   "source": [
    "# 27、filter方法求出列表所有奇数并构造新列表，a = [1, 2, 3, 4, 5, 6, 7, 8, 9, 10]\n",
    "# filter() 函数用于过滤序列，过滤掉不符合条件的元素，返回由符合条件元素组成的新列表。\n",
    "# 该接收两个参数，第一个为函数，第二个为序列，序列的每个元素作为参数传递给函数进行判断，\n",
    "# 然后返回 True 或 False，最后将返回 True 的元素放到新列表\n",
    "a = [1, 2, 3, 4, 5, 6, 7, 8, 9, 10]\n",
    "def fn(a):\n",
    "    return a%2 == 1\n",
    "lst = filter(fn,a)\n",
    "lst = [i for i in lst]\n",
    "print(lst)"
   ]
  },
  {
   "cell_type": "code",
   "execution_count": 47,
   "metadata": {},
   "outputs": [
    {
     "name": "stdout",
     "output_type": "stream",
     "text": [
      "[1, 3, 5, 7, 9]\n"
     ]
    }
   ],
   "source": [
    "# 28、列表推导式求列表所有奇数并构造新列表，a = [1, 2, 3, 4, 5, 6, 7, 8, 9, 10]\n",
    "a = [1, 2, 3, 4, 5, 6, 7, 8, 9, 10]\n",
    "lst = [i for i in a if i%2==1]\n",
    "print(lst)"
   ]
  },
  {
   "cell_type": "raw",
   "metadata": {},
   "source": [
    "# 29、正则re.complie作用\n",
    "re.compile是将正则表达式编译成一个对象，加快速度，并重复使用"
   ]
  },
  {
   "cell_type": "code",
   "execution_count": 50,
   "metadata": {},
   "outputs": [
    {
     "name": "stdout",
     "output_type": "stream",
     "text": [
      "<class 'tuple'> <class 'int'> <class 'str'>\n"
     ]
    }
   ],
   "source": [
    "# 30、a=（1，）b=(1)，c=(\"1\") 分别是什么类型的数据？\n",
    "a=(1,)\n",
    "b=(1)\n",
    "c=(\"1\") \n",
    "print(type(a),type(b),type(c))"
   ]
  },
  {
   "cell_type": "code",
   "execution_count": 52,
   "metadata": {},
   "outputs": [
    {
     "name": "stdout",
     "output_type": "stream",
     "text": [
      "[1, 2, 2, 5, 6, 7, 8, 9]\n"
     ]
    }
   ],
   "source": [
    "# 31、两个列表[1,5,7,9]和[2,2,6,8]合并为[1,2,2,5,6,7,8,9]\n",
    "a = [1,5,7,9]\n",
    "b = [2,2,6,8]\n",
    "c = a + b\n",
    "c.sort()\n",
    "print(c)"
   ]
  },
  {
   "cell_type": "raw",
   "metadata": {},
   "source": [
    "# 32、用python删除文件和用linux命令删除文件方法\n",
    "python：os.remove(文件名)\n",
    "linux: rm 文件名"
   ]
  },
  {
   "cell_type": "code",
   "execution_count": 56,
   "metadata": {},
   "outputs": [
    {
     "name": "stdout",
     "output_type": "stream",
     "text": [
      "2020-04-22 16:20:01.800406\n"
     ]
    }
   ],
   "source": [
    "# 33、log日志中，我们需要用时间戳记录error,warning等的发生时间，请用datetime模块打印当前时间戳 “2018-04-01 11:38:54”\n",
    "import datetime\n",
    "a = datetime.datetime.now()\n",
    "print(a)"
   ]
  },
  {
   "cell_type": "raw",
   "metadata": {},
   "source": [
    "# 34、数据库优化查询方法\n",
    "外键、索引、联合查询、选择特定字段等等"
   ]
  },
  {
   "cell_type": "raw",
   "metadata": {},
   "source": [
    "# 35、请列出你会的任意一种统计图（条形图、折线图等）绘制的开源库，第三方也行\n",
    "pyecharts、matplotlib、seaborn"
   ]
  },
  {
   "cell_type": "code",
   "execution_count": 58,
   "metadata": {},
   "outputs": [
    {
     "name": "stdout",
     "output_type": "stream",
     "text": [
      "数字大于2了\n"
     ]
    }
   ],
   "source": [
    "# 36、写一段自定义异常代码\n",
    "# 自定义异常用raise抛出异常\n",
    "def fn():\n",
    "    try:\n",
    "        for i in range(5):\n",
    "            if i > 2 :\n",
    "                raise Exception(\"数字大于2了\")\n",
    "    except Exception as ret:\n",
    "        print(ret)\n",
    "fn()"
   ]
  },
  {
   "cell_type": "code",
   "execution_count": 65,
   "metadata": {},
   "outputs": [
    {
     "name": "stdout",
     "output_type": "stream",
     "text": [
      "['哈哈bbaa呵呵']\n",
      "['哈哈', '呵呵']\n"
     ]
    }
   ],
   "source": [
    "# 37、正则表达式匹配中，（.*）和（.*?）匹配区别？\n",
    "#（.*）是贪婪匹配，会把满足正则的尽可能多的往后匹配\n",
    "#（.*?）是非贪婪匹配，会把满足正则的尽可能少匹配\n",
    "s = \"aa哈哈bbaa呵呵bb\"\n",
    "import re\n",
    "res1 = re.findall(\"aa(.*)bb\",s)\n",
    "res2 = re.findall(\"aa(.*?)bb\",s)\n",
    "print(res1)\n",
    "print(res2)"
   ]
  },
  {
   "cell_type": "raw",
   "metadata": {},
   "source": [
    "# 38、简述Django的orm\n",
    "ORM，全拼Object-Relation Mapping，意为对象-关系映射\n",
    "实现了数据模型与数据库的解耦，通过简单的配置就可以轻松更换数据库，而不需要修改代码只需要面向对象编程,orm操作本质上会根据对接的数据库引擎，翻译成对应的sql语句,所有使用Django开发的项目无需关心程序底层使用的是MySQL、Oracle、sqlite....，如果数据库迁移，只需要更换Django的数据库引擎即可"
   ]
  },
  {
   "cell_type": "code",
   "execution_count": 69,
   "metadata": {},
   "outputs": [
    {
     "name": "stdout",
     "output_type": "stream",
     "text": [
      "[1, 2, 3, 4, 5, 6]\n",
      "[1, 2, 3, 4, 5, 6]\n"
     ]
    }
   ],
   "source": [
    "# 39、[[1,2],[3,4],[5,6]]一行代码展开该列表，得出[1,2,3,4,5,6]\n",
    "# 列表推导式的骚操作\n",
    "# 运行过程：for i in a ,每个i是【1,2】，【3,4】，【5,6】，for j in i，每个j就是1,2,3,4,5,6,合并后就是结果\n",
    "a =[[1,2],[3,4],[5,6]]\n",
    "import numpy as np\n",
    "lst = np.array(a).flatten().tolist()\n",
    "print(lst)\n",
    "print(np.array(a).ravel().tolist())"
   ]
  },
  {
   "cell_type": "code",
   "execution_count": 75,
   "metadata": {},
   "outputs": [
    {
     "name": "stdout",
     "output_type": "stream",
     "text": [
      "abcdef\n",
      "abcdef\n"
     ]
    }
   ],
   "source": [
    "# 40、x=\"abc\",y=\"def\",z=[\"d\",\"e\",\"f\"],分别求出x.join(y)和x.join(z)返回的结果\n",
    "# join()括号里面的是可迭代对象，x插入可迭代对象中间，形成字符串，结果一致，有没有突然感觉字符串的常见操作都不会玩了\n",
    "x=\"abc\"\n",
    "y=\"def\"\n",
    "z=[\"d\",\"e\",\"f\"]\n",
    "print(x+y)\n",
    "print(x+\"\".join(z))"
   ]
  },
  {
   "cell_type": "raw",
   "metadata": {},
   "source": [
    "# 41、举例说明异常模块中try except else finally的相关意义\n",
    "try..except..else没有捕获到异常，执行else语句\n",
    "try..except..finally不管是否捕获到异常，都执行finally语句"
   ]
  },
  {
   "cell_type": "code",
   "execution_count": 76,
   "metadata": {},
   "outputs": [
    {
     "name": "stdout",
     "output_type": "stream",
     "text": [
      "3 2\n"
     ]
    }
   ],
   "source": [
    "# 42、python中交换两个数值\n",
    "a = 2\n",
    "b = 3\n",
    "a,b = b,a\n",
    "print(a,b)"
   ]
  },
  {
   "cell_type": "code",
   "execution_count": 78,
   "metadata": {},
   "outputs": [
    {
     "name": "stdout",
     "output_type": "stream",
     "text": [
      "[(1, 3), (2, 4)]\n",
      "[(1, 3), (2, 4)]\n",
      "[('a', 'x'), ('b', 'y')]\n"
     ]
    }
   ],
   "source": [
    "# 43、举例说明zip（）函数用法\n",
    "# zip()函数在运算时，会以一个或多个序列（可迭代对象）做为参数，返回一个元组的列表。同时将这些序列中并排的元素配对。\n",
    "# zip()参数可以接受任何类型的序列，同时也可以有两个以上的参数;当传入参数的长度不同时，zip能自动以最短序列长度为准进行截取，获得元组。\n",
    "a = [1,2,3]\n",
    "b = [3,4]\n",
    "print([i for i in zip(a,b)])\n",
    "c = (1,2)\n",
    "d = (3,4,5)# 根据最短 自动截取长度\n",
    "print([i for i in zip(c,d)])\n",
    "s1 = \"abc\"\n",
    "s2 = \"xy\"\n",
    "print([i for i in zip(s1,s2)])"
   ]
  },
  {
   "cell_type": "code",
   "execution_count": 80,
   "metadata": {},
   "outputs": [
    {
     "name": "stdout",
     "output_type": "stream",
     "text": [
      "张明 100分\n"
     ]
    }
   ],
   "source": [
    "# 44、a=\"张明 98分\"，用re.sub，将98替换为100\n",
    "a=\"张明 98分\"\n",
    "import re\n",
    "ret = re.sub(r\"\\d+\",\"100\",a)\n",
    "print(ret)"
   ]
  },
  {
   "cell_type": "raw",
   "metadata": {},
   "source": [
    "# 45、写5条常用sql语句\n",
    "show databases;\n",
    "show tables;\n",
    "desc 表名;\n",
    "select * from 表名;\n",
    "delete from 表名 where id=5;\n",
    "update students set gender=0,hometown=\"北京\" where id=5"
   ]
  },
  {
   "cell_type": "code",
   "execution_count": 81,
   "metadata": {},
   "outputs": [
    {
     "name": "stdout",
     "output_type": "stream",
     "text": [
      "b'hello'\n",
      "b'\\xe4\\xbd\\xa0\\xe5\\xa5\\xbd'\n"
     ]
    }
   ],
   "source": [
    "#46、a=\"hello\"和b=\"你好\"编码成bytes类型\n",
    "a=\"hello\"\n",
    "b=\"你好\"\n",
    "print(a.encode())\n",
    "print(b.encode())"
   ]
  },
  {
   "cell_type": "code",
   "execution_count": 82,
   "metadata": {},
   "outputs": [
    {
     "name": "stdout",
     "output_type": "stream",
     "text": [
      "[1, 2, 3, 4]\n"
     ]
    }
   ],
   "source": [
    "# 47、[1,2,3]+[4,5,6]的结果是多少？ 两个列表相加，等价于extend\n",
    "print([1,2]+[3,4])"
   ]
  },
  {
   "cell_type": "raw",
   "metadata": {},
   "source": [
    "# 48、提高python运行效率的方法\n",
    "1、使用生成器，因为可以节约大量内存\n",
    "2、循环代码优化，避免过多重复代码的执行\n",
    "3、核心模块用Cython PyPy等，提高效率\n",
    "4、多进程、多线程、协程\n",
    "5、多个if elif条件判断，可以把最有可能先发生的条件放到前面写，这样可以减少程序判断的次数，提高效率"
   ]
  },
  {
   "cell_type": "raw",
   "metadata": {},
   "source": [
    "# 49、简述mysql和redis区别\n",
    "redis： 内存型非关系数据库，数据保存在内存中，速度快\n",
    "mysql：关系型数据库，数据保存在磁盘中，检索的话，会有一定的Io操作，访问速度相对慢"
   ]
  },
  {
   "cell_type": "raw",
   "metadata": {},
   "source": [
    "# 50、遇到bug如何处理\n",
    "1、细节上的错误，通过print（）打印，能执行到print（）说明一般上面的代码没有问题，分段检测程序是否有问题，如果是js的话可以alert或console.log\n",
    "2、如果涉及一些第三方框架，会去查官方文档或者一些技术博客。\n",
    "3、对于bug的管理与归类总结，一般测试将测试出的bug用teambin等bug管理工具进行记录，然后我们会一条一条进行修改，修改的过程也是理解业务逻辑和提高自己编程逻辑缜密性的方法，我也都会收藏做一些笔记记录。\n",
    "4、导包问题、城市定位多音字造成的显示错误问题"
   ]
  },
  {
   "cell_type": "raw",
   "metadata": {},
   "source": [
    "51、正则匹配，匹配日期2018-03-20"
   ]
  },
  {
   "cell_type": "code",
   "execution_count": 85,
   "metadata": {},
   "outputs": [
    {
     "name": "stdout",
     "output_type": "stream",
     "text": [
      "[2, 3, 4, 5, 6, 9]\n"
     ]
    }
   ],
   "source": [
    "# 52、list=[2,3,5,4,9,6]，从小到大排序，不许用sort，输出[2,3,4,5,6,9]\n",
    "# 利用min()方法求出最小值，原列表删除最小值，新列表加入最小值，递归调用获取最小值的函数，反复操作\n",
    "lst=[2,3,5,4,9,6]\n",
    "new_lst=[]\n",
    "def fn(lst):\n",
    "    a = min(lst)\n",
    "    new_lst.append(a)\n",
    "    lst.remove(a)\n",
    "    if len(lst)>0:\n",
    "        fn(lst)\n",
    "    return new_lst\n",
    "new_lst = fn(lst)\n",
    "print(new_lst)"
   ]
  },
  {
   "cell_type": "raw",
   "metadata": {},
   "source": [
    "# 53、写一个单列模式\n",
    "因为创建对象时__new__方法执行，并且必须return 返回实例化出来的对象所cls.__instance是否存在，不存在的话就创建对象，存在的话就返回该对象，来保证只有一个实例对象存在（单列），打印ID，值一样，说明对象同一个"
   ]
  },
  {
   "cell_type": "code",
   "execution_count": 86,
   "metadata": {},
   "outputs": [
    {
     "name": "stdout",
     "output_type": "stream",
     "text": [
      "1.67\n"
     ]
    }
   ],
   "source": [
    "# 54、保留两位小数\n",
    "a = 5\n",
    "b = 3\n",
    "print(round(a/3,2))"
   ]
  },
  {
   "cell_type": "code",
   "execution_count": 90,
   "metadata": {},
   "outputs": [
    {
     "name": "stdout",
     "output_type": "stream",
     "text": [
      "{'one': 1}\n",
      "None\n",
      "{'one': 1, 'two': 2}\n",
      "None\n",
      "{'three': 3}\n",
      "None\n"
     ]
    }
   ],
   "source": [
    "# 55、求三个方法打印结果\n",
    "# fn(\"one\",1）直接将键值对传给字典；\n",
    "# fn(\"two\",2)因为字典在内存中是可变数据类型，所以指向同一个地址，传了新的额参数后，会相当于给字典增加键值对\n",
    "# fn(\"three\",3,{})因为传了一个新字典，所以不再是原先默认参数的字典\n",
    "def fn(k,v,dic={}):\n",
    "    dic[k]=v\n",
    "    print(dic)\n",
    "print(fn(\"one\",1))\n",
    "print(fn(\"two\",2))\n",
    "print(fn(\"three\",3,{}))"
   ]
  },
  {
   "cell_type": "raw",
   "metadata": {},
   "source": [
    "# 56、列出常见的状态码和意义\n",
    "200 OK\n",
    "请求正常处理完毕\n",
    "204 No Content\n",
    "请求成功处理，没有实体的主体返回\n",
    "206 Partial Content\n",
    "GET范围请求已成功处理\n",
    "301 Moved Permanently\n",
    "永久重定向，资源已永久分配新URI\n",
    "302 Found\n",
    "临时重定向，资源已临时分配新URI\n",
    "303 See Other\n",
    "临时重定向，期望使用GET定向获取\n",
    "304 Not Modified\n",
    "发送的附带条件请求未满足\n",
    "307 Temporary Redirect\n",
    "临时重定向，POST不会变成GET\n",
    "400 Bad Request\n",
    "请求报文语法错误或参数错误\n",
    "401 Unauthorized\n",
    "需要通过HTTP认证，或认证失败\n",
    "403 Forbidden\n",
    "请求资源被拒绝\n",
    "404 Not Found\n",
    "无法找到请求资源（服务器无理由拒绝）\n",
    "500 Internal Server Error\n",
    "服务器故障或Web应用故障\n",
    "503 Service Unavailable\n",
    "服务器超负载或停机维护"
   ]
  },
  {
   "cell_type": "raw",
   "metadata": {},
   "source": [
    "# 57、分别从前端、后端、数据库阐述web项目的性能优化\n",
    "该题目网上有很多方法，我不想截图网上的长串文字，看的头疼，按我自己的理解说几点\n",
    "前端优化：\n",
    "1、减少http请求、例如制作精灵图\n",
    "2、html和CSS放在页面上部，javascript放在页面下面，因为js加载比HTML和Css加载慢，所以要优先加载html和css,以防页面显示不全，性能差，也影响用户体验差\n",
    "\n",
    "后端优化：\n",
    "1、缓存存储读写次数高，变化少的数据，比如网站首页的信息、商品的信息等。应用程序读取数据时，一般是先从缓存中读取，如果读取不到或数据已失效，再访问磁盘数据库，并将数据再次写入缓存。\n",
    "\n",
    "2、异步方式，如果有耗时操作，可以采用异步，比如celery\n",
    "\n",
    "3、代码优化，避免循环和判断次数太多，如果多个if else判断，优先判断最有可能先发生的情况\n",
    "\n",
    "数据库优化：\n",
    "1、如有条件，数据可以存放于redis，读取速度快\n",
    "2、建立索引、外键等"
   ]
  },
  {
   "cell_type": "code",
   "execution_count": 92,
   "metadata": {},
   "outputs": [
    {
     "name": "stdout",
     "output_type": "stream",
     "text": [
      "{'age': 18}\n",
      "{'age': 18}\n"
     ]
    }
   ],
   "source": [
    "# 58、使用pop和del删除字典中的\"name\"字段，dic={\"name\":\"zs\",\"age\":18}\n",
    "dic={\"name\":\"zs\",\"age\":18}\n",
    "del dic[\"name\"]\n",
    "print(dic)\n",
    "dic={\"name\":\"zs\",\"age\":18}\n",
    "dic.pop(\"name\")\n",
    "print(dic)"
   ]
  },
  {
   "cell_type": "raw",
   "metadata": {},
   "source": [
    "# 59、列出常见MYSQL数据存储引擎\n",
    "\n",
    "InnoDB：支持事务处理，支持外键，支持崩溃修复能力和并发控制。如果需要对事务的完整性要求比较高（比如银行），要求实现并发控制（比如售票），那选择InnoDB有很大的优势。如果需要频繁的更新、删除操作的数据库，也可以选择InnoDB，因为支持事务的提交（commit）和回滚（rollback）。\n",
    "\n",
    "MyISAM：插入数据快，空间和内存使用比较低。如果表主要是用于插入新记录和读出记录，那么选择MyISAM能实现处理高效率。如果应用的完整性、并发性要求比 较低，也可以使用。\n",
    "\n",
    "MEMORY：所有的数据都在内存中，数据的处理速度快，但是安全性不高。如果需要很快的读写速度，对数据的安全性要求较低，可以选择MEMOEY。它对表的大小有要求，不能建立太大的表。所以，这类数据库只使用在相对较小的数据库表。59、列出常见MYSQL数据存储引擎\n",
    "\n",
    "InnoDB：支持事务处理，支持外键，支持崩溃修复能力和并发控制。如果需要对事务的完整性要求比较高（比如银行），要求实现并发控制（比如售票），那选择InnoDB有很大的优势。如果需要频繁的更新、删除操作的数据库，也可以选择InnoDB，因为支持事务的提交（commit）和回滚（rollback）。\n",
    "\n",
    "MyISAM：插入数据快，空间和内存使用比较低。如果表主要是用于插入新记录和读出记录，那么选择MyISAM能实现处理高效率。如果应用的完整性、并发性要求比 较低，也可以使用。\n",
    "\n",
    "MEMORY：所有的数据都在内存中，数据的处理速度快，但是安全性不高。如果需要很快的读写速度，对数据的安全性要求较低，可以选择MEMOEY。它对表的大小有要求，不能建立太大的表。所以，这类数据库只使用在相对较小的数据库表。"
   ]
  },
  {
   "cell_type": "code",
   "execution_count": 101,
   "metadata": {},
   "outputs": [
    {
     "name": "stdout",
     "output_type": "stream",
     "text": [
      "[('a', 1), ('b', 2), ('c', 3), ('d', 4), ('e', 5)]\n",
      "{'a': 1, 'b': 2, 'c': 3, 'd': 4, 'e': 5}\n"
     ]
    }
   ],
   "source": [
    "# 60、计算代码运行结果，zip函数历史文章已经说了，得出[(\"a\",1),(\"b\",2)，(\"c\",3),(\"d\",4),(\"e\",5)]\n",
    "c = zip([\"a\",\"b\",\"c\",\"d\",\"e\"],[1,2,3,4,5])\n",
    "print([i for i in c])\n",
    "c = zip([\"a\",\"b\",\"c\",\"d\",\"e\"],[1,2,3,4,5])\n",
    "print(dict(c))"
   ]
  },
  {
   "cell_type": "raw",
   "metadata": {},
   "source": [
    "# 61、简述同源策略\n",
    "\n",
    "同源策略需要同时满足以下三点要求：\n",
    "\n",
    "1）协议相同\n",
    "\n",
    "2）域名相同\n",
    "\n",
    "3）端口相同\n",
    "\n",
    "http:http://www.test.com与https:http://www.test.com 不同源——协议不同\n",
    "\n",
    "http:http://www.test.com与http:http://www.admin.com 不同源——域名不同\n",
    "\n",
    "http:http://www.test.com与http:http://www.test.com:8081 不同源——端口不同\n",
    "\n",
    "只要不满足其中任意一个要求，就不符合同源策略，就会出现“跨域”"
   ]
  },
  {
   "cell_type": "raw",
   "metadata": {},
   "source": [
    "# 62、简述cookie和session的区别\n",
    "\n",
    "1，session 在服务器端，cookie 在客户端（浏览器）\n",
    "\n",
    "2、session 的运行依赖 session id，而 session id 是存在 cookie 中的，也就是说，如果浏览器禁用了 cookie ，同时 session 也会失效，存储Session时，键与Cookie中的sessionid相同，值是开发人员设置的键值对信息，进行了base64编码，过期时间由开发人员设置\n",
    "\n",
    "3、cookie安全性比session差"
   ]
  },
  {
   "cell_type": "raw",
   "metadata": {},
   "source": [
    "63、简述多线程、多进程\n",
    "\n",
    "进程：\n",
    "1、操作系统进行资源分配和调度的基本单位，多个进程之间相互独立\n",
    "2、稳定性好，如果一个进程崩溃，不影响其他进程，但是进程消耗资源大，开启的进程数量有限制\n",
    "\n",
    "线程：\n",
    "1、CPU进行资源分配和调度的基本单位，线程是进程的一部分，是比进程更小的能独立运行的基本单位，一个进程下的多个线程可以共享该进程的所有资源\n",
    "2、如果IO操作密集，则可以多线程运行效率高，缺点是如果一个线程崩溃，都会造成进程的崩溃\n",
    "\n",
    "应用：\n",
    "IO密集的用多线程，在用户输入，sleep 时候，可以切换到其他线程执行，减少等待的时间\n",
    "CPU密集的用多进程，因为假如IO操作少，用多线程的话，因为线程共享一个全局解释器锁，当前运行的线程会霸占GIL，其他线程没有GIL，就不能充分利用多核CPU的优势"
   ]
  },
  {
   "cell_type": "raw",
   "metadata": {},
   "source": [
    "# 64、简述any()和all()方法\n",
    "\n",
    "any():只要迭代器中有一个元素为真就为真\n",
    "all():迭代器中所有的判断项返回都是真，结果才为真\n",
    "python中什么元素为假？\n",
    "答案：（0，空字符串，空列表、空字典、空元组、None, False）"
   ]
  },
  {
   "cell_type": "raw",
   "metadata": {},
   "source": [
    "65、IOError、AttributeError、ImportError、IndentationError、IndexError、KeyError、SyntaxError、NameError分别代表什么异常\n",
    "\n",
    "IOError：输入输出异常\n",
    "\n",
    "AttributeError：试图访问一个对象没有的属性\n",
    "\n",
    "ImportError：无法引入模块或包，基本是路径问题\n",
    "\n",
    "IndentationError：语法错误，代码没有正确的对齐\n",
    "\n",
    "IndexError：下标索引超出序列边界\n",
    "\n",
    "KeyError:试图访问你字典里不存在的键\n",
    "\n",
    "SyntaxError:Python代码逻辑语法出错，不能执行\n",
    "\n",
    "NameError:使用一个还未赋予对象的变量"
   ]
  },
  {
   "cell_type": "raw",
   "metadata": {},
   "source": [
    "66、python中copy和deepcopy区别\n",
    "\n",
    "1、复制不可变数据类型，不管copy还是deepcopy,都是同一个地址当浅复制的值是不可变对象（数值，字符串，元组）时和=“赋值”的情况一样，对象的id值与浅复制原来的值相同。\n",
    "2、复制的值是可变对象（列表和字典）\n",
    "\n",
    "浅拷贝copy有两种情况：\n",
    "第一种情况：复制的 对象中无 复杂 子对象，原来值的改变并不会影响浅复制的值，同时浅复制的值改变也并不会影响原来的值。原来值的id值与浅复制原来的值不同。\n",
    "第二种情况：复制的对象中有 复杂 子对象 （例如列表中的一个子元素是一个列表）， 改变原来的值 中的复杂子对象的值 ，会影响浅复制的值。\n",
    "深拷贝deepcopy：完全复制独立，包括内层列表和字典"
   ]
  },
  {
   "cell_type": "raw",
   "metadata": {},
   "source": [
    "67、列出几种魔法方法并简要介绍用途\n",
    "\n",
    "__init__:对象初始化方法\n",
    "\n",
    "__new__:创建对象时候执行的方法，单列模式会用到\n",
    "\n",
    "__str__:当使用print输出对象的时候，只要自己定义了__str__(self)方法，那么就会打印从在这个方法中return的数据\n",
    "\n",
    "__del__:删除对象执行的方法"
   ]
  },
  {
   "cell_type": "raw",
   "metadata": {},
   "source": [
    "68、C:\\Users\\ry-wu.junya\\Desktop>python 1.py 22 33命令行启动程序并传参，print(sys.argv)会输出什么数据？\n",
    "\n",
    "文件名和参数构成的列表"
   ]
  },
  {
   "cell_type": "code",
   "execution_count": 102,
   "metadata": {},
   "outputs": [
    {
     "data": {
      "text/plain": [
       "<generator object <genexpr> at 0x000001B96B1530C8>"
      ]
     },
     "execution_count": 102,
     "metadata": {},
     "output_type": "execute_result"
    }
   ],
   "source": [
    "# 69、请将[i for i in range(3)]改成生成器\n",
    "# 生成器是特殊的迭代器，\n",
    "# 1、列表表达式的[]改为()即可变成生成器\n",
    "# 2、函数在返回值得时候出现yield就变成生成器，而不是函数了；\n",
    "# 中括号换成小括号即可，有没有惊呆了\n",
    "a = (i for i in range(3))\n",
    "type(a)"
   ]
  },
  {
   "cell_type": "code",
   "execution_count": 103,
   "metadata": {},
   "outputs": [
    {
     "name": "stdout",
     "output_type": "stream",
     "text": [
      "hehheh\n"
     ]
    }
   ],
   "source": [
    "# 70、a = \" hehheh \",去除首尾空格\n",
    "a = \" hehheh \"\n",
    "print(a.strip())"
   ]
  },
  {
   "cell_type": "code",
   "execution_count": 105,
   "metadata": {},
   "outputs": [
    {
     "name": "stdout",
     "output_type": "stream",
     "text": [
      "[-10, -1, 0, 3, 5, 9]\n",
      "[-10, -1, 0, 3, 5, 9]\n"
     ]
    }
   ],
   "source": [
    "# 71、举例sort和sorted对列表排序，list=[0,-1,3,-10,5,9]\n",
    "lst=[0,-1,3,-10,5,9]\n",
    "lst.sort()\n",
    "print(lst)\n",
    "\n",
    "lst=[0,-1,3,-10,5,9]\n",
    "lst = sorted(lst)\n",
    "print(lst)"
   ]
  },
  {
   "cell_type": "code",
   "execution_count": 114,
   "metadata": {},
   "outputs": [
    {
     "name": "stdout",
     "output_type": "stream",
     "text": [
      "[0, 2, 4, 8, 8, 9, -2, -4, -4, -5, -20]\n",
      "[2, 4, 8, 8, 9]\n",
      "[-2, -4, -4, -5, -20]\n",
      "[2, 4, 8, 8, 9, -2, -4, -4, -5, -20]\n"
     ]
    }
   ],
   "source": [
    "# 73、使用lambda函数对list排序foo = [-5,8,0,4,9,-4,-20,-2,8,2,-4]，输出结果为\n",
    "# [0,2,4,8,8,9,-2,-4,-4,-5,-20]，正数从小到大，负数从大到小\n",
    "foo = [-5,8,0,4,9,-4,-20,-2,8,2,-4]\n",
    "a = sorted(foo,key=lambda x:(x<0,abs(x)))\n",
    "print(a)\n",
    "# print(sorted(foo,key=lambda x:abs(x)))\n",
    "# print(sorted(foo,key=lambda x:x<0))\n",
    "\n",
    "b = [i for i in a if i > 0]\n",
    "b.sort()\n",
    "print(b)\n",
    "c = [i for i in a if i < 0]\n",
    "c.sort(reverse=True)\n",
    "print(c)\n",
    "print(b+c)"
   ]
  },
  {
   "cell_type": "code",
   "execution_count": null,
   "metadata": {},
   "outputs": [],
   "source": []
  },
  {
   "cell_type": "code",
   "execution_count": null,
   "metadata": {},
   "outputs": [],
   "source": []
  },
  {
   "cell_type": "code",
   "execution_count": null,
   "metadata": {},
   "outputs": [],
   "source": []
  },
  {
   "cell_type": "code",
   "execution_count": null,
   "metadata": {},
   "outputs": [],
   "source": []
  },
  {
   "cell_type": "code",
   "execution_count": null,
   "metadata": {},
   "outputs": [],
   "source": []
  },
  {
   "cell_type": "code",
   "execution_count": null,
   "metadata": {},
   "outputs": [],
   "source": []
  },
  {
   "cell_type": "code",
   "execution_count": null,
   "metadata": {},
   "outputs": [],
   "source": []
  },
  {
   "cell_type": "code",
   "execution_count": null,
   "metadata": {},
   "outputs": [],
   "source": []
  },
  {
   "cell_type": "code",
   "execution_count": null,
   "metadata": {},
   "outputs": [],
   "source": []
  }
 ],
 "metadata": {
  "kernelspec": {
   "display_name": "Python 3",
   "language": "python",
   "name": "python3"
  },
  "language_info": {
   "codemirror_mode": {
    "name": "ipython",
    "version": 3
   },
   "file_extension": ".py",
   "mimetype": "text/x-python",
   "name": "python",
   "nbconvert_exporter": "python",
   "pygments_lexer": "ipython3",
   "version": "3.7.4"
  }
 },
 "nbformat": 4,
 "nbformat_minor": 2
}
