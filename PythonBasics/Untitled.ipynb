{
 "cells": [
  {
   "cell_type": "code",
   "execution_count": 19,
   "metadata": {},
   "outputs": [
    {
     "name": "stdout",
     "output_type": "stream",
     "text": [
      "['S', '#', '#', '#', '#']\n",
      "['.', '.', '.', '.', '#']\n",
      "['.', '.', '.', '.', '#']\n",
      "['.', '.', '.', '.', '#']\n",
      "['.', '.', '.', '.', 'E']\n"
     ]
    }
   ],
   "source": [
    "import sys\n",
    "WALL = '.'\n",
    "ROAD = '#'\n",
    "ROWS = 5\n",
    "COLS = 5\n",
    "def reset(maze):\n",
    "    for i in range(ROWS):\n",
    "        for j in range(COLS):\n",
    "            if i == 0 or j == ROWS-1:\n",
    "                maze[i][j] = ROAD\n",
    "            else:\n",
    "                maze[i][j] = WALL\n",
    "    maze[0][0] = 'S'\n",
    "    maze[ROWS-1][COLS-1] = 'E'\n",
    "\n",
    "def change(maze):\n",
    "    for row in maze:\n",
    "        for col in row:\n",
    "            pass\n",
    "\n",
    "\n",
    "        \n",
    "\n",
    "maze = [[0] * COLS for _ in range(ROWS)] # 列表生成式创建列表\n",
    "reset(maze)\n",
    "for i in maze:\n",
    "    print(i)\n",
    "\n",
    "\n",
    "\n"
   ]
  },
  {
   "cell_type": "code",
   "execution_count": 2,
   "metadata": {},
   "outputs": [
    {
     "data": {
      "text/plain": [
       "'864321'"
      ]
     },
     "execution_count": 2,
     "metadata": {},
     "output_type": "execute_result"
    }
   ],
   "source": [
    "s = \"123468\"\n",
    "s=s[::-1]\n",
    "s"
   ]
  },
  {
   "cell_type": "code",
   "execution_count": 4,
   "metadata": {},
   "outputs": [
    {
     "ename": "SyntaxError",
     "evalue": "invalid syntax (<ipython-input-4-a9473db01d97>, line 6)",
     "output_type": "error",
     "traceback": [
      "\u001b[1;36m  File \u001b[1;32m\"<ipython-input-4-a9473db01d97>\"\u001b[1;36m, line \u001b[1;32m6\u001b[0m\n\u001b[1;33m    count++\u001b[0m\n\u001b[1;37m           ^\u001b[0m\n\u001b[1;31mSyntaxError\u001b[0m\u001b[1;31m:\u001b[0m invalid syntax\n"
     ]
    }
   ],
   "source": [
    "n = int(input())\n",
    "nb = bin(n)\n",
    "count = 0\n",
    "for i in nb:\n",
    "    if i == '1':\n",
    "        count += 1\n",
    "print(count)"
   ]
  },
  {
   "cell_type": "code",
   "execution_count": 9,
   "metadata": {},
   "outputs": [
    {
     "name": "stdout",
     "output_type": "stream",
     "text": [
      "1 2 3 4\n",
      "['1', '2', '3', '4']\n"
     ]
    }
   ],
   "source": [
    "print(input().split())"
   ]
  },
  {
   "cell_type": "code",
   "execution_count": 11,
   "metadata": {},
   "outputs": [
    {
     "name": "stdout",
     "output_type": "stream",
     "text": [
      "1\n",
      "2\n"
     ]
    }
   ],
   "source": [
    "m,n = [1,2]\n",
    "print(m)\n",
    "print(n)"
   ]
  },
  {
   "cell_type": "code",
   "execution_count": 14,
   "metadata": {},
   "outputs": [
    {
     "name": "stdout",
     "output_type": "stream",
     "text": [
      "1 2 3\n",
      "4 5 6\n",
      "7 8 9\n",
      "[['1', '2', '3'], ['4', '5', '6'], ['7', '8', '9']]\n"
     ]
    }
   ],
   "source": [
    "goods = []\n",
    "for i in range(3):\n",
    "    goods.append(input().split())\n",
    "print(goods)"
   ]
  },
  {
   "cell_type": "code",
   "execution_count": 13,
   "metadata": {},
   "outputs": [
    {
     "name": "stdout",
     "output_type": "stream",
     "text": [
      "[<map object at 0x000001F81C6CC908>, <map object at 0x000001F81C456C48>, <map object at 0x000001F81C6C7988>]\n"
     ]
    }
   ],
   "source": []
  },
  {
   "cell_type": "code",
   "execution_count": 34,
   "metadata": {},
   "outputs": [
    {
     "data": {
      "text/plain": [
       "['A10', 'S20', 'W10', 'D30', 'X', 'A1A', 'B10A11', '', 'A10', '']"
      ]
     },
     "execution_count": 34,
     "metadata": {},
     "output_type": "execute_result"
    }
   ],
   "source": [
    "import re\n",
    "s = \"A10;S20;W10;D30;X;A1A;B10A11;;A10;\"\n",
    "s = s.split(\";\")\n",
    "s\n"
   ]
  },
  {
   "cell_type": "code",
   "execution_count": 36,
   "metadata": {},
   "outputs": [
    {
     "data": {
      "text/plain": [
       "['A10', 'S20', 'W10', 'D30', 'A10']"
      ]
     },
     "execution_count": 36,
     "metadata": {},
     "output_type": "execute_result"
    }
   ],
   "source": [
    "lst = []\n",
    "pattern = re.compile(r'^[A-Z]\\d{1,2}$')\n",
    "for i in s:\n",
    "    ret = re.match(pattern,i)\n",
    "    if(ret):\n",
    "        lst.append(i)\n",
    "lst\n",
    "    "
   ]
  },
  {
   "cell_type": "code",
   "execution_count": 61,
   "metadata": {},
   "outputs": [
    {
     "name": "stdout",
     "output_type": "stream",
     "text": [
      "10 -10\n",
      "10,-10\n",
      "10,-10\n"
     ]
    }
   ],
   "source": [
    "position=[0,0]\n",
    "for i in lst:\n",
    "    if i[0] == 'A':\n",
    "        position[0] -= int(i[1:3])\n",
    "    elif i[0] == 'D':\n",
    "        position[0] += int(i[1:3])\n",
    "    elif i[0] == 'W':\n",
    "        position[1] += int(i[1:3])\n",
    "    else:\n",
    "        position[1] -= int(i[1:3])\n",
    "print(position[0],position[1])# 使用  f'{}'  方法输出\n",
    "print(f'{position[0]},{position[1]}')\n",
    "print(\"%d,%d\" % (position[0],position[1]))# 使用  f'{}'  方法输出\n"
   ]
  },
  {
   "cell_type": "code",
   "execution_count": 67,
   "metadata": {},
   "outputs": [
    {
     "name": "stdout",
     "output_type": "stream",
     "text": [
      "A\n",
      "1\n",
      "1\n",
      "\n",
      "1\n",
      "A1\n",
      "2\n"
     ]
    }
   ],
   "source": [
    "s = 'A1'\n",
    "print(s[0])\n",
    "print(s[1])\n",
    "print(s[1:2])#不包括2\n",
    "print(s[1:-1])#不包括2\n",
    "print(s[1:5])\n",
    "print(s[0:5])\n",
    "print(len(s))"
   ]
  },
  {
   "cell_type": "code",
   "execution_count": null,
   "metadata": {},
   "outputs": [],
   "source": []
  }
 ],
 "metadata": {
  "kernelspec": {
   "display_name": "Python 3",
   "language": "python",
   "name": "python3"
  },
  "language_info": {
   "codemirror_mode": {
    "name": "ipython",
    "version": 3
   },
   "file_extension": ".py",
   "mimetype": "text/x-python",
   "name": "python",
   "nbconvert_exporter": "python",
   "pygments_lexer": "ipython3",
   "version": "3.7.4"
  }
 },
 "nbformat": 4,
 "nbformat_minor": 2
}
