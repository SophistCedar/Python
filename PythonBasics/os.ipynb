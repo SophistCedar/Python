{
 "cells": [
  {
   "cell_type": "markdown",
   "metadata": {},
   "source": [
    "# os模块对目录和文件操作\n",
    "## 目录：创建或删除（多级）目录，切换工作目录，查看目录内的文件\n",
    "## 文件：创建，写入，读取，关闭，重命名，权限，获取文件（绝对/相对）路径\n",
    "## 测试：是否存在，是目录还是文件，文件大小，文件创建/访问/修改时间"
   ]
  },
  {
   "cell_type": "code",
   "execution_count": 1,
   "metadata": {},
   "outputs": [
    {
     "data": {
      "text/plain": [
       "['DirEntry',\n",
       " 'F_OK',\n",
       " 'MutableMapping',\n",
       " 'O_APPEND',\n",
       " 'O_BINARY',\n",
       " 'O_CREAT',\n",
       " 'O_EXCL',\n",
       " 'O_NOINHERIT',\n",
       " 'O_RANDOM',\n",
       " 'O_RDONLY',\n",
       " 'O_RDWR',\n",
       " 'O_SEQUENTIAL',\n",
       " 'O_SHORT_LIVED',\n",
       " 'O_TEMPORARY',\n",
       " 'O_TEXT',\n",
       " 'O_TRUNC',\n",
       " 'O_WRONLY',\n",
       " 'P_DETACH',\n",
       " 'P_NOWAIT',\n",
       " 'P_NOWAITO',\n",
       " 'P_OVERLAY',\n",
       " 'P_WAIT',\n",
       " 'PathLike',\n",
       " 'R_OK',\n",
       " 'SEEK_CUR',\n",
       " 'SEEK_END',\n",
       " 'SEEK_SET',\n",
       " 'TMP_MAX',\n",
       " 'W_OK',\n",
       " 'X_OK',\n",
       " '_Environ',\n",
       " '__all__',\n",
       " '__builtins__',\n",
       " '__cached__',\n",
       " '__doc__',\n",
       " '__file__',\n",
       " '__loader__',\n",
       " '__name__',\n",
       " '__package__',\n",
       " '__spec__',\n",
       " '_execvpe',\n",
       " '_exists',\n",
       " '_exit',\n",
       " '_fspath',\n",
       " '_get_exports_list',\n",
       " '_putenv',\n",
       " '_unsetenv',\n",
       " '_wrap_close',\n",
       " 'abc',\n",
       " 'abort',\n",
       " 'access',\n",
       " 'altsep',\n",
       " 'chdir',\n",
       " 'chmod',\n",
       " 'close',\n",
       " 'closerange',\n",
       " 'cpu_count',\n",
       " 'curdir',\n",
       " 'defpath',\n",
       " 'device_encoding',\n",
       " 'devnull',\n",
       " 'dup',\n",
       " 'dup2',\n",
       " 'environ',\n",
       " 'error',\n",
       " 'execl',\n",
       " 'execle',\n",
       " 'execlp',\n",
       " 'execlpe',\n",
       " 'execv',\n",
       " 'execve',\n",
       " 'execvp',\n",
       " 'execvpe',\n",
       " 'extsep',\n",
       " 'fdopen',\n",
       " 'fsdecode',\n",
       " 'fsencode',\n",
       " 'fspath',\n",
       " 'fstat',\n",
       " 'fsync',\n",
       " 'ftruncate',\n",
       " 'get_exec_path',\n",
       " 'get_handle_inheritable',\n",
       " 'get_inheritable',\n",
       " 'get_terminal_size',\n",
       " 'getcwd',\n",
       " 'getcwdb',\n",
       " 'getenv',\n",
       " 'getlogin',\n",
       " 'getpid',\n",
       " 'getppid',\n",
       " 'isatty',\n",
       " 'kill',\n",
       " 'linesep',\n",
       " 'link',\n",
       " 'listdir',\n",
       " 'lseek',\n",
       " 'lstat',\n",
       " 'makedirs',\n",
       " 'mkdir',\n",
       " 'name',\n",
       " 'open',\n",
       " 'pardir',\n",
       " 'path',\n",
       " 'pathsep',\n",
       " 'pipe',\n",
       " 'popen',\n",
       " 'putenv',\n",
       " 'read',\n",
       " 'readlink',\n",
       " 'remove',\n",
       " 'removedirs',\n",
       " 'rename',\n",
       " 'renames',\n",
       " 'replace',\n",
       " 'rmdir',\n",
       " 'scandir',\n",
       " 'sep',\n",
       " 'set_handle_inheritable',\n",
       " 'set_inheritable',\n",
       " 'spawnl',\n",
       " 'spawnle',\n",
       " 'spawnv',\n",
       " 'spawnve',\n",
       " 'st',\n",
       " 'startfile',\n",
       " 'stat',\n",
       " 'stat_result',\n",
       " 'statvfs_result',\n",
       " 'strerror',\n",
       " 'supports_bytes_environ',\n",
       " 'supports_dir_fd',\n",
       " 'supports_effective_ids',\n",
       " 'supports_fd',\n",
       " 'supports_follow_symlinks',\n",
       " 'symlink',\n",
       " 'sys',\n",
       " 'system',\n",
       " 'terminal_size',\n",
       " 'times',\n",
       " 'times_result',\n",
       " 'truncate',\n",
       " 'umask',\n",
       " 'uname_result',\n",
       " 'unlink',\n",
       " 'urandom',\n",
       " 'utime',\n",
       " 'waitpid',\n",
       " 'walk',\n",
       " 'write']"
      ]
     },
     "execution_count": 1,
     "metadata": {},
     "output_type": "execute_result"
    }
   ],
   "source": [
    "import os\n",
    "dir(os)"
   ]
  },
  {
   "cell_type": "markdown",
   "metadata": {},
   "source": [
    "## 测试文件权限"
   ]
  },
  {
   "cell_type": "code",
   "execution_count": 6,
   "metadata": {},
   "outputs": [
    {
     "name": "stdout",
     "output_type": "stream",
     "text": [
      "F_OK - 返回值 True\n",
      "R_OK - 返回值 True\n",
      "W_OK - 返回值 True\n",
      "X_OK - 返回值 True\n",
      "X_OK - 返回值 True\n"
     ]
    }
   ],
   "source": [
    "#os.access() 测试文件权限，存在，可读，可写，可执行\n",
    "# os.access(path, mode);\n",
    "# F_OK R_OK, W_OK和X_OK其中之一或者更多\n",
    "ret = os.access(\"D:\\ProgramData\\Anaconda3\\python.exe\", os.F_OK)\n",
    "print (\"F_OK - 返回值 %s\"% ret)\n",
    "\n",
    "ret = os.access(\"D:\\ProgramData\\Anaconda3\\python.exe\", os.R_OK)\n",
    "print (\"R_OK - 返回值 %s\"% ret)\n",
    "\n",
    "ret = os.access(\"D:\\ProgramData\\Anaconda3\\python.exe\", os.W_OK)\n",
    "print (\"W_OK - 返回值 %s\"% ret)\n",
    "\n",
    "ret = os.access(\"D:\\ProgramData\\Anaconda3\\python.exe\", os.X_OK)\n",
    "print (\"X_OK - 返回值 %s\"% ret)\n",
    "\n",
    "ret = os.access(\"D:\\ProgramData\\Anaconda3\\python.exe\", os.F_OK |os.X_OK)\n",
    "print (\"X_OK - 返回值 %s\"% ret)"
   ]
  },
  {
   "cell_type": "markdown",
   "metadata": {},
   "source": [
    "## 更改文件权限"
   ]
  },
  {
   "cell_type": "code",
   "execution_count": 14,
   "metadata": {},
   "outputs": [],
   "source": [
    "# os.chmod() 方法用于更改文件或目录的权限。\n",
    "# os.chmod(path, mode)，该方法没有返回值\n",
    "import stat\n",
    "if(not os.access(\"./test\", os.F_OK)):\n",
    "    os.mkdir(\"./test\")\n",
    "#设置文件可以通过用户组执行\n",
    "os.chmod(\"./test\", stat.S_IXGRP)\n",
    "# 设置文件可以被其他用户写入\n",
    "os.chmod(\"./test\", stat.S_IWOTH)"
   ]
  },
  {
   "cell_type": "markdown",
   "metadata": {},
   "source": [
    "## 切换工作目录"
   ]
  },
  {
   "cell_type": "code",
   "execution_count": 7,
   "metadata": {},
   "outputs": [
    {
     "name": "stdout",
     "output_type": "stream",
     "text": [
      "当前工作目录为 C:\\Users\\Administrator\\Learning\\Python\\PythonBasics\n",
      "修改之后的工作目录 D:\\ProgramData\\Anaconda3\n",
      "返回原先工作目录 C:\\Users\\Administrator\\Learning\\Python\\PythonBasics\n"
     ]
    }
   ],
   "source": [
    "# 查看当前工作目录\n",
    "dir_current = os.getcwd()\n",
    "print (\"当前工作目录为 %s\" % dir_current)\n",
    "\n",
    "# 修改当前工作目录\n",
    "path = \"D:\\ProgramData\\Anaconda3\"\n",
    "os.chdir(path)\n",
    "# 查看修改后的工作目录\n",
    "print (\"修改之后的工作目录 %s\" % os.getcwd())\n",
    "\n",
    "#切换回原来的工作目录\n",
    "os.chdir(dir_current)\n",
    "print (\"返回原先工作目录 %s\" % os.getcwd())"
   ]
  },
  {
   "cell_type": "markdown",
   "metadata": {},
   "source": [
    "## 查看目录内文件"
   ]
  },
  {
   "cell_type": "code",
   "execution_count": 15,
   "metadata": {},
   "outputs": [
    {
     "name": "stdout",
     "output_type": "stream",
     "text": [
      "['.ipynb_checkpoints', 'class.ipynb', 'DataStructure.ipynb', 'dict.ipynb', 'dict2.ipynb', 'Exercise', 'FileException', 'function.ipynb', 'HuaweiExam.ipynb', 'InternalFunction.ipynb', 'list.ipynb', 'list2.ipynb', 'ModuleMath.ipynb', 'os.ipynb', 'ProcessThreading.ipynb', 'ProgramLogic.ipynb', 'random.ipynb', 'str1.ipynb', 'str2.ipynb', 'str3.ipynb', 'sys.ipynb', 'test', 'test.txt', 'TimeDatatimeOs.ipynb', 'tkinter.ipynb', 'Unicode.ipynb']\n"
     ]
    }
   ],
   "source": [
    "names = os.listdir(\"./\")\n",
    "print(names)"
   ]
  },
  {
   "cell_type": "code",
   "execution_count": 16,
   "metadata": {},
   "outputs": [
    {
     "name": "stdout",
     "output_type": "stream",
     "text": [
      "['.ipynb_checkpoints', 'class.ipynb', 'DataStructure.ipynb', 'dict.ipynb', 'dict2.ipynb', 'Exercise', 'FileException', 'function.ipynb', 'HuaweiExam.ipynb', 'InternalFunction.ipynb', 'list.ipynb', 'list2.ipynb', 'ModuleMath.ipynb', 'os.ipynb', 'ProcessThreading.ipynb', 'ProgramLogic.ipynb', 'random.ipynb', 'str1.ipynb', 'str2.ipynb', 'str3.ipynb', 'sys.ipynb', 'test', 'test.txt', 'TimeDatatimeOs.ipynb', 'tkinter.ipynb', 'Unicode.ipynb']\n"
     ]
    }
   ],
   "source": [
    "with open(\"test.txt\",mode=\"w\") as f:\n",
    "    f.write(\"test\")\n",
    "names = os.listdir(\"./\")\n",
    "print(names)"
   ]
  },
  {
   "cell_type": "code",
   "execution_count": null,
   "metadata": {},
   "outputs": [],
   "source": []
  },
  {
   "cell_type": "markdown",
   "metadata": {},
   "source": [
    "## 文件创建，读写，重命名和关闭"
   ]
  },
  {
   "cell_type": "code",
   "execution_count": 39,
   "metadata": {},
   "outputs": [
    {
     "name": "stdout",
     "output_type": "stream",
     "text": [
      "C:\\Users\\Administrator\\Learning\\Python\\PythonBasics\\test\\test\\test\n",
      "7\n"
     ]
    }
   ],
   "source": [
    "import os\n",
    "if(not os.access('./test',os.F_OK)):\n",
    "    os.mkdir('./test')\n",
    "os.chdir('./test')\n",
    "print(os.getcwd())\n",
    "fd = os.open('imooc.txt',os.O_CREAT | os.O_RDWR)\n",
    "print(fd)"
   ]
  },
  {
   "cell_type": "code",
   "execution_count": 40,
   "metadata": {},
   "outputs": [
    {
     "data": {
      "text/plain": [
       "['imooc.txt']"
      ]
     },
     "execution_count": 40,
     "metadata": {},
     "output_type": "execute_result"
    }
   ],
   "source": [
    "os.listdir(\"./\")#返回文件名组成的列表"
   ]
  },
  {
   "cell_type": "code",
   "execution_count": 41,
   "metadata": {},
   "outputs": [
    {
     "name": "stdout",
     "output_type": "stream",
     "text": [
      "5\n"
     ]
    }
   ],
   "source": [
    "content = 'imooc'.encode('utf-8')\n",
    "n = os.write(fd,content)#返回写入的字节数\n",
    "print(n)"
   ]
  },
  {
   "cell_type": "code",
   "execution_count": 42,
   "metadata": {},
   "outputs": [
    {
     "name": "stdout",
     "output_type": "stream",
     "text": [
      "0\n"
     ]
    }
   ],
   "source": [
    "l = os.lseek(fd,0,os.SEEK_SET)#返回定位到文件内部的位置\n",
    "print(l)"
   ]
  },
  {
   "cell_type": "code",
   "execution_count": 43,
   "metadata": {},
   "outputs": [
    {
     "name": "stdout",
     "output_type": "stream",
     "text": [
      "b'imooc'\n"
     ]
    }
   ],
   "source": [
    "str1 = os.read(fd,5)#读取5个字节\n",
    "print(str1)"
   ]
  },
  {
   "cell_type": "code",
   "execution_count": 44,
   "metadata": {},
   "outputs": [],
   "source": [
    "os.close(fd)"
   ]
  },
  {
   "cell_type": "code",
   "execution_count": 45,
   "metadata": {},
   "outputs": [
    {
     "name": "stdout",
     "output_type": "stream",
     "text": [
      "7\n"
     ]
    }
   ],
   "source": [
    "print(fd)"
   ]
  },
  {
   "cell_type": "code",
   "execution_count": 55,
   "metadata": {},
   "outputs": [],
   "source": [
    "if(not os.access('imooc1.txt',os.F_OK)):\n",
    "    fd = os.open('imooc1.txt',os.O_CREAT | os.O_RDWR)\n",
    "    os.close(fd)"
   ]
  },
  {
   "cell_type": "code",
   "execution_count": 57,
   "metadata": {},
   "outputs": [
    {
     "data": {
      "text/plain": [
       "['imooc1.txt', 'imooc2.txt']"
      ]
     },
     "execution_count": 57,
     "metadata": {},
     "output_type": "execute_result"
    }
   ],
   "source": [
    "os.listdir(\"./\")#返回文件名组成的列表\n",
    "if(not os.access('imooc1.txt',os.F_OK)):\n",
    "    os.rename('imooc1.txt','imooc2.txt')\n",
    "os.listdir('./')"
   ]
  },
  {
   "cell_type": "code",
   "execution_count": 59,
   "metadata": {},
   "outputs": [
    {
     "data": {
      "text/plain": [
       "['imooc1.txt']"
      ]
     },
     "execution_count": 59,
     "metadata": {},
     "output_type": "execute_result"
    }
   ],
   "source": [
    "os.remove('imooc2.txt')\n",
    "os.listdir('./')"
   ]
  },
  {
   "cell_type": "markdown",
   "metadata": {},
   "source": [
    "## 测试文件是否存在，是目录还是文件，获取文件名，文件相对路径，文件绝对路径，文件大小，文件创建时间，文件最近访问时间，文件最近修改时间"
   ]
  },
  {
   "cell_type": "code",
   "execution_count": 62,
   "metadata": {},
   "outputs": [
    {
     "data": {
      "text/plain": [
       "True"
      ]
     },
     "execution_count": 62,
     "metadata": {},
     "output_type": "execute_result"
    }
   ],
   "source": [
    "os.path.exists('imooc1.txt')"
   ]
  },
  {
   "cell_type": "code",
   "execution_count": 63,
   "metadata": {},
   "outputs": [
    {
     "data": {
      "text/plain": [
       "False"
      ]
     },
     "execution_count": 63,
     "metadata": {},
     "output_type": "execute_result"
    }
   ],
   "source": [
    "os.path.isdir('imooc1.txt')"
   ]
  },
  {
   "cell_type": "code",
   "execution_count": 64,
   "metadata": {},
   "outputs": [
    {
     "data": {
      "text/plain": [
       "True"
      ]
     },
     "execution_count": 64,
     "metadata": {},
     "output_type": "execute_result"
    }
   ],
   "source": [
    "os.path.isfile('imooc1.txt')"
   ]
  },
  {
   "cell_type": "code",
   "execution_count": 65,
   "metadata": {},
   "outputs": [
    {
     "data": {
      "text/plain": [
       "'imooc.txt'"
      ]
     },
     "execution_count": 65,
     "metadata": {},
     "output_type": "execute_result"
    }
   ],
   "source": [
    "os.path.basename('imooc.txt')#文件名"
   ]
  },
  {
   "cell_type": "code",
   "execution_count": 67,
   "metadata": {},
   "outputs": [
    {
     "data": {
      "text/plain": [
       "''"
      ]
     },
     "execution_count": 67,
     "metadata": {},
     "output_type": "execute_result"
    }
   ],
   "source": [
    "os.path.dirname('imooc.txt')#文件路径"
   ]
  },
  {
   "cell_type": "code",
   "execution_count": 66,
   "metadata": {},
   "outputs": [
    {
     "data": {
      "text/plain": [
       "0"
      ]
     },
     "execution_count": 66,
     "metadata": {},
     "output_type": "execute_result"
    }
   ],
   "source": [
    "os.path.getsize('imooc1.txt')#获取文件大小，字节数"
   ]
  },
  {
   "cell_type": "code",
   "execution_count": 72,
   "metadata": {},
   "outputs": [
    {
     "name": "stdout",
     "output_type": "stream",
     "text": [
      "C:\\Users\\Administrator\\Learning\\Python\\PythonBasics\\test\\test\\test\\imooc1.txt\n"
     ]
    }
   ],
   "source": [
    "absname = os.path.abspath('imooc1.txt')\n",
    "print(absname)"
   ]
  },
  {
   "cell_type": "code",
   "execution_count": 74,
   "metadata": {},
   "outputs": [
    {
     "name": "stdout",
     "output_type": "stream",
     "text": [
      "('C:\\\\Users\\\\Administrator\\\\Learning\\\\Python\\\\PythonBasics\\\\test\\\\test\\\\test', 'imooc1.txt')\n"
     ]
    }
   ],
   "source": [
    "dir_base = os.path.split(absname)#返回dirname和basename组成的元组\n",
    "print(dir_base)"
   ]
  },
  {
   "cell_type": "code",
   "execution_count": 69,
   "metadata": {},
   "outputs": [
    {
     "data": {
      "text/plain": [
       "1592630451.9757373"
      ]
     },
     "execution_count": 69,
     "metadata": {},
     "output_type": "execute_result"
    }
   ],
   "source": [
    "os.path.getatime('imooc1.txt')#返回最近访问时间，单位是秒数"
   ]
  },
  {
   "cell_type": "code",
   "execution_count": 70,
   "metadata": {},
   "outputs": [
    {
     "data": {
      "text/plain": [
       "1592630451.9757373"
      ]
     },
     "execution_count": 70,
     "metadata": {},
     "output_type": "execute_result"
    }
   ],
   "source": [
    "os.path.getmtime('imooc1.txt')#返回最近文件修改时间"
   ]
  },
  {
   "cell_type": "code",
   "execution_count": 71,
   "metadata": {},
   "outputs": [
    {
     "data": {
      "text/plain": [
       "1592630451.9757373"
      ]
     },
     "execution_count": 71,
     "metadata": {},
     "output_type": "execute_result"
    }
   ],
   "source": [
    "os.path.getctime('imooc1.txt')#返回文件创建时间"
   ]
  },
  {
   "cell_type": "code",
   "execution_count": null,
   "metadata": {},
   "outputs": [],
   "source": []
  }
 ],
 "metadata": {
  "kernelspec": {
   "display_name": "Python 3",
   "language": "python",
   "name": "python3"
  },
  "language_info": {
   "codemirror_mode": {
    "name": "ipython",
    "version": 3
   },
   "file_extension": ".py",
   "mimetype": "text/x-python",
   "name": "python",
   "nbconvert_exporter": "python",
   "pygments_lexer": "ipython3",
   "version": "3.7.4"
  }
 },
 "nbformat": 4,
 "nbformat_minor": 2
}
